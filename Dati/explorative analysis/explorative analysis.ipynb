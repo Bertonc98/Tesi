{
 "cells": [
  {
   "cell_type": "code",
   "execution_count": 21,
   "metadata": {},
   "outputs": [],
   "source": [
    "import pandas as pd\n",
    "import numpy as np\n",
    "import math\n",
    "from pandas_ods_reader import read_ods\n",
    "import matplotlib.pyplot as plt\n",
    "import time\n",
    "from datetime import date\n",
    "from tqdm.notebook import tqdm as tqdm\n",
    "from matplotlib import cm\n",
    "\n",
    "table = pd.read_csv(\"../orari/route.csv\", delimiter=\";\")\n",
    "time_table = pd.read_csv(\"../orari/route_time.csv\", delimiter=\";\")\n",
    "path = \"../orari/IndirizziBiblio_21-10-2019.ods\"\n",
    "indirizzi = read_ods(path, 'Questionari_normalizza')\n",
    "indirizzi=indirizzi.astype({'Cap':'int32'})\n",
    "\n",
    "dft = pd.read_csv(\"../distanze/corrected_times_computed.csv\", delimiter=\";\", encoding = \"ISO-8859-1\", index_col=0)\n",
    "dfd = pd.read_csv(\"../distanze/distances_computed.csv\", delimiter=\";\", encoding = \"ISO-8859-1\", index_col=0)\n",
    "num_orders = pd.read_csv(\"../num_orders.csv\", delimiter=\";\", encoding = \"ISO-8859-1\")\n",
    "orders = pd.read_csv(\"../request_cr.csv\", delimiter=\",\", encoding = \"ISO-8859-1\")\n",
    "def translate_name(dframe, fur):\n",
    "    df = pd.DataFrame({})\n",
    "    for d in fur.columns:\n",
    "        df1 = pd.DataFrame([getName(dframe, x) for x in list(fur[d].dropna())], columns = [d])\n",
    "        df = pd.concat([df,df1], ignore_index=False, axis=1)\n",
    "    return df\n",
    "def get_row(df, string):\n",
    "    return pd.Series(df.index).str.contains(string.strip(), case=False)\n",
    "\n",
    "def get_column(df, string):\n",
    "    return pd.Series(df.columns).str.contains(string.strip(), case=False)\n",
    "def getName(df, nome):\n",
    "    if nome.lower() == \"crema\":\n",
    "        nome =\"crema,\"\n",
    "    city = df[get_row(df, nome).values].index[0]\n",
    "    return city\n"
   ]
  },
  {
   "cell_type": "markdown",
   "metadata": {},
   "source": [
    "# Analisi first schedule"
   ]
  },
  {
   "cell_type": "code",
   "execution_count": 3,
   "metadata": {},
   "outputs": [],
   "source": [
    "first_schedule = translate_name(dft, table)"
   ]
  },
  {
   "cell_type": "code",
   "execution_count": 4,
   "metadata": {},
   "outputs": [
    {
     "name": "stdout",
     "output_type": "stream",
     "text": [
      "rapporto tra il numero di città nella schedulazione iniziale e quelle disponibili calendarizzate: la schedulazione non presenta città mancanti\n",
      " rapporto: 1.0\n",
      "numero totali di città considerabili: 64\n"
     ]
    }
   ],
   "source": [
    "schedule_cities = []\n",
    "for i in first_schedule.columns:\n",
    "    schedule_cities = schedule_cities + list(first_schedule[i].dropna())\n",
    "total_cities = indirizzi[indirizzi['Calendarizzata (sì/no)'] == 'sì']\n",
    "num_of_cities = len(set(schedule_cities))\n",
    "print(f\"rapporto tra il numero di città nella schedulazione iniziale e quelle disponibili calendarizzate: la schedulazione non presenta città mancanti\\n rapporto: {num_of_cities/len(total_cities)}\")\n",
    "print(f\"numero totali di città considerabili: {len(total_cities)}\")"
   ]
  },
  {
   "cell_type": "markdown",
   "metadata": {},
   "source": [
    "# Analisi indirizzi biblio"
   ]
  },
  {
   "cell_type": "code",
   "execution_count": 5,
   "metadata": {},
   "outputs": [
    {
     "name": "stdout",
     "output_type": "stream",
     "text": [
      "numero di comuni in cui sono presenti le città calendarizzate: 60\n",
      "città con ripetizioni:\n",
      "Cremona, 4\n",
      "Crema, 2\n",
      "numero di province in cui sono presenti le città calendarizzate: 4\n",
      "distribuzione province:\n",
      "MN, 1\n",
      "LO, 1\n",
      "BS, 1\n",
      "CR, 61\n",
      "da cui si sottolineano le tre città di un'altra provincia:\n",
      "              Comune Provincia\n",
      "18  Casalpusterlengo        LO\n",
      "69          Manerbio        BS\n",
      "70           Viadana        MN\n"
     ]
    }
   ],
   "source": [
    "comuni = total_cities['Comune'].dropna()\n",
    "com_distribution = list(set([(x, list(comuni).count(x)) for x in list(comuni)]))\n",
    "print(f\"numero di comuni in cui sono presenti le città calendarizzate: {len(com_distribution)}\")\n",
    "print(\"città con ripetizioni:\")\n",
    "for x in com_distribution:\n",
    "    if x[1] > 1:\n",
    "        print(f\"{x[0]}, {x[1]}\")\n",
    "\n",
    "province = total_cities['Provincia'].dropna()\n",
    "pro_distribution = list(set([(x, list(province).count(x)) for x in list(province)]))\n",
    "print(f\"numero di province in cui sono presenti le città calendarizzate: {len(pro_distribution)}\")\n",
    "print(f\"distribuzione province:\")\n",
    "for x in pro_distribution: \n",
    "    print(f\"{x[0]}, {x[1]}\")\n",
    "    \n",
    "print(\"da cui si sottolineano le tre città di un'altra provincia:\")\n",
    "print(total_cities[total_cities['Provincia'] != 'CR'][['Comune', 'Provincia']])"
   ]
  },
  {
   "cell_type": "markdown",
   "metadata": {},
   "source": [
    "# Analisi scambi biblioteche"
   ]
  },
  {
   "cell_type": "code",
   "execution_count": 9,
   "metadata": {},
   "outputs": [
    {
     "name": "stdout",
     "output_type": "stream",
     "text": [
      "numero ordini: 159642, dal 2016-01-01 al 2018-10-21\n"
     ]
    },
    {
     "data": {
      "application/vnd.jupyter.widget-view+json": {
       "model_id": "d5c26b7973c84ef295798dce8fff2d3c",
       "version_major": 2,
       "version_minor": 0
      },
      "text/plain": [
       "HBox(children=(FloatProgress(value=0.0, max=159642.0), HTML(value='')))"
      ]
     },
     "metadata": {},
     "output_type": "display_data"
    },
    {
     "name": "stdout",
     "output_type": "stream",
     "text": [
      "\n"
     ]
    },
    {
     "name": "stderr",
     "output_type": "stream",
     "text": [
      "IOPub data rate exceeded.\n",
      "The notebook server will temporarily stop sending output\n",
      "to the client in order to avoid crashing it.\n",
      "To change this limit, set the config variable\n",
      "`--NotebookApp.iopub_data_rate_limit`.\n",
      "\n",
      "Current values:\n",
      "NotebookApp.iopub_data_rate_limit=1000000.0 (bytes/sec)\n",
      "NotebookApp.rate_limit_window=3.0 (secs)\n",
      "\n"
     ]
    }
   ],
   "source": [
    "\n",
    "week = {0: \"lunedi\", 1:\"martedi\", 2:\"mercoledi\", 3:\"giovedi\", 4:\"venerdi\", 5:\"sabato\", 6:\"domenica\"}\n",
    "dal = orders['data_richiesta'][0].split(\" \")[0]\n",
    "al = orders['data_richiesta'][len(orders)-1].split(\" \")[0]\n",
    "print(f\"numero ordini: {len(orders)}, dal {dal} al {al}\")\n",
    "\n",
    "\n",
    "duemila_16 = []\n",
    "duemila_17 = []\n",
    "duemila_18 = []\n",
    "\n",
    "for i in tqdm(range(len(orders))):\n",
    "    if orders.loc[i]['data_richiesta'].split(\" \")[0].split(\"-\")[0] == '2016':\n",
    "        duemila_16.append(orders.loc[i])\n",
    "    elif orders.loc[i]['data_richiesta'].split(\" \")[0].split(\"-\")[0] == '2017':\n",
    "        duemila_17.append(orders.loc[i])\n",
    "    elif orders.loc[i]['data_richiesta'].split(\" \")[0].split(\"-\")[0] == '2018':\n",
    "        duemila_18.append(orders.loc[i])\n",
    "print(f\"i numeri di ordini sono divisi in: 2016: {duemila_16} \" + f\"2017: {duemila_17} \" + f\"2018: {duemila_18}\")"
   ]
  },
  {
   "cell_type": "code",
   "execution_count": 10,
   "metadata": {},
   "outputs": [
    {
     "data": {
      "image/png": "[encoded data removed]",
      "text/plain": [
       "<Figure size 432x288 with 1 Axes>"
      ]
     },
     "metadata": {
      "needs_background": "light"
     },
     "output_type": "display_data"
    }
   ],
   "source": [
    "plt.bar(['2016', '2017', '2018'] ,[len(duemila_16), len(duemila_17), len(duemila_18)])\n",
    "plt.xticks(rotation = 45)\n",
    "plt.show()"
   ]
  },
  {
   "cell_type": "code",
   "execution_count": 67,
   "metadata": {},
   "outputs": [
    {
     "data": {
      "image/png": "[encoded data removed]",
      "text/plain": [
       "<Figure size 1440x720 with 1 Axes>"
      ]
     },
     "metadata": {
      "needs_background": "light"
     },
     "output_type": "display_data"
    }
   ],
   "source": [
    "months = [\"gennaio\", \"febbraio\", \"marzo\", \"aprile\", \"maggio\", \"giugno\", \"luglio\", \"agosto\", \"settembre\", \"ottobre\", \"novembre\", \"dicembre\"]\n",
    "\n",
    "\n",
    "def month_dist(l):\n",
    "    freq = pd.Series(data = [0]*12, index = months)\n",
    "    for x in l:\n",
    "        d = x['data_richiesta'].split(\" \")[0]\n",
    "        m = int(d.split(\"-\")[1])\n",
    "        freq[m-1] = freq[m-1] + 1\n",
    "    return freq\n",
    "w = 0.25\n",
    "\n",
    "# Set position of bar on X axis\n",
    "r2 = np.arange(12)\n",
    "r1 = [x - w for x in r2]\n",
    "r3 = [x + w for x in r2]\n",
    "\n",
    "fig, ax = plt.subplots(figsize=[20, 10])\n",
    "r_16 = ax.bar(r1,month_dist(duemila_16), width = w, label = '2016')\n",
    "r_17 = ax.bar(r2,month_dist(duemila_17), width = w, label = '2017')\n",
    "r_18 = ax.bar(r3,month_dist(duemila_18), width = w, label = '2018')\n",
    "\n",
    "plt.xticks([r for r in range(len(months))], months)\n",
    "plt.legend()\n",
    "plt.show()"
   ]
  },
  {
   "cell_type": "code",
   "execution_count": 65,
   "metadata": {},
   "outputs": [],
   "source": [
    "freq = pd.Series(data = [0,0,0,0,0,0,0], index = [\"lunedi\", \"martedi\",\"mercoledi\", \"giovedi\",\"venerdi\", \"sabato\", \"domenica\"])\n",
    "\n",
    "\n",
    "for x in orders['data_richiesta']:\n",
    "    d = x.split(' ')[0]\n",
    "    n = week.get(date.fromisoformat(d).weekday())\n",
    "    freq[n] = freq[n] + 1"
   ]
  },
  {
   "cell_type": "code",
   "execution_count": 66,
   "metadata": {},
   "outputs": [
    {
     "data": {
      "image/png": "[encoded data removed]",
      "text/plain": [
       "<Figure size 432x288 with 1 Axes>"
      ]
     },
     "metadata": {
      "needs_background": "light"
     },
     "output_type": "display_data"
    }
   ],
   "source": [
    "plt.bar(freq.keys() ,freq.values)\n",
    "plt.xticks(rotation = 45)\n",
    "plt.show()"
   ]
  },
  {
   "cell_type": "code",
   "execution_count": 2,
   "metadata": {},
   "outputs": [],
   "source": [
    "def getOccurenceDays(fur1, city):\n",
    "    week = [\"lunedi\", \"martedi\", \"mercoledi\", \"giovedi\", \"venerdi\"]\n",
    "    l = []\n",
    "    for d in fur1.columns:\n",
    "        cur_route1 = fur1[d].dropna()[1:len(fur1[d].dropna())-1]\n",
    "            \n",
    "        if city in list(cur_route1):\n",
    "            l.append(week.index(d))\n",
    "          \n",
    "    return list(set(l))\n",
    "\n",
    "def manage_exception(string):\n",
    "    if(string.lower().strip() == 'piadena drizzona'):\n",
    "        return 'Piadena, Platina, 40'\n",
    "    elif(string.lower().strip() == 'brescia'):\n",
    "        return 'manerbio, insurrezione nazionale'\n",
    "    elif(string.lower().strip() == 'centro fumetto a. pazienza' or string.lower().strip() == 'cremona. la piccola biblioteca' or string.lower().strip() == 'uff. bib. cremona'):\n",
    "        return 'cremona, ugolani dati, 4'\n",
    "    elif(string.lower().strip() == 'casale cremasco vidolasco'):\n",
    "        return 'Casale Cremasco-Vidolasco, Roma, 56'\n",
    "    elif(string.lower().strip() == 'cremona-m.i.t.o.'):\n",
    "        return 'Cremona, Palosca n. 2'\n",
    "    elif(string.lower().strip() == 'cremona - manin (scolastica)'):\n",
    "        return 'Cremona, Felice Cavallotti, 2'\n",
    "    elif(string.lower().strip() == 'gadesco pieve delmona'):\n",
    "        return 'Gadesco-Pieve Delmona, Giovanni Lonati 9'\n",
    "    elif(string.lower().strip() == 'cremona - cda'):\n",
    "        return 'cremona, sesto 39'\n",
    "    elif(string.lower().strip() == 'crema'):\n",
    "        return 'Crema, Civerchi, 9'\n",
    "    elif(string.lower().strip() == 'martignana di po, libertà, 64'):\n",
    "        return 'martignana di po, libertà, 64'\n",
    "    else:\n",
    "        return string\n",
    "    \n",
    "def divide_daily_orders(df, dframe_orders):\n",
    "    week = {0: \"lunedi\", 1:\"martedi\", 2:\"mercoledi\", 3:\"giovedi\", 4:\"venerdi\", 5:\"sabato\", 6:\"domenica\"}\n",
    "    not_considered = 0\n",
    "    freq = pd.Series(data = [[],[],[],[],[],[],[]], index = [\"lunedi\", \"martedi\",\"mercoledi\", \"giovedi\",\"venerdi\", \"sabato\", \"domenica\"])\n",
    "    for i in tqdm(range(len(dframe_orders))):\n",
    "        try:\n",
    "            row = dframe_orders.iloc[i]\n",
    "            orig = getName(df, manage_exception(row['biblioteca_partenza']))\n",
    "            dest = getName(df, manage_exception(row['biblioteca_destinazione']))\n",
    "            if orig == dest:\n",
    "                not_considered = not_considered + 1\n",
    "                continue\n",
    "            try:\n",
    "                x = row['data_richiesta']\n",
    "                d = x.split(' ')[0]\n",
    "                n = week.get(date.fromisoformat(d).weekday())\n",
    "                temp = [orig, dest, n]\n",
    "                freq[n].append(temp)\n",
    "            except:\n",
    "                print(x)\n",
    "                break\n",
    "        except:\n",
    "            not_considered = not_considered + 1\n",
    "            continue\n",
    "                \n",
    "    return freq, not_considered\n",
    "\n",
    "#f, not_considered = divide_daily_orders(dft, orders)\n",
    "#biblioteca_destinazione\n",
    "#biblioteca_partenza\n",
    "#data_richiesta\n",
    "#print(f)"
   ]
  },
  {
   "cell_type": "code",
   "execution_count": 78,
   "metadata": {},
   "outputs": [],
   "source": [
    "#f.to_csv(\"frequences.csv\", encoding = \"ISO-8859-1\")\n",
    "\n",
    "k = pd.read_csv(\"frequences.csv\", encoding = \"ISO-8859-1\", index_col=0, header=0, squeeze = True)"
   ]
  },
  {
   "cell_type": "code",
   "execution_count": 81,
   "metadata": {},
   "outputs": [],
   "source": [
    "import ast\n",
    "week = [\"lunedi\", \"martedi\", \"mercoledi\", \"giovedi\", \"venerdi\", \"sabato\", \"domenica\"]\n",
    "for d in week:\n",
    "    k[d] = ast.literal_eval(k[d])"
   ]
  },
  {
   "cell_type": "code",
   "execution_count": 108,
   "metadata": {},
   "outputs": [
    {
     "data": {
      "text/plain": [
       "56"
      ]
     },
     "execution_count": 108,
     "metadata": {},
     "output_type": "execute_result"
    }
   ],
   "source": [
    "#frequenza degli scambi tra i e j con richiesta nel giorno g\n",
    "def e (g, i, j):\n",
    "    v =[i, j, g]\n",
    "    return len([index for index, value in enumerate(k[g]) if value == v])\n",
    "e('martedi', 'Offanengo, Clavelli Martini, 5', 'Soncino, Dante Alighieri, 23')"
   ]
  },
  {
   "cell_type": "code",
   "execution_count": 6,
   "metadata": {},
   "outputs": [],
   "source": [
    "#works with 2opt or ls schedulation\n",
    "\n",
    "\n",
    "def take_deliver(fur1, fur2, s, d, day):\n",
    "    week = [\"lunedi\", \"martedi\", \"mercoledi\", \"giovedi\", \"venerdi\"]\n",
    "    f1_occurrences = getOccurenceDays(fur1, s)\n",
    "    if f1_occurrences:\n",
    "        f1_occurrences = list([x for x in f1_occurrences if x>week.index(day)] + [x for x in f1_occurrences if x<=week.index(day)])[0]\n",
    "    else:\n",
    "        f1_occurrences = 10\n",
    "    f2_occurrences = getOccurenceDays(fur2, s)\n",
    "    if f2_occurrences:\n",
    "        f2_occurrences = list([x for x in f2_occurrences if x>week.index(day)] + [x for x in f2_occurrences if x<=week.index(day)])[0]\n",
    "    else:\n",
    "        f2_occurrences = 10\n",
    "    \n",
    "    if f1_occurrences==f2_occurrences==10:\n",
    "        print(\"città non nella schedulazione\", s, sep=\" - \")\n",
    "    \n",
    "    take = [f1_occurrences, f2_occurrences].index(min([f1_occurrences, f2_occurrences]))\n",
    "    day = week[min([f1_occurrences, f2_occurrences])]\n",
    "    pickup_day = min(f1_occurrences, f2_occurrences)\n",
    "    \n",
    "    f1_occurrences = getOccurenceDays(fur1, d)\n",
    "    if f1_occurrences:\n",
    "        f1_occurrences = list([x for x in f1_occurrences if x>week.index(day)] + [x for x in f1_occurrences if x<=week.index(day)])[0]\n",
    "    else:\n",
    "        f1_occurrences = 10\n",
    "        \n",
    "    f2_occurrences = getOccurenceDays(fur2, d)\n",
    "    if f2_occurrences:\n",
    "        f2_occurrences = list([x for x in f2_occurrences if x>week.index(day)] + [x for x in f2_occurrences if x<=week.index(day)])[0]\n",
    "    else:\n",
    "        f2_occurrences = 10\n",
    "    deliver = [f1_occurrences, f2_occurrences].index(min([f1_occurrences, f2_occurrences]))\n",
    "    \n",
    "    return take, deliver, pickup_day, min(f1_occurrences, f2_occurrences)\n",
    "\n",
    "def getDistance(s, e):\n",
    "#     if s == e:\n",
    "#         return 7\n",
    "    if s < e:\n",
    "        return e-s\n",
    "    if s >= e:\n",
    "        return 7-(s-e)\n",
    "\n",
    "def get_stats(occorrenze, fur1, fur2):\n",
    "    week = [\"lunedi\", \"martedi\", \"mercoledi\", \"giovedi\", \"venerdi\", \"sabato\", \"domenica\"]\n",
    "    freq1 = pd.Series(data = [0,0,0], index = [\"pickup\", \"deliver\", \"both\"])\n",
    "    freq2 = pd.Series(data = [0,0,0], index = [\"pickup\", \"deliver\", \"both\"])\n",
    "    mean_service_time = pd.Series(data = [0,0], index = [\"total\", \"n\"])\n",
    "    mean_pickup_time = pd.Series(data = [0,0], index = [\"total\", \"n\"])\n",
    "    \n",
    "    for day_i in tqdm(range(len(occorrenze))):\n",
    "        day = occorrenze[day_i]\n",
    "        for order in day:\n",
    "            s = order[0]\n",
    "            d = order[1]\n",
    "            order_day = order[2]\n",
    "            #gestire sabato e domenica\n",
    "            if order_day==\"sabato\" or order_day==\"domenica\":\n",
    "                take, deliver, pickup_day, deliver_day = take_deliver(fur1, fur2, s, d, \"venerdi\")\n",
    "            elif order_day == None:\n",
    "                print(order)\n",
    "            else:\n",
    "                take, deliver, pickup_day, deliver_day = take_deliver(fur1, fur2, s, d, order_day)\n",
    "            \n",
    "#             if take==deliver==0:\n",
    "#                 freq1[\"both\"] += 1\n",
    "#             elif take==0:\n",
    "#                 freq1[\"pickup\"] +=1\n",
    "#             elif deliver == 0:\n",
    "#                 freq1[\"deliver\"] += 1\n",
    "                \n",
    "#             if take==deliver==1:\n",
    "#                 freq2[\"both\"] += 1\n",
    "#             elif take==1:\n",
    "#                 freq2[\"pickup\"] +=1\n",
    "#             elif deliver == 1:\n",
    "#                 freq2[\"deliver\"] += 1 \n",
    "              \n",
    "            if take==deliver==0:\n",
    "                freq1[\"both\"] += 1\n",
    "            if take==deliver==1:\n",
    "                freq2[\"both\"] += 1\n",
    "            if take==0 and deliver == 1:\n",
    "                freq1[\"pickup\"] +=1\n",
    "                freq2[\"deliver\"] += 1 \n",
    "            if take==1 and deliver == 0:\n",
    "                freq2[\"pickup\"] +=1\n",
    "                freq1[\"deliver\"] += 1\n",
    "            \n",
    "            mean_service_time[\"total\"] += getDistance(week.index(order_day), deliver_day)\n",
    "            mean_service_time[\"n\"] += 1\n",
    "            mean_pickup_time[\"total\"] += getDistance(week.index(order_day), pickup_day)\n",
    "            mean_pickup_time[\"n\"] += 1\n",
    "    return freq1, freq2, [round(mean_service_time[\"total\"]/mean_service_time[\"n\"], 2)], [round(mean_pickup_time[\"total\"]/mean_pickup_time[\"n\"], 2)]"
   ]
  },
  {
   "cell_type": "code",
   "execution_count": 16,
   "metadata": {},
   "outputs": [
    {
     "data": {
      "application/vnd.jupyter.widget-view+json": {
       "model_id": "01191862a9ad45c2a2c9c172c1a1630a",
       "version_major": 2,
       "version_minor": 0
      },
      "text/plain": [
       "HBox(children=(FloatProgress(value=0.0, max=7.0), HTML(value='')))"
      ]
     },
     "metadata": {},
     "output_type": "display_data"
    },
    {
     "name": "stdout",
     "output_type": "stream",
     "text": [
      "\n"
     ]
    }
   ],
   "source": [
    "fur1 = pd.read_csv(\"../turni_f/multi_veich_LS1.csv\", delimiter=\";\", encoding = \"ISO-8859-1\")\n",
    "fur2 = pd.read_csv(\"../turni_f/multi_veich_LS2.csv\", delimiter=\";\", encoding = \"ISO-8859-1\")\n",
    "fr1, fr2, ms, mp = get_stats(k, fur1, fur2)"
   ]
  },
  {
   "cell_type": "code",
   "execution_count": 17,
   "metadata": {},
   "outputs": [],
   "source": [
    "fr1.to_csv(\"fr1_greedy_MVLS.csv\", encoding = \"ISO-8859-1\")\n",
    "fr2.to_csv(\"fr2_greedy_MVLS.csv\", encoding = \"ISO-8859-1\")\n",
    "pd.Series({\"ms\": ms, \"mp\": mp}).to_csv(\"greedy_MVLS_variables.csv\", encoding = \"ISO-8859-1\")\n"
   ]
  },
  {
   "cell_type": "code",
   "execution_count": 2,
   "metadata": {},
   "outputs": [],
   "source": [
    "fr1_orig = pd.read_csv(\"fr1_original_ls.csv\", encoding=\"ISO-8859-1\", index_col=0)\n",
    "fr1_oss = pd.read_csv(\"fr1_oss.csv\", encoding=\"ISO-8859-1\", index_col=0)\n",
    "fr1_orig_MVLS = pd.read_csv(\"fr1_original_MVLS.csv\", encoding=\"ISO-8859-1\", index_col=0)\n",
    "fr1_greedy_MVLS = pd.read_csv(\"fr1_greedy_MVLS.csv\", encoding=\"ISO-8859-1\", index_col=0)\n",
    "fr1_oss_MVLS = pd.read_csv(\"fr1_optimized_MVLS.csv\", encoding=\"ISO-8859-1\", index_col=0)\n",
    "\n",
    "fr2_orig = pd.read_csv(\"fr2_original_ls.csv\", encoding=\"ISO-8859-1\", index_col=0)\n",
    "fr2_oss = pd.read_csv(\"fr2_oss.csv\", encoding=\"ISO-8859-1\", index_col=0)\n",
    "fr2_orig_MVLS = pd.read_csv(\"fr2_original_MVLS.csv\", encoding=\"ISO-8859-1\", index_col=0)\n",
    "fr2_greedy_MVLS = pd.read_csv(\"fr2_greedy_MVLS.csv\", encoding=\"ISO-8859-1\", index_col=0)\n",
    "fr2_oss_MVLS = pd.read_csv(\"fr2_optimized_MVLS.csv\", encoding=\"ISO-8859-1\", index_col=0)\n",
    "\n",
    "v_orig = pd.read_csv(\"original_variables.csv\", encoding=\"ISO-8859-1\", index_col=0, names=[\"value\"]).iloc[1:]\n",
    "v_oss = pd.read_csv(\"OSS_variables.csv\", encoding=\"ISO-8859-1\", index_col=0, names=[\"value\"] ).iloc[1:]\n",
    "v_orig_MVLS = pd.read_csv(\"original_MVLS_variables.csv\", encoding=\"ISO-8859-1\", index_col=0, names=[\"value\"] ).iloc[1:]\n",
    "v_greedy_MVLS = pd.read_csv(\"greedy_MVLS_variables.csv\", encoding=\"ISO-8859-1\", index_col=0, names=[\"value\"] ).iloc[1:]\n",
    "v_oss_MVLS = pd.read_csv(\"optimized_MVLS_variables.csv\", encoding=\"ISO-8859-1\", index_col=0, names=[\"value\"] ).iloc[1:]"
   ]
  },
  {
   "cell_type": "markdown",
   "metadata": {},
   "source": [
    "## Furgoncino 1 "
   ]
  },
  {
   "cell_type": "code",
   "execution_count": 76,
   "metadata": {
    "scrolled": false
   },
   "outputs": [
    {
     "data": {
      "image/png": "[encoded data removed]",
      "text/plain": [
       "<Figure size 1440x720 with 3 Axes>"
      ]
     },
     "metadata": {
      "needs_background": "light"
     },
     "output_type": "display_data"
    }
   ],
   "source": [
    "plt.figure(figsize=[20,10])\n",
    "viridis = cm.get_cmap('viridis', 5)\n",
    "plt.title(\"F1 comparison\")\n",
    "plt.subplot(131)\n",
    "plt.title(\"Pickup\")\n",
    "plt.bar(range(5), [fr1_orig.loc[\"pickup\"][0], \n",
    "                   fr1_oss.loc[\"pickup\"][0], \n",
    "                   fr1_orig_MVLS.loc[\"pickup\"][0], \n",
    "                   fr1_greedy_MVLS.loc[\"pickup\"][0], \n",
    "                   fr1_oss_MVLS.loc[\"pickup\"][0]],\n",
    "                   color = [x for x in viridis.colors])\n",
    "plt.ylim([0,150000])\n",
    "plt.xticks(range(5), [\"orig\", \"oss\", \"origMVLS\", \"greedyMVLS\", \"ossMVLS\"])\n",
    "plt.grid(alpha=0.3)\n",
    "\n",
    "plt.subplot(132)\n",
    "plt.title(\"Deliver\")\n",
    "plt.bar(range(5), [fr1_orig.loc[\"deliver\"][0], \n",
    "                   fr1_oss.loc[\"deliver\"][0], \n",
    "                   fr1_orig_MVLS.loc[\"deliver\"][0], \n",
    "                   fr1_greedy_MVLS.loc[\"deliver\"][0], \n",
    "                   fr1_oss_MVLS.loc[\"deliver\"][0]],\n",
    "        color = [x for x in viridis.colors])\n",
    "plt.ylim([0,150000])\n",
    "plt.xticks(range(5), [\"orig\", \"oss\", \"origMVLS\", \"greedyMVLS\", \"ossMVLS\"])\n",
    "plt.grid(alpha=0.3)\n",
    "\n",
    "plt.subplot(133)\n",
    "plt.title(\"Pickup and deliver\")\n",
    "plt.bar(range(5), [fr1_orig.loc[\"both\"][0], \n",
    "                   fr1_oss.loc[\"both\"][0], \n",
    "                   fr1_orig_MVLS.loc[\"both\"][0], \n",
    "                   fr1_greedy_MVLS.loc[\"both\"][0], \n",
    "                   fr1_oss_MVLS.loc[\"both\"][0]],\n",
    "        color = [x for x in viridis.colors])\n",
    "plt.ylim([0,150000])\n",
    "plt.xticks(range(5), [\"orig\", \"oss\", \"origMVLS\", \"greedyMVLS\", \"ossMVLS\"])\n",
    "plt.grid(alpha=0.3)\n",
    "\n",
    "plt.show()"
   ]
  },
  {
   "cell_type": "code",
   "execution_count": 77,
   "metadata": {},
   "outputs": [
    {
     "data": {
      "image/png": "[encoded data removed]",
      "text/plain": [
       "<Figure size 1440x720 with 3 Axes>"
      ]
     },
     "metadata": {
      "needs_background": "light"
     },
     "output_type": "display_data"
    }
   ],
   "source": [
    "plt.figure(figsize=[20,10])\n",
    "plt.title(\"F2 comparison\")\n",
    "plt.subplot(131)\n",
    "plt.title(\"Pickup\")\n",
    "plt.bar(range(5), [fr2_orig.loc[\"pickup\"][0], \n",
    "                   fr2_oss.loc[\"pickup\"][0], \n",
    "                   fr2_orig_MVLS.loc[\"pickup\"][0], \n",
    "                   fr2_greedy_MVLS.loc[\"pickup\"][0], \n",
    "                   fr2_oss_MVLS.loc[\"pickup\"][0]],\n",
    "        color = [x for x in viridis.colors])\n",
    "plt.ylim([0,80000])\n",
    "plt.xticks(range(5), [\"orig\", \"oss\", \"origMVLS\", \"greedyMVLS\", \"ossMVLS\"])\n",
    "plt.grid(alpha=0.3)\n",
    "\n",
    "plt.subplot(132)\n",
    "plt.title(\"Deliver\")\n",
    "plt.bar(range(5), [fr2_orig.loc[\"deliver\"][0], \n",
    "                   fr2_oss.loc[\"deliver\"][0], \n",
    "                   fr2_orig_MVLS.loc[\"deliver\"][0], \n",
    "                   fr2_greedy_MVLS.loc[\"deliver\"][0], \n",
    "                   fr2_oss_MVLS.loc[\"deliver\"][0]],\n",
    "        color = [x for x in viridis.colors])\n",
    "plt.ylim([0,80000])\n",
    "plt.xticks(range(5), [\"orig\", \"oss\", \"origMVLS\", \"greedyMVLS\", \"ossMVLS\"])\n",
    "plt.grid(alpha=0.3)\n",
    "\n",
    "plt.subplot(133)\n",
    "plt.title(\"Pickup and deliver\")\n",
    "plt.bar(range(5), [fr2_orig.loc[\"both\"][0], \n",
    "                   fr2_oss.loc[\"both\"][0], \n",
    "                   fr2_orig_MVLS.loc[\"both\"][0], \n",
    "                   fr2_greedy_MVLS.loc[\"both\"][0], \n",
    "                   fr2_oss_MVLS.loc[\"both\"][0]],\n",
    "        color = [x for x in viridis.colors])\n",
    "plt.ylim([0,80000])\n",
    "plt.xticks(range(5), [\"orig\", \"oss\", \"origMVLS\", \"greedyMVLS\", \"ossMVLS\"])\n",
    "plt.grid(alpha=0.3)\n",
    "\n",
    "plt.show()"
   ]
  },
  {
   "cell_type": "code",
   "execution_count": 109,
   "metadata": {},
   "outputs": [],
   "source": [
    "ms = []\n",
    "ms.append(float(v_orig[\"value\"].iloc[0][1:len(v_orig[\"value\"].iloc[1])-1]))\n",
    "ms.append(float(v_oss[\"value\"].iloc[0][1:len(v_oss[\"value\"].iloc[1])-1]))\n",
    "ms.append(float(v_orig_MVLS[\"value\"].iloc[0][1:len(v_orig_MVLS[\"value\"].iloc[1])-1]))\n",
    "ms.append(float(v_greedy_MVLS[\"value\"].iloc[0][1:len(v_greedy_MVLS[\"value\"].iloc[1])-1]))\n",
    "ms.append(float(v_oss_MVLS[\"value\"].iloc[0][1:len(v_oss_MVLS[\"value\"].iloc[1])-1]))\n",
    "\n",
    "mp = []\n",
    "mp.append(float(v_orig[\"value\"].iloc[1][1:len(v_orig[\"value\"].iloc[1])-1]))\n",
    "mp.append(float(v_oss[\"value\"].iloc[1][1:len(v_oss[\"value\"].iloc[1])-1]))\n",
    "mp.append(float(v_orig_MVLS[\"value\"].iloc[1][1:len(v_orig_MVLS[\"value\"].iloc[1])-1]))\n",
    "mp.append(float(v_greedy_MVLS[\"value\"].iloc[1][1:len(v_greedy_MVLS[\"value\"].iloc[1])-1]))\n",
    "mp.append(float(v_oss_MVLS[\"value\"].iloc[1][1:len(v_oss_MVLS[\"value\"].iloc[1])-1]))"
   ]
  },
  {
   "cell_type": "code",
   "execution_count": 122,
   "metadata": {},
   "outputs": [
    {
     "data": {
      "image/png": "[encoded data removed]",
      "text/plain": [
       "<Figure size 1440x360 with 2 Axes>"
      ]
     },
     "metadata": {
      "needs_background": "light"
     },
     "output_type": "display_data"
    }
   ],
   "source": [
    "plt.figure(figsize=[20,5])\n",
    "\n",
    "plt.subplot(121)\n",
    "plt.title(\"Waiting days comparison\")\n",
    "plt.plot(ms, 'or')\n",
    "plt.xticks(range(5), [\"orig\", \"oss\", \"origMVLS\", \"greedyMVLS\", \"ossMVLS\"])\n",
    "plt.ylim([2.5,5])\n",
    "plt.grid(alpha=0.3)\n",
    "\n",
    "plt.subplot(122)\n",
    "plt.title(\"Mean pickup time\")\n",
    "plt.plot(mp, 'ob')\n",
    "plt.xticks(range(5), [\"orig\", \"oss\", \"origMVLS\", \"greedyMVLS\", \"ossMVLS\"])\n",
    "plt.ylim([2.5,5])\n",
    "plt.grid(alpha=0.3)\n",
    "\n",
    "plt.show()"
   ]
  }
 ],
 "metadata": {
  "kernelspec": {
   "display_name": "Python 3",
   "language": "python",
   "name": "python3"
  },
  "language_info": {
   "codemirror_mode": {
    "name": "ipython",
    "version": 3
   },
   "file_extension": ".py",
   "mimetype": "text/x-python",
   "name": "python",
   "nbconvert_exporter": "python",
   "pygments_lexer": "ipython3",
   "version": "3.7.6"
  }
 },
 "nbformat": 4,
 "nbformat_minor": 2
}

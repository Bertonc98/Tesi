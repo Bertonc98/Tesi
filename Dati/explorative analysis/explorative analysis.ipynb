{
 "cells": [
  {
   "cell_type": "code",
   "execution_count": 137,
   "metadata": {},
   "outputs": [],
   "source": [
    "import pandas as pd\n",
    "import numpy as np\n",
    "import math\n",
    "import datetime\n",
    "from pandas_ods_reader import read_ods\n",
    "import matplotlib.pyplot as plt\n",
    "\n",
    "table = pd.read_csv(\"../orari/route.csv\", delimiter=\";\")\n",
    "time_table = pd.read_csv(\"../orari/route_time.csv\", delimiter=\";\")\n",
    "path = \"../orari/IndirizziBiblio_21-10-2019.ods\"\n",
    "indirizzi = read_ods(path, 'Questionari_normalizza')\n",
    "indirizzi=indirizzi.astype({'Cap':'int32'})\n",
    "\n",
    "dft = pd.read_csv(\"../distanze/times_computed.csv\", delimiter=\";\", encoding = \"ISO-8859-1\", index_col=0)\n",
    "dfd = pd.read_csv(\"../distanze/distances_computed.csv\", delimiter=\";\", encoding = \"ISO-8859-1\", index_col=0)\n",
    "num_orders = pd.read_csv(\"../num_orders.csv\", delimiter=\";\", encoding = \"ISO-8859-1\")\n",
    "orders = pd.read_csv(\"../request_cr.csv\", delimiter=\",\", encoding = \"ISO-8859-1\")\n",
    "def translate_name(dframe, fur):\n",
    "    df = pd.DataFrame({})\n",
    "    for d in fur.columns:\n",
    "        df1 = pd.DataFrame([getName(dframe, x) for x in list(fur[d].dropna())], columns = [d])\n",
    "        df = pd.concat([df,df1], ignore_index=False, axis=1)\n",
    "    return df\n",
    "def get_row(df, string):\n",
    "    return pd.Series(df.index).str.contains(string.strip(), case=False)\n",
    "\n",
    "def get_column(df, string):\n",
    "    return pd.Series(df.columns).str.contains(string.strip(), case=False)\n",
    "def getName(df, nome):\n",
    "    if nome.lower() == \"crema\":\n",
    "        nome =\"crema,\"\n",
    "    city = df[get_row(df, nome).values].index[0]\n",
    "    return city\n"
   ]
  },
  {
   "cell_type": "markdown",
   "metadata": {},
   "source": [
    "# Analisi first schedule"
   ]
  },
  {
   "cell_type": "code",
   "execution_count": 5,
   "metadata": {},
   "outputs": [],
   "source": [
    "first_schedule = translate_name(dft, table)"
   ]
  },
  {
   "cell_type": "code",
   "execution_count": 45,
   "metadata": {},
   "outputs": [
    {
     "name": "stdout",
     "output_type": "stream",
     "text": [
      "rapporto tra il numero di città nella schedulazione iniziale e quelle disponibili calendarizzate: la schedulazione non presenta città mancanti\n",
      " rapporto: 1.0\n",
      "numero totali di città considerabili: 64\n"
     ]
    }
   ],
   "source": [
    "schedule_cities = []\n",
    "for i in first_schedule.columns:\n",
    "    schedule_cities = schedule_cities + list(first_schedule[i].dropna())\n",
    "total_cities = indirizzi[indirizzi['Calendarizzata (sì/no)'] == 'sì']\n",
    "num_of_cities = len(set(schedule_cities))\n",
    "print(f\"rapporto tra il numero di città nella schedulazione iniziale e quelle disponibili calendarizzate: la schedulazione non presenta città mancanti\\n rapporto: {num_of_cities/len(total_cities)}\")\n",
    "print(f\"numero totali di città considerabili: {len(total_cities)}\")"
   ]
  },
  {
   "cell_type": "markdown",
   "metadata": {},
   "source": [
    "# Analisi indirizzi biblio"
   ]
  },
  {
   "cell_type": "code",
   "execution_count": 72,
   "metadata": {},
   "outputs": [
    {
     "name": "stdout",
     "output_type": "stream",
     "text": [
      "numero di comuni in cui sono presenti le città calendarizzate: 60\n",
      "città con ripetizioni:\n",
      "Crema, 2\n",
      "Cremona, 4\n",
      "numero di province in cui sono presenti le città calendarizzate: 4\n",
      "distribuzione province:\n",
      "MN, 1\n",
      "CR, 61\n",
      "LO, 1\n",
      "BS, 1\n",
      "da cui si sottolineano le tre città di un'altra provincia:\n",
      "              Comune Provincia\n",
      "18  Casalpusterlengo        LO\n",
      "69          Manerbio        BS\n",
      "70           Viadana        MN\n"
     ]
    }
   ],
   "source": [
    "comuni = total_cities['Comune'].dropna()\n",
    "com_distribution = list(set([(x, list(comuni).count(x)) for x in list(comuni)]))\n",
    "print(f\"numero di comuni in cui sono presenti le città calendarizzate: {len(com_distribution)}\")\n",
    "print(\"città con ripetizioni:\")\n",
    "for x in com_distribution:\n",
    "    if x[1] > 1:\n",
    "        print(f\"{x[0]}, {x[1]}\")\n",
    "\n",
    "province = total_cities['Provincia'].dropna()\n",
    "pro_distribution = list(set([(x, list(province).count(x)) for x in list(province)]))\n",
    "print(f\"numero di province in cui sono presenti le città calendarizzate: {len(pro_distribution)}\")\n",
    "print(f\"distribuzione province:\")\n",
    "for x in pro_distribution: \n",
    "    print(f\"{x[0]}, {x[1]}\")\n",
    "    \n",
    "print(\"da cui si sottolineano le tre città di un'altra provincia:\")\n",
    "print(total_cities[total_cities['Provincia'] != 'CR'][['Comune', 'Provincia']])"
   ]
  },
  {
   "cell_type": "markdown",
   "metadata": {},
   "source": [
    "# Analisi scambi biblioteche"
   ]
  },
  {
   "cell_type": "code",
   "execution_count": 163,
   "metadata": {},
   "outputs": [
    {
     "name": "stdout",
     "output_type": "stream",
     "text": [
      "numero ordini: 159642, dal 2016-01-01 al 2018-10-21\n"
     ]
    }
   ],
   "source": [
    "import time\n",
    "from datetime import date\n",
    "\n",
    "week = {0: \"lunedi\", 1:\"martedi\", 2:\"mercoledi\", 3:\"giovedi\", 4:\"venerdi\", 5:\"sabato\", 6:\"domenica\"}\n",
    "dal = orders['data_richiesta'][0].split(\" \")[0]\n",
    "al = orders['data_richiesta'][len(orders)-1].split(\" \")[0]\n",
    "print(f\"numero ordini: {len(orders)}, dal {dal} al {al}\")\n",
    "\n",
    "duemila_16 = []\n",
    "duemila_17 = []\n",
    "duemila_18 = []\n",
    "\n",
    "for i in tdqm(range(len(orders))):\n",
    "    if orders.loc[i]['data_richiesta'].split(\" \")[0].split(\"-\")[0] == '2016':\n",
    "        duemila_16.append(orders.loc[i])\n",
    "    elif orders.loc[i]['data_richiesta'].split(\" \")[0].split(\"-\")[0] == '2017':\n",
    "        duemila_17.append(orders.loc[i])\n",
    "    elif orders.loc[i]['data_richiesta'].split(\" \")[0].split(\"-\")[0] == '2018':\n",
    "        duemila_18.append(orders.loc[i])"
   ]
  },
  {
   "cell_type": "code",
   "execution_count": 171,
   "metadata": {},
   "outputs": [
    {
     "data": {
      "image/png": "[encoded data removed]",
      "text/plain": [
       "<Figure size 432x288 with 1 Axes>"
      ]
     },
     "metadata": {
      "needs_background": "light"
     },
     "output_type": "display_data"
    }
   ],
   "source": [
    "plt.bar(['2016', '2017', '2018'] ,[len(duemila_16), len(duemila_17), len(duemila_18)])\n",
    "plt.xticks(rotation = 45)\n",
    "plt.show()"
   ]
  },
  {
   "cell_type": "code",
   "execution_count": 157,
   "metadata": {},
   "outputs": [
    {
     "name": "stdout",
     "output_type": "stream",
     "text": [
      "numero ordini: 159642, dal 2016-01-01 al 2018-10-21\n"
     ]
    }
   ],
   "source": [
    "freq = pd.Series(data = [0,0,0,0,0,0,0], index = [\"lunedi\", \"martedi\",\"mercoledi\", \"giovedi\",\"venerdi\", \"sabato\", \"domenica\"])\n",
    "\n",
    "\n",
    "for x in orders['data_richiesta']:\n",
    "    d = x.split(' ')[0]\n",
    "    try:\n",
    "        n = week.get(date.fromisoformat(d).weekday())\n",
    "        freq[n] = freq[n] + 1\n",
    "    except:\n",
    "        print(d)\n",
    "        break"
   ]
  },
  {
   "cell_type": "code",
   "execution_count": 147,
   "metadata": {},
   "outputs": [
    {
     "data": {
      "image/png": "[encoded data removed]",
      "text/plain": [
       "<Figure size 432x288 with 1 Axes>"
      ]
     },
     "metadata": {
      "needs_background": "light"
     },
     "output_type": "display_data"
    }
   ],
   "source": [
    "plt.bar(freq.keys() ,freq.values)\n",
    "plt.xticks(rotation = 45)\n",
    "plt.show()"
   ]
  }
 ],
 "metadata": {
  "kernelspec": {
   "display_name": "Python 3",
   "language": "python",
   "name": "python3"
  },
  "language_info": {
   "codemirror_mode": {
    "name": "ipython",
    "version": 3
   },
   "file_extension": ".py",
   "mimetype": "text/x-python",
   "name": "python",
   "nbconvert_exporter": "python",
   "pygments_lexer": "ipython3",
   "version": "3.7.3"
  }
 },
 "nbformat": 4,
 "nbformat_minor": 2
}

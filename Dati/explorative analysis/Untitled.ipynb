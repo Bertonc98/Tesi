{
 "cells": [
  {
   "cell_type": "code",
   "execution_count": 20,
   "metadata": {},
   "outputs": [],
   "source": [
    "import pandas as pd\n",
    "import numpy as np\n",
    "import math\n",
    "import datetime\n",
    "from pandas_ods_reader import read_ods\n",
    "\n",
    "\n",
    "\n",
    "\n",
    "dft = pd.read_csv(\"../distanze/times_computed.csv\", delimiter=\";\", encoding = \"ISO-8859-1\", index_col=0)\n",
    "dfd = pd.read_csv(\"../distanze/distances_computed.csv\", delimiter=\";\", encoding = \"ISO-8859-1\", index_col=0)\n",
    "\n",
    "def translate_name(dframe, fur):\n",
    "    df = pd.DataFrame({})\n",
    "    for d in fur.columns:\n",
    "        df1 = pd.DataFrame([getName(dframe, x) for x in list(fur[d].dropna())], columns = [d])\n",
    "        df = pd.concat([df,df1], ignore_index=False, axis=1)\n",
    "    return df\n",
    "def get_row(df, string):\n",
    "    return pd.Series(df.index).str.contains(string.strip(), case=False)\n",
    "\n",
    "def get_column(df, string):\n",
    "    return pd.Series(df.columns).str.contains(string.strip(), case=False)\n",
    "def getName(df, nome):\n",
    "    if nome.lower() == \"crema\":\n",
    "        nome =\"crema,\"\n",
    "    city = df[get_row(df, nome).values].index[0]\n",
    "    return city\n"
   ]
  },
  {
   "cell_type": "markdown",
   "metadata": {},
   "source": [
    "# Analisi first schedule"
   ]
  },
  {
   "cell_type": "code",
   "execution_count": 17,
   "metadata": {},
   "outputs": [
    {
     "name": "stdout",
     "output_type": "stream",
     "text": [
      "23\n"
     ]
    }
   ],
   "source": [
    "table = pd.read_csv(\"../orari/route.csv\", delimiter=\";\")\n",
    "time_table = pd.read_csv(\"../orari/route_time.csv\", delimiter=\";\")\n",
    "\n",
    "first_schedule = translate_name(dft, table)\n",
    "print(len(first_schedule))"
   ]
  },
  {
   "cell_type": "markdown",
   "metadata": {},
   "source": [
    "# Analisi indirizzi biblio"
   ]
  },
  {
   "cell_type": "code",
   "execution_count": null,
   "metadata": {},
   "outputs": [],
   "source": [
    "path = \"../orari/IndirizziBiblio_21-10-2019.ods\"\n",
    "indirizzi = read_ods(path, 'Questionari_normalizza')\n",
    "indirizzi=indirizzi.astype({'Cap':'int32'})"
   ]
  }
 ],
 "metadata": {
  "kernelspec": {
   "display_name": "Python 3",
   "language": "python",
   "name": "python3"
  },
  "language_info": {
   "codemirror_mode": {
    "name": "ipython",
    "version": 3
   },
   "file_extension": ".py",
   "mimetype": "text/x-python",
   "name": "python",
   "nbconvert_exporter": "python",
   "pygments_lexer": "ipython3",
   "version": "3.7.3"
  }
 },
 "nbformat": 4,
 "nbformat_minor": 2
}

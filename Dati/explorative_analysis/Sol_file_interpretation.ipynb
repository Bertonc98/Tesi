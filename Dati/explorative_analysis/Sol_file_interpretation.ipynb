{
 "cells": [
  {
   "cell_type": "code",
   "execution_count": 1,
   "metadata": {},
   "outputs": [],
   "source": [
    "import matplotlib.pyplot as plt\n",
    "import math\n",
    "from kneed import KneeLocator\n",
    "from sklearn.cluster import KMeans\n",
    "from sklearn.preprocessing import StandardScaler\n",
    "import pandas as pd\n",
    "import numpy as np\n",
    "import folium\n",
    "from collections import Counter\n",
    "from ipynb.fs.defs.Local_search import get_row\n",
    "from ipynb.fs.defs.Local_search import getName\n",
    "from ipynb.fs.defs.functions import translate_name\n",
    "from ipynb.fs.defs.functions import get_row\n",
    "from ipynb.fs.defs.functions import get_column"
   ]
  },
  {
   "cell_type": "markdown",
   "metadata": {},
   "source": [
    "## Interpretation of biblio.sol"
   ]
  },
  {
   "cell_type": "code",
   "execution_count": null,
   "metadata": {},
   "outputs": [],
   "source": [
    "def parseEl(x):\n",
    "    temp = x[x.find(\"(\")+1:x.find(\")\")]\n",
    "    temp = temp.split(\",\")\n",
    "    return temp[0], temp[1]\n",
    "\n",
    "indx = [getName(dft, x) for x in dft.columns]\n",
    "week = [\"lunedi\", \"martedi\", \"mercoledi\", \"giovedi\", \"venerdi\"]\n",
    "biblio = pd.read_csv(\"../Dati/turni_f/optimized_start/biblio_oss.sol\", delimiter=\" \", encoding = \"ISO-8859-1\", names = ['x','b'])\n",
    "x = pd.DataFrame({}, columns=[\"city\", \"day\"])\n",
    "biblio = biblio[biblio[\"b\"]==1]\n",
    "for el in biblio[\"x\"]:\n",
    "    s, d = parseEl(el)\n",
    "    if(int(s)>=15):\n",
    "        x = x.append({\"city\" : indx[int(s)+1], \"day\":week[int(d)]}, ignore_index = True)\n",
    "    else:\n",
    "        x = x.append({\"city\" : indx[int(s)], \"day\":week[int(d)]}, ignore_index = True)\n",
    "        \n",
    "lenght = max([len(x[x[\"day\"]==d]) for d in week])\n",
    "optimized_start_schedule = pd.DataFrame({})\n",
    "optimized_start_schedule[\"pad\"] = pd.Series([np.nan]*lenght)\n",
    "\n",
    "for d in week:\n",
    "    selection = x[\"city\"][x[\"day\"]==d].reset_index()[\"city\"]\n",
    "    optimized_start_schedule = optimized_start_schedule.join(\n",
    "                                        pd.DataFrame(x[\"city\"][x[\"day\"]==d].reset_index()[\"city\"].rename(d)))\n",
    "optimized_start_schedule = optimized_start_schedule[week]\n",
    "optimized_start_schedule"
   ]
  },
  {
   "cell_type": "code",
   "execution_count": null,
   "metadata": {},
   "outputs": [],
   "source": [
    "optimized_start_schedule.to_csv(\"../Dati/turni_f/optimized_start/optimized_start_schedule.csv\", sep=\";\", encoding = \"ISO-8859-1\", index = False)"
   ]
  },
  {
   "cell_type": "markdown",
   "metadata": {},
   "source": [
    "## Extract f1 and f2 optimized start schedule"
   ]
  },
  {
   "cell_type": "code",
   "execution_count": null,
   "metadata": {},
   "outputs": [],
   "source": [
    "total = pd.read_csv(\"../Dati/turni_f/optimized_start/optimized_start_schedule.csv\", delimiter=\";\", encoding = \"ISO-8859-1\")\n",
    "df1 = pd.DataFrame({})\n",
    "df1[\"pad\"] = pd.Series([np.nan]*len(total))\n",
    "df2 = pd.DataFrame({})\n",
    "df2[\"pad\"] = pd.Series([np.nan]*len(total))\n",
    "week = [\"lunedi\", \"martedi\", \"mercoledi\", \"giovedi\", \"venerdi\"]\n",
    "\n",
    "for day in week:\n",
    "    if day in [\"lunedi\", \"venerdi\"]:\n",
    "        df1 = df1.join(total[day])\n",
    "    else:\n",
    "        start = dft[get_row(dft, 'Cremona, sesto 39').values]\n",
    "        f1 = []\n",
    "        f2 = []\n",
    "        row1 = start\n",
    "        row2 = start\n",
    "        for to_insert in total[day].dropna():\n",
    "            value1=row1.loc[:,get_column(dft, to_insert).values]\n",
    "            value2=row2.loc[:,get_column(dft, to_insert).values]\n",
    "            if(float(value1.values[0])<=float(value2.values[0])):\n",
    "                f1.append(to_insert)\n",
    "                row1 = dft[get_row(dft, to_insert).values]\n",
    "            else:\n",
    "                f2.append(to_insert)\n",
    "                row2 = dft[get_row(dft, to_insert).values]\n",
    "                           \n",
    "        df1 = df1.join(pd.Series(f1, dtype = str).rename(day))\n",
    "        df2 = df2.join(pd.Series(f2, dtype = str).rename(day))\n",
    "\n",
    "df1 = df1[week]\n",
    "df2 = df2[[\"martedi\", \"mercoledi\", \"giovedi\"]]"
   ]
  },
  {
   "cell_type": "code",
   "execution_count": null,
   "metadata": {},
   "outputs": [],
   "source": [
    "df1.to_csv(\"../Dati/turni_f/optimized_start/oss_f1.csv\", sep=\";\", encoding = \"ISO-8859-1\", index = False)\n",
    "df2.to_csv(\"../Dati/turni_f/optimized_start/oss_f2.csv\", sep=\";\", encoding = \"ISO-8859-1\", index = False)"
   ]
  }
 ],
 "metadata": {
  "kernelspec": {
   "display_name": "Python 3",
   "language": "python",
   "name": "python3"
  },
  "language_info": {
   "codemirror_mode": {
    "name": "ipython",
    "version": 3
   },
   "file_extension": ".py",
   "mimetype": "text/x-python",
   "name": "python",
   "nbconvert_exporter": "python",
   "pygments_lexer": "ipython3",
   "version": "3.7.6"
  }
 },
 "nbformat": 4,
 "nbformat_minor": 4
}

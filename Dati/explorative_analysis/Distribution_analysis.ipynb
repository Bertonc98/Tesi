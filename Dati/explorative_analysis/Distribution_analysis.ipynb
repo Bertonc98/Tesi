{
 "cells": [
  {
   "cell_type": "code",
   "execution_count": 1,
   "metadata": {},
   "outputs": [],
   "source": [
    "import pandas as pd\n",
    "import numpy as np\n",
    "import math\n",
    "from pandas_ods_reader import read_ods\n",
    "import matplotlib.pyplot as plt\n",
    "import time\n",
    "from datetime import date\n",
    "from tqdm.notebook import tqdm as tqdm\n",
    "from matplotlib import cm\n",
    "import ast\n",
    "from ipynb.fs.defs.functions import getName\n",
    "from ipynb.fs.defs.functions import new_route\n",
    "\n",
    "dft = pd.read_csv(\"../distanze/corrected_times_computed.csv\", delimiter=\";\", encoding = \"ISO-8859-1\", index_col=0)\n",
    "dfd = pd.read_csv(\"../distanze/distances_computed.csv\", delimiter=\";\", encoding = \"ISO-8859-1\", index_col=0)\n",
    "\n",
    "num_orders = pd.read_csv(\"../distanze/num_orders.csv\", delimiter=\";\", encoding = \"ISO-8859-1\")\n",
    "orders_matrix = pd.read_csv(\"distribution/ord_numbers.csv\", delimiter=\";\", encoding = \"ISO-8859-1\", index_col=0)\n",
    "orders = pd.read_csv(\"../distanze/request_cr.csv\", delimiter=\",\", encoding = \"ISO-8859-1\")"
   ]
  },
  {
   "cell_type": "code",
   "execution_count": 16,
   "metadata": {},
   "outputs": [
    {
     "data": {
      "text/plain": [
       "159642"
      ]
     },
     "execution_count": 16,
     "metadata": {},
     "output_type": "execute_result"
    }
   ],
   "source": []
  },
  {
   "cell_type": "code",
   "execution_count": 17,
   "metadata": {},
   "outputs": [],
   "source": [
    "k = pd.read_csv(\"FrequencesResults/frequences.csv\", encoding = \"ISO-8859-1\", index_col=0, header=0, squeeze = True)\n",
    "week = [\"lunedi\", \"martedi\", \"mercoledi\", \"giovedi\", \"venerdi\", \"sabato\", \"domenica\"]\n",
    "for d in week:\n",
    "    k[d] = ast.literal_eval(k[d])"
   ]
  },
  {
   "cell_type": "code",
   "execution_count": 19,
   "metadata": {},
   "outputs": [
    {
     "data": {
      "text/plain": [
       "lunedi       [[Offanengo, Clavelli Martini, 5, Soncino, Dan...\n",
       "martedi      [[Offanengo, Clavelli Martini, 5, Ripalta Crem...\n",
       "mercoledi    [[Vescovato, Roma, 44, Soncino, Dante Alighier...\n",
       "giovedi      [[Manerbio, INSURREZIONE NAZIONALE, Crema, Civ...\n",
       "venerdi      [[Rivolta d'Adda, Stefano Renzi, 5, Bonemerse,...\n",
       "sabato       [[Manerbio, INSURREZIONE NAZIONALE, Bonemerse,...\n",
       "domenica     [[Offanengo, Clavelli Martini, 5, Vescovato, R...\n",
       "Name: 0, dtype: object"
      ]
     },
     "execution_count": 19,
     "metadata": {},
     "output_type": "execute_result"
    }
   ],
   "source": [
    "k"
   ]
  },
  {
   "cell_type": "code",
   "execution_count": 60,
   "metadata": {},
   "outputs": [],
   "source": [
    "def manage_exception(string):\n",
    "    if(string.lower().strip() == 'piadena drizzona'):\n",
    "        return 'Piadena, Platina, 40'\n",
    "    elif(string.lower().strip() == 'brescia'):\n",
    "        return 'manerbio, insurrezione nazionale'\n",
    "    elif(string.lower().strip() == 'centro fumetto a. pazienza' or string.lower().strip() == 'cremona. la piccola biblioteca' or string.lower().strip() == 'uff. bib. cremona'):\n",
    "        return 'cremona, ugolani dati, 4'\n",
    "    elif(string.lower().strip() == 'casale cremasco vidolasco'):\n",
    "        return 'Casale Cremasco-Vidolasco, Roma, 56'\n",
    "    elif(string.lower().strip() == 'cremona-m.i.t.o.'):\n",
    "        return 'Cremona, Palosca n. 2'\n",
    "    elif(string.lower().strip() == 'cremona - manin (scolastica)'):\n",
    "        return 'Cremona, Felice Cavallotti, 2'\n",
    "    elif(string.lower().strip() == 'gadesco pieve delmona'):\n",
    "        return 'Gadesco-Pieve Delmona, Giovanni Lonati 9'\n",
    "    elif(string.lower().strip() == 'cremona - cda'):\n",
    "        return 'cremona, sesto 39'\n",
    "    elif(string.lower().strip() == 'crema'):\n",
    "        return 'Crema, Civerchi, 9'\n",
    "    elif(string.lower().strip() == 'martignana di po, libertà, 64'):\n",
    "        return 'martignana di po, libertà, 64'\n",
    "    else:\n",
    "        return string"
   ]
  },
  {
   "cell_type": "code",
   "execution_count": 27,
   "metadata": {},
   "outputs": [
    {
     "data": {
      "application/vnd.jupyter.widget-view+json": {
       "model_id": "356369c602d94e24875d76bb02dfc82c",
       "version_major": 2,
       "version_minor": 0
      },
      "text/plain": [
       "HBox(children=(FloatProgress(value=0.0, max=159642.0), HTML(value='')))"
      ]
     },
     "metadata": {},
     "output_type": "display_data"
    },
    {
     "name": "stderr",
     "output_type": "stream",
     "text": [
      "C:\\Users\\Alberto\\anaconda3\\lib\\site-packages\\ipykernel_launcher.py:3: SettingWithCopyWarning: \n",
      "A value is trying to be set on a copy of a slice from a DataFrame\n",
      "\n",
      "See the caveats in the documentation: https://pandas.pydata.org/pandas-docs/stable/user_guide/indexing.html#returning-a-view-versus-a-copy\n",
      "  This is separate from the ipykernel package so we can avoid doing imports until\n"
     ]
    },
    {
     "name": "stdout",
     "output_type": "stream",
     "text": [
      "\n"
     ]
    },
    {
     "data": {
      "text/html": [
       "<div>\n",
       "<style scoped>\n",
       "    .dataframe tbody tr th:only-of-type {\n",
       "        vertical-align: middle;\n",
       "    }\n",
       "\n",
       "    .dataframe tbody tr th {\n",
       "        vertical-align: top;\n",
       "    }\n",
       "\n",
       "    .dataframe thead th {\n",
       "        text-align: right;\n",
       "    }\n",
       "</style>\n",
       "<table border=\"1\" class=\"dataframe\">\n",
       "  <thead>\n",
       "    <tr style=\"text-align: right;\">\n",
       "      <th></th>\n",
       "      <th>data_richiesta</th>\n",
       "      <th>biblioteca_partenza</th>\n",
       "      <th>biblioteca_destinazione</th>\n",
       "    </tr>\n",
       "  </thead>\n",
       "  <tbody>\n",
       "    <tr>\n",
       "      <th>0</th>\n",
       "      <td>2016-01-01</td>\n",
       "      <td>RIVOLTA D'ADDA</td>\n",
       "      <td>BONEMERSE</td>\n",
       "    </tr>\n",
       "    <tr>\n",
       "      <th>1</th>\n",
       "      <td>2016-01-01</td>\n",
       "      <td>RIVOLTA D'ADDA</td>\n",
       "      <td>ROMANENGO</td>\n",
       "    </tr>\n",
       "    <tr>\n",
       "      <th>2</th>\n",
       "      <td>2016-01-01</td>\n",
       "      <td>RIVOLTA D'ADDA</td>\n",
       "      <td>Agnadello</td>\n",
       "    </tr>\n",
       "    <tr>\n",
       "      <th>3</th>\n",
       "      <td>2016-01-01</td>\n",
       "      <td>RIVOLTA D'ADDA</td>\n",
       "      <td>SPINO D'ADDA</td>\n",
       "    </tr>\n",
       "    <tr>\n",
       "      <th>4</th>\n",
       "      <td>2016-01-01</td>\n",
       "      <td>RIVOLTA D'ADDA</td>\n",
       "      <td>SPINO D'ADDA</td>\n",
       "    </tr>\n",
       "    <tr>\n",
       "      <th>...</th>\n",
       "      <td>...</td>\n",
       "      <td>...</td>\n",
       "      <td>...</td>\n",
       "    </tr>\n",
       "    <tr>\n",
       "      <th>159637</th>\n",
       "      <td>2018-10-22</td>\n",
       "      <td>RIVOLTA D'ADDA</td>\n",
       "      <td>BAGNOLO CREMASCO</td>\n",
       "    </tr>\n",
       "    <tr>\n",
       "      <th>159638</th>\n",
       "      <td>2018-12-20</td>\n",
       "      <td>BRESCIA</td>\n",
       "      <td>CREMA</td>\n",
       "    </tr>\n",
       "    <tr>\n",
       "      <th>159639</th>\n",
       "      <td>2018-11-07</td>\n",
       "      <td>PIANENGO</td>\n",
       "      <td>PANDINO</td>\n",
       "    </tr>\n",
       "    <tr>\n",
       "      <th>159640</th>\n",
       "      <td>2018-12-12</td>\n",
       "      <td>CASALMAGGIORE</td>\n",
       "      <td>BRESCIA</td>\n",
       "    </tr>\n",
       "    <tr>\n",
       "      <th>159641</th>\n",
       "      <td>2018-10-21</td>\n",
       "      <td>BRESCIA</td>\n",
       "      <td>CAPERGNANICA</td>\n",
       "    </tr>\n",
       "  </tbody>\n",
       "</table>\n",
       "<p>159642 rows × 3 columns</p>\n",
       "</div>"
      ],
      "text/plain": [
       "       data_richiesta biblioteca_partenza biblioteca_destinazione\n",
       "0          2016-01-01      RIVOLTA D'ADDA               BONEMERSE\n",
       "1          2016-01-01      RIVOLTA D'ADDA               ROMANENGO\n",
       "2          2016-01-01      RIVOLTA D'ADDA               Agnadello\n",
       "3          2016-01-01      RIVOLTA D'ADDA            SPINO D'ADDA\n",
       "4          2016-01-01      RIVOLTA D'ADDA            SPINO D'ADDA\n",
       "...               ...                 ...                     ...\n",
       "159637     2018-10-22      RIVOLTA D'ADDA        BAGNOLO CREMASCO\n",
       "159638     2018-12-20             BRESCIA                   CREMA\n",
       "159639     2018-11-07            PIANENGO                 PANDINO\n",
       "159640     2018-12-12       CASALMAGGIORE                 BRESCIA\n",
       "159641     2018-10-21             BRESCIA            CAPERGNANICA\n",
       "\n",
       "[159642 rows x 3 columns]"
      ]
     },
     "execution_count": 27,
     "metadata": {},
     "output_type": "execute_result"
    }
   ],
   "source": [
    "ords = orders[[\"data_richiesta\", \"biblioteca_partenza\", \"biblioteca_destinazione\"]]\n",
    "for i in tqdm(range(len(ords))):\n",
    "    ords[\"data_richiesta\"].iloc[i] = ords[\"data_richiesta\"].iloc[i].split(\" \")[0]\n",
    "ords"
   ]
  },
  {
   "cell_type": "code",
   "execution_count": 28,
   "metadata": {},
   "outputs": [],
   "source": [
    "ords.to_csv(\"distribution/ords_by_date.csv\", sep=\";\", encoding = \"ISO-8859-1\")"
   ]
  },
  {
   "cell_type": "code",
   "execution_count": 31,
   "metadata": {},
   "outputs": [],
   "source": [
    "ords_aggregated = ords.groupby(by=[\"biblioteca_partenza\", \"data_richiesta\"]).count()"
   ]
  },
  {
   "cell_type": "code",
   "execution_count": 54,
   "metadata": {},
   "outputs": [
    {
     "data": {
      "text/html": [
       "<div>\n",
       "<style scoped>\n",
       "    .dataframe tbody tr th:only-of-type {\n",
       "        vertical-align: middle;\n",
       "    }\n",
       "\n",
       "    .dataframe tbody tr th {\n",
       "        vertical-align: top;\n",
       "    }\n",
       "\n",
       "    .dataframe thead th {\n",
       "        text-align: right;\n",
       "    }\n",
       "</style>\n",
       "<table border=\"1\" class=\"dataframe\">\n",
       "  <thead>\n",
       "    <tr style=\"text-align: right;\">\n",
       "      <th></th>\n",
       "      <th></th>\n",
       "      <th>biblioteca_destinazione</th>\n",
       "    </tr>\n",
       "    <tr>\n",
       "      <th>biblioteca_partenza</th>\n",
       "      <th>data_richiesta</th>\n",
       "      <th></th>\n",
       "    </tr>\n",
       "  </thead>\n",
       "  <tbody>\n",
       "    <tr>\n",
       "      <th rowspan=\"5\" valign=\"top\">ANNICCO</th>\n",
       "      <th>2016-01-07</th>\n",
       "      <td>1</td>\n",
       "    </tr>\n",
       "    <tr>\n",
       "      <th>2016-01-11</th>\n",
       "      <td>3</td>\n",
       "    </tr>\n",
       "    <tr>\n",
       "      <th>2016-01-15</th>\n",
       "      <td>1</td>\n",
       "    </tr>\n",
       "    <tr>\n",
       "      <th>2016-01-16</th>\n",
       "      <td>1</td>\n",
       "    </tr>\n",
       "    <tr>\n",
       "      <th>2016-01-18</th>\n",
       "      <td>1</td>\n",
       "    </tr>\n",
       "    <tr>\n",
       "      <th>...</th>\n",
       "      <th>...</th>\n",
       "      <td>...</td>\n",
       "    </tr>\n",
       "    <tr>\n",
       "      <th rowspan=\"5\" valign=\"top\">VESCOVATO</th>\n",
       "      <th>2018-12-19</th>\n",
       "      <td>1</td>\n",
       "    </tr>\n",
       "    <tr>\n",
       "      <th>2018-12-20</th>\n",
       "      <td>4</td>\n",
       "    </tr>\n",
       "    <tr>\n",
       "      <th>2018-12-27</th>\n",
       "      <td>1</td>\n",
       "    </tr>\n",
       "    <tr>\n",
       "      <th>2018-12-28</th>\n",
       "      <td>3</td>\n",
       "    </tr>\n",
       "    <tr>\n",
       "      <th>2018-12-29</th>\n",
       "      <td>2</td>\n",
       "    </tr>\n",
       "  </tbody>\n",
       "</table>\n",
       "<p>34466 rows × 1 columns</p>\n",
       "</div>"
      ],
      "text/plain": [
       "                                    biblioteca_destinazione\n",
       "biblioteca_partenza data_richiesta                         \n",
       "ANNICCO             2016-01-07                            1\n",
       "                    2016-01-11                            3\n",
       "                    2016-01-15                            1\n",
       "                    2016-01-16                            1\n",
       "                    2016-01-18                            1\n",
       "...                                                     ...\n",
       "VESCOVATO           2018-12-19                            1\n",
       "                    2018-12-20                            4\n",
       "                    2018-12-27                            1\n",
       "                    2018-12-28                            3\n",
       "                    2018-12-29                            2\n",
       "\n",
       "[34466 rows x 1 columns]"
      ]
     },
     "execution_count": 54,
     "metadata": {},
     "output_type": "execute_result"
    }
   ],
   "source": [
    "ords_aggregated"
   ]
  },
  {
   "cell_type": "code",
   "execution_count": 65,
   "metadata": {},
   "outputs": [
    {
     "data": {
      "application/vnd.jupyter.widget-view+json": {
       "model_id": "ebb7ac55f98e4ed3896a5f0baf433927",
       "version_major": 2,
       "version_minor": 0
      },
      "text/plain": [
       "HBox(children=(FloatProgress(value=0.0, max=34069.0), HTML(value='')))"
      ]
     },
     "metadata": {},
     "output_type": "display_data"
    },
    {
     "name": "stderr",
     "output_type": "stream",
     "text": [
      "C:\\Users\\Alberto\\anaconda3\\lib\\site-packages\\pandas\\core\\strings.py:1952: UserWarning: This pattern has match groups. To actually get the groups, use str.extract.\n",
      "  return func(self, *args, **kwargs)\n"
     ]
    },
    {
     "name": "stdout",
     "output_type": "stream",
     "text": [
      "\n"
     ]
    }
   ],
   "source": [
    "to_be_removed_very_male = []\n",
    "for i in tqdm(range(len(ords_aggregated))):\n",
    "    try:\n",
    "        getName(dft, manage_exception(ords_aggregated.iloc[i].name[0]))\n",
    "    except:\n",
    "        #ords_aggregated = ords_aggregated.drop(ords_aggregated.index[i])\n",
    "        to_be_removed_very_male.append(ords_aggregated.index[i])\n"
   ]
  },
  {
   "cell_type": "code",
   "execution_count": 66,
   "metadata": {},
   "outputs": [
    {
     "data": {
      "text/html": [
       "<div>\n",
       "<style scoped>\n",
       "    .dataframe tbody tr th:only-of-type {\n",
       "        vertical-align: middle;\n",
       "    }\n",
       "\n",
       "    .dataframe tbody tr th {\n",
       "        vertical-align: top;\n",
       "    }\n",
       "\n",
       "    .dataframe thead th {\n",
       "        text-align: right;\n",
       "    }\n",
       "</style>\n",
       "<table border=\"1\" class=\"dataframe\">\n",
       "  <thead>\n",
       "    <tr style=\"text-align: right;\">\n",
       "      <th></th>\n",
       "      <th></th>\n",
       "      <th>biblioteca_destinazione</th>\n",
       "    </tr>\n",
       "    <tr>\n",
       "      <th>biblioteca_partenza</th>\n",
       "      <th>data_richiesta</th>\n",
       "      <th></th>\n",
       "    </tr>\n",
       "  </thead>\n",
       "  <tbody>\n",
       "    <tr>\n",
       "      <th rowspan=\"5\" valign=\"top\">ANNICCO</th>\n",
       "      <th>2016-01-07</th>\n",
       "      <td>1</td>\n",
       "    </tr>\n",
       "    <tr>\n",
       "      <th>2016-01-11</th>\n",
       "      <td>3</td>\n",
       "    </tr>\n",
       "    <tr>\n",
       "      <th>2016-01-15</th>\n",
       "      <td>1</td>\n",
       "    </tr>\n",
       "    <tr>\n",
       "      <th>2016-01-16</th>\n",
       "      <td>1</td>\n",
       "    </tr>\n",
       "    <tr>\n",
       "      <th>2016-01-18</th>\n",
       "      <td>1</td>\n",
       "    </tr>\n",
       "    <tr>\n",
       "      <th>...</th>\n",
       "      <th>...</th>\n",
       "      <td>...</td>\n",
       "    </tr>\n",
       "    <tr>\n",
       "      <th rowspan=\"5\" valign=\"top\">VESCOVATO</th>\n",
       "      <th>2018-12-19</th>\n",
       "      <td>1</td>\n",
       "    </tr>\n",
       "    <tr>\n",
       "      <th>2018-12-20</th>\n",
       "      <td>4</td>\n",
       "    </tr>\n",
       "    <tr>\n",
       "      <th>2018-12-27</th>\n",
       "      <td>1</td>\n",
       "    </tr>\n",
       "    <tr>\n",
       "      <th>2018-12-28</th>\n",
       "      <td>3</td>\n",
       "    </tr>\n",
       "    <tr>\n",
       "      <th>2018-12-29</th>\n",
       "      <td>2</td>\n",
       "    </tr>\n",
       "  </tbody>\n",
       "</table>\n",
       "<p>33677 rows × 1 columns</p>\n",
       "</div>"
      ],
      "text/plain": [
       "                                    biblioteca_destinazione\n",
       "biblioteca_partenza data_richiesta                         \n",
       "ANNICCO             2016-01-07                            1\n",
       "                    2016-01-11                            3\n",
       "                    2016-01-15                            1\n",
       "                    2016-01-16                            1\n",
       "                    2016-01-18                            1\n",
       "...                                                     ...\n",
       "VESCOVATO           2018-12-19                            1\n",
       "                    2018-12-20                            4\n",
       "                    2018-12-27                            1\n",
       "                    2018-12-28                            3\n",
       "                    2018-12-29                            2\n",
       "\n",
       "[33677 rows x 1 columns]"
      ]
     },
     "execution_count": 66,
     "metadata": {},
     "output_type": "execute_result"
    }
   ],
   "source": [
    "for el in to_be_removed_very_male:\n",
    "    ords_aggregated = ords_aggregated.drop(el)\n",
    "ords_aggregated"
   ]
  },
  {
   "cell_type": "code",
   "execution_count": 67,
   "metadata": {},
   "outputs": [],
   "source": [
    "ords_aggregated.to_csv(\"distribution/ords_by_date_filtered.csv\", sep=\";\", encoding = \"ISO-8859-1\")"
   ]
  },
  {
   "cell_type": "code",
   "execution_count": 41,
   "metadata": {},
   "outputs": [
    {
     "data": {
      "application/vnd.jupyter.widget-view+json": {
       "model_id": "27913209b98541aaa46414a1044c468f",
       "version_major": 2,
       "version_minor": 0
      },
      "text/plain": [
       "HBox(children=(FloatProgress(value=0.0, max=159642.0), HTML(value='')))"
      ]
     },
     "metadata": {},
     "output_type": "display_data"
    },
    {
     "name": "stderr",
     "output_type": "stream",
     "text": [
      "C:\\Users\\Alberto\\anaconda3\\lib\\site-packages\\pandas\\core\\strings.py:1952: UserWarning: This pattern has match groups. To actually get the groups, use str.extract.\n",
      "  return func(self, *args, **kwargs)\n"
     ]
    },
    {
     "name": "stdout",
     "output_type": "stream",
     "text": [
      "\n"
     ]
    }
   ],
   "source": [
    "freq = pd.DataFrame(index=dft.columns, columns=[\"partenza\", \"destinazione\"])\n",
    "freq = freq.replace(np.nan, 0)\n",
    "for i in tqdm(range(len(orders))):\n",
    "    row = orders.iloc[i]\n",
    "    try:\n",
    "        if(getName(dft, manage_exception(row[\"biblioteca_destinazione\"])) != getName(dft, manage_exception(row[\"biblioteca_partenza\"]))):\n",
    "            freq[\"destinazione\"][getName(dft, manage_exception(row[\"biblioteca_destinazione\"]))] += 1\n",
    "            freq[\"partenza\"][getName(dft, manage_exception(row[\"biblioteca_partenza\"]))] += 1\n",
    "    except:\n",
    "        None"
   ]
  },
  {
   "cell_type": "code",
   "execution_count": 61,
   "metadata": {},
   "outputs": [
    {
     "data": {
      "text/plain": [
       "['Offanengo, Clavelli Martini, 5', 'Soncino, Dante Alighieri, 23', 'lunedi']"
      ]
     },
     "execution_count": 61,
     "metadata": {},
     "output_type": "execute_result"
    }
   ],
   "source": [
    "freq.to_csv(\"distribution/biblio_freq.csv\", sep=\";\", encoding = \"ISO-8859-1\")"
   ]
  },
  {
   "cell_type": "code",
   "execution_count": 64,
   "metadata": {},
   "outputs": [
    {
     "data": {
      "application/vnd.jupyter.widget-view+json": {
       "model_id": "02f65d7b72664890a1fa25cf65741d45",
       "version_major": 2,
       "version_minor": 0
      },
      "text/plain": [
       "HBox(children=(FloatProgress(value=0.0, max=7.0), HTML(value='')))"
      ]
     },
     "metadata": {},
     "output_type": "display_data"
    },
    {
     "name": "stdout",
     "output_type": "stream",
     "text": [
      "\n"
     ]
    }
   ],
   "source": [
    "week = k.index\n",
    "for i in tqdm(range(len(week))):\n",
    "    day = week[i]\n",
    "    lista = k[day]\n",
    "    tmp = pd.DataFrame(index=dft.columns, columns=dft.columns).replace(np.nan, 0)\n",
    "    for el in lista:\n",
    "        partenza = el[0]\n",
    "        destinazione = el[1]\n",
    "        tmp.loc[partenza].loc[destinazione] += 1\n",
    "    tmp.to_csv(\"distribution/\"+day+\"_biblio_freq.csv\", sep=\";\", encoding = \"ISO-8859-1\")"
   ]
  },
  {
   "cell_type": "code",
   "execution_count": 74,
   "metadata": {},
   "outputs": [],
   "source": [
    "daily_d = pd.DataFrame(index=k.index, columns=[\"tot\"]).replace(np.nan, 0)\n",
    "for d in k.index:\n",
    "    daily_d[\"tot\"].loc[d] = len(k[d])"
   ]
  },
  {
   "cell_type": "code",
   "execution_count": 79,
   "metadata": {},
   "outputs": [],
   "source": [
    "daily_d.to_csv(\"distribution/week_biblio_freq.csv\", sep=\";\", encoding = \"ISO-8859-1\")"
   ]
  },
  {
   "cell_type": "markdown",
   "metadata": {},
   "source": [
    "## Charts"
   ]
  },
  {
   "cell_type": "code",
   "execution_count": 71,
   "metadata": {},
   "outputs": [
    {
     "data": {
      "text/html": [
       "<div>\n",
       "<style scoped>\n",
       "    .dataframe tbody tr th:only-of-type {\n",
       "        vertical-align: middle;\n",
       "    }\n",
       "\n",
       "    .dataframe tbody tr th {\n",
       "        vertical-align: top;\n",
       "    }\n",
       "\n",
       "    .dataframe thead th {\n",
       "        text-align: right;\n",
       "    }\n",
       "</style>\n",
       "<table border=\"1\" class=\"dataframe\">\n",
       "  <thead>\n",
       "    <tr style=\"text-align: right;\">\n",
       "      <th></th>\n",
       "      <th>data_richiesta</th>\n",
       "      <th>biblioteca_destinazione</th>\n",
       "    </tr>\n",
       "  </thead>\n",
       "  <tbody>\n",
       "    <tr>\n",
       "      <th>ANNICCO</th>\n",
       "      <td>2016-01-07</td>\n",
       "      <td>1</td>\n",
       "    </tr>\n",
       "    <tr>\n",
       "      <th>ANNICCO</th>\n",
       "      <td>2016-01-11</td>\n",
       "      <td>3</td>\n",
       "    </tr>\n",
       "    <tr>\n",
       "      <th>ANNICCO</th>\n",
       "      <td>2016-01-15</td>\n",
       "      <td>1</td>\n",
       "    </tr>\n",
       "    <tr>\n",
       "      <th>ANNICCO</th>\n",
       "      <td>2016-01-16</td>\n",
       "      <td>1</td>\n",
       "    </tr>\n",
       "    <tr>\n",
       "      <th>ANNICCO</th>\n",
       "      <td>2016-01-18</td>\n",
       "      <td>1</td>\n",
       "    </tr>\n",
       "    <tr>\n",
       "      <th>...</th>\n",
       "      <td>...</td>\n",
       "      <td>...</td>\n",
       "    </tr>\n",
       "    <tr>\n",
       "      <th>VESCOVATO</th>\n",
       "      <td>2018-12-19</td>\n",
       "      <td>1</td>\n",
       "    </tr>\n",
       "    <tr>\n",
       "      <th>VESCOVATO</th>\n",
       "      <td>2018-12-20</td>\n",
       "      <td>4</td>\n",
       "    </tr>\n",
       "    <tr>\n",
       "      <th>VESCOVATO</th>\n",
       "      <td>2018-12-27</td>\n",
       "      <td>1</td>\n",
       "    </tr>\n",
       "    <tr>\n",
       "      <th>VESCOVATO</th>\n",
       "      <td>2018-12-28</td>\n",
       "      <td>3</td>\n",
       "    </tr>\n",
       "    <tr>\n",
       "      <th>VESCOVATO</th>\n",
       "      <td>2018-12-29</td>\n",
       "      <td>2</td>\n",
       "    </tr>\n",
       "  </tbody>\n",
       "</table>\n",
       "<p>33677 rows × 2 columns</p>\n",
       "</div>"
      ],
      "text/plain": [
       "          data_richiesta  biblioteca_destinazione\n",
       "ANNICCO       2016-01-07                        1\n",
       "ANNICCO       2016-01-11                        3\n",
       "ANNICCO       2016-01-15                        1\n",
       "ANNICCO       2016-01-16                        1\n",
       "ANNICCO       2016-01-18                        1\n",
       "...                  ...                      ...\n",
       "VESCOVATO     2018-12-19                        1\n",
       "VESCOVATO     2018-12-20                        4\n",
       "VESCOVATO     2018-12-27                        1\n",
       "VESCOVATO     2018-12-28                        3\n",
       "VESCOVATO     2018-12-29                        2\n",
       "\n",
       "[33677 rows x 2 columns]"
      ]
     },
     "execution_count": 71,
     "metadata": {},
     "output_type": "execute_result"
    }
   ],
   "source": [
    "#Single biblio freq\n",
    "s_b_f = pd.read_csv(\"distribution/ords_by_date_filtered.csv\", delimiter=\";\", encoding = \"ISO-8859-1\", index_col=0)\n",
    "s_b_f"
   ]
  },
  {
   "cell_type": "code",
   "execution_count": 75,
   "metadata": {},
   "outputs": [
    {
     "data": {
      "text/plain": [
       "array([1, 3, 1, ..., 1, 3, 2], dtype=int64)"
      ]
     },
     "execution_count": 75,
     "metadata": {},
     "output_type": "execute_result"
    }
   ],
   "source": [
    "s_b_f[\"biblioteca_destinazione\"].values"
   ]
  },
  {
   "cell_type": "code",
   "execution_count": 94,
   "metadata": {},
   "outputs": [],
   "source": [
    "x = []\n",
    "y = []\n",
    "for i in range(1,max(s_b_f[\"biblioteca_destinazione\"])):\n",
    "    c=list(s_b_f[\"biblioteca_destinazione\"].values).count(i)\n",
    "    if c>0:\n",
    "        y.append(c)\n",
    "        x.append(i)"
   ]
  },
  {
   "cell_type": "code",
   "execution_count": 102,
   "metadata": {},
   "outputs": [
    {
     "data": {
      "image/png": "[encoded data removed]",
      "text/plain": [
       "<Figure size 1080x540 with 2 Axes>"
      ]
     },
     "metadata": {
      "needs_background": "light"
     },
     "output_type": "display_data"
    }
   ],
   "source": [
    "#Distribuzioni con numero di ordini divisi per bibliteca\n",
    "plt.figure(figsize=[15,7.5])\n",
    "plt.subplot(121)\n",
    "plt.bar(x, np.cumsum(y)/max(np.cumsum(y)), width=0.7, color=\"orange\", alpha=0.5)\n",
    "plt.step(x, np.cumsum(y)/max(np.cumsum(y)))\n",
    "plt.title(\"Numero ordini in uscita cumulati\")\n",
    "\n",
    "plt.subplot(122)\n",
    "plt.hist(s_b_f[\"biblioteca_destinazione\"].values, bins=range(1, 120, 1))\n",
    "plt.title(\"Numero di ordini aggregati per data e sede di partenza\")\n",
    "\n",
    "plt.show()"
   ]
  },
  {
   "cell_type": "code",
   "execution_count": 109,
   "metadata": {},
   "outputs": [],
   "source": [
    "tot = []\n",
    "for d in k.index:\n",
    "    tmp = pd.read_csv(\"distribution/\"+d+\"_biblio_freq.csv\", delimiter=\";\", encoding = \"ISO-8859-1\", index_col=0)\n",
    "    for lt in tmp.values.tolist():\n",
    "        tot += lt"
   ]
  },
  {
   "cell_type": "code",
   "execution_count": 110,
   "metadata": {},
   "outputs": [],
   "source": [
    "tot_rz = [n for n in tot if n!=0]\n",
    "x = []\n",
    "y = []\n",
    "for i in range(1,1000):\n",
    "    c = list(tot_rz).count(i)\n",
    "    if c>0:\n",
    "        y.append(c)\n",
    "        x.append(i)"
   ]
  },
  {
   "cell_type": "code",
   "execution_count": 115,
   "metadata": {},
   "outputs": [
    {
     "data": {
      "image/png": "[encoded data removed]",
      "text/plain": [
       "<Figure size 1080x504 with 2 Axes>"
      ]
     },
     "metadata": {
      "needs_background": "light"
     },
     "output_type": "display_data"
    }
   ],
   "source": [
    "plt.figure(figsize=[15,7])\n",
    "plt.subplot(121)\n",
    "plt.bar(x, np.cumsum(y)/max(np.cumsum(y)), width=1, color=\"orange\", alpha=0.5)\n",
    "plt.step(x, np.cumsum(y)/max(np.cumsum(y)))\n",
    "plt.title(\"Cumulativa per giorno e coppia\")\n",
    "\n",
    "plt.subplot(122)\n",
    "plt.hist(tot_rz, bins=range(1, 125, 1))\n",
    "plt.title(\"Numero di ordini aggregati per giorno e sede di partenza\")\n",
    "\n",
    "plt.show()"
   ]
  },
  {
   "cell_type": "code",
   "execution_count": 121,
   "metadata": {},
   "outputs": [
    {
     "data": {
      "image/png": "[encoded data removed]",
      "text/plain": [
       "<Figure size 1080x3600 with 14 Axes>"
      ]
     },
     "metadata": {
      "needs_background": "light"
     },
     "output_type": "display_data"
    }
   ],
   "source": [
    "pos = 1\n",
    "plt.figure(figsize=[15,50])\n",
    "for d in k.index:\n",
    "    tmp = pd.read_csv(\"distribution/\"+d+\"_biblio_freq.csv\", delimiter=\";\", encoding = \"ISO-8859-1\", index_col=0)\n",
    "    tot = []\n",
    "    \n",
    "    for lt in tmp.values.tolist():\n",
    "        tot += lt\n",
    "        \n",
    "    tot_rz = [n for n in tot if n!=0]\n",
    "    \n",
    "    x = []\n",
    "    y = []\n",
    "    for i in range(1,1000):\n",
    "        c = list(tot_rz).count(i)\n",
    "        if c>0:\n",
    "            y.append(c)\n",
    "            x.append(i)\n",
    "    \n",
    "    plt.subplot(7,2,pos)\n",
    "    plt.bar(x, np.cumsum(y)/max(np.cumsum(y)), width=1, color=\"orange\", alpha=0.5)\n",
    "    plt.step(x, np.cumsum(y)/max(np.cumsum(y)))\n",
    "    plt.title(\"Cumulativa per \"+d+\" e coppia\")\n",
    "    pos+=1\n",
    "    plt.subplot(7,2,pos)\n",
    "    plt.hist(tot_rz, bins=range(1, 125, 1))\n",
    "    plt.ylim([0,650])\n",
    "    plt.title(\"Numero di ordini aggregati per \"+d+\" e sede di partenza\")\n",
    "    pos += 1\n",
    "plt.show()"
   ]
  },
  {
   "cell_type": "code",
   "execution_count": 122,
   "metadata": {},
   "outputs": [],
   "source": [
    "tot = []\n",
    "tmp = pd.read_csv(\"distribution/ord_numbers.csv\", delimiter=\";\", encoding = \"ISO-8859-1\", index_col=0)\n",
    "for lt in tmp.values.tolist():\n",
    "    tot += lt"
   ]
  },
  {
   "cell_type": "code",
   "execution_count": 123,
   "metadata": {},
   "outputs": [],
   "source": [
    "tot_rz = [n for n in tot if n!=0]\n",
    "x = []\n",
    "y = []\n",
    "for i in range(1,1000):\n",
    "    c = list(tot_rz).count(i)\n",
    "    if c>0:\n",
    "        y.append(c)\n",
    "        x.append(i)   "
   ]
  },
  {
   "cell_type": "code",
   "execution_count": 61,
   "metadata": {},
   "outputs": [
    {
     "data": {
      "text/plain": [
       "[1582, 2540, 20176, 1566, 3958, 1723, 2533, 1936, 1965, 1641]"
      ]
     },
     "execution_count": 61,
     "metadata": {},
     "output_type": "execute_result"
    }
   ],
   "source": [
    "[n for n in tot_rz if n>1500]"
   ]
  },
  {
   "cell_type": "code",
   "execution_count": 128,
   "metadata": {},
   "outputs": [
    {
     "data": {
      "image/png": "[encoded data removed]",
      "text/plain": [
       "<Figure size 1080x504 with 2 Axes>"
      ]
     },
     "metadata": {
      "needs_background": "light"
     },
     "output_type": "display_data"
    }
   ],
   "source": [
    "plt.figure(figsize=[15,7])\n",
    "plt.subplot(121)\n",
    "plt.bar(x, np.cumsum(y)/max(np.cumsum(y)), width=1, color=\"orange\", alpha=0.5)\n",
    "plt.step(x, np.cumsum(y)/max(np.cumsum(y)))\n",
    "plt.title(\"Cumulativa biblio biblio\")\n",
    "\n",
    "plt.subplot(122)\n",
    "plt.hist(tot_rz, bins=range(1, 125, 1))\n",
    "plt.title(\"Numero di ordini aggregati per coppia di biblioteche\")\n",
    "\n",
    "plt.show()"
   ]
  },
  {
   "cell_type": "code",
   "execution_count": 68,
   "metadata": {},
   "outputs": [
    {
     "data": {
      "image/png": "[encoded data removed]",
      "text/plain": [
       "<Figure size 504x504 with 1 Axes>"
      ]
     },
     "metadata": {
      "needs_background": "light"
     },
     "output_type": "display_data"
    }
   ],
   "source": [
    "plt.figure(figsize=[7,7])\n",
    "h = [len(x) for x in k]\n",
    "x = []\n",
    "y = []\n",
    "for i in range(1,max(h)):\n",
    "    c = list(h).count(i)\n",
    "    if c>0:\n",
    "        y.append(c)\n",
    "        x.append(i)  \n",
    "plt.step(x, np.cumsum(y)/max(np.cumsum(y)))\n",
    "plt.bar(x, np.cumsum(y)/max(np.cumsum(y)), width=100, color=\"orange\", alpha=0.5)\n",
    "\n",
    "plt.xticks(rotation=45)\n",
    "plt.title(\"Cumulativa ordini per giorno\")\n",
    "\n",
    "plt.show()\n",
    "\n"
   ]
  }
 ],
 "metadata": {
  "kernelspec": {
   "display_name": "Python 3",
   "language": "python",
   "name": "python3"
  },
  "language_info": {
   "codemirror_mode": {
    "name": "ipython",
    "version": 3
   },
   "file_extension": ".py",
   "mimetype": "text/x-python",
   "name": "python",
   "nbconvert_exporter": "python",
   "pygments_lexer": "ipython3",
   "version": "3.7.6"
  }
 },
 "nbformat": 4,
 "nbformat_minor": 4
}

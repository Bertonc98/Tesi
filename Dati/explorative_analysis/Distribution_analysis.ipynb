{
 "cells": [
  {
   "cell_type": "code",
   "execution_count": 2,
   "metadata": {},
   "outputs": [],
   "source": [
    "import pandas as pd\n",
    "import numpy as np\n",
    "import math\n",
    "from pandas_ods_reader import read_ods\n",
    "import matplotlib.pyplot as plt\n",
    "import time\n",
    "from datetime import date\n",
    "from tqdm.notebook import tqdm as tqdm\n",
    "from matplotlib import cm\n",
    "import ast\n",
    "from ipynb.fs.defs.functions import getName\n",
    "from ipynb.fs.defs.functions import new_route\n",
    "\n",
    "dft = pd.read_csv(\"../distanze/corrected_times_computed.csv\", delimiter=\";\", encoding = \"ISO-8859-1\", index_col=0)\n",
    "dfd = pd.read_csv(\"../distanze/distances_computed.csv\", delimiter=\";\", encoding = \"ISO-8859-1\", index_col=0)\n",
    "\n",
    "num_orders = pd.read_csv(\"../distanze/num_orders.csv\", delimiter=\";\", encoding = \"ISO-8859-1\")\n",
    "orders_matrix = pd.read_csv(\"distribution/ord_numbers.csv\", delimiter=\";\", encoding = \"ISO-8859-1\", index_col=0)\n",
    "orders = pd.read_csv(\"../distanze/request_cr.csv\", delimiter=\",\", encoding = \"ISO-8859-1\")"
   ]
  },
  {
   "cell_type": "code",
   "execution_count": 33,
   "metadata": {},
   "outputs": [],
   "source": [
    "k = pd.read_csv(\"FrequencesResults/frequences.csv\", encoding = \"ISO-8859-1\", index_col=0, header=0, squeeze = True)\n",
    "week = [\"lunedi\", \"martedi\", \"mercoledi\", \"giovedi\", \"venerdi\", \"sabato\", \"domenica\"]\n",
    "for d in week:\n",
    "    k[d] = ast.literal_eval(k[d])"
   ]
  },
  {
   "cell_type": "code",
   "execution_count": 4,
   "metadata": {},
   "outputs": [],
   "source": [
    "def manage_exception(string):\n",
    "    if(string.lower().strip() == 'piadena drizzona'):\n",
    "        return 'Piadena, Platina, 40'\n",
    "    elif(string.lower().strip() == 'brescia'):\n",
    "        return 'manerbio, insurrezione nazionale'\n",
    "    elif(string.lower().strip() == 'centro fumetto a. pazienza' or string.lower().strip() == 'cremona. la piccola biblioteca' or string.lower().strip() == 'uff. bib. cremona'):\n",
    "        return 'cremona, ugolani dati, 4'\n",
    "    elif(string.lower().strip() == 'casale cremasco vidolasco'):\n",
    "        return 'Casale Cremasco-Vidolasco, Roma, 56'\n",
    "    elif(string.lower().strip() == 'cremona-m.i.t.o.'):\n",
    "        return 'Cremona, Palosca n. 2'\n",
    "    elif(string.lower().strip() == 'cremona - manin (scolastica)'):\n",
    "        return 'Cremona, Felice Cavallotti, 2'\n",
    "    elif(string.lower().strip() == 'gadesco pieve delmona'):\n",
    "        return 'Gadesco-Pieve Delmona, Giovanni Lonati 9'\n",
    "    elif(string.lower().strip() == 'cremona - cda'):\n",
    "        return 'cremona, sesto 39'\n",
    "    elif(string.lower().strip() == 'crema'):\n",
    "        return 'Crema, Civerchi, 9'\n",
    "    elif(string.lower().strip() == 'martignana di po, libertà, 64'):\n",
    "        return 'martignana di po, libertà, 64'\n",
    "    else:\n",
    "        return string"
   ]
  },
  {
   "cell_type": "code",
   "execution_count": 41,
   "metadata": {},
   "outputs": [
    {
     "data": {
      "application/vnd.jupyter.widget-view+json": {
       "model_id": "27913209b98541aaa46414a1044c468f",
       "version_major": 2,
       "version_minor": 0
      },
      "text/plain": [
       "HBox(children=(FloatProgress(value=0.0, max=159642.0), HTML(value='')))"
      ]
     },
     "metadata": {},
     "output_type": "display_data"
    },
    {
     "name": "stderr",
     "output_type": "stream",
     "text": [
      "C:\\Users\\Alberto\\anaconda3\\lib\\site-packages\\pandas\\core\\strings.py:1952: UserWarning: This pattern has match groups. To actually get the groups, use str.extract.\n",
      "  return func(self, *args, **kwargs)\n"
     ]
    },
    {
     "name": "stdout",
     "output_type": "stream",
     "text": [
      "\n"
     ]
    }
   ],
   "source": [
    "freq = pd.DataFrame(index=dft.columns, columns=[\"partenza\", \"destinazione\"])\n",
    "freq = freq.replace(np.nan, 0)\n",
    "for i in tqdm(range(len(orders))):\n",
    "    row = orders.iloc[i]\n",
    "    try:\n",
    "        if(getName(dft, manage_exception(row[\"biblioteca_destinazione\"])) != getName(dft, manage_exception(row[\"biblioteca_partenza\"]))):\n",
    "            freq[\"destinazione\"][getName(dft, manage_exception(row[\"biblioteca_destinazione\"]))] += 1\n",
    "            freq[\"partenza\"][getName(dft, manage_exception(row[\"biblioteca_partenza\"]))] += 1\n",
    "    except:\n",
    "        None"
   ]
  },
  {
   "cell_type": "code",
   "execution_count": 61,
   "metadata": {},
   "outputs": [
    {
     "data": {
      "text/plain": [
       "['Offanengo, Clavelli Martini, 5', 'Soncino, Dante Alighieri, 23', 'lunedi']"
      ]
     },
     "execution_count": 61,
     "metadata": {},
     "output_type": "execute_result"
    }
   ],
   "source": [
    "freq.to_csv(\"distribution/biblio_freq.csv\", sep=\";\", encoding = \"ISO-8859-1\")"
   ]
  },
  {
   "cell_type": "code",
   "execution_count": 64,
   "metadata": {},
   "outputs": [
    {
     "data": {
      "application/vnd.jupyter.widget-view+json": {
       "model_id": "02f65d7b72664890a1fa25cf65741d45",
       "version_major": 2,
       "version_minor": 0
      },
      "text/plain": [
       "HBox(children=(FloatProgress(value=0.0, max=7.0), HTML(value='')))"
      ]
     },
     "metadata": {},
     "output_type": "display_data"
    },
    {
     "name": "stdout",
     "output_type": "stream",
     "text": [
      "\n"
     ]
    }
   ],
   "source": [
    "week = k.index\n",
    "for i in tqdm(range(len(week))):\n",
    "    day = week[i]\n",
    "    lista = k[day]\n",
    "    tmp = pd.DataFrame(index=dft.columns, columns=dft.columns).replace(np.nan, 0)\n",
    "    for el in lista:\n",
    "        partenza = el[0]\n",
    "        destinazione = el[1]\n",
    "        tmp.loc[partenza].loc[destinazione] += 1\n",
    "    tmp.to_csv(\"distribution/\"+day+\"_biblio_freq.csv\", sep=\";\", encoding = \"ISO-8859-1\")"
   ]
  },
  {
   "cell_type": "code",
   "execution_count": 74,
   "metadata": {},
   "outputs": [],
   "source": [
    "daily_d = pd.DataFrame(index=k.index, columns=[\"tot\"]).replace(np.nan, 0)\n",
    "for d in k.index:\n",
    "    daily_d[\"tot\"].loc[d] = len(k[d])"
   ]
  },
  {
   "cell_type": "code",
   "execution_count": 79,
   "metadata": {},
   "outputs": [],
   "source": [
    "daily_d.to_csv(\"distribution/week_biblio_freq.csv\", sep=\";\", encoding = \"ISO-8859-1\")"
   ]
  },
  {
   "cell_type": "markdown",
   "metadata": {},
   "source": [
    "## Charts"
   ]
  },
  {
   "cell_type": "code",
   "execution_count": 3,
   "metadata": {},
   "outputs": [],
   "source": [
    "#Single biblio freq\n",
    "s_b_f = pd.read_csv(\"distribution/biblio_freq.csv\", delimiter=\";\", encoding = \"ISO-8859-1\", index_col=0)\n",
    "\n",
    "tot_rz_p = [n for n in s_b_f[\"partenza\"] if n!=0]\n",
    "tot_rz_d = [n for n in s_b_f[\"destinazione\"] if n!=0]\n",
    "x = []\n",
    "y = []\n",
    "for i in range(1,10000):\n",
    "    c = list(s_b_f[\"partenza\"]).count(i)\n",
    "    if c>0:\n",
    "        y.append(c)\n",
    "        x.append(i)\n",
    "xd = []\n",
    "yd = []\n",
    "for i in range(1,10000):\n",
    "    c = list(s_b_f[\"destinazione\"]).count(i)\n",
    "    if c>0:\n",
    "        yd.append(c)\n",
    "        xd.append(i)\n"
   ]
  },
  {
   "cell_type": "code",
   "execution_count": 12,
   "metadata": {},
   "outputs": [
    {
     "data": {
      "text/plain": [
       "57912"
      ]
     },
     "execution_count": 12,
     "metadata": {},
     "output_type": "execute_result"
    }
   ],
   "source": [
    "max(s_b_f[\"partenza\"])"
   ]
  },
  {
   "cell_type": "code",
   "execution_count": 11,
   "metadata": {},
   "outputs": [
    {
     "data": {
      "image/png": "[encoded data removed]",
      "text/plain": [
       "<Figure size 720x360 with 2 Axes>"
      ]
     },
     "metadata": {
      "needs_background": "light"
     },
     "output_type": "display_data"
    }
   ],
   "source": [
    "#Distribuzioni con numero di ordini divisi per bibliteca\n",
    "plt.figure(figsize=[10,5])\n",
    "plt.subplot(121)\n",
    "plt.bar(x, np.cumsum(y)/max(np.cumsum(y)), width=100, color=\"orange\", alpha=0.5)\n",
    "plt.step(x, np.cumsum(y)/max(np.cumsum(y)))\n",
    "plt.title(\"Numero ordini in uscita cumulati\")\n",
    "\n",
    "plt.subplot(122)\n",
    "plt.bar(xd, np.cumsum(yd)/max(np.cumsum(yd)), width=100, color=\"orange\", alpha=0.5)\n",
    "plt.step(xd, np.cumsum(yd)/max(np.cumsum(yd)))\n",
    "plt.title(\"Numero ordini in Entrata cumulati\")\n",
    "plt.show()"
   ]
  },
  {
   "cell_type": "code",
   "execution_count": 31,
   "metadata": {},
   "outputs": [
    {
     "data": {
      "image/png": "[encoded data removed]",
      "text/plain": [
       "<Figure size 1440x360 with 2 Axes>"
      ]
     },
     "metadata": {
      "needs_background": "light"
     },
     "output_type": "display_data"
    }
   ],
   "source": [
    "#Distribuzioni con numero di ordini divisi per bibliteca\n",
    "plt.figure(figsize=[20,5])\n",
    "plt.subplot(121)\n",
    "#plt.bar(x, np.asarray(y)/max(y), width=100, color=\"orange\", alpha=0.5)\n",
    "plt.plot(x, np.asarray(y)/sum(y), \"r^\")\n",
    "plt.ylim([0,1])\n",
    "plt.title(\"Numero ordini in uscita cumulati\")\n",
    "\n",
    "plt.subplot(122)\n",
    "#plt.bar(xd, np.asarray(yd)/max(yd), width=100, color=\"orange\", alpha=0.5)\n",
    "plt.plot(xd, np.asarray(yd)/sum(yd), \"^\")\n",
    "plt.ylim([0,1])\n",
    "plt.title(\"Numero ordini in Entrata cumulati\")\n",
    "plt.show()"
   ]
  },
  {
   "cell_type": "code",
   "execution_count": 54,
   "metadata": {},
   "outputs": [],
   "source": [
    "tot = []\n",
    "for d in k.index:\n",
    "    tmp = pd.read_csv(\"distribution/\"+d+\"_biblio_freq.csv\", delimiter=\";\", encoding = \"ISO-8859-1\", index_col=0)\n",
    "    for lt in tmp.values.tolist():\n",
    "        tot += lt"
   ]
  },
  {
   "cell_type": "code",
   "execution_count": 55,
   "metadata": {},
   "outputs": [],
   "source": [
    "tot_rz = [n for n in tot if n!=0]\n",
    "x = []\n",
    "y = []\n",
    "for i in range(1,1000):\n",
    "    c = list(tot_rz).count(i)\n",
    "    if c>0:\n",
    "        y.append(c)\n",
    "        x.append(i)"
   ]
  },
  {
   "cell_type": "code",
   "execution_count": 56,
   "metadata": {},
   "outputs": [
    {
     "data": {
      "image/png": "[encoded data removed]",
      "text/plain": [
       "<Figure size 504x504 with 1 Axes>"
      ]
     },
     "metadata": {
      "needs_background": "light"
     },
     "output_type": "display_data"
    }
   ],
   "source": [
    "plt.figure(figsize=[7,7])\n",
    "plt.bar(x, np.cumsum(y)/max(np.cumsum(y)), width=1, color=\"orange\", alpha=0.5)\n",
    "plt.step(x, np.cumsum(y)/max(np.cumsum(y)))\n",
    "plt.title(\"Cumulativa per giorno e coppia\")\n",
    "\n",
    "plt.show()"
   ]
  },
  {
   "cell_type": "code",
   "execution_count": 57,
   "metadata": {},
   "outputs": [],
   "source": [
    "tot = []\n",
    "tmp = pd.read_csv(\"distribution/ord_numbers.csv\", delimiter=\";\", encoding = \"ISO-8859-1\", index_col=0)\n",
    "for lt in tmp.values.tolist():\n",
    "    tot += lt"
   ]
  },
  {
   "cell_type": "code",
   "execution_count": 64,
   "metadata": {},
   "outputs": [],
   "source": [
    "tot_rz = [n for n in tot if n!=0]\n",
    "x = []\n",
    "y = []\n",
    "for i in range(1,1000):\n",
    "    c = list(tot_rz).count(i)\n",
    "    if c>0:\n",
    "        y.append(c)\n",
    "        x.append(i)   "
   ]
  },
  {
   "cell_type": "code",
   "execution_count": 61,
   "metadata": {},
   "outputs": [
    {
     "data": {
      "text/plain": [
       "[1582, 2540, 20176, 1566, 3958, 1723, 2533, 1936, 1965, 1641]"
      ]
     },
     "execution_count": 61,
     "metadata": {},
     "output_type": "execute_result"
    }
   ],
   "source": [
    "[n for n in tot_rz if n>1500]"
   ]
  },
  {
   "cell_type": "code",
   "execution_count": 65,
   "metadata": {},
   "outputs": [
    {
     "data": {
      "image/png": "[encoded data removed]",
      "text/plain": [
       "<Figure size 504x504 with 1 Axes>"
      ]
     },
     "metadata": {
      "needs_background": "light"
     },
     "output_type": "display_data"
    }
   ],
   "source": [
    "plt.figure(figsize=[7,7])\n",
    "plt.bar(x, np.cumsum(y)/max(np.cumsum(y)), width=1, color=\"orange\", alpha=0.5)\n",
    "plt.step(x, np.cumsum(y)/max(np.cumsum(y)))\n",
    "plt.title(\"Cumulativa sede-sede\")\n",
    "\n",
    "plt.show()"
   ]
  },
  {
   "cell_type": "code",
   "execution_count": 68,
   "metadata": {},
   "outputs": [
    {
     "data": {
      "image/png": "[encoded data removed]",
      "text/plain": [
       "<Figure size 504x504 with 1 Axes>"
      ]
     },
     "metadata": {
      "needs_background": "light"
     },
     "output_type": "display_data"
    }
   ],
   "source": [
    "plt.figure(figsize=[7,7])\n",
    "h = [len(x) for x in k]\n",
    "x = []\n",
    "y = []\n",
    "for i in range(1,max(h)):\n",
    "    c = list(h).count(i)\n",
    "    if c>0:\n",
    "        y.append(c)\n",
    "        x.append(i)  \n",
    "plt.step(x, np.cumsum(y)/max(np.cumsum(y)))\n",
    "plt.bar(x, np.cumsum(y)/max(np.cumsum(y)), width=100, color=\"orange\", alpha=0.5)\n",
    "\n",
    "plt.xticks(rotation=45)\n",
    "plt.title(\"Cumulativa ordini per giorno\")\n",
    "\n",
    "plt.show()\n",
    "\n"
   ]
  }
 ],
 "metadata": {
  "kernelspec": {
   "display_name": "Python 3",
   "language": "python",
   "name": "python3"
  },
  "language_info": {
   "codemirror_mode": {
    "name": "ipython",
    "version": 3
   },
   "file_extension": ".py",
   "mimetype": "text/x-python",
   "name": "python",
   "nbconvert_exporter": "python",
   "pygments_lexer": "ipython3",
   "version": "3.7.6"
  }
 },
 "nbformat": 4,
 "nbformat_minor": 4
}

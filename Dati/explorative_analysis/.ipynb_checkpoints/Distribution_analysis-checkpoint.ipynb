{
 "cells": [
  {
   "cell_type": "code",
   "execution_count": 15,
   "metadata": {},
   "outputs": [],
   "source": [
    "import pandas as pd\n",
    "import numpy as np\n",
    "import math\n",
    "from pandas_ods_reader import read_ods\n",
    "import matplotlib.pyplot as plt\n",
    "import time\n",
    "from datetime import date\n",
    "from tqdm.notebook import tqdm as tqdm\n",
    "from matplotlib import cm\n",
    "import ast\n",
    "from ipynb.fs.defs.functions import getName\n",
    "from ipynb.fs.defs.functions import new_route\n",
    "\n",
    "dft = pd.read_csv(\"../distanze/corrected_times_computed.csv\", delimiter=\";\", encoding = \"ISO-8859-1\", index_col=0)\n",
    "dfd = pd.read_csv(\"../distanze/distances_computed.csv\", delimiter=\";\", encoding = \"ISO-8859-1\", index_col=0)\n",
    "\n",
    "num_orders = pd.read_csv(\"../distanze/num_orders.csv\", delimiter=\";\", encoding = \"ISO-8859-1\")\n",
    "orders_matrix = pd.read_csv(\"distribution/ord_numbers.csv\", delimiter=\";\", encoding = \"ISO-8859-1\", index_col=0)\n",
    "orders = pd.read_csv(\"../distanze/request_cr.csv\", delimiter=\",\", encoding = \"ISO-8859-1\")"
   ]
  },
  {
   "cell_type": "code",
   "execution_count": null,
   "metadata": {},
   "outputs": [],
   "source": [
    "k = pd.read_csv(\"FrequencesResults/frequences.csv\", encoding = \"ISO-8859-1\", index_col=0, header=0, squeeze = True)\n",
    "week = [\"lunedi\", \"martedi\", \"mercoledi\", \"giovedi\", \"venerdi\", \"sabato\", \"domenica\"]\n",
    "for d in week:\n",
    "    k[d] = ast.literal_eval(k[d])"
   ]
  },
  {
   "cell_type": "code",
   "execution_count": 22,
   "metadata": {},
   "outputs": [],
   "source": [
    "def manage_exception(string):\n",
    "    if(string.lower().strip() == 'piadena drizzona'):\n",
    "        return 'Piadena, Platina, 40'\n",
    "    elif(string.lower().strip() == 'brescia'):\n",
    "        return 'manerbio, insurrezione nazionale'\n",
    "    elif(string.lower().strip() == 'centro fumetto a. pazienza' or string.lower().strip() == 'cremona. la piccola biblioteca' or string.lower().strip() == 'uff. bib. cremona'):\n",
    "        return 'cremona, ugolani dati, 4'\n",
    "    elif(string.lower().strip() == 'casale cremasco vidolasco'):\n",
    "        return 'Casale Cremasco-Vidolasco, Roma, 56'\n",
    "    elif(string.lower().strip() == 'cremona-m.i.t.o.'):\n",
    "        return 'Cremona, Palosca n. 2'\n",
    "    elif(string.lower().strip() == 'cremona - manin (scolastica)'):\n",
    "        return 'Cremona, Felice Cavallotti, 2'\n",
    "    elif(string.lower().strip() == 'gadesco pieve delmona'):\n",
    "        return 'Gadesco-Pieve Delmona, Giovanni Lonati 9'\n",
    "    elif(string.lower().strip() == 'cremona - cda'):\n",
    "        return 'cremona, sesto 39'\n",
    "    elif(string.lower().strip() == 'crema'):\n",
    "        return 'Crema, Civerchi, 9'\n",
    "    elif(string.lower().strip() == 'martignana di po, libertà, 64'):\n",
    "        return 'martignana di po, libertà, 64'\n",
    "    else:\n",
    "        return string"
   ]
  },
  {
   "cell_type": "code",
   "execution_count": 41,
   "metadata": {},
   "outputs": [
    {
     "data": {
      "application/vnd.jupyter.widget-view+json": {
       "model_id": "27913209b98541aaa46414a1044c468f",
       "version_major": 2,
       "version_minor": 0
      },
      "text/plain": [
       "HBox(children=(FloatProgress(value=0.0, max=159642.0), HTML(value='')))"
      ]
     },
     "metadata": {},
     "output_type": "display_data"
    },
    {
     "name": "stderr",
     "output_type": "stream",
     "text": [
      "C:\\Users\\Alberto\\anaconda3\\lib\\site-packages\\pandas\\core\\strings.py:1952: UserWarning: This pattern has match groups. To actually get the groups, use str.extract.\n",
      "  return func(self, *args, **kwargs)\n"
     ]
    },
    {
     "name": "stdout",
     "output_type": "stream",
     "text": [
      "\n"
     ]
    }
   ],
   "source": [
    "freq = pd.DataFrame(index=dft.columns, columns=[\"partenza\", \"destinazione\"])\n",
    "freq = freq.replace(np.nan, 0)\n",
    "for i in tqdm(range(len(orders))):\n",
    "    row = orders.iloc[i]\n",
    "    try:\n",
    "        if(getName(dft, manage_exception(row[\"biblioteca_destinazione\"])) != getName(dft, manage_exception(row[\"biblioteca_partenza\"]))):\n",
    "            freq[\"destinazione\"][getName(dft, manage_exception(row[\"biblioteca_destinazione\"]))] += 1\n",
    "            freq[\"partenza\"][getName(dft, manage_exception(row[\"biblioteca_partenza\"]))] += 1\n",
    "    except:\n",
    "        None"
   ]
  },
  {
   "cell_type": "code",
   "execution_count": 61,
   "metadata": {},
   "outputs": [
    {
     "data": {
      "text/plain": [
       "['Offanengo, Clavelli Martini, 5', 'Soncino, Dante Alighieri, 23', 'lunedi']"
      ]
     },
     "execution_count": 61,
     "metadata": {},
     "output_type": "execute_result"
    }
   ],
   "source": [
    "freq.to_csv(\"distribution/biblio_freq.csv\", sep=\";\", encoding = \"ISO-8859-1\")"
   ]
  },
  {
   "cell_type": "code",
   "execution_count": 64,
   "metadata": {},
   "outputs": [
    {
     "data": {
      "application/vnd.jupyter.widget-view+json": {
       "model_id": "02f65d7b72664890a1fa25cf65741d45",
       "version_major": 2,
       "version_minor": 0
      },
      "text/plain": [
       "HBox(children=(FloatProgress(value=0.0, max=7.0), HTML(value='')))"
      ]
     },
     "metadata": {},
     "output_type": "display_data"
    },
    {
     "name": "stdout",
     "output_type": "stream",
     "text": [
      "\n"
     ]
    }
   ],
   "source": [
    "week = k.index\n",
    "for i in tqdm(range(len(week))):\n",
    "    day = week[i]\n",
    "    lista = k[day]\n",
    "    tmp = pd.DataFrame(index=dft.columns, columns=dft.columns).replace(np.nan, 0)\n",
    "    for el in lista:\n",
    "        partenza = el[0]\n",
    "        destinazione = el[1]\n",
    "        tmp.loc[partenza].loc[destinazione] += 1\n",
    "    tmp.to_csv(\"distribution/\"+day+\"_biblio_freq.csv\", sep=\";\", encoding = \"ISO-8859-1\")"
   ]
  },
  {
   "cell_type": "code",
   "execution_count": 74,
   "metadata": {},
   "outputs": [],
   "source": [
    "daily_d = pd.DataFrame(index=k.index, columns=[\"tot\"]).replace(np.nan, 0)\n",
    "for d in k.index:\n",
    "    daily_d[\"tot\"].loc[d] = len(k[d])"
   ]
  },
  {
   "cell_type": "code",
   "execution_count": 79,
   "metadata": {},
   "outputs": [],
   "source": [
    "daily_d.to_csv(\"distribution/week_biblio_freq.csv\", sep=\";\", encoding = \"ISO-8859-1\")"
   ]
  },
  {
   "cell_type": "markdown",
   "metadata": {},
   "source": [
    "## Charts"
   ]
  },
  {
   "cell_type": "code",
   "execution_count": 102,
   "metadata": {},
   "outputs": [
    {
     "data": {
      "image/png": "[encoded data removed]",
      "text/plain": [
       "<Figure size 432x288 with 1 Axes>"
      ]
     },
     "metadata": {
      "needs_background": "light"
     },
     "output_type": "display_data"
    }
   ],
   "source": [
    "#Single biblio freq\n",
    "s_b_f = pd.read_csv(\"distribution/biblio_freq.csv\", delimiter=\";\", encoding = \"ISO-8859-1\", index_col=0)\n",
    "\n",
    "plt.hist(s_b_f[\"partenza\"][s_b_f[\"partenza\"]<20000], bins=range(1,9000))\n",
    "plt.show()"
   ]
  },
  {
   "cell_type": "code",
   "execution_count": 87,
   "metadata": {},
   "outputs": [
    {
     "data": {
      "text/html": [
       "<div>\n",
       "<style scoped>\n",
       "    .dataframe tbody tr th:only-of-type {\n",
       "        vertical-align: middle;\n",
       "    }\n",
       "\n",
       "    .dataframe tbody tr th {\n",
       "        vertical-align: top;\n",
       "    }\n",
       "\n",
       "    .dataframe thead th {\n",
       "        text-align: right;\n",
       "    }\n",
       "</style>\n",
       "<table border=\"1\" class=\"dataframe\">\n",
       "  <thead>\n",
       "    <tr style=\"text-align: right;\">\n",
       "      <th></th>\n",
       "      <th>partenza</th>\n",
       "      <th>destinazione</th>\n",
       "    </tr>\n",
       "  </thead>\n",
       "  <tbody>\n",
       "    <tr>\n",
       "      <th>Agnadello, Marconi, 6</th>\n",
       "      <td>1164</td>\n",
       "      <td>2714</td>\n",
       "    </tr>\n",
       "    <tr>\n",
       "      <th>Annicco, Giuseppe Garibaldi, 6</th>\n",
       "      <td>102</td>\n",
       "      <td>245</td>\n",
       "    </tr>\n",
       "    <tr>\n",
       "      <th>Bagnolo Cremasco, Roma, 3</th>\n",
       "      <td>4328</td>\n",
       "      <td>1858</td>\n",
       "    </tr>\n",
       "    <tr>\n",
       "      <th>Bonemerse, Roma, 25</th>\n",
       "      <td>337</td>\n",
       "      <td>1073</td>\n",
       "    </tr>\n",
       "    <tr>\n",
       "      <th>Camisano, Trieste, 57</th>\n",
       "      <td>41</td>\n",
       "      <td>308</td>\n",
       "    </tr>\n",
       "    <tr>\n",
       "      <th>...</th>\n",
       "      <td>...</td>\n",
       "      <td>...</td>\n",
       "    </tr>\n",
       "    <tr>\n",
       "      <th>Vescovato, Roma, 44</th>\n",
       "      <td>1703</td>\n",
       "      <td>1315</td>\n",
       "    </tr>\n",
       "    <tr>\n",
       "      <th>Cremona, Felice Cavallotti, 2</th>\n",
       "      <td>33</td>\n",
       "      <td>273</td>\n",
       "    </tr>\n",
       "    <tr>\n",
       "      <th>Cremona, Palosca n. 2</th>\n",
       "      <td>15</td>\n",
       "      <td>104</td>\n",
       "    </tr>\n",
       "    <tr>\n",
       "      <th>Casaletto Vaprio, Maggiore, 7</th>\n",
       "      <td>214</td>\n",
       "      <td>65</td>\n",
       "    </tr>\n",
       "    <tr>\n",
       "      <th>Cremona, Sesto 39</th>\n",
       "      <td>454</td>\n",
       "      <td>2889</td>\n",
       "    </tr>\n",
       "  </tbody>\n",
       "</table>\n",
       "<p>64 rows × 2 columns</p>\n",
       "</div>"
      ],
      "text/plain": [
       "                                partenza  destinazione\n",
       "Agnadello, Marconi, 6               1164          2714\n",
       "Annicco, Giuseppe Garibaldi, 6       102           245\n",
       "Bagnolo Cremasco, Roma, 3           4328          1858\n",
       "Bonemerse, Roma, 25                  337          1073\n",
       "Camisano, Trieste, 57                 41           308\n",
       "...                                  ...           ...\n",
       "Vescovato, Roma, 44                 1703          1315\n",
       "Cremona, Felice Cavallotti, 2         33           273\n",
       "Cremona, Palosca n. 2                 15           104\n",
       "Casaletto Vaprio, Maggiore, 7        214            65\n",
       "Cremona, Sesto 39                    454          2889\n",
       "\n",
       "[64 rows x 2 columns]"
      ]
     },
     "execution_count": 87,
     "metadata": {},
     "output_type": "execute_result"
    }
   ],
   "source": [
    "s_b_f"
   ]
  }
 ],
 "metadata": {
  "kernelspec": {
   "display_name": "Python 3",
   "language": "python",
   "name": "python3"
  },
  "language_info": {
   "codemirror_mode": {
    "name": "ipython",
    "version": 3
   },
   "file_extension": ".py",
   "mimetype": "text/x-python",
   "name": "python",
   "nbconvert_exporter": "python",
   "pygments_lexer": "ipython3",
   "version": "3.7.6"
  }
 },
 "nbformat": 4,
 "nbformat_minor": 4
}

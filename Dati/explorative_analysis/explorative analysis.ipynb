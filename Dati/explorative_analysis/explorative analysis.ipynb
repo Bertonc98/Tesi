{
 "cells": [
  {
   "cell_type": "code",
   "execution_count": 1,
   "metadata": {},
   "outputs": [],
   "source": [
    "import pandas as pd\n",
    "import numpy as np\n",
    "import math\n",
    "from pandas_ods_reader import read_ods\n",
    "import matplotlib.pyplot as plt\n",
    "import time\n",
    "from datetime import date\n",
    "from tqdm.notebook import tqdm as tqdm\n",
    "from matplotlib import cm\n",
    "import ast\n",
    "from ipynb.fs.defs.functions import getName\n",
    "from ipynb.fs.defs.functions import new_route\n",
    "\n",
    "table = pd.read_csv(\"../orari/route.csv\", delimiter=\";\")\n",
    "time_table = pd.read_csv(\"../orari/route_time.csv\", delimiter=\";\")\n",
    "path = \"../orari/IndirizziBiblio_21-10-2019.ods\"\n",
    "indirizzi = read_ods(path, 'Questionari_normalizza')\n",
    "indirizzi=indirizzi.astype({'Cap':'int32'})\n",
    "\n",
    "dft = pd.read_csv(\"../distanze/corrected_times_computed.csv\", delimiter=\";\", encoding = \"ISO-8859-1\", index_col=0)\n",
    "dfd = pd.read_csv(\"../distanze/distances_computed.csv\", delimiter=\";\", encoding = \"ISO-8859-1\", index_col=0)\n",
    "num_orders = pd.read_csv(\"../distanze/num_orders.csv\", delimiter=\";\", encoding = \"ISO-8859-1\")\n",
    "orders = pd.read_csv(\"../distanze/request_cr.csv\", delimiter=\",\", encoding = \"ISO-8859-1\")\n",
    "def translate_name(dframe, fur):\n",
    "    df = pd.DataFrame({})\n",
    "    for d in fur.columns:\n",
    "        df1 = pd.DataFrame([getName(dframe, x) for x in list(fur[d].dropna())], columns = [d])\n",
    "        df = pd.concat([df,df1], ignore_index=False, axis=1)\n",
    "    return df\n",
    "def get_row(df, string):\n",
    "    return pd.Series(df.index).str.contains(string.strip(), case=False)\n",
    "\n",
    "def get_column(df, string):\n",
    "    return pd.Series(df.columns).str.contains(string.strip(), case=False)\n",
    "def getName(df, nome):\n",
    "    if nome.lower() == \"crema\":\n",
    "        nome =\"crema,\"\n",
    "    city = df[get_row(df, nome).values].index[0]\n",
    "\n",
    "    return city\n"
   ]
  },
  {
   "cell_type": "markdown",
   "metadata": {},
   "source": [
    "# Analisi first schedule"
   ]
  },
  {
   "cell_type": "code",
   "execution_count": 2,
   "metadata": {},
   "outputs": [],
   "source": [
    "first_schedule = translate_name(dft, table)"
   ]
  },
  {
   "cell_type": "code",
   "execution_count": 3,
   "metadata": {},
   "outputs": [
    {
     "data": {
      "text/html": [
       "<div>\n",
       "<style scoped>\n",
       "    .dataframe tbody tr th:only-of-type {\n",
       "        vertical-align: middle;\n",
       "    }\n",
       "\n",
       "    .dataframe tbody tr th {\n",
       "        vertical-align: top;\n",
       "    }\n",
       "\n",
       "    .dataframe thead th {\n",
       "        text-align: right;\n",
       "    }\n",
       "</style>\n",
       "<table border=\"1\" class=\"dataframe\">\n",
       "  <thead>\n",
       "    <tr style=\"text-align: right;\">\n",
       "      <th></th>\n",
       "      <th>lunedi</th>\n",
       "      <th>martedi</th>\n",
       "      <th>mercoledi</th>\n",
       "      <th>giovedi</th>\n",
       "      <th>venerdi</th>\n",
       "    </tr>\n",
       "  </thead>\n",
       "  <tbody>\n",
       "    <tr>\n",
       "      <th>0</th>\n",
       "      <td>Sesto ed Uniti, Roma, 4</td>\n",
       "      <td>Manerbio, INSURREZIONE NAZIONALE</td>\n",
       "      <td>Paderno Ponchielli, Municipio, 3</td>\n",
       "      <td>Manerbio, INSURREZIONE NAZIONALE</td>\n",
       "      <td>Capergnanica, XI febbraio, 7</td>\n",
       "    </tr>\n",
       "    <tr>\n",
       "      <th>1</th>\n",
       "      <td>Grumello Cremonese ed Uniti, Roma, 2</td>\n",
       "      <td>Cremona, Felice Cavallotti, 2</td>\n",
       "      <td>San Bassano, Mons. Frosi</td>\n",
       "      <td>Cremona, Sesto 39</td>\n",
       "      <td>Monte Cremasco, Roma, 12</td>\n",
       "    </tr>\n",
       "    <tr>\n",
       "      <th>2</th>\n",
       "      <td>Pizzighettone, Giuseppe Garibaldi, 18</td>\n",
       "      <td>Casalpusterlengo, Pusterla 7</td>\n",
       "      <td>Castelleone, Roma, 67</td>\n",
       "      <td>Pizzighettone, Giuseppe Garibaldi, 18</td>\n",
       "      <td>Spino d'Adda, Circonvallazione, 13</td>\n",
       "    </tr>\n",
       "    <tr>\n",
       "      <th>3</th>\n",
       "      <td>Montodine,  XXV Aprile, 10</td>\n",
       "      <td>Cremona, Ugolani Dati, 4</td>\n",
       "      <td>Spino d'Adda, Circonvallazione, 13</td>\n",
       "      <td>Casalpusterlengo, Pusterla 7</td>\n",
       "      <td>Pandino, Castello, 15</td>\n",
       "    </tr>\n",
       "    <tr>\n",
       "      <th>4</th>\n",
       "      <td>Ripalta Cremasca, Roma, 5</td>\n",
       "      <td>Crema, Civerchi, 9</td>\n",
       "      <td>Romanengo, Guaiarini, 14</td>\n",
       "      <td>Cremona, Ugolani Dati, 4</td>\n",
       "      <td>Casaletto Vaprio, Maggiore, 7</td>\n",
       "    </tr>\n",
       "    <tr>\n",
       "      <th>5</th>\n",
       "      <td>Capralba, Piave, 2</td>\n",
       "      <td>Bonemerse, Roma, 25</td>\n",
       "      <td>Pandino, Castello, 15</td>\n",
       "      <td>Cremona, Ugolani Dati, 4</td>\n",
       "      <td>Bagnolo Cremasco, Roma, 3</td>\n",
       "    </tr>\n",
       "    <tr>\n",
       "      <th>6</th>\n",
       "      <td>Casale Cremasco-Vidolasco, Roma, 56</td>\n",
       "      <td>Sospiro, Tosi</td>\n",
       "      <td>Palazzo Pignano, Marco Polo, 31</td>\n",
       "      <td>Pizzighettone, Giuseppe Garibaldi, 18</td>\n",
       "      <td>Crema, Civerchi, 9</td>\n",
       "    </tr>\n",
       "    <tr>\n",
       "      <th>7</th>\n",
       "      <td>Camisano, Trieste, 57</td>\n",
       "      <td>Vailate, Dante Alighieri, 7</td>\n",
       "      <td>Rivolta d'Adda, Stefano Renzi, 5</td>\n",
       "      <td>Grontardo, Roma, 16</td>\n",
       "      <td>Vaiano Cremasco,  Gloriosi Caduti, 3</td>\n",
       "    </tr>\n",
       "    <tr>\n",
       "      <th>8</th>\n",
       "      <td>Trigolo, Roma, 26</td>\n",
       "      <td>Pianengo, Nenni</td>\n",
       "      <td>Crema, Civerchi, 9</td>\n",
       "      <td>Pescarolo ed Uniti, Giuseppe Mazzini, 73</td>\n",
       "      <td>Trescore Cremasco, Vittorio Veneto, 1</td>\n",
       "    </tr>\n",
       "    <tr>\n",
       "      <th>9</th>\n",
       "      <td>Castelleone, Roma, 67</td>\n",
       "      <td>Vescovato, Roma, 44</td>\n",
       "      <td>Cremona, Palosca n. 2</td>\n",
       "      <td>Izano, Gerardo da Izano, 4/C</td>\n",
       "      <td>Rivolta d'Adda, Stefano Renzi, 5</td>\n",
       "    </tr>\n",
       "    <tr>\n",
       "      <th>10</th>\n",
       "      <td>Soresina, Giacomo Matteotti, 6</td>\n",
       "      <td>Offanengo, Clavelli Martini, 5</td>\n",
       "      <td>Madignano, Portici, 4</td>\n",
       "      <td>Vescovato, Roma, 44</td>\n",
       "      <td>Dovera, Oldrini 2</td>\n",
       "    </tr>\n",
       "    <tr>\n",
       "      <th>11</th>\n",
       "      <td>Ricengo, Guglielmo Marconi</td>\n",
       "      <td>Piadena, Platina, 40</td>\n",
       "      <td>Soresina, Giacomo Matteotti, 6</td>\n",
       "      <td>Offanengo, Clavelli Martini, 5</td>\n",
       "      <td>Agnadello, Marconi, 6</td>\n",
       "    </tr>\n",
       "    <tr>\n",
       "      <th>12</th>\n",
       "      <td>Sergnano, IV Novembre,  10</td>\n",
       "      <td>Gussola, Comaschi, 1</td>\n",
       "      <td>Annicco, Giuseppe Garibaldi, 6</td>\n",
       "      <td>Cingia de' Botti, Giuseppina, 79</td>\n",
       "      <td>NaN</td>\n",
       "    </tr>\n",
       "    <tr>\n",
       "      <th>13</th>\n",
       "      <td>Soncino, Dante Alighieri, 23</td>\n",
       "      <td>Solarolo Rainerio, Giuseppina, 81</td>\n",
       "      <td>Soncino, Dante Alighieri, 23</td>\n",
       "      <td>Crema, Civerchi, 9</td>\n",
       "      <td>NaN</td>\n",
       "    </tr>\n",
       "    <tr>\n",
       "      <th>14</th>\n",
       "      <td>NaN</td>\n",
       "      <td>Ostiano, Mazzini, 1</td>\n",
       "      <td>Fiesco, Giuseppe Parini, 10</td>\n",
       "      <td>Solarolo Rainerio, Giuseppina, 81</td>\n",
       "      <td>NaN</td>\n",
       "    </tr>\n",
       "    <tr>\n",
       "      <th>15</th>\n",
       "      <td>NaN</td>\n",
       "      <td>Scandolara Ravara, Italia</td>\n",
       "      <td>Casalbuttano ed Uniti, Jacini, 23</td>\n",
       "      <td>Ostiano, Mazzini, 1</td>\n",
       "      <td>NaN</td>\n",
       "    </tr>\n",
       "    <tr>\n",
       "      <th>16</th>\n",
       "      <td>NaN</td>\n",
       "      <td>Persico Dosimo, Albert ,7</td>\n",
       "      <td>Castelverde, Ubaldo Ferrari, 15</td>\n",
       "      <td>Martignana di Po, Libertà, 64</td>\n",
       "      <td>NaN</td>\n",
       "    </tr>\n",
       "    <tr>\n",
       "      <th>17</th>\n",
       "      <td>NaN</td>\n",
       "      <td>Casalmaggiore, Guglielmo Marconi, 8</td>\n",
       "      <td>NaN</td>\n",
       "      <td>Persico Dosimo, Albert ,7</td>\n",
       "      <td>NaN</td>\n",
       "    </tr>\n",
       "    <tr>\n",
       "      <th>18</th>\n",
       "      <td>NaN</td>\n",
       "      <td>Gadesco-Pieve Delmona, Giovanni Lonati 9</td>\n",
       "      <td>NaN</td>\n",
       "      <td>Casalmaggiore, Guglielmo Marconi, 8</td>\n",
       "      <td>NaN</td>\n",
       "    </tr>\n",
       "    <tr>\n",
       "      <th>19</th>\n",
       "      <td>NaN</td>\n",
       "      <td>Viadana, A. Manzoni, 2</td>\n",
       "      <td>NaN</td>\n",
       "      <td>Gadesco-Pieve Delmona, Giovanni Lonati 9</td>\n",
       "      <td>NaN</td>\n",
       "    </tr>\n",
       "    <tr>\n",
       "      <th>20</th>\n",
       "      <td>NaN</td>\n",
       "      <td>Pescarolo ed Uniti, Giuseppe Mazzini, 73</td>\n",
       "      <td>NaN</td>\n",
       "      <td>Piadena, Platina, 40</td>\n",
       "      <td>NaN</td>\n",
       "    </tr>\n",
       "    <tr>\n",
       "      <th>21</th>\n",
       "      <td>NaN</td>\n",
       "      <td>Rivarolo del Re ed Uniti, Giovanni XXIII, 5</td>\n",
       "      <td>NaN</td>\n",
       "      <td>Isola Dovarese, Giacomo Matteotti, 1</td>\n",
       "      <td>NaN</td>\n",
       "    </tr>\n",
       "    <tr>\n",
       "      <th>22</th>\n",
       "      <td>NaN</td>\n",
       "      <td>San Giovanni in Croce, Feudatari, 25 A</td>\n",
       "      <td>NaN</td>\n",
       "      <td>San Giovanni in Croce, Feudatari, 25 A</td>\n",
       "      <td>NaN</td>\n",
       "    </tr>\n",
       "  </tbody>\n",
       "</table>\n",
       "</div>"
      ],
      "text/plain": [
       "                                   lunedi  \\\n",
       "0                 Sesto ed Uniti, Roma, 4   \n",
       "1    Grumello Cremonese ed Uniti, Roma, 2   \n",
       "2   Pizzighettone, Giuseppe Garibaldi, 18   \n",
       "3              Montodine,  XXV Aprile, 10   \n",
       "4               Ripalta Cremasca, Roma, 5   \n",
       "5                      Capralba, Piave, 2   \n",
       "6     Casale Cremasco-Vidolasco, Roma, 56   \n",
       "7                   Camisano, Trieste, 57   \n",
       "8                       Trigolo, Roma, 26   \n",
       "9                   Castelleone, Roma, 67   \n",
       "10         Soresina, Giacomo Matteotti, 6   \n",
       "11             Ricengo, Guglielmo Marconi   \n",
       "12             Sergnano, IV Novembre,  10   \n",
       "13           Soncino, Dante Alighieri, 23   \n",
       "14                                    NaN   \n",
       "15                                    NaN   \n",
       "16                                    NaN   \n",
       "17                                    NaN   \n",
       "18                                    NaN   \n",
       "19                                    NaN   \n",
       "20                                    NaN   \n",
       "21                                    NaN   \n",
       "22                                    NaN   \n",
       "\n",
       "                                        martedi  \\\n",
       "0              Manerbio, INSURREZIONE NAZIONALE   \n",
       "1                 Cremona, Felice Cavallotti, 2   \n",
       "2                  Casalpusterlengo, Pusterla 7   \n",
       "3                      Cremona, Ugolani Dati, 4   \n",
       "4                            Crema, Civerchi, 9   \n",
       "5                           Bonemerse, Roma, 25   \n",
       "6                                 Sospiro, Tosi   \n",
       "7                   Vailate, Dante Alighieri, 7   \n",
       "8                               Pianengo, Nenni   \n",
       "9                           Vescovato, Roma, 44   \n",
       "10               Offanengo, Clavelli Martini, 5   \n",
       "11                         Piadena, Platina, 40   \n",
       "12                         Gussola, Comaschi, 1   \n",
       "13            Solarolo Rainerio, Giuseppina, 81   \n",
       "14                          Ostiano, Mazzini, 1   \n",
       "15                    Scandolara Ravara, Italia   \n",
       "16                    Persico Dosimo, Albert ,7   \n",
       "17          Casalmaggiore, Guglielmo Marconi, 8   \n",
       "18     Gadesco-Pieve Delmona, Giovanni Lonati 9   \n",
       "19                       Viadana, A. Manzoni, 2   \n",
       "20     Pescarolo ed Uniti, Giuseppe Mazzini, 73   \n",
       "21  Rivarolo del Re ed Uniti, Giovanni XXIII, 5   \n",
       "22       San Giovanni in Croce, Feudatari, 25 A   \n",
       "\n",
       "                             mercoledi  \\\n",
       "0     Paderno Ponchielli, Municipio, 3   \n",
       "1             San Bassano, Mons. Frosi   \n",
       "2                Castelleone, Roma, 67   \n",
       "3   Spino d'Adda, Circonvallazione, 13   \n",
       "4             Romanengo, Guaiarini, 14   \n",
       "5                Pandino, Castello, 15   \n",
       "6      Palazzo Pignano, Marco Polo, 31   \n",
       "7     Rivolta d'Adda, Stefano Renzi, 5   \n",
       "8                   Crema, Civerchi, 9   \n",
       "9                Cremona, Palosca n. 2   \n",
       "10               Madignano, Portici, 4   \n",
       "11      Soresina, Giacomo Matteotti, 6   \n",
       "12      Annicco, Giuseppe Garibaldi, 6   \n",
       "13        Soncino, Dante Alighieri, 23   \n",
       "14         Fiesco, Giuseppe Parini, 10   \n",
       "15   Casalbuttano ed Uniti, Jacini, 23   \n",
       "16     Castelverde, Ubaldo Ferrari, 15   \n",
       "17                                 NaN   \n",
       "18                                 NaN   \n",
       "19                                 NaN   \n",
       "20                                 NaN   \n",
       "21                                 NaN   \n",
       "22                                 NaN   \n",
       "\n",
       "                                     giovedi  \\\n",
       "0           Manerbio, INSURREZIONE NAZIONALE   \n",
       "1                          Cremona, Sesto 39   \n",
       "2      Pizzighettone, Giuseppe Garibaldi, 18   \n",
       "3               Casalpusterlengo, Pusterla 7   \n",
       "4                   Cremona, Ugolani Dati, 4   \n",
       "5                   Cremona, Ugolani Dati, 4   \n",
       "6      Pizzighettone, Giuseppe Garibaldi, 18   \n",
       "7                        Grontardo, Roma, 16   \n",
       "8   Pescarolo ed Uniti, Giuseppe Mazzini, 73   \n",
       "9               Izano, Gerardo da Izano, 4/C   \n",
       "10                       Vescovato, Roma, 44   \n",
       "11            Offanengo, Clavelli Martini, 5   \n",
       "12          Cingia de' Botti, Giuseppina, 79   \n",
       "13                        Crema, Civerchi, 9   \n",
       "14         Solarolo Rainerio, Giuseppina, 81   \n",
       "15                       Ostiano, Mazzini, 1   \n",
       "16             Martignana di Po, Libertà, 64   \n",
       "17                 Persico Dosimo, Albert ,7   \n",
       "18       Casalmaggiore, Guglielmo Marconi, 8   \n",
       "19  Gadesco-Pieve Delmona, Giovanni Lonati 9   \n",
       "20                      Piadena, Platina, 40   \n",
       "21      Isola Dovarese, Giacomo Matteotti, 1   \n",
       "22    San Giovanni in Croce, Feudatari, 25 A   \n",
       "\n",
       "                                  venerdi  \n",
       "0            Capergnanica, XI febbraio, 7  \n",
       "1                Monte Cremasco, Roma, 12  \n",
       "2      Spino d'Adda, Circonvallazione, 13  \n",
       "3                   Pandino, Castello, 15  \n",
       "4           Casaletto Vaprio, Maggiore, 7  \n",
       "5               Bagnolo Cremasco, Roma, 3  \n",
       "6                      Crema, Civerchi, 9  \n",
       "7    Vaiano Cremasco,  Gloriosi Caduti, 3  \n",
       "8   Trescore Cremasco, Vittorio Veneto, 1  \n",
       "9        Rivolta d'Adda, Stefano Renzi, 5  \n",
       "10                      Dovera, Oldrini 2  \n",
       "11                  Agnadello, Marconi, 6  \n",
       "12                                    NaN  \n",
       "13                                    NaN  \n",
       "14                                    NaN  \n",
       "15                                    NaN  \n",
       "16                                    NaN  \n",
       "17                                    NaN  \n",
       "18                                    NaN  \n",
       "19                                    NaN  \n",
       "20                                    NaN  \n",
       "21                                    NaN  \n",
       "22                                    NaN  "
      ]
     },
     "execution_count": 3,
     "metadata": {},
     "output_type": "execute_result"
    }
   ],
   "source": [
    "first_schedule"
   ]
  },
  {
   "cell_type": "code",
   "execution_count": 4,
   "metadata": {},
   "outputs": [
    {
     "name": "stdout",
     "output_type": "stream",
     "text": [
      "rapporto tra il numero di città nella schedulazione iniziale e quelle disponibili calendarizzate: la schedulazione non presenta città mancanti\n",
      " rapporto: 1.0\n",
      "numero totali di città considerabili: 64\n"
     ]
    }
   ],
   "source": [
    "schedule_cities = []\n",
    "for i in first_schedule.columns:\n",
    "    schedule_cities = schedule_cities + list(first_schedule[i].dropna())\n",
    "total_cities = indirizzi[indirizzi['Calendarizzata (sì/no)'] == 'sì']\n",
    "num_of_cities = len(set(schedule_cities))\n",
    "print(f\"rapporto tra il numero di città nella schedulazione iniziale e quelle disponibili calendarizzate: la schedulazione non presenta città mancanti\\n rapporto: {num_of_cities/len(total_cities)}\")\n",
    "print(f\"numero totali di città considerabili: {len(total_cities)}\")"
   ]
  },
  {
   "cell_type": "code",
   "execution_count": 31,
   "metadata": {},
   "outputs": [
    {
     "name": "stdout",
     "output_type": "stream",
     "text": [
      "105 64\n"
     ]
    }
   ],
   "source": [
    "print(len(indirizzi), len(total_cities))"
   ]
  },
  {
   "cell_type": "code",
   "execution_count": 17,
   "metadata": {},
   "outputs": [
    {
     "name": "stdout",
     "output_type": "stream",
     "text": [
      "232.0\n",
      "193.0\n",
      "41.0\n"
     ]
    }
   ],
   "source": [
    "fur1 = pd.read_csv(\"../turni_f/optimized_start/oss_2opt_f1.csv\", delimiter=\";\", encoding = \"ISO-8859-1\")\n",
    "fur2 = pd.read_csv(\"../turni_f/optimized_start/oss_2opt_f2.csv\", delimiter=\";\", encoding = \"ISO-8859-1\")\n",
    "\n",
    "for d in fur2.columns:\n",
    "    print(sum(new_route(fur2[d].dropna(), dft).values))"
   ]
  },
  {
   "cell_type": "markdown",
   "metadata": {},
   "source": [
    "# Analisi indirizzi biblio"
   ]
  },
  {
   "cell_type": "code",
   "execution_count": 5,
   "metadata": {},
   "outputs": [
    {
     "name": "stdout",
     "output_type": "stream",
     "text": [
      "numero di comuni in cui sono presenti le città calendarizzate: 60\n",
      "città con ripetizioni:\n",
      "Cremona, 4\n",
      "Crema, 2\n",
      "numero di province in cui sono presenti le città calendarizzate: 4\n",
      "distribuzione province:\n",
      "BS, 1\n",
      "LO, 1\n",
      "CR, 61\n",
      "MN, 1\n",
      "da cui si sottolineano le tre città di un'altra provincia:\n",
      "              Comune Provincia\n",
      "18  Casalpusterlengo        LO\n",
      "69          Manerbio        BS\n",
      "70           Viadana        MN\n"
     ]
    }
   ],
   "source": [
    "comuni = total_cities['Comune'].dropna()\n",
    "com_distribution = list(set([(x, list(comuni).count(x)) for x in list(comuni)]))\n",
    "print(f\"numero di comuni in cui sono presenti le città calendarizzate: {len(com_distribution)}\")\n",
    "print(\"città con ripetizioni:\")\n",
    "for x in com_distribution:\n",
    "    if x[1] > 1:\n",
    "        print(f\"{x[0]}, {x[1]}\")\n",
    "\n",
    "province = total_cities['Provincia'].dropna()\n",
    "pro_distribution = list(set([(x, list(province).count(x)) for x in list(province)]))\n",
    "print(f\"numero di province in cui sono presenti le città calendarizzate: {len(pro_distribution)}\")\n",
    "print(f\"distribuzione province:\")\n",
    "for x in pro_distribution: \n",
    "    print(f\"{x[0]}, {x[1]}\")\n",
    "    \n",
    "print(\"da cui si sottolineano le tre città di un'altra provincia:\")\n",
    "print(total_cities[total_cities['Provincia'] != 'CR'][['Comune', 'Provincia']])"
   ]
  },
  {
   "cell_type": "code",
   "execution_count": 8,
   "metadata": {},
   "outputs": [],
   "source": [
    "l = []\n",
    "for d in first_schedule.columns:\n",
    "    l += list(first_schedule[d].dropna())\n",
    "city_distribution = list(set([(x, l.count(x)) for x in l]))"
   ]
  },
  {
   "cell_type": "code",
   "execution_count": 29,
   "metadata": {},
   "outputs": [
    {
     "name": "stdout",
     "output_type": "stream",
     "text": [
      "Biblitoeche con più di un'occorrenza: 21\n",
      "\n",
      "\n",
      "Biblitoeche con 2 occorrenze: 18\n",
      "Biblitoeche con 3 occorrenze: 2\n",
      "Biblitoeche con 4 occorrenze: 1\n"
     ]
    }
   ],
   "source": [
    "city_distribution.sort()\n",
    "multi_occ = pd.Series(data = [0]*3, index = [2,3,4])\n",
    "for el in city_distribution:\n",
    "    if(el[1]>1):\n",
    "        multi_occ[el[1]] +=1\n",
    "print(f\"Biblitoeche con più di un'occorrenza: {sum(multi_occ.values)}\\n\\n\")\n",
    "for el in multi_occ:\n",
    "    print(f\"Biblitoeche con {multi_occ[multi_occ == el].index[0]} occorrenze: {el}\")"
   ]
  },
  {
   "cell_type": "markdown",
   "metadata": {},
   "source": [
    "# Analisi scambi biblioteche"
   ]
  },
  {
   "cell_type": "code",
   "execution_count": null,
   "metadata": {},
   "outputs": [],
   "source": [
    "\n",
    "week = {0: \"lunedi\", 1:\"martedi\", 2:\"mercoledi\", 3:\"giovedi\", 4:\"venerdi\", 5:\"sabato\", 6:\"domenica\"}\n",
    "dal = orders['data_richiesta'][0].split(\" \")[0]\n",
    "al = orders['data_richiesta'][len(orders)-1].split(\" \")[0]\n",
    "print(f\"numero ordini: {len(orders)}, dal {dal} al {al}\")\n",
    "\n",
    "\n",
    "duemila_16 = []\n",
    "duemila_17 = []\n",
    "duemila_18 = []\n",
    "\n",
    "for i in tqdm(range(len(orders))):\n",
    "    if orders.loc[i]['data_richiesta'].split(\" \")[0].split(\"-\")[0] == '2016':\n",
    "        duemila_16.append(orders.loc[i])\n",
    "    elif orders.loc[i]['data_richiesta'].split(\" \")[0].split(\"-\")[0] == '2017':\n",
    "        duemila_17.append(orders.loc[i])\n",
    "    elif orders.loc[i]['data_richiesta'].split(\" \")[0].split(\"-\")[0] == '2018':\n",
    "        duemila_18.append(orders.loc[i])\n",
    "print(f\"i numeri di ordini sono divisi in: 2016: {len(duemila_16)} \" + f\"2017: {len(duemila_17)} \" + f\"2018: {len(duemila_18)}\")"
   ]
  },
  {
   "cell_type": "code",
   "execution_count": 33,
   "metadata": {},
   "outputs": [
    {
     "name": "stdout",
     "output_type": "stream",
     "text": [
      "i numeri di ordini sono divisi in: 2016: 54751 2017: 52775 2018: 52116\n"
     ]
    }
   ],
   "source": [
    "print(f\"i numeri di ordini sono divisi in: 2016: {len(duemila_16)} \" + f\"2017: {len(duemila_17)} \" + f\"2018: {len(duemila_18)}\")"
   ]
  },
  {
   "cell_type": "code",
   "execution_count": 47,
   "metadata": {},
   "outputs": [
    {
     "data": {
      "image/png": "[encoded data removed]",
      "text/plain": [
       "<Figure size 432x288 with 1 Axes>"
      ]
     },
     "metadata": {
      "needs_background": "light"
     },
     "output_type": "display_data"
    }
   ],
   "source": [
    "plt.bar(['2016', '2017', '2018'] ,[len(duemila_16), len(duemila_17), len(duemila_18)])\n",
    "for el in range(3):\n",
    "    plt.text(['2016', '2017', '2018'][el], [len(duemila_16), len(duemila_17), len(duemila_18)][el]+500, s=str([len(duemila_16), len(duemila_17), len(duemila_18)][el]))\n",
    "#plt.text(['2016', '2017', '2018'], [len(duemila_16), len(duemila_17), len(duemila_18)], s=f\"[len(duemila_16), len(duemila_17), len(duemila_18)]\")\n",
    "plt.xticks(rotation = 45)\n",
    "plt.show()"
   ]
  },
  {
   "cell_type": "code",
   "execution_count": 64,
   "metadata": {},
   "outputs": [
    {
     "name": "stderr",
     "output_type": "stream",
     "text": [
      "C:\\Users\\Alberto\\anaconda3\\lib\\site-packages\\pandas\\core\\strings.py:1952: UserWarning: This pattern has match groups. To actually get the groups, use str.extract.\n",
      "  return func(self, *args, **kwargs)\n"
     ]
    }
   ],
   "source": [
    "not_present_city = []\n",
    "elenco = list(set(list(orders[\"biblioteca_destinazione\"]) + list(orders[\"biblioteca_partenza\"])))\n",
    "for el in elenco:\n",
    "    try:\n",
    "        getName(dft, el)\n",
    "    except:\n",
    "        not_present_city.append(el)"
   ]
  },
  {
   "cell_type": "code",
   "execution_count": 68,
   "metadata": {},
   "outputs": [
    {
     "data": {
      "text/html": [
       "<div>\n",
       "<style scoped>\n",
       "    .dataframe tbody tr th:only-of-type {\n",
       "        vertical-align: middle;\n",
       "    }\n",
       "\n",
       "    .dataframe tbody tr th {\n",
       "        vertical-align: top;\n",
       "    }\n",
       "\n",
       "    .dataframe thead th {\n",
       "        text-align: right;\n",
       "    }\n",
       "</style>\n",
       "<table border=\"1\" class=\"dataframe\">\n",
       "  <thead>\n",
       "    <tr style=\"text-align: right;\">\n",
       "      <th></th>\n",
       "      <th>loan_id</th>\n",
       "      <th>data_richiesta</th>\n",
       "      <th>biblioteca_destinazione</th>\n",
       "      <th>biblioteca_partenza</th>\n",
       "    </tr>\n",
       "  </thead>\n",
       "  <tbody>\n",
       "    <tr>\n",
       "      <th>0</th>\n",
       "      <td>22690933</td>\n",
       "      <td>2016-01-01 09:35:10</td>\n",
       "      <td>BONEMERSE</td>\n",
       "      <td>RIVOLTA D'ADDA</td>\n",
       "    </tr>\n",
       "    <tr>\n",
       "      <th>1</th>\n",
       "      <td>22690934</td>\n",
       "      <td>2016-01-01 11:40:36</td>\n",
       "      <td>ROMANENGO</td>\n",
       "      <td>RIVOLTA D'ADDA</td>\n",
       "    </tr>\n",
       "    <tr>\n",
       "      <th>2</th>\n",
       "      <td>22690935</td>\n",
       "      <td>2016-01-01 17:54:48</td>\n",
       "      <td>Agnadello</td>\n",
       "      <td>RIVOLTA D'ADDA</td>\n",
       "    </tr>\n",
       "    <tr>\n",
       "      <th>3</th>\n",
       "      <td>22690936</td>\n",
       "      <td>2016-01-01 21:10:08</td>\n",
       "      <td>SPINO D'ADDA</td>\n",
       "      <td>RIVOLTA D'ADDA</td>\n",
       "    </tr>\n",
       "    <tr>\n",
       "      <th>4</th>\n",
       "      <td>22690937</td>\n",
       "      <td>2016-01-01 21:11:29</td>\n",
       "      <td>SPINO D'ADDA</td>\n",
       "      <td>RIVOLTA D'ADDA</td>\n",
       "    </tr>\n",
       "    <tr>\n",
       "      <th>...</th>\n",
       "      <td>...</td>\n",
       "      <td>...</td>\n",
       "      <td>...</td>\n",
       "      <td>...</td>\n",
       "    </tr>\n",
       "    <tr>\n",
       "      <th>159637</th>\n",
       "      <td>38869450</td>\n",
       "      <td>2018-10-22 11:35:32</td>\n",
       "      <td>BAGNOLO CREMASCO</td>\n",
       "      <td>RIVOLTA D'ADDA</td>\n",
       "    </tr>\n",
       "    <tr>\n",
       "      <th>159638</th>\n",
       "      <td>38879783</td>\n",
       "      <td>2018-12-20 09:49:39</td>\n",
       "      <td>CREMA</td>\n",
       "      <td>BRESCIA</td>\n",
       "    </tr>\n",
       "    <tr>\n",
       "      <th>159639</th>\n",
       "      <td>38880310</td>\n",
       "      <td>2018-11-07 17:16:37</td>\n",
       "      <td>PANDINO</td>\n",
       "      <td>PIANENGO</td>\n",
       "    </tr>\n",
       "    <tr>\n",
       "      <th>159640</th>\n",
       "      <td>38889304</td>\n",
       "      <td>2018-12-12 15:33:18</td>\n",
       "      <td>BRESCIA</td>\n",
       "      <td>CASALMAGGIORE</td>\n",
       "    </tr>\n",
       "    <tr>\n",
       "      <th>159641</th>\n",
       "      <td>38892394</td>\n",
       "      <td>2018-10-21 10:27:39</td>\n",
       "      <td>CAPERGNANICA</td>\n",
       "      <td>BRESCIA</td>\n",
       "    </tr>\n",
       "  </tbody>\n",
       "</table>\n",
       "<p>159642 rows × 4 columns</p>\n",
       "</div>"
      ],
      "text/plain": [
       "         loan_id       data_richiesta biblioteca_destinazione  \\\n",
       "0       22690933  2016-01-01 09:35:10               BONEMERSE   \n",
       "1       22690934  2016-01-01 11:40:36               ROMANENGO   \n",
       "2       22690935  2016-01-01 17:54:48               Agnadello   \n",
       "3       22690936  2016-01-01 21:10:08            SPINO D'ADDA   \n",
       "4       22690937  2016-01-01 21:11:29            SPINO D'ADDA   \n",
       "...          ...                  ...                     ...   \n",
       "159637  38869450  2018-10-22 11:35:32        BAGNOLO CREMASCO   \n",
       "159638  38879783  2018-12-20 09:49:39                   CREMA   \n",
       "159639  38880310  2018-11-07 17:16:37                 PANDINO   \n",
       "159640  38889304  2018-12-12 15:33:18                 BRESCIA   \n",
       "159641  38892394  2018-10-21 10:27:39            CAPERGNANICA   \n",
       "\n",
       "       biblioteca_partenza  \n",
       "0           RIVOLTA D'ADDA  \n",
       "1           RIVOLTA D'ADDA  \n",
       "2           RIVOLTA D'ADDA  \n",
       "3           RIVOLTA D'ADDA  \n",
       "4           RIVOLTA D'ADDA  \n",
       "...                    ...  \n",
       "159637      RIVOLTA D'ADDA  \n",
       "159638             BRESCIA  \n",
       "159639            PIANENGO  \n",
       "159640       CASALMAGGIORE  \n",
       "159641             BRESCIA  \n",
       "\n",
       "[159642 rows x 4 columns]"
      ]
     },
     "execution_count": 68,
     "metadata": {},
     "output_type": "execute_result"
    }
   ],
   "source": [
    "orders"
   ]
  },
  {
   "cell_type": "code",
   "execution_count": 2,
   "metadata": {},
   "outputs": [],
   "source": [
    "def manage_exception(string):\n",
    "    if(string.lower().strip() == 'piadena drizzona'):\n",
    "        return 'Piadena, Platina, 40'\n",
    "    elif(string.lower().strip() == 'brescia'):\n",
    "        return 'manerbio, insurrezione nazionale'\n",
    "    elif(string.lower().strip() == 'centro fumetto a. pazienza' or string.lower().strip() == 'cremona. la piccola biblioteca' or string.lower().strip() == 'uff. bib. cremona'):\n",
    "        return 'cremona, ugolani dati, 4'\n",
    "    elif(string.lower().strip() == 'casale cremasco vidolasco'):\n",
    "        return 'Casale Cremasco-Vidolasco, Roma, 56'\n",
    "    elif(string.lower().strip() == 'cremona-m.i.t.o.'):\n",
    "        return 'Cremona, Palosca n. 2'\n",
    "    elif(string.lower().strip() == 'cremona - manin (scolastica)'):\n",
    "        return 'Cremona, Felice Cavallotti, 2'\n",
    "    elif(string.lower().strip() == 'gadesco pieve delmona'):\n",
    "        return 'Gadesco-Pieve Delmona, Giovanni Lonati 9'\n",
    "    elif(string.lower().strip() == 'cremona - cda'):\n",
    "        return 'cremona, sesto 39'\n",
    "    elif(string.lower().strip() == 'crema'):\n",
    "        return 'Crema, Civerchi, 9'\n",
    "    elif(string.lower().strip() == 'martignana di po, libertà, 64'):\n",
    "        return 'martignana di po, libertà, 64'\n",
    "    else:\n",
    "        return string\n",
    "    \n",
    "# start = []\n",
    "# destination = []\n",
    "# for city in dft.columns:\n",
    "#     try:\n",
    "#         start.append((city, len([x for x in orders[\"biblioteca_partenza\"] if getName(dft, manage_exception(x))==city])))\n",
    "#         end.append((city, len([x for x in orders[\"biblioteca_destinazione\"] if getName(dft, manage_exception(x))==city])))\n",
    "#     except:\n",
    "#         None\n"
   ]
  },
  {
   "cell_type": "code",
   "execution_count": 39,
   "metadata": {},
   "outputs": [
    {
     "data": {
      "application/vnd.jupyter.widget-view+json": {
       "model_id": "e1d6f78af0ff48beb9d3076c11dd6e8a",
       "version_major": 2,
       "version_minor": 0
      },
      "text/plain": [
       "HBox(children=(FloatProgress(value=0.0, max=159642.0), HTML(value='')))"
      ]
     },
     "metadata": {},
     "output_type": "display_data"
    },
    {
     "name": "stderr",
     "output_type": "stream",
     "text": [
      "C:\\Users\\Alberto\\anaconda3\\lib\\site-packages\\pandas\\core\\strings.py:1952: UserWarning: This pattern has match groups. To actually get the groups, use str.extract.\n",
      "  return func(self, *args, **kwargs)\n"
     ]
    },
    {
     "name": "stdout",
     "output_type": "stream",
     "text": [
      "\n"
     ]
    }
   ],
   "source": [
    "freq = pd.Series([0]*len(dft.columns), index=dft.columns)\n",
    "for i in tqdm(range(len(orders))):\n",
    "    row = orders.iloc[i]\n",
    "    try:\n",
    "        if(getName(dft, manage_exception(row[\"biblioteca_destinazione\"])) != getName(dft, manage_exception(row[\"biblioteca_partenza\"]))):\n",
    "            freq[getName(dft, manage_exception(row[\"biblioteca_destinazione\"]))] += 1\n",
    "    except:\n",
    "        None"
   ]
  },
  {
   "cell_type": "code",
   "execution_count": 41,
   "metadata": {},
   "outputs": [
    {
     "data": {
      "text/plain": [
       "Crema, Civerchi, 9                  38085\n",
       "Manerbio, INSURREZIONE NAZIONALE    16021\n",
       "Offanengo, Clavelli Martini, 5       9440\n",
       "Soncino, Dante Alighieri, 23         6111\n",
       "Soresina, Giacomo Matteotti, 6       5031\n",
       "Pandino, Castello, 15                4785\n",
       "dtype: int64"
      ]
     },
     "execution_count": 41,
     "metadata": {},
     "output_type": "execute_result"
    }
   ],
   "source": [
    "freq[freq.values>4264].sort_values(ascending=False)"
   ]
  },
  {
   "cell_type": "code",
   "execution_count": 40,
   "metadata": {},
   "outputs": [
    {
     "name": "stdout",
     "output_type": "stream",
     "text": [
      "[ 5031  6111  9440 16021 38085]\n"
     ]
    },
    {
     "data": {
      "image/png": "[encoded data removed]",
      "text/plain": [
       "<Figure size 432x288 with 1 Axes>"
      ]
     },
     "metadata": {
      "needs_background": "light"
     },
     "output_type": "display_data"
    }
   ],
   "source": [
    "x=plt.boxplot(freq.values)\n",
    "print(np.sort(x[\"fliers\"][0].get_data()[1]))"
   ]
  },
  {
   "cell_type": "code",
   "execution_count": 6,
   "metadata": {},
   "outputs": [
    {
     "name": "stderr",
     "output_type": "stream",
     "text": [
      "C:\\Users\\Alberto\\anaconda3\\lib\\site-packages\\pandas\\core\\strings.py:1952: UserWarning: This pattern has match groups. To actually get the groups, use str.extract.\n",
      "  return func(self, *args, **kwargs)\n"
     ]
    }
   ],
   "source": [
    "error = []\n",
    "uguali = 0\n",
    "for i in range(len(orders)):\n",
    "    x=orders.iloc[i]\n",
    "    try:\n",
    "        a=getName(dft, manage_exception(x[\"biblioteca_partenza\"]))\n",
    "        b=getName(dft, manage_exception(x[\"biblioteca_destinazione\"]))\n",
    "        if a==b:\n",
    "            uguali += 1\n",
    "    except:\n",
    "        None"
   ]
  },
  {
   "cell_type": "code",
   "execution_count": 7,
   "metadata": {},
   "outputs": [
    {
     "data": {
      "text/plain": [
       "6161"
      ]
     },
     "execution_count": 7,
     "metadata": {},
     "output_type": "execute_result"
    }
   ],
   "source": [
    "uguali"
   ]
  },
  {
   "cell_type": "code",
   "execution_count": 9,
   "metadata": {},
   "outputs": [
    {
     "data": {
      "text/html": [
       "<div>\n",
       "<style scoped>\n",
       "    .dataframe tbody tr th:only-of-type {\n",
       "        vertical-align: middle;\n",
       "    }\n",
       "\n",
       "    .dataframe tbody tr th {\n",
       "        vertical-align: top;\n",
       "    }\n",
       "\n",
       "    .dataframe thead th {\n",
       "        text-align: right;\n",
       "    }\n",
       "</style>\n",
       "<table border=\"1\" class=\"dataframe\">\n",
       "  <thead>\n",
       "    <tr style=\"text-align: right;\">\n",
       "      <th></th>\n",
       "      <th>loan_id</th>\n",
       "      <th>data_richiesta</th>\n",
       "      <th>biblioteca_destinazione</th>\n",
       "      <th>biblioteca_partenza</th>\n",
       "    </tr>\n",
       "  </thead>\n",
       "  <tbody>\n",
       "    <tr>\n",
       "      <th>316</th>\n",
       "      <td>22711163</td>\n",
       "      <td>2016-01-07 15:53:14</td>\n",
       "      <td>UNIONE MUNICIPIA</td>\n",
       "      <td>UNIONE MUNICIPIA</td>\n",
       "    </tr>\n",
       "    <tr>\n",
       "      <th>733</th>\n",
       "      <td>22734189</td>\n",
       "      <td>2016-01-10 17:54:13</td>\n",
       "      <td>UNIONE MUNICIPIA</td>\n",
       "      <td>GADESCO PIEVE DELMONA</td>\n",
       "    </tr>\n",
       "    <tr>\n",
       "      <th>917</th>\n",
       "      <td>22740881</td>\n",
       "      <td>2016-01-10 18:07:54</td>\n",
       "      <td>UNIONE MUNICIPIA</td>\n",
       "      <td>BRESCIA</td>\n",
       "    </tr>\n",
       "    <tr>\n",
       "      <th>1142</th>\n",
       "      <td>22751484</td>\n",
       "      <td>2016-01-12 14:51:10</td>\n",
       "      <td>UNIONE MUNICIPIA</td>\n",
       "      <td>CAPRALBA</td>\n",
       "    </tr>\n",
       "    <tr>\n",
       "      <th>1219</th>\n",
       "      <td>22754484</td>\n",
       "      <td>2016-01-13 11:26:42</td>\n",
       "      <td>UNIONE MUNICIPIA</td>\n",
       "      <td>SOLAROLO RAINERIO</td>\n",
       "    </tr>\n",
       "    <tr>\n",
       "      <th>...</th>\n",
       "      <td>...</td>\n",
       "      <td>...</td>\n",
       "      <td>...</td>\n",
       "      <td>...</td>\n",
       "    </tr>\n",
       "    <tr>\n",
       "      <th>158075</th>\n",
       "      <td>38083675</td>\n",
       "      <td>2018-11-29 15:28:57</td>\n",
       "      <td>UNIONE MUNICIPIA</td>\n",
       "      <td>SPINO D'ADDA</td>\n",
       "    </tr>\n",
       "    <tr>\n",
       "      <th>158093</th>\n",
       "      <td>38085460</td>\n",
       "      <td>2018-12-27 10:02:10</td>\n",
       "      <td>UNIONE MUNICIPIA</td>\n",
       "      <td>PIADENA DRIZZONA</td>\n",
       "    </tr>\n",
       "    <tr>\n",
       "      <th>158501</th>\n",
       "      <td>38129075</td>\n",
       "      <td>2018-11-23 18:00:24</td>\n",
       "      <td>UNIONE MUNICIPIA</td>\n",
       "      <td>CREMA</td>\n",
       "    </tr>\n",
       "    <tr>\n",
       "      <th>158515</th>\n",
       "      <td>38131103</td>\n",
       "      <td>2018-10-29 22:33:20</td>\n",
       "      <td>UNIONE MUNICIPIA</td>\n",
       "      <td>BRESCIA</td>\n",
       "    </tr>\n",
       "    <tr>\n",
       "      <th>159341</th>\n",
       "      <td>38364727</td>\n",
       "      <td>2018-12-19 15:43:57</td>\n",
       "      <td>UNIONE MUNICIPIA</td>\n",
       "      <td>RIVOLTA D'ADDA</td>\n",
       "    </tr>\n",
       "  </tbody>\n",
       "</table>\n",
       "<p>947 rows × 4 columns</p>\n",
       "</div>"
      ],
      "text/plain": [
       "         loan_id       data_richiesta biblioteca_destinazione  \\\n",
       "316     22711163  2016-01-07 15:53:14        UNIONE MUNICIPIA   \n",
       "733     22734189  2016-01-10 17:54:13        UNIONE MUNICIPIA   \n",
       "917     22740881  2016-01-10 18:07:54        UNIONE MUNICIPIA   \n",
       "1142    22751484  2016-01-12 14:51:10        UNIONE MUNICIPIA   \n",
       "1219    22754484  2016-01-13 11:26:42        UNIONE MUNICIPIA   \n",
       "...          ...                  ...                     ...   \n",
       "158075  38083675  2018-11-29 15:28:57        UNIONE MUNICIPIA   \n",
       "158093  38085460  2018-12-27 10:02:10        UNIONE MUNICIPIA   \n",
       "158501  38129075  2018-11-23 18:00:24        UNIONE MUNICIPIA   \n",
       "158515  38131103  2018-10-29 22:33:20        UNIONE MUNICIPIA   \n",
       "159341  38364727  2018-12-19 15:43:57        UNIONE MUNICIPIA   \n",
       "\n",
       "          biblioteca_partenza  \n",
       "316          UNIONE MUNICIPIA  \n",
       "733     GADESCO PIEVE DELMONA  \n",
       "917                   BRESCIA  \n",
       "1142                 CAPRALBA  \n",
       "1219        SOLAROLO RAINERIO  \n",
       "...                       ...  \n",
       "158075           SPINO D'ADDA  \n",
       "158093       PIADENA DRIZZONA  \n",
       "158501                  CREMA  \n",
       "158515                BRESCIA  \n",
       "159341         RIVOLTA D'ADDA  \n",
       "\n",
       "[947 rows x 4 columns]"
      ]
     },
     "execution_count": 9,
     "metadata": {},
     "output_type": "execute_result"
    }
   ],
   "source": [
    "orders[orders[\"biblioteca_destinazione\"]==\"UNIONE MUNICIPIA\"]"
   ]
  },
  {
   "cell_type": "code",
   "execution_count": 67,
   "metadata": {},
   "outputs": [
    {
     "data": {
      "image/png": "[encoded data removed]",
      "text/plain": [
       "<Figure size 1440x720 with 1 Axes>"
      ]
     },
     "metadata": {
      "needs_background": "light"
     },
     "output_type": "display_data"
    }
   ],
   "source": [
    "months = [\"gennaio\", \"febbraio\", \"marzo\", \"aprile\", \"maggio\", \"giugno\", \"luglio\", \"agosto\", \"settembre\", \"ottobre\", \"novembre\", \"dicembre\"]\n",
    "\n",
    "\n",
    "def month_dist(l):\n",
    "    freq = pd.Series(data = [0]*12, index = months)\n",
    "    for x in l:\n",
    "        d = x['data_richiesta'].split(\" \")[0]\n",
    "        m = int(d.split(\"-\")[1])\n",
    "        freq[m-1] = freq[m-1] + 1\n",
    "    return freq\n",
    "w = 0.25\n",
    "\n",
    "# Set position of bar on X axis\n",
    "r2 = np.arange(12)\n",
    "r1 = [x - w for x in r2]\n",
    "r3 = [x + w for x in r2]\n",
    "\n",
    "fig, ax = plt.subplots(figsize=[20, 10])\n",
    "r_16 = ax.bar(r1,month_dist(duemila_16), width = w, label = '2016')\n",
    "r_17 = ax.bar(r2,month_dist(duemila_17), width = w, label = '2017')\n",
    "r_18 = ax.bar(r3,month_dist(duemila_18), width = w, label = '2018')\n",
    "\n",
    "plt.xticks([r for r in range(len(months))], months)\n",
    "plt.legend()\n",
    "plt.show()"
   ]
  },
  {
   "cell_type": "code",
   "execution_count": null,
   "metadata": {},
   "outputs": [],
   "source": []
  },
  {
   "cell_type": "code",
   "execution_count": 65,
   "metadata": {},
   "outputs": [],
   "source": [
    "freq = pd.Series(data = [0,0,0,0,0,0,0], index = [\"lunedi\", \"martedi\",\"mercoledi\", \"giovedi\",\"venerdi\", \"sabato\", \"domenica\"])\n",
    "\n",
    "\n",
    "for x in orders['data_richiesta']:\n",
    "    d = x.split(' ')[0]\n",
    "    n = week.get(date.fromisoformat(d).weekday())\n",
    "    freq[n] = freq[n] + 1"
   ]
  },
  {
   "cell_type": "code",
   "execution_count": 66,
   "metadata": {},
   "outputs": [
    {
     "data": {
      "image/png": "[encoded data removed]",
      "text/plain": [
       "<Figure size 432x288 with 1 Axes>"
      ]
     },
     "metadata": {
      "needs_background": "light"
     },
     "output_type": "display_data"
    }
   ],
   "source": [
    "plt.bar(freq.keys() ,freq.values)\n",
    "plt.xticks(rotation = 45)\n",
    "plt.show()"
   ]
  },
  {
   "cell_type": "code",
   "execution_count": 3,
   "metadata": {},
   "outputs": [],
   "source": [
    "def divide_daily_orders(df, dframe_orders):\n",
    "    week = {0: \"lunedi\", 1:\"martedi\", 2:\"mercoledi\", 3:\"giovedi\", 4:\"venerdi\", 5:\"sabato\", 6:\"domenica\"}\n",
    "    not_considered = 0\n",
    "    freq = pd.Series(data = [[],[],[],[],[],[],[]], index = [\"lunedi\", \"martedi\",\"mercoledi\", \"giovedi\",\"venerdi\", \"sabato\", \"domenica\"])\n",
    "    for i in tqdm(range(len(dframe_orders))):\n",
    "        try:\n",
    "            row = dframe_orders.iloc[i]\n",
    "            orig = getName(df, manage_exception(row['biblioteca_partenza']))\n",
    "            dest = getName(df, manage_exception(row['biblioteca_destinazione']))\n",
    "            if orig == dest:\n",
    "                not_considered = not_considered + 1\n",
    "                continue\n",
    "            try:\n",
    "                x = row['data_richiesta']\n",
    "                d = x.split(' ')[0]\n",
    "                n = week.get(date.fromisoformat(d).weekday())\n",
    "                temp = [orig, dest, n]\n",
    "                freq[n].append(temp)\n",
    "            except:\n",
    "                print(x)\n",
    "                break\n",
    "        except:\n",
    "            not_considered = not_considered + 1\n",
    "            continue\n",
    "                \n",
    "    return freq, not_considered\n",
    "\n",
    "#f, not_considered = divide_daily_orders(dft, orders)\n",
    "#biblioteca_destinazione\n",
    "#biblioteca_partenza\n",
    "#data_richiesta\n",
    "#print(f)"
   ]
  },
  {
   "cell_type": "code",
   "execution_count": 5,
   "metadata": {},
   "outputs": [],
   "source": [
    "#f.to_csv(\"frequences.csv\", encoding = \"ISO-8859-1\")\n",
    "\n",
    "k = pd.read_csv(\"FrequencesResults/frequences.csv\", encoding = \"ISO-8859-1\", index_col=0, header=0, squeeze = True)"
   ]
  },
  {
   "cell_type": "code",
   "execution_count": 6,
   "metadata": {},
   "outputs": [],
   "source": [
    "week = [\"lunedi\", \"martedi\", \"mercoledi\", \"giovedi\", \"venerdi\", \"sabato\", \"domenica\"]\n",
    "for d in week:\n",
    "    k[d] = ast.literal_eval(k[d])"
   ]
  },
  {
   "cell_type": "code",
   "execution_count": 7,
   "metadata": {},
   "outputs": [],
   "source": [
    "def getOccurenceDays(fur1, fur2, city):\n",
    "    week = [\"lunedi\", \"martedi\", \"mercoledi\", \"giovedi\", \"venerdi\"]\n",
    "    l = []\n",
    "    for d in fur1.columns:\n",
    "        cur_route1 = fur1[d].dropna()[1:len(fur1[d].dropna())-1]\n",
    "            \n",
    "        if city in list(cur_route1):\n",
    "            l.append(week.index(d))\n",
    "    \n",
    "    for d in fur2.columns:\n",
    "        cur_route2 = fur2[d].dropna()[1:len(fur2[d].dropna())-1]\n",
    "            \n",
    "        if city in list(cur_route2):\n",
    "            l.append(week.index(d))\n",
    "          \n",
    "    return list(set(l))\n",
    "\n",
    "def getOccurenceNumber(fur1, fur2, city):\n",
    "    week = [\"lunedi\", \"martedi\", \"mercoledi\", \"giovedi\", \"venerdi\"]\n",
    "    l = []\n",
    "    for d in fur1.columns:\n",
    "        cur_route1 = fur1[d].dropna()[1:len(fur1[d].dropna())-1]\n",
    "            \n",
    "        if city in list(cur_route1):\n",
    "            l.append(week.index(d))\n",
    "    \n",
    "    for d in fur2.columns:\n",
    "        cur_route2 = fur2[d].dropna()[1:len(fur2[d].dropna())-1]\n",
    "            \n",
    "        if city in list(cur_route2):\n",
    "            l.append(week.index(d))\n",
    "          \n",
    "    return len(l)\n",
    "\n",
    "#frequenza degli scambi tra i e j con richiesta nel giorno g\n",
    "def e (g, i, j, k):\n",
    "    v =[i, j, g]\n",
    "    return len([index for index, value in enumerate(k[g]) if value == v])\n",
    "#e('martedi', 'Offanengo, Clavelli Martini, 5', 'Soncino, Dante Alighieri, 23')\n",
    "\n",
    "def dist(s, e):\n",
    "#     if s == e:\n",
    "#         return 7\n",
    "    if s < e:\n",
    "        return e-s\n",
    "    if s >= e:\n",
    "        return 7-(s-e)\n",
    "\n",
    "def f(i, g, j, h, fur1, fur2, k):\n",
    "    w = [\"lunedi\", \"martedi\", \"mercoledi\", \"giovedi\", \"venerdi\", \"sabato\", \"domenica\"]\n",
    "    g = week.index(g)\n",
    "    s = 0\n",
    "    f1_occurrences = getOccurenceDays(fur1, fur2, i)\n",
    "    \n",
    "    try:\n",
    "        q = list([x for x in f1_occurrences if x>=g] + [x for x in f1_occurrences if x<g])[-1]\n",
    "    except:\n",
    "        print(i, g, j, h, sep=\"    \")\n",
    "        \n",
    "    if(q<g):\n",
    "        for m in range(q, g):\n",
    "            s += dist(m, w.index(h)) * e(m, i, j, k)\n",
    "    elif(q>=g):\n",
    "        for m in list(range(q, 7)) + list(range(0, g)):\n",
    "            s += dist(m, w.index(h)) * e(m, i, j, k)\n",
    "    return s       "
   ]
  },
  {
   "cell_type": "markdown",
   "metadata": {},
   "source": [
    "# pick-up & deliver day analysis"
   ]
  },
  {
   "cell_type": "code",
   "execution_count": 8,
   "metadata": {},
   "outputs": [],
   "source": [
    "#works with 2opt or ls schedulation\n",
    "def getOccurenceDays(fur1, city):\n",
    "    week = [\"lunedi\", \"martedi\", \"mercoledi\", \"giovedi\", \"venerdi\"]\n",
    "    l = []\n",
    "    for d in fur1.columns:\n",
    "        cur_route1 = fur1[d].dropna()[1:len(fur1[d].dropna())-1]\n",
    "            \n",
    "        if city in list(cur_route1):\n",
    "            l.append(week.index(d))\n",
    "          \n",
    "    return list(set(l))\n",
    "\n",
    "def take_deliver(fur1, fur2, s, d, day):\n",
    "    week = [\"lunedi\", \"martedi\", \"mercoledi\", \"giovedi\", \"venerdi\"]\n",
    "    f1_occurrences = getOccurenceDays(fur1, s)\n",
    "    if f1_occurrences:\n",
    "        f1_occurrences = list([x for x in f1_occurrences if x>week.index(day)] + [x for x in f1_occurrences if x<=week.index(day)])[0]\n",
    "    else:\n",
    "        f1_occurrences = 10\n",
    "    f2_occurrences = getOccurenceDays(fur2, s)\n",
    "    if f2_occurrences:\n",
    "        f2_occurrences = list([x for x in f2_occurrences if x>week.index(day)] + [x for x in f2_occurrences if x<=week.index(day)])[0]\n",
    "    else:\n",
    "        f2_occurrences = 10\n",
    "    \n",
    "    if f1_occurrences==f2_occurrences==10:\n",
    "        print(\"città non nella schedulazione\", s, sep=\" - \")\n",
    "    \n",
    "    take = [f1_occurrences, f2_occurrences].index(min([f1_occurrences, f2_occurrences]))\n",
    "    day = week[min([f1_occurrences, f2_occurrences])]\n",
    "    pickup_day = min(f1_occurrences, f2_occurrences)\n",
    "    \n",
    "    f1_occurrences = getOccurenceDays(fur1, d)\n",
    "    if f1_occurrences:\n",
    "        f1_occurrences = list([x for x in f1_occurrences if x>week.index(day)] + [x for x in f1_occurrences if x<=week.index(day)])[0]\n",
    "    else:\n",
    "        f1_occurrences = 10\n",
    "        \n",
    "    f2_occurrences = getOccurenceDays(fur2, d)\n",
    "    if f2_occurrences:\n",
    "        f2_occurrences = list([x for x in f2_occurrences if x>week.index(day)] + [x for x in f2_occurrences if x<=week.index(day)])[0]\n",
    "    else:\n",
    "        f2_occurrences = 10\n",
    "    deliver = [f1_occurrences, f2_occurrences].index(min([f1_occurrences, f2_occurrences]))\n",
    "    \n",
    "    return take, deliver, pickup_day, min(f1_occurrences, f2_occurrences)\n",
    "\n",
    "def getDistance(s, e):\n",
    "#     if s == e:\n",
    "#         return 7\n",
    "    if s < e:\n",
    "        return e-s\n",
    "    if s >= e:\n",
    "        return 7-(s-e)\n",
    "\n",
    "def get_stats(occorrenze, fur1, fur2):\n",
    "    week = [\"lunedi\", \"martedi\", \"mercoledi\", \"giovedi\", \"venerdi\", \"sabato\", \"domenica\"]\n",
    "    freq1 = pd.Series(data = [0,0,0], index = [\"pickup\", \"deliver\", \"both\"])\n",
    "    freq2 = pd.Series(data = [0,0,0], index = [\"pickup\", \"deliver\", \"both\"])\n",
    "    mean_service_time = pd.Series(data = [0,0], index = [\"total\", \"n\"])\n",
    "    mean_pickup_time = pd.Series(data = [0,0], index = [\"total\", \"n\"])\n",
    "    \n",
    "    for day_i in tqdm(range(len(occorrenze))):\n",
    "        day = occorrenze[day_i]\n",
    "        for order in day:\n",
    "            s = order[0]\n",
    "            d = order[1]\n",
    "            order_day = order[2]\n",
    "            #gestire sabato e domenica\n",
    "            if order_day==\"sabato\" or order_day==\"domenica\":\n",
    "                take, deliver, pickup_day, deliver_day = take_deliver(fur1, fur2, s, d, \"venerdi\")\n",
    "            elif order_day == None:\n",
    "                print(order)\n",
    "            else:\n",
    "                take, deliver, pickup_day, deliver_day = take_deliver(fur1, fur2, s, d, order_day)\n",
    "                \n",
    "#             if take==deliver==0:\n",
    "#                 freq1[\"both\"] += 1\n",
    "#             if take==deliver==1:\n",
    "#                 freq2[\"both\"] += 1\n",
    "#             if take==0 and deliver == 1:\n",
    "#                 freq1[\"pickup\"] +=1\n",
    "#                 freq2[\"deliver\"] += 1 \n",
    "#             if take==1 and deliver == 0:\n",
    "#                 freq2[\"pickup\"] +=1\n",
    "#                 freq1[\"deliver\"] += 1\n",
    "            \n",
    "            mean_service_time[\"total\"] += getDistance(week.index(order_day), deliver_day)\n",
    "            mean_service_time[\"n\"] += 1\n",
    "            mean_pickup_time[\"total\"] += getDistance(week.index(order_day), pickup_day)\n",
    "            mean_pickup_time[\"n\"] += 1\n",
    "    #return freq1, freq2, [round(mean_service_time[\"total\"]/mean_service_time[\"n\"], 2)], [round(mean_pickup_time[\"total\"]/mean_pickup_time[\"n\"], 2)]\n",
    "    return [round(mean_service_time[\"total\"]/mean_service_time[\"n\"], 2)], [round(mean_pickup_time[\"total\"]/mean_pickup_time[\"n\"], 2)]"
   ]
  },
  {
   "cell_type": "code",
   "execution_count": 15,
   "metadata": {},
   "outputs": [],
   "source": [
    "mp_v = pd.read_csv(\"FrequencesResults/mp_variables.csv\", sep=\";\", index_col=0)\n",
    "ms_v = pd.read_csv(\"FrequencesResults/ms_variables.csv\", sep=\";\", index_col=0)"
   ]
  },
  {
   "cell_type": "code",
   "execution_count": 17,
   "metadata": {},
   "outputs": [
    {
     "data": {
      "text/html": [
       "<div>\n",
       "<style scoped>\n",
       "    .dataframe tbody tr th:only-of-type {\n",
       "        vertical-align: middle;\n",
       "    }\n",
       "\n",
       "    .dataframe tbody tr th {\n",
       "        vertical-align: top;\n",
       "    }\n",
       "\n",
       "    .dataframe thead th {\n",
       "        text-align: right;\n",
       "    }\n",
       "</style>\n",
       "<table border=\"1\" class=\"dataframe\">\n",
       "  <thead>\n",
       "    <tr style=\"text-align: right;\">\n",
       "      <th></th>\n",
       "      <th>value</th>\n",
       "    </tr>\n",
       "  </thead>\n",
       "  <tbody>\n",
       "    <tr>\n",
       "      <th>original</th>\n",
       "      <td>4.51</td>\n",
       "    </tr>\n",
       "    <tr>\n",
       "      <th>original_MVLS</th>\n",
       "      <td>4.21</td>\n",
       "    </tr>\n",
       "    <tr>\n",
       "      <th>greedy</th>\n",
       "      <td>4.22</td>\n",
       "    </tr>\n",
       "    <tr>\n",
       "      <th>greedy_MVLS</th>\n",
       "      <td>4.20</td>\n",
       "    </tr>\n",
       "    <tr>\n",
       "      <th>OSS</th>\n",
       "      <td>4.30</td>\n",
       "    </tr>\n",
       "    <tr>\n",
       "      <th>OSS_MVLS</th>\n",
       "      <td>4.49</td>\n",
       "    </tr>\n",
       "    <tr>\n",
       "      <th>FOSS</th>\n",
       "      <td>4.09</td>\n",
       "    </tr>\n",
       "    <tr>\n",
       "      <th>FOSS_MVLS</th>\n",
       "      <td>4.42</td>\n",
       "    </tr>\n",
       "    <tr>\n",
       "      <th>random_inday</th>\n",
       "      <td>4.51</td>\n",
       "    </tr>\n",
       "    <tr>\n",
       "      <th>random_inday_MVLS</th>\n",
       "      <td>4.34</td>\n",
       "    </tr>\n",
       "    <tr>\n",
       "      <th>random</th>\n",
       "      <td>4.12</td>\n",
       "    </tr>\n",
       "    <tr>\n",
       "      <th>random_MVLS</th>\n",
       "      <td>4.29</td>\n",
       "    </tr>\n",
       "  </tbody>\n",
       "</table>\n",
       "</div>"
      ],
      "text/plain": [
       "                   value\n",
       "original            4.51\n",
       "original_MVLS       4.21\n",
       "greedy              4.22\n",
       "greedy_MVLS         4.20\n",
       "OSS                 4.30\n",
       "OSS_MVLS            4.49\n",
       "FOSS                4.09\n",
       "FOSS_MVLS           4.42\n",
       "random_inday        4.51\n",
       "random_inday_MVLS   4.34\n",
       "random              4.12\n",
       "random_MVLS         4.29"
      ]
     },
     "execution_count": 17,
     "metadata": {},
     "output_type": "execute_result"
    }
   ],
   "source": [
    "ms_v"
   ]
  },
  {
   "cell_type": "code",
   "execution_count": 18,
   "metadata": {},
   "outputs": [
    {
     "data": {
      "application/vnd.jupyter.widget-view+json": {
       "model_id": "21287ff890c74d9ab2b36b456ba4ec18",
       "version_major": 2,
       "version_minor": 0
      },
      "text/plain": [
       "HBox(children=(FloatProgress(value=0.0, max=7.0), HTML(value='')))"
      ]
     },
     "metadata": {},
     "output_type": "display_data"
    },
    {
     "name": "stdout",
     "output_type": "stream",
     "text": [
      "\n"
     ]
    }
   ],
   "source": [
    "fur1 = pd.read_csv(\"../turni_f/optimized_start/oss_MVLS_f1.csv\", delimiter=\";\", encoding = \"ISO-8859-1\")\n",
    "fur2 = pd.read_csv(\"../turni_f/optimized_start/oss_MVLS_f2.csv\", delimiter=\";\", encoding = \"ISO-8859-1\")\n",
    "#fr1, fr2, ms, mp = get_stats(k, fur1, fur2)\n",
    "ms, mp = get_stats(k, fur1, fur2)"
   ]
  },
  {
   "cell_type": "code",
   "execution_count": 20,
   "metadata": {},
   "outputs": [],
   "source": [
    "ms_v.loc[\"OSS_MVLS\"] = ms\n",
    "ms_v.to_csv(\"FrequencesResults/ms_variables.csv\", sep=\";\", encoding = \"ISO-8859-1\")\n",
    "mp_v.loc[\"OSS_MVLS\"] = mp\n",
    "mp_v.to_csv(\"FrequencesResults/mp_variables.csv\", sep=\";\", encoding = \"ISO-8859-1\")"
   ]
  },
  {
   "cell_type": "code",
   "execution_count": 29,
   "metadata": {},
   "outputs": [],
   "source": [
    "#fr1.to_csv(\"FrequencesResults/fr1_original_greedy.csv\", encoding = \"ISO-8859-1\")\n",
    "#fr2.to_csv(\"FrequencesResults/fr2_original_greedy.csv\", encoding = \"ISO-8859-1\")\n",
    "#pd.Series({\"ms\": ms, \"mp\": mp}).to_csv(\"greedy_MVLS_variables.csv\", encoding = \"ISO-8859-1\")\n",
    "pd.Series({\"ms\": ms}).to_csv(\"FrequencesResults/oss_greedy_variables.csv\", encoding = \"ISO-8859-1\")"
   ]
  },
  {
   "cell_type": "code",
   "execution_count": 22,
   "metadata": {},
   "outputs": [
    {
     "data": {
      "text/plain": [
       "array([[3.07],\n",
       "       [3.19],\n",
       "       [3.88],\n",
       "       [3.49],\n",
       "       [3.22],\n",
       "       [3.48],\n",
       "       [3.06],\n",
       "       [3.07]])"
      ]
     },
     "execution_count": 22,
     "metadata": {},
     "output_type": "execute_result"
    }
   ],
   "source": [
    "mp_v.values"
   ]
  },
  {
   "cell_type": "markdown",
   "metadata": {},
   "source": [
    "# w-days and mean pick-up time comparison"
   ]
  },
  {
   "cell_type": "code",
   "execution_count": 29,
   "metadata": {},
   "outputs": [
    {
     "data": {
      "image/png": "[encoded data removed]",
      "text/plain": [
       "<Figure size 936x360 with 1 Axes>"
      ]
     },
     "metadata": {
      "needs_background": "light"
     },
     "output_type": "display_data"
    }
   ],
   "source": [
    "mp_v = pd.read_csv(\"FrequencesResults/mp_variables.csv\", sep=\";\", index_col=0)\n",
    "ms_v = pd.read_csv(\"FrequencesResults/ms_variables.csv\", sep=\";\", index_col=0)\n",
    "\n",
    "plt.figure(figsize=[13,5])\n",
    "\n",
    "plt.title(\"Mean waiting days to completion\")\n",
    "plt.plot(ms_v.values[:6], 'or', markersize=7.5)\n",
    "plt.xticks(range(6), ms_v.index[:6], fontsize=13)\n",
    "plt.ylabel(\"Days\", fontsize=15)\n",
    "plt.ylim([3.5,5])\n",
    "plt.grid(alpha=0.3)\n",
    "\n",
    "# plt.subplot(212)\n",
    "# plt.title(\"Mean waiting days to pick-up\")\n",
    "# plt.plot(mp_v.values[:4], 'ob')\n",
    "# plt.xticks(range(4), mp_v.index[:4], fontsize=13)\n",
    "# plt.ylim([2.5,4])\n",
    "# plt.grid(alpha=0.3)\n",
    "\n",
    "# plt.subplot(122)\n",
    "# plt.title(\"Mean pickup time\")\n",
    "# plt.plot(mp, 'ob')\n",
    "# plt.xticks(range(5), [\"orig\", \"oss\", \"origMVLS\", \"greedyMVLS\", \"ossMVLS\"])\n",
    "# plt.ylim([2.5,5])\n",
    "# plt.grid(alpha=0.3)\n",
    "\n",
    "plt.show()"
   ]
  },
  {
   "cell_type": "code",
   "execution_count": 30,
   "metadata": {},
   "outputs": [
    {
     "data": {
      "image/png": "[encoded data removed]",
      "text/plain": [
       "<Figure size 936x360 with 1 Axes>"
      ]
     },
     "metadata": {
      "needs_background": "light"
     },
     "output_type": "display_data"
    }
   ],
   "source": [
    "plt.figure(figsize=[13,5])\n",
    "plt.title(\"Mean waiting days to pick-up\")\n",
    "plt.plot(mp_v.values[:6], 'ob', markersize=7.5)\n",
    "plt.xticks(range(6), mp_v.index[:6], fontsize=13)\n",
    "plt.ylabel(\"Days\", fontsize=15)\n",
    "plt.ylim([2.5,5])\n",
    "plt.grid(alpha=0.3)\n",
    "plt.show()"
   ]
  },
  {
   "cell_type": "code",
   "execution_count": 4,
   "metadata": {},
   "outputs": [],
   "source": [
    "mwdays = pd.read_csv(\"FrequencesResults/week_orders_mwdays.csv\", encoding = \"ISO-8859-1\", index_col=0, header = None, squeeze = True)\n",
    "mwpudays = pd.read_csv(\"FrequencesResults/week_orders_mwpudays.csv\", encoding = \"ISO-8859-1\", index_col=0, header= None, squeeze = True)"
   ]
  },
  {
   "cell_type": "code",
   "execution_count": 38,
   "metadata": {},
   "outputs": [],
   "source": [
    "week = [\"lunedi\", \"martedi\", \"mercoledi\", \"giovedi\", \"venerdi\", \"sabato\", \"domenica\"]\n",
    "for d in week:\n",
    "    mwdays[d] = ast.literal_eval(mwdays[d])\n",
    "    \n",
    "for d in week:\n",
    "    mwpudays[d] = ast.literal_eval(mwpudays[d])"
   ]
  },
  {
   "cell_type": "code",
   "execution_count": null,
   "metadata": {},
   "outputs": [],
   "source": [
    "x = mwdays[\"lunedi\"][:]\n",
    "x.sort()\n",
    "d = list(set([x.count(d) for d in x]))\n",
    "data = pd.Series(d, list(set(x)))"
   ]
  }
 ],
 "metadata": {
  "kernelspec": {
   "display_name": "Python 3",
   "language": "python",
   "name": "python3"
  },
  "language_info": {
   "codemirror_mode": {
    "name": "ipython",
    "version": 3
   },
   "file_extension": ".py",
   "mimetype": "text/x-python",
   "name": "python",
   "nbconvert_exporter": "python",
   "pygments_lexer": "ipython3",
   "version": "3.7.6"
  }
 },
 "nbformat": 4,
 "nbformat_minor": 2
}

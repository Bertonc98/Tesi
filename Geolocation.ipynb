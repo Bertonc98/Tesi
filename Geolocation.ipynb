{
 "cells": [
  {
   "cell_type": "code",
   "execution_count": 59,
   "metadata": {},
   "outputs": [],
   "source": [
    "from functools import partial\n",
    "from geopy.geocoders import Nominatim\n",
    "import WazeRouteCalculator\n",
    "geolocator = Nominatim(user_agent=\"useer_agent\", domain='nominatim.openstreetmap.org')\n",
    "geocode = partial(geolocator.geocode, language=\"it\", country_codes = \"ita\")\n"
   ]
  },
  {
   "cell_type": "code",
   "execution_count": 60,
   "metadata": {},
   "outputs": [],
   "source": [
    "from pandas_ods_reader import read_ods\n",
    "import pandas as pd\n",
    "path = \"IndirizziBiblio_21-10-2019.ods\"\n",
    "df = read_ods(path, 'Questionari_normalizza')\n",
    "df=df[df['Calendarizzata (sì/no)']=='sì']\n",
    "df=df.astype({'Cap':'int32'})"
   ]
  },
  {
   "cell_type": "code",
   "execution_count": 61,
   "metadata": {},
   "outputs": [],
   "source": [
    "def getLocation(name):\n",
    "    geolocator = Nominatim(user_agent=\"useer_agent\")\n",
    "    geocode = partial(geolocator.geocode, language=\"it\")\n",
    "    location =geolocator.geocode(name)\n",
    "    return location.latitude, location.longitude\n",
    "#print(lat, lon)"
   ]
  },
  {
   "cell_type": "code",
   "execution_count": 62,
   "metadata": {},
   "outputs": [],
   "source": [
    "def getName(row):\n",
    "    name=row.Comune + ','\n",
    "    try:\n",
    "        name=name + row.Indirizzo[row.Indirizzo.lower().index('via')+3:len(row.Indirizzo)]\n",
    "    except:\n",
    "        try:\n",
    "            name=name + row.Indirizzo[row.Indirizzo.lower().index('piazza')+6:len(row.Indirizzo)]\n",
    "        except:\n",
    "            try:\n",
    "                name=name + row.Indirizzo[row.Indirizzo.lower().index('piazzetta')+9:len(row.Indirizzo)]\n",
    "            except:\n",
    "                name=name + row.Indirizzo[row.Indirizzo.lower().index('vicolo')+6:len(row.Indirizzo)]\n",
    "           \n",
    "    return name"
   ]
  },
  {
   "cell_type": "code",
   "execution_count": 63,
   "metadata": {},
   "outputs": [],
   "source": [
    "from tqdm.notebook import tqdm as tqdm"
   ]
  },
  {
   "cell_type": "code",
   "execution_count": 64,
   "metadata": {},
   "outputs": [
    {
     "data": {
      "text/plain": [
       "''"
      ]
     },
     "execution_count": 64,
     "metadata": {},
     "output_type": "execute_result"
    }
   ],
   "source": [
    "import csv\n",
    "x=[]\n",
    "y=[\"\"]\n",
    "for i in range(len(df)):\n",
    "    x.append(getName(df.iloc[i]))\n",
    "x.append(\"Cremona, Sesto 39\")\n",
    "\n",
    "for i in range(len(df)):\n",
    "    y.append(getName(df.iloc[i]))\n",
    "y.append(\"Ostiano\")\n",
    "y.append(\"San Giovanni in Croce\")\n",
    "\"\"\"\n",
    "with open('times.csv', mode='a') as time_file:\n",
    "        time_file = csv.writer(time_file, delimiter=';')\n",
    "        time_file.writerow(y)\n",
    "\n",
    "with open('distances.csv', mode='a') as distance_file:\n",
    "    distance_file = csv.writer(distance_file, delimiter=';', quotechar='\"', quoting=csv.QUOTE_MINIMAL)\n",
    "    distance_file.writerow(y)\n",
    "\"\"\"\n",
    "y.pop(0)\n"
   ]
  },
  {
   "cell_type": "code",
   "execution_count": 74,
   "metadata": {},
   "outputs": [
    {
     "ename": "FileNotFoundError",
     "evalue": "[Errno 2] No such file or directory: 'times_computed.csv'",
     "output_type": "error",
     "traceback": [
      "\u001b[1;31m---------------------------------------------------------------------------\u001b[0m",
      "\u001b[1;31mFileNotFoundError\u001b[0m                         Traceback (most recent call last)",
      "\u001b[1;32m<ipython-input-74-b953e54b77eb>\u001b[0m in \u001b[0;36m<module>\u001b[1;34m\u001b[0m\n\u001b[0;32m      2\u001b[0m \u001b[1;33m\u001b[0m\u001b[0m\n\u001b[0;32m      3\u001b[0m \u001b[1;32mimport\u001b[0m \u001b[0mtime\u001b[0m\u001b[1;33m\u001b[0m\u001b[1;33m\u001b[0m\u001b[0m\n\u001b[1;32m----> 4\u001b[1;33m \u001b[0mdataf\u001b[0m\u001b[1;33m=\u001b[0m\u001b[0mpd\u001b[0m\u001b[1;33m.\u001b[0m\u001b[0mread_csv\u001b[0m\u001b[1;33m(\u001b[0m\u001b[1;34m\"times_computed.csv\"\u001b[0m\u001b[1;33m,\u001b[0m \u001b[0mencoding\u001b[0m \u001b[1;33m=\u001b[0m \u001b[1;34m\"ISO-8859-1\"\u001b[0m\u001b[1;33m,\u001b[0m \u001b[0mdelimiter\u001b[0m\u001b[1;33m=\u001b[0m\u001b[1;34m\";\"\u001b[0m\u001b[1;33m,\u001b[0m \u001b[0mindex_col\u001b[0m\u001b[1;33m=\u001b[0m\u001b[1;36m0\u001b[0m\u001b[1;33m,\u001b[0m \u001b[0merror_bad_lines\u001b[0m\u001b[1;33m=\u001b[0m\u001b[1;32mFalse\u001b[0m\u001b[1;33m)\u001b[0m\u001b[1;33m\u001b[0m\u001b[1;33m\u001b[0m\u001b[0m\n\u001b[0m\u001b[0;32m      5\u001b[0m \u001b[0mstart\u001b[0m\u001b[1;33m=\u001b[0m\u001b[0mlen\u001b[0m\u001b[1;33m(\u001b[0m\u001b[0mdataf\u001b[0m\u001b[1;33m)\u001b[0m\u001b[1;33m\u001b[0m\u001b[1;33m\u001b[0m\u001b[0m\n\u001b[0;32m      6\u001b[0m \u001b[0mend\u001b[0m\u001b[1;33m=\u001b[0m\u001b[0mround\u001b[0m\u001b[1;33m(\u001b[0m\u001b[0mlen\u001b[0m\u001b[1;33m(\u001b[0m\u001b[0mx\u001b[0m\u001b[1;33m)\u001b[0m\u001b[1;33m/\u001b[0m\u001b[1;36m2\u001b[0m\u001b[1;33m)\u001b[0m\u001b[1;33m\u001b[0m\u001b[1;33m\u001b[0m\u001b[0m\n",
      "\u001b[1;32m~\\anaconda3\\lib\\site-packages\\pandas\\io\\parsers.py\u001b[0m in \u001b[0;36mparser_f\u001b[1;34m(filepath_or_buffer, sep, delimiter, header, names, index_col, usecols, squeeze, prefix, mangle_dupe_cols, dtype, engine, converters, true_values, false_values, skipinitialspace, skiprows, skipfooter, nrows, na_values, keep_default_na, na_filter, verbose, skip_blank_lines, parse_dates, infer_datetime_format, keep_date_col, date_parser, dayfirst, cache_dates, iterator, chunksize, compression, thousands, decimal, lineterminator, quotechar, quoting, doublequote, escapechar, comment, encoding, dialect, error_bad_lines, warn_bad_lines, delim_whitespace, low_memory, memory_map, float_precision)\u001b[0m\n\u001b[0;32m    674\u001b[0m         )\n\u001b[0;32m    675\u001b[0m \u001b[1;33m\u001b[0m\u001b[0m\n\u001b[1;32m--> 676\u001b[1;33m         \u001b[1;32mreturn\u001b[0m \u001b[0m_read\u001b[0m\u001b[1;33m(\u001b[0m\u001b[0mfilepath_or_buffer\u001b[0m\u001b[1;33m,\u001b[0m \u001b[0mkwds\u001b[0m\u001b[1;33m)\u001b[0m\u001b[1;33m\u001b[0m\u001b[1;33m\u001b[0m\u001b[0m\n\u001b[0m\u001b[0;32m    677\u001b[0m \u001b[1;33m\u001b[0m\u001b[0m\n\u001b[0;32m    678\u001b[0m     \u001b[0mparser_f\u001b[0m\u001b[1;33m.\u001b[0m\u001b[0m__name__\u001b[0m \u001b[1;33m=\u001b[0m \u001b[0mname\u001b[0m\u001b[1;33m\u001b[0m\u001b[1;33m\u001b[0m\u001b[0m\n",
      "\u001b[1;32m~\\anaconda3\\lib\\site-packages\\pandas\\io\\parsers.py\u001b[0m in \u001b[0;36m_read\u001b[1;34m(filepath_or_buffer, kwds)\u001b[0m\n\u001b[0;32m    446\u001b[0m \u001b[1;33m\u001b[0m\u001b[0m\n\u001b[0;32m    447\u001b[0m     \u001b[1;31m# Create the parser.\u001b[0m\u001b[1;33m\u001b[0m\u001b[1;33m\u001b[0m\u001b[1;33m\u001b[0m\u001b[0m\n\u001b[1;32m--> 448\u001b[1;33m     \u001b[0mparser\u001b[0m \u001b[1;33m=\u001b[0m \u001b[0mTextFileReader\u001b[0m\u001b[1;33m(\u001b[0m\u001b[0mfp_or_buf\u001b[0m\u001b[1;33m,\u001b[0m \u001b[1;33m**\u001b[0m\u001b[0mkwds\u001b[0m\u001b[1;33m)\u001b[0m\u001b[1;33m\u001b[0m\u001b[1;33m\u001b[0m\u001b[0m\n\u001b[0m\u001b[0;32m    449\u001b[0m \u001b[1;33m\u001b[0m\u001b[0m\n\u001b[0;32m    450\u001b[0m     \u001b[1;32mif\u001b[0m \u001b[0mchunksize\u001b[0m \u001b[1;32mor\u001b[0m \u001b[0miterator\u001b[0m\u001b[1;33m:\u001b[0m\u001b[1;33m\u001b[0m\u001b[1;33m\u001b[0m\u001b[0m\n",
      "\u001b[1;32m~\\anaconda3\\lib\\site-packages\\pandas\\io\\parsers.py\u001b[0m in \u001b[0;36m__init__\u001b[1;34m(self, f, engine, **kwds)\u001b[0m\n\u001b[0;32m    878\u001b[0m             \u001b[0mself\u001b[0m\u001b[1;33m.\u001b[0m\u001b[0moptions\u001b[0m\u001b[1;33m[\u001b[0m\u001b[1;34m\"has_index_names\"\u001b[0m\u001b[1;33m]\u001b[0m \u001b[1;33m=\u001b[0m \u001b[0mkwds\u001b[0m\u001b[1;33m[\u001b[0m\u001b[1;34m\"has_index_names\"\u001b[0m\u001b[1;33m]\u001b[0m\u001b[1;33m\u001b[0m\u001b[1;33m\u001b[0m\u001b[0m\n\u001b[0;32m    879\u001b[0m \u001b[1;33m\u001b[0m\u001b[0m\n\u001b[1;32m--> 880\u001b[1;33m         \u001b[0mself\u001b[0m\u001b[1;33m.\u001b[0m\u001b[0m_make_engine\u001b[0m\u001b[1;33m(\u001b[0m\u001b[0mself\u001b[0m\u001b[1;33m.\u001b[0m\u001b[0mengine\u001b[0m\u001b[1;33m)\u001b[0m\u001b[1;33m\u001b[0m\u001b[1;33m\u001b[0m\u001b[0m\n\u001b[0m\u001b[0;32m    881\u001b[0m \u001b[1;33m\u001b[0m\u001b[0m\n\u001b[0;32m    882\u001b[0m     \u001b[1;32mdef\u001b[0m \u001b[0mclose\u001b[0m\u001b[1;33m(\u001b[0m\u001b[0mself\u001b[0m\u001b[1;33m)\u001b[0m\u001b[1;33m:\u001b[0m\u001b[1;33m\u001b[0m\u001b[1;33m\u001b[0m\u001b[0m\n",
      "\u001b[1;32m~\\anaconda3\\lib\\site-packages\\pandas\\io\\parsers.py\u001b[0m in \u001b[0;36m_make_engine\u001b[1;34m(self, engine)\u001b[0m\n\u001b[0;32m   1112\u001b[0m     \u001b[1;32mdef\u001b[0m \u001b[0m_make_engine\u001b[0m\u001b[1;33m(\u001b[0m\u001b[0mself\u001b[0m\u001b[1;33m,\u001b[0m \u001b[0mengine\u001b[0m\u001b[1;33m=\u001b[0m\u001b[1;34m\"c\"\u001b[0m\u001b[1;33m)\u001b[0m\u001b[1;33m:\u001b[0m\u001b[1;33m\u001b[0m\u001b[1;33m\u001b[0m\u001b[0m\n\u001b[0;32m   1113\u001b[0m         \u001b[1;32mif\u001b[0m \u001b[0mengine\u001b[0m \u001b[1;33m==\u001b[0m \u001b[1;34m\"c\"\u001b[0m\u001b[1;33m:\u001b[0m\u001b[1;33m\u001b[0m\u001b[1;33m\u001b[0m\u001b[0m\n\u001b[1;32m-> 1114\u001b[1;33m             \u001b[0mself\u001b[0m\u001b[1;33m.\u001b[0m\u001b[0m_engine\u001b[0m \u001b[1;33m=\u001b[0m \u001b[0mCParserWrapper\u001b[0m\u001b[1;33m(\u001b[0m\u001b[0mself\u001b[0m\u001b[1;33m.\u001b[0m\u001b[0mf\u001b[0m\u001b[1;33m,\u001b[0m \u001b[1;33m**\u001b[0m\u001b[0mself\u001b[0m\u001b[1;33m.\u001b[0m\u001b[0moptions\u001b[0m\u001b[1;33m)\u001b[0m\u001b[1;33m\u001b[0m\u001b[1;33m\u001b[0m\u001b[0m\n\u001b[0m\u001b[0;32m   1115\u001b[0m         \u001b[1;32melse\u001b[0m\u001b[1;33m:\u001b[0m\u001b[1;33m\u001b[0m\u001b[1;33m\u001b[0m\u001b[0m\n\u001b[0;32m   1116\u001b[0m             \u001b[1;32mif\u001b[0m \u001b[0mengine\u001b[0m \u001b[1;33m==\u001b[0m \u001b[1;34m\"python\"\u001b[0m\u001b[1;33m:\u001b[0m\u001b[1;33m\u001b[0m\u001b[1;33m\u001b[0m\u001b[0m\n",
      "\u001b[1;32m~\\anaconda3\\lib\\site-packages\\pandas\\io\\parsers.py\u001b[0m in \u001b[0;36m__init__\u001b[1;34m(self, src, **kwds)\u001b[0m\n\u001b[0;32m   1872\u001b[0m         \u001b[1;32mif\u001b[0m \u001b[0mkwds\u001b[0m\u001b[1;33m.\u001b[0m\u001b[0mget\u001b[0m\u001b[1;33m(\u001b[0m\u001b[1;34m\"compression\"\u001b[0m\u001b[1;33m)\u001b[0m \u001b[1;32mis\u001b[0m \u001b[1;32mNone\u001b[0m \u001b[1;32mand\u001b[0m \u001b[0mencoding\u001b[0m\u001b[1;33m:\u001b[0m\u001b[1;33m\u001b[0m\u001b[1;33m\u001b[0m\u001b[0m\n\u001b[0;32m   1873\u001b[0m             \u001b[1;32mif\u001b[0m \u001b[0misinstance\u001b[0m\u001b[1;33m(\u001b[0m\u001b[0msrc\u001b[0m\u001b[1;33m,\u001b[0m \u001b[0mstr\u001b[0m\u001b[1;33m)\u001b[0m\u001b[1;33m:\u001b[0m\u001b[1;33m\u001b[0m\u001b[1;33m\u001b[0m\u001b[0m\n\u001b[1;32m-> 1874\u001b[1;33m                 \u001b[0msrc\u001b[0m \u001b[1;33m=\u001b[0m \u001b[0mopen\u001b[0m\u001b[1;33m(\u001b[0m\u001b[0msrc\u001b[0m\u001b[1;33m,\u001b[0m \u001b[1;34m\"rb\"\u001b[0m\u001b[1;33m)\u001b[0m\u001b[1;33m\u001b[0m\u001b[1;33m\u001b[0m\u001b[0m\n\u001b[0m\u001b[0;32m   1875\u001b[0m                 \u001b[0mself\u001b[0m\u001b[1;33m.\u001b[0m\u001b[0mhandles\u001b[0m\u001b[1;33m.\u001b[0m\u001b[0mappend\u001b[0m\u001b[1;33m(\u001b[0m\u001b[0msrc\u001b[0m\u001b[1;33m)\u001b[0m\u001b[1;33m\u001b[0m\u001b[1;33m\u001b[0m\u001b[0m\n\u001b[0;32m   1876\u001b[0m \u001b[1;33m\u001b[0m\u001b[0m\n",
      "\u001b[1;31mFileNotFoundError\u001b[0m: [Errno 2] No such file or directory: 'times_computed.csv'"
     ]
    }
   ],
   "source": [
    "#ALBERTONCINI\n",
    "\n",
    "import time\n",
    "dataf=pd.read_csv(\"times_computed.csv\", encoding = \"ISO-8859-1\", delimiter=\";\", index_col=0, error_bad_lines=False)\n",
    "start=len(dataf)\n",
    "end=round(len(x)/2)\n",
    "while start<end:\n",
    "    try:\n",
    "        dataf=pd.read_csv(\"times_computed.csv\", encoding = \"ISO-8859-1\", delimiter=\";\", index_col=0, error_bad_lines=False)\n",
    "        start=len(dataf)\n",
    "        #Outer loop over cities (from)\n",
    "        for j in range(start, end):\n",
    "            lat, lon=getLocation(x[j])\n",
    "            from_address=str(lat)+\", \"+str(lon)\n",
    "            double_error = False\n",
    "            t=[x[j]]\n",
    "            d=[x[j]]\n",
    "            #Inner loop over cities (to)\n",
    "            for i in tqdm(range(len(y)), desc=str(j)):\n",
    "                wait=2\n",
    "                #Loop until get distance\n",
    "                while True:\n",
    "                    region = 'EU'\n",
    "                    lat, lon = getLocation(y[i])\n",
    "                    to_address=str(lat)+\", \"+str(lon)\n",
    "                    try:\n",
    "                        route = WazeRouteCalculator.WazeRouteCalculator(from_address, to_address, region)\n",
    "                        route_time, route_distance = route.calc_route_info(real_time=False)\n",
    "                    except:\n",
    "                        #On error wait (to avoid out of request) and retry to get route\n",
    "                        #print(x[j]+\"\\n\"+y[i])\n",
    "                        time.sleep(wait)\n",
    "                        wait=wait+2\n",
    "                        continue\n",
    "                    t.append(round(route_time, 2))\n",
    "                    #d.append(route_distance)\n",
    "                    break\n",
    "            with open('times_computed.csv', mode='a') as time_file:\n",
    "                time_file = csv.writer(time_file, delimiter=';', quoting=csv.QUOTE_MINIMAL)\n",
    "                time_file.writerow(t)\n",
    "\n",
    "            \"\"\"with open('distances_computed.csv', mode='a') as distance_file:\n",
    "                distance_file = csv.writer(distance_file, delimiter=';', quotechar='\"', quoting=csv.QUOTE_MINIMAL)\n",
    "                distance_file.writerow(d)\"\"\"\n",
    "    except:\n",
    "        time.sleep(5)\n",
    "        pass\n"
   ]
  },
  {
   "cell_type": "code",
   "execution_count": null,
   "metadata": {},
   "outputs": [],
   "source": [
    "#MASSIMO\n",
    "\n",
    "import time\n",
    "dataf=pd.read_csv(\"times_computed.csv\", encoding = \"ISO-8859-1\", delimiter=\";\", index_col=0, error_bad_lines=False)\n",
    "start=len(dataf)+33\n",
    "end=len(x)\n",
    "while start<end:\n",
    "    try:\n",
    "        dataf=pd.read_csv(\"times_computed.csv\", encoding = \"ISO-8859-1\", delimiter=\";\", index_col=0, error_bad_lines=False)\n",
    "        start=len(dataf)\n",
    "        #Outer loop over cities (from)\n",
    "        for j in range(start, end):\n",
    "            lat, lon=getLocation(x[j])\n",
    "            from_address=str(lat)+\", \"+str(lon)\n",
    "            double_error = False\n",
    "            t=[x[j]]\n",
    "            d=[x[j]]\n",
    "            #Inner loop over cities (to)\n",
    "            for i in tqdm(range(len(y)), desc=str(j)):\n",
    "                wait=2\n",
    "                #Loop until get distance\n",
    "                while True:\n",
    "                    region = 'EU'\n",
    "                    lat, lon = getLocation(y[i])\n",
    "                    to_address=str(lat)+\", \"+str(lon)\n",
    "                    try:\n",
    "                        route = WazeRouteCalculator.WazeRouteCalculator(from_address, to_address, region)\n",
    "                        route_time, route_distance = route.calc_route_info(real_time=False)\n",
    "                    except:\n",
    "                        #On error wait (to avoid out of request) and retry to get route\n",
    "                        #print(x[j]+\"\\n\"+y[i])\n",
    "                        time.sleep(wait)\n",
    "                        wait=wait+2\n",
    "                        continue\n",
    "                    t.append(round(route_time, 2))\n",
    "                    #d.append(route_distance)\n",
    "                    break\n",
    "            with open('times_computed.csv', mode='a') as time_file:\n",
    "                time_file = csv.writer(time_file, delimiter=';', quoting=csv.QUOTE_MINIMAL)\n",
    "                time_file.writerow(t)\n",
    "\n",
    "            \"\"\"with open('distances_computed.csv', mode='a') as distance_file:\n",
    "                distance_file = csv.writer(distance_file, delimiter=';', quotechar='\"', quoting=csv.QUOTE_MINIMAL)\n",
    "                distance_file.writerow(d)\"\"\"\n",
    "    except:\n",
    "        time.sleep(5)\n",
    "        pass"
   ]
  },
  {
   "cell_type": "code",
   "execution_count": 13,
   "metadata": {},
   "outputs": [
    {
     "data": {
      "text/plain": [
       "67"
      ]
     },
     "execution_count": 13,
     "metadata": {},
     "output_type": "execute_result"
    }
   ],
   "source": [
    "dataf=pd.read_csv(\"times_computed.csv\", encoding = \"ISO-8859-1\", delimiter=\";\", index_col=0, error_bad_lines=False)\n",
    "len(dataf)"
   ]
  },
  {
   "cell_type": "code",
   "execution_count": 71,
   "metadata": {},
   "outputs": [
    {
     "data": {
      "text/plain": [
       "32"
      ]
     },
     "execution_count": 71,
     "metadata": {},
     "output_type": "execute_result"
    }
   ],
   "source": [
    "round(len(x)/2)"
   ]
  },
  {
   "cell_type": "code",
   "execution_count": 73,
   "metadata": {},
   "outputs": [
    {
     "name": "stdout",
     "output_type": "stream",
     "text": [
      "45.078872 10.37518\n"
     ]
    },
    {
     "data": {
      "text/plain": [
       "'lat, lon = getLocation(\"Sospiro, Tosi\")\\nto_address=str(lat)+\", \"+str(lon)\\nroute = WazeRouteCalculator.WazeRouteCalculator(from_address, to_address, \"EU\")\\nroute_time, route_distance = route.calc_route_info(real_time=False)\\nroute_time'"
      ]
     },
     "execution_count": 73,
     "metadata": {},
     "output_type": "execute_result"
    }
   ],
   "source": [
    "\n",
    "lat, lon=getLocation(\"San Giovanni in Croce\")\n",
    "#from_address=str(lat)+\", \"+str(lon)\n",
    "print(str(lat) + \" \" + str(lon))\n",
    "\"\"\"lat, lon = getLocation(\"Sospiro, Tosi\")\n",
    "to_address=str(lat)+\", \"+str(lon)\n",
    "route = WazeRouteCalculator.WazeRouteCalculator(from_address, to_address, \"EU\")\n",
    "route_time, route_distance = route.calc_route_info(real_time=False)\n",
    "route_time\"\"\""
   ]
  },
  {
   "cell_type": "code",
   "execution_count": 56,
   "metadata": {},
   "outputs": [
    {
     "data": {
      "application/vnd.jupyter.widget-view+json": {
       "model_id": "695c0c4b98e74dad859ced148c123902",
       "version_major": 2,
       "version_minor": 0
      },
      "text/plain": [
       "HBox(children=(FloatProgress(value=0.0, max=65.0), HTML(value='')))"
      ]
     },
     "metadata": {},
     "output_type": "display_data"
    },
    {
     "name": "stdout",
     "output_type": "stream",
     "text": [
      "\n"
     ]
    }
   ],
   "source": [
    "import time\n",
    "lat, lon=getLocation(\"Sospiro\")\n",
    "to_address=str(lat)+\", \"+str(lon)\n",
    "t=[\"Sospiro\"]\n",
    "d=[\"Sospiro\"]\n",
    "#Inner loop over cities (to)\n",
    "for i in tqdm(range(len(x))):\n",
    "    wait=2\n",
    "    #Loop until get distance\n",
    "    while True:\n",
    "        region = 'EU'\n",
    "        lat, lon = getLocation(x[i])\n",
    "        from_address=str(lat)+\", \"+str(lon)\n",
    "        try:\n",
    "            route = WazeRouteCalculator.WazeRouteCalculator(from_address, to_address, region)\n",
    "            route_time, route_distance = route.calc_route_info(real_time=False)\n",
    "        except:\n",
    "            #On error wait (to avoid out of request) and retry to get route\n",
    "            #print(x[j]+\"\\n\"+y[i])\n",
    "            time.sleep(wait)\n",
    "            wait=wait+2\n",
    "            continue\n",
    "        t.append(route_time)\n",
    "        d.append(route_distance)\n",
    "        break"
   ]
  },
  {
   "cell_type": "code",
   "execution_count": 57,
   "metadata": {},
   "outputs": [
    {
     "data": {
      "text/plain": [
       "[58,\n",
       " 28,\n",
       " 51,\n",
       " 7,\n",
       " 52,\n",
       " 49,\n",
       " 56,\n",
       " 25,\n",
       " 51,\n",
       " 26,\n",
       " 41,\n",
       " 34,\n",
       " 19,\n",
       " 9,\n",
       " 45,\n",
       " 46,\n",
       " 15,\n",
       " 15,\n",
       " 54,\n",
       " 41,\n",
       " 13,\n",
       " 16,\n",
       " 26,\n",
       " 20,\n",
       " 16,\n",
       " 43,\n",
       " 40,\n",
       " 22,\n",
       " 52,\n",
       " 38,\n",
       " 48,\n",
       " 18,\n",
       " 28,\n",
       " 51,\n",
       " 55,\n",
       " 15,\n",
       " 11,\n",
       " 20,\n",
       " 50,\n",
       " 32,\n",
       " 30,\n",
       " 37,\n",
       " 48,\n",
       " 42,\n",
       " 26,\n",
       " 61,\n",
       " 43,\n",
       " 32,\n",
       " 15,\n",
       " 16,\n",
       " 52,\n",
       " 23,\n",
       " 14,\n",
       " 43,\n",
       " 34,\n",
       " 0,\n",
       " 58,\n",
       " 54,\n",
       " 38,\n",
       " 52,\n",
       " 61,\n",
       " 12,\n",
       " 16,\n",
       " 8,\n",
       " 19]"
      ]
     },
     "execution_count": 57,
     "metadata": {},
     "output_type": "execute_result"
    }
   ],
   "source": [
    "\"\"\"\n",
    "with open('sospirot.csv', mode='w') as time_file:\n",
    "        time_file = csv.writer(time_file, delimiter=';')\n",
    "        time_file.writerow(t)\n",
    "with open('sospirod.csv', mode='w') as time_file:\n",
    "        time_file = csv.writer(time_file, delimiter=';')\n",
    "        time_file.writerow(d)\n",
    "\"\"\"\n",
    "rounded=[round(float(x)) for x in t[1:]]\n",
    "rounded"
   ]
  },
  {
   "cell_type": "code",
   "execution_count": 67,
   "metadata": {},
   "outputs": [],
   "source": [
    "for i in t:\n",
    "    with open('sospirot.csv', mode='w', newline='') as time_file:\n",
    "        time_file = csv.writer(time_file)\n",
    "        time_file.writerow([i])\n",
    "\"\"\"for i in d:\n",
    "    with open('sospirod.csv', mode='a', newline='') as time_file:\n",
    "        time_file = csv.writer(time_file, delimiter=';')\n",
    "        time_file.writerow([i])\"\"\""
   ]
  }
 ],
 "metadata": {
  "kernelspec": {
   "display_name": "Python 3",
   "language": "python",
   "name": "python3"
  },
  "language_info": {
   "codemirror_mode": {
    "name": "ipython",
    "version": 3
   },
   "file_extension": ".py",
   "mimetype": "text/x-python",
   "name": "python",
   "nbconvert_exporter": "python",
   "pygments_lexer": "ipython3",
   "version": "3.7.6"
  }
 },
 "nbformat": 4,
 "nbformat_minor": 4
}

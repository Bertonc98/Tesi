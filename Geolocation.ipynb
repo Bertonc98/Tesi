{
 "cells": [
  {
   "cell_type": "code",
   "execution_count": 1,
   "metadata": {},
   "outputs": [
    {
     "name": "stdout",
     "output_type": "stream",
     "text": [
      "45.1786532 9.64905444930788\n"
     ]
    }
   ],
   "source": [
    "from functools import partial\n",
    "from geopy.geocoders import Nominatim\n",
    "geolocator = Nominatim(user_agent=\"useer_agent\", domain='nominatim.openstreetmap.org')\n",
    "geocode = partial(geolocator.geocode, language=\"it\", country_codes = \"ita\")\n",
    "\n",
    "location = geolocator.geocode(\"Biblioteca comunale casalpusterlengo\")\n",
    "print(location.latitude, location.longitude)"
   ]
  },
  {
   "cell_type": "code",
   "execution_count": 2,
   "metadata": {},
   "outputs": [
    {
     "name": "stdout",
     "output_type": "stream",
     "text": [
      "Time 14.466666666666667 minutes, distance 10.993 km.\n"
     ]
    }
   ],
   "source": [
    "import WazeRouteCalculator\n",
    "\n",
    "from_address = '45.177015, 9.657982'\n",
    "to_address = '45.159800, 9.554085'\n",
    "region = 'EU'\n",
    "route = WazeRouteCalculator.WazeRouteCalculator(from_address, to_address, region)\n",
    "route_time, route_distance = route.calc_route_info()\n",
    "print (f\"Time {route_time} minutes, distance {route_distance} km.\")"
   ]
  },
  {
   "cell_type": "code",
   "execution_count": 3,
   "metadata": {},
   "outputs": [
    {
     "data": {
      "text/html": [
       "<div>\n",
       "<style scoped>\n",
       "    .dataframe tbody tr th:only-of-type {\n",
       "        vertical-align: middle;\n",
       "    }\n",
       "\n",
       "    .dataframe tbody tr th {\n",
       "        vertical-align: top;\n",
       "    }\n",
       "\n",
       "    .dataframe thead th {\n",
       "        text-align: right;\n",
       "    }\n",
       "</style>\n",
       "<table border=\"1\" class=\"dataframe\">\n",
       "  <thead>\n",
       "    <tr style=\"text-align: right;\">\n",
       "      <th></th>\n",
       "      <th>Denominazione</th>\n",
       "      <th>Comune</th>\n",
       "      <th>Provincia</th>\n",
       "      <th>Indirizzo</th>\n",
       "      <th>Cap</th>\n",
       "      <th>Calendarizzata (sì/no)</th>\n",
       "    </tr>\n",
       "  </thead>\n",
       "  <tbody>\n",
       "    <tr>\n",
       "      <th>0</th>\n",
       "      <td>Agnadello - Biblioteca Comunale</td>\n",
       "      <td>Agnadello</td>\n",
       "      <td>CR</td>\n",
       "      <td>via Marconi, 6</td>\n",
       "      <td>26020</td>\n",
       "      <td>sì</td>\n",
       "    </tr>\n",
       "    <tr>\n",
       "      <th>1</th>\n",
       "      <td>Annicco - Biblioteca Comunale Remo Contardi</td>\n",
       "      <td>Annicco</td>\n",
       "      <td>CR</td>\n",
       "      <td>piazza Giuseppe Garibaldi, 6</td>\n",
       "      <td>26021</td>\n",
       "      <td>sì</td>\n",
       "    </tr>\n",
       "    <tr>\n",
       "      <th>3</th>\n",
       "      <td>Bagnolo Cremasco - Biblioteca Comunale</td>\n",
       "      <td>Bagnolo Cremasco</td>\n",
       "      <td>CR</td>\n",
       "      <td>piazza Roma, 3</td>\n",
       "      <td>26010</td>\n",
       "      <td>sì</td>\n",
       "    </tr>\n",
       "    <tr>\n",
       "      <th>4</th>\n",
       "      <td>Bonemerse - Biblioteca Comunale</td>\n",
       "      <td>Bonemerse</td>\n",
       "      <td>CR</td>\n",
       "      <td>via Roma, 25</td>\n",
       "      <td>26040</td>\n",
       "      <td>sì</td>\n",
       "    </tr>\n",
       "    <tr>\n",
       "      <th>7</th>\n",
       "      <td>Camisano - Biblioteca Comunale</td>\n",
       "      <td>Camisano</td>\n",
       "      <td>CR</td>\n",
       "      <td>via Trieste, 57</td>\n",
       "      <td>26010</td>\n",
       "      <td>sì</td>\n",
       "    </tr>\n",
       "  </tbody>\n",
       "</table>\n",
       "</div>"
      ],
      "text/plain": [
       "                                 Denominazione            Comune Provincia  \\\n",
       "0              Agnadello - Biblioteca Comunale         Agnadello        CR   \n",
       "1  Annicco - Biblioteca Comunale Remo Contardi           Annicco        CR   \n",
       "3       Bagnolo Cremasco - Biblioteca Comunale  Bagnolo Cremasco        CR   \n",
       "4              Bonemerse - Biblioteca Comunale         Bonemerse        CR   \n",
       "7               Camisano - Biblioteca Comunale          Camisano        CR   \n",
       "\n",
       "                      Indirizzo    Cap Calendarizzata (sì/no)  \n",
       "0                via Marconi, 6  26020                     sì  \n",
       "1  piazza Giuseppe Garibaldi, 6  26021                     sì  \n",
       "3                piazza Roma, 3  26010                     sì  \n",
       "4                  via Roma, 25  26040                     sì  \n",
       "7               via Trieste, 57  26010                     sì  "
      ]
     },
     "execution_count": 3,
     "metadata": {},
     "output_type": "execute_result"
    }
   ],
   "source": [
    "from pandas_ods_reader import read_ods\n",
    "import pandas as pd\n",
    "path = \"IndirizziBiblio_21-10-2019.ods\"\n",
    "df = read_ods(path, 'Questionari_normalizza')\n",
    "df=df[df['Calendarizzata (sì/no)']=='sì']\n",
    "df=df.astype({'Cap':'int32'})\n",
    "df.head()"
   ]
  },
  {
   "cell_type": "code",
   "execution_count": 4,
   "metadata": {},
   "outputs": [],
   "source": [
    "def getLocation(name):\n",
    "    geolocator = Nominatim(user_agent=\"useer_agent\")\n",
    "    geocode = partial(geolocator.geocode, language=\"it\")\n",
    "    location =geolocator.geocode(name)\n",
    "    return location.latitude, location.longitude\n",
    "lat, lon = getLocation(\"Agnadello, marconi, 6\")\n",
    "#print(lat, lon)"
   ]
  },
  {
   "cell_type": "code",
   "execution_count": 5,
   "metadata": {},
   "outputs": [
    {
     "data": {
      "text/plain": [
       "(45.4452793, 9.5563573)"
      ]
     },
     "execution_count": 5,
     "metadata": {},
     "output_type": "execute_result"
    }
   ],
   "source": [
    "def getName(row):\n",
    "    name=row.Comune + ','\n",
    "    try:\n",
    "        name=name + row.Indirizzo[row.Indirizzo.lower().index('via')+3:len(row.Indirizzo)]\n",
    "    except:\n",
    "        try:\n",
    "            name=name + row.Indirizzo[row.Indirizzo.lower().index('piazza')+6:len(row.Indirizzo)]\n",
    "        except:\n",
    "            try:\n",
    "                name=name + row.Indirizzo[row.Indirizzo.lower().index('piazzetta')+9:len(row.Indirizzo)]\n",
    "            except:\n",
    "                name=name + row.Indirizzo[row.Indirizzo.lower().index('vicolo')+6:len(row.Indirizzo)]\n",
    "           \n",
    "    return name\n",
    "\n",
    "getLocation(getName(df.iloc[0]))"
   ]
  },
  {
   "cell_type": "code",
   "execution_count": 30,
   "metadata": {},
   "outputs": [],
   "source": [
    "lats = []\n",
    "longs = []\n",
    "not_found = []\n",
    "for i in range(len(df)):\n",
    "    try:\n",
    "        name = getName(df.iloc[i])\n",
    "        lat, lon = getLocation(name)\n",
    "        lats.append(lat)\n",
    "        longs.append(lon)\n",
    "    except:\n",
    "        not_found.append(name)\n",
    "        continue"
   ]
  },
  {
   "cell_type": "code",
   "execution_count": 71,
   "metadata": {},
   "outputs": [],
   "source": [
    "from tqdm.notebook import tqdm as tqdm"
   ]
  },
  {
   "cell_type": "code",
   "execution_count": 73,
   "metadata": {},
   "outputs": [
    {
     "data": {
      "application/vnd.jupyter.widget-view+json": {
       "model_id": "988196c696de4d7e8b96583a53bc3f49",
       "version_major": 2,
       "version_minor": 0
      },
      "text/plain": [
       "HBox(children=(FloatProgress(value=0.0, max=66.0), HTML(value='')))"
      ]
     },
     "metadata": {},
     "output_type": "display_data"
    },
    {
     "name": "stdout",
     "output_type": "stream",
     "text": [
      "\n"
     ]
    }
   ],
   "source": [
    "lat, lon=getLocation(getName(df.iloc[0]))\n",
    "from_address=str(lat)+\", \"+str(lon)\n",
    "double_error = False\n",
    "times=[]\n",
    "for i in tqdm(range(len(df))):\n",
    "    region = 'EU'\n",
    "    lat, lon=getLocation(getName(df.iloc[i]))\n",
    "    to_address=str(lat)+\", \"+str(lon)\n",
    "    try:\n",
    "        route = WazeRouteCalculator.WazeRouteCalculator(from_address, to_address, region)\n",
    "        route_time, route_distance = route.calc_route_info(real_time=False)\n",
    "        double_error=False\n",
    "    except:\n",
    "        i=i-1\n",
    "        if double_error==True:\n",
    "            break\n",
    "        double_error=True\n",
    "    times.append((route_time, route_distance))\n",
    "    #print (f\"{i}-Time {route_time} minutes, distance {route_distance} km.\")\n",
    "\n"
   ]
  },
  {
   "cell_type": "code",
   "execution_count": 85,
   "metadata": {},
   "outputs": [],
   "source": [
    "t=[]\n",
    "d=[]\n",
    "for i in range(len(times)):\n",
    "    t.append(times[i][0])\n",
    "    d.append(times[i][1])"
   ]
  },
  {
   "cell_type": "code",
   "execution_count": 86,
   "metadata": {},
   "outputs": [],
   "source": [
    "#NOT RUN\n",
    "import csv\n",
    "with open('times.csv', mode='w') as time_file:\n",
    "    time_file = csv.writer(time_file, delimiter=',', quotechar='\"', quoting=csv.QUOTE_MINIMAL)\n",
    "\n",
    "    time_file.writerow(t)\n",
    "\n",
    "with open('distances.csv', mode='w') as distance_file:\n",
    "    distance_file = csv.writer(distance_file, delimiter=',', quotechar='\"', quoting=csv.QUOTE_MINIMAL)\n",
    "\n",
    "    distance_file.writerow(d)"
   ]
  }
 ],
 "metadata": {
  "kernelspec": {
   "display_name": "Python 3",
   "language": "python",
   "name": "python3"
  },
  "language_info": {
   "codemirror_mode": {
    "name": "ipython",
    "version": 3
   },
   "file_extension": ".py",
   "mimetype": "text/x-python",
   "name": "python",
   "nbconvert_exporter": "python",
   "pygments_lexer": "ipython3",
   "version": "3.7.6"
  }
 },
 "nbformat": 4,
 "nbformat_minor": 4
}

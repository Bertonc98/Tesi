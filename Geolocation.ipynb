{
 "cells": [
  {
   "cell_type": "code",
   "execution_count": 2,
   "metadata": {},
   "outputs": [],
   "source": [
    "from functools import partial\n",
    "from geopy.geocoders import Nominatim\n",
    "import WazeRouteCalculator\n",
    "geolocator = Nominatim(user_agent=\"useer_agent\", domain='nominatim.openstreetmap.org')\n",
    "geocode = partial(geolocator.geocode, language=\"it\", country_codes = \"ita\")\n"
   ]
  },
  {
   "cell_type": "code",
   "execution_count": 6,
   "metadata": {},
   "outputs": [
    {
     "data": {
      "text/html": [
       "<div>\n",
       "<style scoped>\n",
       "    .dataframe tbody tr th:only-of-type {\n",
       "        vertical-align: middle;\n",
       "    }\n",
       "\n",
       "    .dataframe tbody tr th {\n",
       "        vertical-align: top;\n",
       "    }\n",
       "\n",
       "    .dataframe thead th {\n",
       "        text-align: right;\n",
       "    }\n",
       "</style>\n",
       "<table border=\"1\" class=\"dataframe\">\n",
       "  <thead>\n",
       "    <tr style=\"text-align: right;\">\n",
       "      <th></th>\n",
       "      <th>Denominazione</th>\n",
       "      <th>Comune</th>\n",
       "      <th>Provincia</th>\n",
       "      <th>Indirizzo</th>\n",
       "      <th>Cap</th>\n",
       "      <th>Calendarizzata (sì/no)</th>\n",
       "    </tr>\n",
       "  </thead>\n",
       "  <tbody>\n",
       "    <tr>\n",
       "      <th>0</th>\n",
       "      <td>Agnadello - Biblioteca Comunale</td>\n",
       "      <td>Agnadello</td>\n",
       "      <td>CR</td>\n",
       "      <td>via Marconi, 6</td>\n",
       "      <td>26020</td>\n",
       "      <td>sì</td>\n",
       "    </tr>\n",
       "    <tr>\n",
       "      <th>1</th>\n",
       "      <td>Annicco - Biblioteca Comunale Remo Contardi</td>\n",
       "      <td>Annicco</td>\n",
       "      <td>CR</td>\n",
       "      <td>piazza Giuseppe Garibaldi, 6</td>\n",
       "      <td>26021</td>\n",
       "      <td>sì</td>\n",
       "    </tr>\n",
       "    <tr>\n",
       "      <th>3</th>\n",
       "      <td>Bagnolo Cremasco - Biblioteca Comunale</td>\n",
       "      <td>Bagnolo Cremasco</td>\n",
       "      <td>CR</td>\n",
       "      <td>piazza Roma, 3</td>\n",
       "      <td>26010</td>\n",
       "      <td>sì</td>\n",
       "    </tr>\n",
       "    <tr>\n",
       "      <th>4</th>\n",
       "      <td>Bonemerse - Biblioteca Comunale</td>\n",
       "      <td>Bonemerse</td>\n",
       "      <td>CR</td>\n",
       "      <td>via Roma, 25</td>\n",
       "      <td>26040</td>\n",
       "      <td>sì</td>\n",
       "    </tr>\n",
       "    <tr>\n",
       "      <th>7</th>\n",
       "      <td>Camisano - Biblioteca Comunale</td>\n",
       "      <td>Camisano</td>\n",
       "      <td>CR</td>\n",
       "      <td>via Trieste, 57</td>\n",
       "      <td>26010</td>\n",
       "      <td>sì</td>\n",
       "    </tr>\n",
       "  </tbody>\n",
       "</table>\n",
       "</div>"
      ],
      "text/plain": [
       "                                 Denominazione            Comune Provincia  \\\n",
       "0              Agnadello - Biblioteca Comunale         Agnadello        CR   \n",
       "1  Annicco - Biblioteca Comunale Remo Contardi           Annicco        CR   \n",
       "3       Bagnolo Cremasco - Biblioteca Comunale  Bagnolo Cremasco        CR   \n",
       "4              Bonemerse - Biblioteca Comunale         Bonemerse        CR   \n",
       "7               Camisano - Biblioteca Comunale          Camisano        CR   \n",
       "\n",
       "                      Indirizzo    Cap Calendarizzata (sì/no)  \n",
       "0                via Marconi, 6  26020                     sì  \n",
       "1  piazza Giuseppe Garibaldi, 6  26021                     sì  \n",
       "3                piazza Roma, 3  26010                     sì  \n",
       "4                  via Roma, 25  26040                     sì  \n",
       "7               via Trieste, 57  26010                     sì  "
      ]
     },
     "execution_count": 6,
     "metadata": {},
     "output_type": "execute_result"
    }
   ],
   "source": [
    "from pandas_ods_reader import read_ods\n",
    "import pandas as pd\n",
    "path = \"IndirizziBiblio_21-10-2019.ods\"\n",
    "df = read_ods(path, 'Questionari_normalizza')\n",
    "df=df[df['Calendarizzata (sì/no)']=='sì']\n",
    "df=df.astype({'Cap':'int32'})\n",
    "df.head()"
   ]
  },
  {
   "cell_type": "code",
   "execution_count": 8,
   "metadata": {},
   "outputs": [],
   "source": [
    "def getLocation(name):\n",
    "    geolocator = Nominatim(user_agent=\"useer_agent\")\n",
    "    geocode = partial(geolocator.geocode, language=\"it\")\n",
    "    location =geolocator.geocode(name)\n",
    "    return location.latitude, location.longitude\n",
    "#print(lat, lon)"
   ]
  },
  {
   "cell_type": "code",
   "execution_count": 9,
   "metadata": {},
   "outputs": [],
   "source": [
    "def getName(row):\n",
    "    name=row.Comune + ','\n",
    "    try:\n",
    "        name=name + row.Indirizzo[row.Indirizzo.lower().index('via')+3:len(row.Indirizzo)]\n",
    "    except:\n",
    "        try:\n",
    "            name=name + row.Indirizzo[row.Indirizzo.lower().index('piazza')+6:len(row.Indirizzo)]\n",
    "        except:\n",
    "            try:\n",
    "                name=name + row.Indirizzo[row.Indirizzo.lower().index('piazzetta')+9:len(row.Indirizzo)]\n",
    "            except:\n",
    "                name=name + row.Indirizzo[row.Indirizzo.lower().index('vicolo')+6:len(row.Indirizzo)]\n",
    "           \n",
    "    return name"
   ]
  },
  {
   "cell_type": "code",
   "execution_count": 10,
   "metadata": {},
   "outputs": [],
   "source": [
    "from tqdm.notebook import tqdm as tqdm"
   ]
  },
  {
   "cell_type": "code",
   "execution_count": 51,
   "metadata": {},
   "outputs": [
    {
     "data": {
      "text/plain": [
       "''"
      ]
     },
     "execution_count": 51,
     "metadata": {},
     "output_type": "execute_result"
    }
   ],
   "source": [
    "#DO NOT RUN\n",
    "import csv\n",
    "x=[]\n",
    "y=[\"\"]\n",
    "for i in range(len(df)):\n",
    "    x.append(getName(df.iloc[i]))\n",
    "x.append(\"Cremona, Sesto 39\")\n",
    "\n",
    "for i in range(len(df)):\n",
    "    y.append(getName(df.iloc[i]))\n",
    "y.append(\"Ostiano\")\n",
    "y.append(\"San Giovanni in Croce\")\n",
    "\n",
    "with open('times.csv', mode='a') as time_file:\n",
    "        time_file = csv.writer(time_file, delimiter=';')\n",
    "        time_file.writerow(y)\n",
    "\n",
    "with open('distances.csv', mode='a') as distance_file:\n",
    "    distance_file = csv.writer(distance_file, delimiter=';', quotechar='\"', quoting=csv.QUOTE_MINIMAL)\n",
    "    distance_file.writerow(y)\n",
    "\n",
    "y.pop(0)\n"
   ]
  },
  {
   "cell_type": "code",
   "execution_count": 57,
   "metadata": {},
   "outputs": [
    {
     "data": {
      "application/vnd.jupyter.widget-view+json": {
       "model_id": "6c3806f61422466babf28151f182a859",
       "version_major": 2,
       "version_minor": 0
      },
      "text/plain": [
       "HBox(children=(FloatProgress(value=0.0, description='4', max=68.0, style=ProgressStyle(description_width='init…"
      ]
     },
     "metadata": {},
     "output_type": "display_data"
    },
    {
     "name": "stdout",
     "output_type": "stream",
     "text": [
      "\n"
     ]
    },
    {
     "data": {
      "application/vnd.jupyter.widget-view+json": {
       "model_id": "6f95015fdbb74444b09bd5e52ab3d213",
       "version_major": 2,
       "version_minor": 0
      },
      "text/plain": [
       "HBox(children=(FloatProgress(value=0.0, description='5', max=68.0, style=ProgressStyle(description_width='init…"
      ]
     },
     "metadata": {},
     "output_type": "display_data"
    },
    {
     "name": "stdout",
     "output_type": "stream",
     "text": [
      "\n"
     ]
    },
    {
     "data": {
      "application/vnd.jupyter.widget-view+json": {
       "model_id": "f643d885dad34d2394862645313c759a",
       "version_major": 2,
       "version_minor": 0
      },
      "text/plain": [
       "HBox(children=(FloatProgress(value=0.0, description='6', max=68.0, style=ProgressStyle(description_width='init…"
      ]
     },
     "metadata": {},
     "output_type": "display_data"
    },
    {
     "name": "stdout",
     "output_type": "stream",
     "text": [
      "\n"
     ]
    },
    {
     "data": {
      "application/vnd.jupyter.widget-view+json": {
       "model_id": "fe020621b7be45b3b35dc3dbded7b2f2",
       "version_major": 2,
       "version_minor": 0
      },
      "text/plain": [
       "HBox(children=(FloatProgress(value=0.0, description='7', max=68.0, style=ProgressStyle(description_width='init…"
      ]
     },
     "metadata": {},
     "output_type": "display_data"
    },
    {
     "name": "stdout",
     "output_type": "stream",
     "text": [
      "\n"
     ]
    },
    {
     "data": {
      "application/vnd.jupyter.widget-view+json": {
       "model_id": "7f085b9f63f0436ba159bc2ffb62b336",
       "version_major": 2,
       "version_minor": 0
      },
      "text/plain": [
       "HBox(children=(FloatProgress(value=0.0, description='8', max=68.0, style=ProgressStyle(description_width='init…"
      ]
     },
     "metadata": {},
     "output_type": "display_data"
    },
    {
     "name": "stdout",
     "output_type": "stream",
     "text": [
      "\n"
     ]
    },
    {
     "data": {
      "application/vnd.jupyter.widget-view+json": {
       "model_id": "5c56640767bf4e3c9a56e0acf707bf2c",
       "version_major": 2,
       "version_minor": 0
      },
      "text/plain": [
       "HBox(children=(FloatProgress(value=0.0, description='9', max=68.0, style=ProgressStyle(description_width='init…"
      ]
     },
     "metadata": {},
     "output_type": "display_data"
    },
    {
     "name": "stdout",
     "output_type": "stream",
     "text": [
      "\n"
     ]
    },
    {
     "data": {
      "application/vnd.jupyter.widget-view+json": {
       "model_id": "ae29950e7d354ac08515ee19d554b0eb",
       "version_major": 2,
       "version_minor": 0
      },
      "text/plain": [
       "HBox(children=(FloatProgress(value=0.0, description='10', max=68.0, style=ProgressStyle(description_width='ini…"
      ]
     },
     "metadata": {},
     "output_type": "display_data"
    },
    {
     "name": "stdout",
     "output_type": "stream",
     "text": [
      "\n"
     ]
    },
    {
     "data": {
      "application/vnd.jupyter.widget-view+json": {
       "model_id": "bf6b2a1906e5447f8ee089080876b004",
       "version_major": 2,
       "version_minor": 0
      },
      "text/plain": [
       "HBox(children=(FloatProgress(value=0.0, description='11', max=68.0, style=ProgressStyle(description_width='ini…"
      ]
     },
     "metadata": {},
     "output_type": "display_data"
    },
    {
     "name": "stdout",
     "output_type": "stream",
     "text": [
      "\n"
     ]
    },
    {
     "data": {
      "application/vnd.jupyter.widget-view+json": {
       "model_id": "46e73867dada4f5a8baf8141f6a370a4",
       "version_major": 2,
       "version_minor": 0
      },
      "text/plain": [
       "HBox(children=(FloatProgress(value=0.0, description='12', max=68.0, style=ProgressStyle(description_width='ini…"
      ]
     },
     "metadata": {},
     "output_type": "display_data"
    },
    {
     "name": "stdout",
     "output_type": "stream",
     "text": [
      "\n"
     ]
    },
    {
     "data": {
      "application/vnd.jupyter.widget-view+json": {
       "model_id": "07f249b1eed448d38536df28a9a3be8a",
       "version_major": 2,
       "version_minor": 0
      },
      "text/plain": [
       "HBox(children=(FloatProgress(value=0.0, description='13', max=68.0, style=ProgressStyle(description_width='ini…"
      ]
     },
     "metadata": {},
     "output_type": "display_data"
    },
    {
     "name": "stdout",
     "output_type": "stream",
     "text": [
      "\n"
     ]
    },
    {
     "data": {
      "application/vnd.jupyter.widget-view+json": {
       "model_id": "7854bd665493448a92b804271d67c99b",
       "version_major": 2,
       "version_minor": 0
      },
      "text/plain": [
       "HBox(children=(FloatProgress(value=0.0, description='14', max=68.0, style=ProgressStyle(description_width='ini…"
      ]
     },
     "metadata": {},
     "output_type": "display_data"
    },
    {
     "name": "stdout",
     "output_type": "stream",
     "text": [
      "\n"
     ]
    },
    {
     "data": {
      "application/vnd.jupyter.widget-view+json": {
       "model_id": "f1f35549f5f34ae28b0a631d2e9e61ed",
       "version_major": 2,
       "version_minor": 0
      },
      "text/plain": [
       "HBox(children=(FloatProgress(value=0.0, description='15', max=68.0, style=ProgressStyle(description_width='ini…"
      ]
     },
     "metadata": {},
     "output_type": "display_data"
    },
    {
     "name": "stdout",
     "output_type": "stream",
     "text": [
      "\n"
     ]
    },
    {
     "data": {
      "application/vnd.jupyter.widget-view+json": {
       "model_id": "30fcb4981c2a4051be0a4735c7c217ec",
       "version_major": 2,
       "version_minor": 0
      },
      "text/plain": [
       "HBox(children=(FloatProgress(value=0.0, description='16', max=68.0, style=ProgressStyle(description_width='ini…"
      ]
     },
     "metadata": {},
     "output_type": "display_data"
    },
    {
     "name": "stdout",
     "output_type": "stream",
     "text": [
      "\n"
     ]
    },
    {
     "data": {
      "application/vnd.jupyter.widget-view+json": {
       "model_id": "ef57589d739746da9277e6210dfd0302",
       "version_major": 2,
       "version_minor": 0
      },
      "text/plain": [
       "HBox(children=(FloatProgress(value=0.0, description='17', max=68.0, style=ProgressStyle(description_width='ini…"
      ]
     },
     "metadata": {},
     "output_type": "display_data"
    },
    {
     "name": "stdout",
     "output_type": "stream",
     "text": [
      "\n"
     ]
    },
    {
     "data": {
      "application/vnd.jupyter.widget-view+json": {
       "model_id": "b45b0c503ddf473cbd40b7fb4211e21e",
       "version_major": 2,
       "version_minor": 0
      },
      "text/plain": [
       "HBox(children=(FloatProgress(value=0.0, description='18', max=68.0, style=ProgressStyle(description_width='ini…"
      ]
     },
     "metadata": {},
     "output_type": "display_data"
    },
    {
     "name": "stdout",
     "output_type": "stream",
     "text": [
      "\n"
     ]
    },
    {
     "data": {
      "application/vnd.jupyter.widget-view+json": {
       "model_id": "b670b1fc472c46fba662565ae7e67a86",
       "version_major": 2,
       "version_minor": 0
      },
      "text/plain": [
       "HBox(children=(FloatProgress(value=0.0, description='19', max=68.0, style=ProgressStyle(description_width='ini…"
      ]
     },
     "metadata": {},
     "output_type": "display_data"
    },
    {
     "name": "stdout",
     "output_type": "stream",
     "text": [
      "\n"
     ]
    },
    {
     "data": {
      "application/vnd.jupyter.widget-view+json": {
       "model_id": "93f97c1010754950b2b17f4e97002957",
       "version_major": 2,
       "version_minor": 0
      },
      "text/plain": [
       "HBox(children=(FloatProgress(value=0.0, description='20', max=68.0, style=ProgressStyle(description_width='ini…"
      ]
     },
     "metadata": {},
     "output_type": "display_data"
    },
    {
     "name": "stdout",
     "output_type": "stream",
     "text": [
      "\n"
     ]
    },
    {
     "data": {
      "application/vnd.jupyter.widget-view+json": {
       "model_id": "2cce3aa68095458c9152153711044318",
       "version_major": 2,
       "version_minor": 0
      },
      "text/plain": [
       "HBox(children=(FloatProgress(value=0.0, description='21', max=68.0, style=ProgressStyle(description_width='ini…"
      ]
     },
     "metadata": {},
     "output_type": "display_data"
    },
    {
     "name": "stdout",
     "output_type": "stream",
     "text": [
      "\n"
     ]
    },
    {
     "data": {
      "application/vnd.jupyter.widget-view+json": {
       "model_id": "ed4360f7c1044d7a953b4c7aa61f45a4",
       "version_major": 2,
       "version_minor": 0
      },
      "text/plain": [
       "HBox(children=(FloatProgress(value=0.0, description='22', max=68.0, style=ProgressStyle(description_width='ini…"
      ]
     },
     "metadata": {},
     "output_type": "display_data"
    },
    {
     "name": "stdout",
     "output_type": "stream",
     "text": [
      "\n"
     ]
    },
    {
     "data": {
      "application/vnd.jupyter.widget-view+json": {
       "model_id": "b7d2999647424d7293edb69f7ee58f86",
       "version_major": 2,
       "version_minor": 0
      },
      "text/plain": [
       "HBox(children=(FloatProgress(value=0.0, description='23', max=68.0, style=ProgressStyle(description_width='ini…"
      ]
     },
     "metadata": {},
     "output_type": "display_data"
    },
    {
     "name": "stdout",
     "output_type": "stream",
     "text": [
      "\n"
     ]
    },
    {
     "data": {
      "application/vnd.jupyter.widget-view+json": {
       "model_id": "cf0192f37d884c0ba1493411a7fa23fe",
       "version_major": 2,
       "version_minor": 0
      },
      "text/plain": [
       "HBox(children=(FloatProgress(value=0.0, description='24', max=68.0, style=ProgressStyle(description_width='ini…"
      ]
     },
     "metadata": {},
     "output_type": "display_data"
    },
    {
     "name": "stdout",
     "output_type": "stream",
     "text": [
      "\n"
     ]
    },
    {
     "data": {
      "application/vnd.jupyter.widget-view+json": {
       "model_id": "4a79b87303d94accbad272fdaedb1c40",
       "version_major": 2,
       "version_minor": 0
      },
      "text/plain": [
       "HBox(children=(FloatProgress(value=0.0, description='25', max=68.0, style=ProgressStyle(description_width='ini…"
      ]
     },
     "metadata": {},
     "output_type": "display_data"
    },
    {
     "name": "stdout",
     "output_type": "stream",
     "text": [
      "\n"
     ]
    },
    {
     "data": {
      "application/vnd.jupyter.widget-view+json": {
       "model_id": "4a3c42ff8a4b467fa3e71f7650b13e63",
       "version_major": 2,
       "version_minor": 0
      },
      "text/plain": [
       "HBox(children=(FloatProgress(value=0.0, description='26', max=68.0, style=ProgressStyle(description_width='ini…"
      ]
     },
     "metadata": {},
     "output_type": "display_data"
    },
    {
     "name": "stdout",
     "output_type": "stream",
     "text": [
      "\n"
     ]
    },
    {
     "data": {
      "application/vnd.jupyter.widget-view+json": {
       "model_id": "f8fe7132f3074dff8da026bac38cca9c",
       "version_major": 2,
       "version_minor": 0
      },
      "text/plain": [
       "HBox(children=(FloatProgress(value=0.0, description='27', max=68.0, style=ProgressStyle(description_width='ini…"
      ]
     },
     "metadata": {},
     "output_type": "display_data"
    },
    {
     "name": "stdout",
     "output_type": "stream",
     "text": [
      "\n"
     ]
    },
    {
     "data": {
      "application/vnd.jupyter.widget-view+json": {
       "model_id": "31a1798e095e4150899e67a1321dfb44",
       "version_major": 2,
       "version_minor": 0
      },
      "text/plain": [
       "HBox(children=(FloatProgress(value=0.0, description='28', max=68.0, style=ProgressStyle(description_width='ini…"
      ]
     },
     "metadata": {},
     "output_type": "display_data"
    },
    {
     "name": "stdout",
     "output_type": "stream",
     "text": [
      "\n"
     ]
    },
    {
     "data": {
      "application/vnd.jupyter.widget-view+json": {
       "model_id": "bbbd9d73e1dd4e71ac38b92eb390893b",
       "version_major": 2,
       "version_minor": 0
      },
      "text/plain": [
       "HBox(children=(FloatProgress(value=0.0, description='29', max=68.0, style=ProgressStyle(description_width='ini…"
      ]
     },
     "metadata": {},
     "output_type": "display_data"
    },
    {
     "name": "stdout",
     "output_type": "stream",
     "text": [
      "\n"
     ]
    },
    {
     "data": {
      "application/vnd.jupyter.widget-view+json": {
       "model_id": "9610f6d9a44f4f11982a8d98b86067c2",
       "version_major": 2,
       "version_minor": 0
      },
      "text/plain": [
       "HBox(children=(FloatProgress(value=0.0, description='30', max=68.0, style=ProgressStyle(description_width='ini…"
      ]
     },
     "metadata": {},
     "output_type": "display_data"
    },
    {
     "name": "stdout",
     "output_type": "stream",
     "text": [
      "\n"
     ]
    },
    {
     "data": {
      "application/vnd.jupyter.widget-view+json": {
       "model_id": "60e34459e7df4a65bbb2094ffc9f9b8e",
       "version_major": 2,
       "version_minor": 0
      },
      "text/plain": [
       "HBox(children=(FloatProgress(value=0.0, description='31', max=68.0, style=ProgressStyle(description_width='ini…"
      ]
     },
     "metadata": {},
     "output_type": "display_data"
    }
   ],
   "source": [
    "import time\n",
    "dataf=pd.read_csv(\"times.csv\", encoding = \"ISO-8859-1\", delimiter=\";\", index_col=0, error_bad_lines=False)\n",
    "start=len(dataf)\n",
    "#while start<len(x):\n",
    "try:\n",
    "    dataf=pd.read_csv(\"times.csv\", encoding = \"ISO-8859-1\", delimiter=\";\", index_col=0, error_bad_lines=False)\n",
    "    start=len(dataf)\n",
    "    #Outer loop over cities (from)\n",
    "    for j in range(start, len(x)):\n",
    "        lat, lon=getLocation(x[j])\n",
    "        from_address=str(lat)+\", \"+str(lon)\n",
    "        double_error = False\n",
    "        t=[x[j]]\n",
    "        d=[x[j]]\n",
    "        #Inner loop over cities (to)\n",
    "        for i in tqdm(range(len(y)), desc=str(j)):\n",
    "            wait=2\n",
    "            #Loop until get distance\n",
    "            while True:\n",
    "                region = 'EU'\n",
    "                lat, lon = getLocation(y[i])\n",
    "                to_address=str(lat)+\", \"+str(lon)\n",
    "                try:\n",
    "                    route = WazeRouteCalculator.WazeRouteCalculator(from_address, to_address, region)\n",
    "                    route_time, route_distance = route.calc_route_info(real_time=False)\n",
    "                except:\n",
    "                    #On error wait (to avoid out of request) and retry to get route\n",
    "                    #print(x[j]+\"\\n\"+y[i])\n",
    "                    time.sleep(wait)\n",
    "                    wait=wait+2\n",
    "                    continue\n",
    "                t.append(route_time)\n",
    "                d.append(route_distance)\n",
    "                break\n",
    "        with open('times.csv', mode='a') as time_file:\n",
    "            time_file = csv.writer(time_file, delimiter=';', quoting=csv.QUOTE_MINIMAL)\n",
    "            time_file.writerow(t)\n",
    "\n",
    "        with open('distances.csv', mode='a') as distance_file:\n",
    "            distance_file = csv.writer(distance_file, delimiter=';', quotechar='\"', quoting=csv.QUOTE_MINIMAL)\n",
    "            distance_file.writerow(d)\n",
    "except:\n",
    "    time.sleep(5)\n",
    "    pass\n"
   ]
  },
  {
   "cell_type": "code",
   "execution_count": 14,
   "metadata": {},
   "outputs": [
    {
     "data": {
      "text/html": [
       "<div>\n",
       "<style scoped>\n",
       "    .dataframe tbody tr th:only-of-type {\n",
       "        vertical-align: middle;\n",
       "    }\n",
       "\n",
       "    .dataframe tbody tr th {\n",
       "        vertical-align: top;\n",
       "    }\n",
       "\n",
       "    .dataframe thead th {\n",
       "        text-align: right;\n",
       "    }\n",
       "</style>\n",
       "<table border=\"1\" class=\"dataframe\">\n",
       "  <thead>\n",
       "    <tr style=\"text-align: right;\">\n",
       "      <th></th>\n",
       "      <th>Agnadello, Marconi, 6</th>\n",
       "      <th>Annicco, Giuseppe Garibaldi, 6</th>\n",
       "      <th>Bagnolo Cremasco, Roma, 3</th>\n",
       "      <th>Bonemerse, Roma, 25</th>\n",
       "      <th>Camisano, Trieste, 57</th>\n",
       "      <th>Capergnanica, XI febbraio, 7</th>\n",
       "      <th>Capralba, Piave, 2</th>\n",
       "      <th>Casalbuttano ed Uniti, Jacini, 23</th>\n",
       "      <th>Casale Cremasco-Vidolasco, Roma, 56</th>\n",
       "      <th>Casalmaggiore, Guglielmo Marconi, 8</th>\n",
       "      <th>...</th>\n",
       "      <th>Trescore Cremasco, Vittorio Veneto, 1</th>\n",
       "      <th>Trigolo, Roma, 26</th>\n",
       "      <th>Vaiano Cremasco,  Gloriosi Caduti, 3</th>\n",
       "      <th>Vailate, Dante Alighieri, 7</th>\n",
       "      <th>Vescovato, Roma, 44</th>\n",
       "      <th>Cremona, Felice Cavallotti, 2</th>\n",
       "      <th>Cremona, Palosca n. 2</th>\n",
       "      <th>Cremona, Palosca n. 2.1</th>\n",
       "      <th>Ostiano</th>\n",
       "      <th>San Giovanni</th>\n",
       "    </tr>\n",
       "  </thead>\n",
       "  <tbody>\n",
       "    <tr>\n",
       "      <th>Agnadello, Marconi, 6</th>\n",
       "      <td>0.18333333333333332</td>\n",
       "      <td>41.266.666.666.666.600</td>\n",
       "      <td>17.033.333.333.333.300</td>\n",
       "      <td>5.853.333.333.333.330</td>\n",
       "      <td>22.883.333.333.333.300</td>\n",
       "      <td>17.00</td>\n",
       "      <td>10.333.333.333.333.300</td>\n",
       "      <td>4.606.666.666.666.660</td>\n",
       "      <td>21.733.333.333.333.300</td>\n",
       "      <td>87.65</td>\n",
       "      <td>...</td>\n",
       "      <td>12.55</td>\n",
       "      <td>32.95</td>\n",
       "      <td>12.65</td>\n",
       "      <td>7.166.666.666.666.660</td>\n",
       "      <td>6.178.333.333.333.330</td>\n",
       "      <td>5.518.333.333.333.330</td>\n",
       "      <td>5.606.666.666.666.660</td>\n",
       "      <td>5.606.666.666.666.660</td>\n",
       "      <td>66.7</td>\n",
       "      <td>66.7</td>\n",
       "    </tr>\n",
       "    <tr>\n",
       "      <th>Annicco, Giuseppe Garibaldi, 6</th>\n",
       "      <td>3.996.666.666.666.660</td>\n",
       "      <td>0.0</td>\n",
       "      <td>33.1</td>\n",
       "      <td>25.483.333.333.333.300</td>\n",
       "      <td>33.65</td>\n",
       "      <td>28.20</td>\n",
       "      <td>38.266.666.666.666.600</td>\n",
       "      <td>10.55</td>\n",
       "      <td>3.261.666.666.666.660</td>\n",
       "      <td>5.471.666.666.666.660</td>\n",
       "      <td>...</td>\n",
       "      <td>3.571.666.666.666.660</td>\n",
       "      <td>15.266.666.666.666.600</td>\n",
       "      <td>32.85</td>\n",
       "      <td>43.05</td>\n",
       "      <td>28.85</td>\n",
       "      <td>22.333.333.333.333.300</td>\n",
       "      <td>23.05</td>\n",
       "      <td>23.05</td>\n",
       "      <td>37.766.666.666.666.600</td>\n",
       "      <td>37.766.666.666.666.600</td>\n",
       "    </tr>\n",
       "    <tr>\n",
       "      <th>Bagnolo Cremasco, Roma, 3</th>\n",
       "      <td>15.15</td>\n",
       "      <td>32.266.666.666.666.600</td>\n",
       "      <td>0.0</td>\n",
       "      <td>49.483.333.333.333.300</td>\n",
       "      <td>22.9</td>\n",
       "      <td>7.55</td>\n",
       "      <td>19.583.333.333.333.300</td>\n",
       "      <td>40.35</td>\n",
       "      <td>21.866.666.666.666.600</td>\n",
       "      <td>78.55</td>\n",
       "      <td>...</td>\n",
       "      <td>12.116.666.666.666.600</td>\n",
       "      <td>24.75</td>\n",
       "      <td>5.983.333.333.333.330</td>\n",
       "      <td>21.583.333.333.333.300</td>\n",
       "      <td>52.8</td>\n",
       "      <td>46.166.666.666.666.600</td>\n",
       "      <td>47.083.333.333.333.300</td>\n",
       "      <td>47.083.333.333.333.300</td>\n",
       "      <td>61.85</td>\n",
       "      <td>61.85</td>\n",
       "    </tr>\n",
       "  </tbody>\n",
       "</table>\n",
       "<p>3 rows × 68 columns</p>\n",
       "</div>"
      ],
      "text/plain": [
       "                                Agnadello, Marconi, 6  \\\n",
       "Agnadello, Marconi, 6             0.18333333333333332   \n",
       "Annicco, Giuseppe Garibaldi, 6  3.996.666.666.666.660   \n",
       "Bagnolo Cremasco, Roma, 3                       15.15   \n",
       "\n",
       "                               Annicco, Giuseppe Garibaldi, 6  \\\n",
       "Agnadello, Marconi, 6                  41.266.666.666.666.600   \n",
       "Annicco, Giuseppe Garibaldi, 6                            0.0   \n",
       "Bagnolo Cremasco, Roma, 3              32.266.666.666.666.600   \n",
       "\n",
       "                               Bagnolo Cremasco, Roma, 3  \\\n",
       "Agnadello, Marconi, 6             17.033.333.333.333.300   \n",
       "Annicco, Giuseppe Garibaldi, 6                      33.1   \n",
       "Bagnolo Cremasco, Roma, 3                            0.0   \n",
       "\n",
       "                                   Bonemerse, Roma, 25  \\\n",
       "Agnadello, Marconi, 6            5.853.333.333.333.330   \n",
       "Annicco, Giuseppe Garibaldi, 6  25.483.333.333.333.300   \n",
       "Bagnolo Cremasco, Roma, 3       49.483.333.333.333.300   \n",
       "\n",
       "                                 Camisano, Trieste, 57  \\\n",
       "Agnadello, Marconi, 6           22.883.333.333.333.300   \n",
       "Annicco, Giuseppe Garibaldi, 6                   33.65   \n",
       "Bagnolo Cremasco, Roma, 3                         22.9   \n",
       "\n",
       "                                Capergnanica, XI febbraio, 7  \\\n",
       "Agnadello, Marconi, 6                                  17.00   \n",
       "Annicco, Giuseppe Garibaldi, 6                         28.20   \n",
       "Bagnolo Cremasco, Roma, 3                               7.55   \n",
       "\n",
       "                                    Capralba, Piave, 2  \\\n",
       "Agnadello, Marconi, 6           10.333.333.333.333.300   \n",
       "Annicco, Giuseppe Garibaldi, 6  38.266.666.666.666.600   \n",
       "Bagnolo Cremasco, Roma, 3       19.583.333.333.333.300   \n",
       "\n",
       "                               Casalbuttano ed Uniti, Jacini, 23  \\\n",
       "Agnadello, Marconi, 6                      4.606.666.666.666.660   \n",
       "Annicco, Giuseppe Garibaldi, 6                             10.55   \n",
       "Bagnolo Cremasco, Roma, 3                                  40.35   \n",
       "\n",
       "                               Casale Cremasco-Vidolasco, Roma, 56  \\\n",
       "Agnadello, Marconi, 6                       21.733.333.333.333.300   \n",
       "Annicco, Giuseppe Garibaldi, 6               3.261.666.666.666.660   \n",
       "Bagnolo Cremasco, Roma, 3                   21.866.666.666.666.600   \n",
       "\n",
       "                               Casalmaggiore, Guglielmo Marconi, 8  ...  \\\n",
       "Agnadello, Marconi, 6                                        87.65  ...   \n",
       "Annicco, Giuseppe Garibaldi, 6               5.471.666.666.666.660  ...   \n",
       "Bagnolo Cremasco, Roma, 3                                    78.55  ...   \n",
       "\n",
       "                               Trescore Cremasco, Vittorio Veneto, 1  \\\n",
       "Agnadello, Marconi, 6                                          12.55   \n",
       "Annicco, Giuseppe Garibaldi, 6                 3.571.666.666.666.660   \n",
       "Bagnolo Cremasco, Roma, 3                     12.116.666.666.666.600   \n",
       "\n",
       "                                     Trigolo, Roma, 26  \\\n",
       "Agnadello, Marconi, 6                            32.95   \n",
       "Annicco, Giuseppe Garibaldi, 6  15.266.666.666.666.600   \n",
       "Bagnolo Cremasco, Roma, 3                        24.75   \n",
       "\n",
       "                               Vaiano Cremasco,  Gloriosi Caduti, 3  \\\n",
       "Agnadello, Marconi, 6                                         12.65   \n",
       "Annicco, Giuseppe Garibaldi, 6                                32.85   \n",
       "Bagnolo Cremasco, Roma, 3                     5.983.333.333.333.330   \n",
       "\n",
       "                               Vailate, Dante Alighieri, 7  \\\n",
       "Agnadello, Marconi, 6                7.166.666.666.666.660   \n",
       "Annicco, Giuseppe Garibaldi, 6                       43.05   \n",
       "Bagnolo Cremasco, Roma, 3           21.583.333.333.333.300   \n",
       "\n",
       "                                  Vescovato, Roma, 44  \\\n",
       "Agnadello, Marconi, 6           6.178.333.333.333.330   \n",
       "Annicco, Giuseppe Garibaldi, 6                  28.85   \n",
       "Bagnolo Cremasco, Roma, 3                        52.8   \n",
       "\n",
       "                               Cremona, Felice Cavallotti, 2  \\\n",
       "Agnadello, Marconi, 6                  5.518.333.333.333.330   \n",
       "Annicco, Giuseppe Garibaldi, 6        22.333.333.333.333.300   \n",
       "Bagnolo Cremasco, Roma, 3             46.166.666.666.666.600   \n",
       "\n",
       "                                 Cremona, Palosca n. 2  \\\n",
       "Agnadello, Marconi, 6            5.606.666.666.666.660   \n",
       "Annicco, Giuseppe Garibaldi, 6                   23.05   \n",
       "Bagnolo Cremasco, Roma, 3       47.083.333.333.333.300   \n",
       "\n",
       "                               Cremona, Palosca n. 2.1  \\\n",
       "Agnadello, Marconi, 6            5.606.666.666.666.660   \n",
       "Annicco, Giuseppe Garibaldi, 6                   23.05   \n",
       "Bagnolo Cremasco, Roma, 3       47.083.333.333.333.300   \n",
       "\n",
       "                                               Ostiano            San Giovanni  \n",
       "Agnadello, Marconi, 6                             66.7                    66.7  \n",
       "Annicco, Giuseppe Garibaldi, 6  37.766.666.666.666.600  37.766.666.666.666.600  \n",
       "Bagnolo Cremasco, Roma, 3                        61.85                   61.85  \n",
       "\n",
       "[3 rows x 68 columns]"
      ]
     },
     "execution_count": 14,
     "metadata": {},
     "output_type": "execute_result"
    }
   ],
   "source": [
    "dataf=pd.read_csv(\"times.csv\", encoding = \"ISO-8859-1\", delimiter=\";\", index_col=0, error_bad_lines=False)\n",
    "dataf"
   ]
  },
  {
   "cell_type": "code",
   "execution_count": 54,
   "metadata": {},
   "outputs": [
    {
     "name": "stdout",
     "output_type": "stream",
     "text": [
      "22.1 25.758\n"
     ]
    }
   ],
   "source": [
    "lat, lon = getLocation(y[67])\n",
    "to_address=str(lat)+\", \"+str(lon)\n",
    "lat, lon=getLocation(x[3])\n",
    "from_address=str(lat)+\", \"+str(lon)\n",
    "route = WazeRouteCalculator.WazeRouteCalculator(from_address, to_address, region)\n",
    "route_time, route_distance = route.calc_route_info(real_time=False)\n",
    "print(str(route_time)+\" \"+str(route_distance))"
   ]
  }
 ],
 "metadata": {
  "kernelspec": {
   "display_name": "Python 3",
   "language": "python",
   "name": "python3"
  },
  "language_info": {
   "codemirror_mode": {
    "name": "ipython",
    "version": 3
   },
   "file_extension": ".py",
   "mimetype": "text/x-python",
   "name": "python",
   "nbconvert_exporter": "python",
   "pygments_lexer": "ipython3",
   "version": "3.7.6"
  }
 },
 "nbformat": 4,
 "nbformat_minor": 4
}

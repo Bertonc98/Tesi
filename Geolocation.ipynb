{
 "cells": [
  {
   "cell_type": "code",
   "execution_count": 1,
   "metadata": {},
   "outputs": [
    {
     "name": "stdout",
     "output_type": "stream",
     "text": [
      "45.1786532 9.64905444930788\n"
     ]
    }
   ],
   "source": [
    "from functools import partial\n",
    "from geopy.geocoders import Nominatim\n",
    "geolocator = Nominatim(user_agent=\"useer_agent\", domain='nominatim.openstreetmap.org')\n",
    "geocode = partial(geolocator.geocode, language=\"it\", country_codes = \"ita\")\n",
    "\n",
    "location = geolocator.geocode(\"Biblioteca comunale casalpusterlengo\")\n",
    "print(location.latitude, location.longitude)"
   ]
  },
  {
   "cell_type": "code",
   "execution_count": 2,
   "metadata": {},
   "outputs": [
    {
     "name": "stdout",
     "output_type": "stream",
     "text": [
      "Time 14.466666666666667 minutes, distance 10.993 km.\n"
     ]
    }
   ],
   "source": [
    "import WazeRouteCalculator\n",
    "\n",
    "from_address = '45.177015, 9.657982'\n",
    "to_address = '45.159800, 9.554085'\n",
    "region = 'EU'\n",
    "route = WazeRouteCalculator.WazeRouteCalculator(from_address, to_address, region)\n",
    "route_time, route_distance = route.calc_route_info()\n",
    "print (f\"Time {route_time} minutes, distance {route_distance} km.\")"
   ]
  },
  {
   "cell_type": "code",
   "execution_count": 3,
   "metadata": {},
   "outputs": [
    {
     "data": {
      "text/html": [
       "<div>\n",
       "<style scoped>\n",
       "    .dataframe tbody tr th:only-of-type {\n",
       "        vertical-align: middle;\n",
       "    }\n",
       "\n",
       "    .dataframe tbody tr th {\n",
       "        vertical-align: top;\n",
       "    }\n",
       "\n",
       "    .dataframe thead th {\n",
       "        text-align: right;\n",
       "    }\n",
       "</style>\n",
       "<table border=\"1\" class=\"dataframe\">\n",
       "  <thead>\n",
       "    <tr style=\"text-align: right;\">\n",
       "      <th></th>\n",
       "      <th>Denominazione</th>\n",
       "      <th>Comune</th>\n",
       "      <th>Provincia</th>\n",
       "      <th>Indirizzo</th>\n",
       "      <th>Cap</th>\n",
       "      <th>Calendarizzata (sì/no)</th>\n",
       "    </tr>\n",
       "  </thead>\n",
       "  <tbody>\n",
       "    <tr>\n",
       "      <th>0</th>\n",
       "      <td>Agnadello - Biblioteca Comunale</td>\n",
       "      <td>Agnadello</td>\n",
       "      <td>CR</td>\n",
       "      <td>via Marconi, 6</td>\n",
       "      <td>26020</td>\n",
       "      <td>sì</td>\n",
       "    </tr>\n",
       "    <tr>\n",
       "      <th>1</th>\n",
       "      <td>Annicco - Biblioteca Comunale Remo Contardi</td>\n",
       "      <td>Annicco</td>\n",
       "      <td>CR</td>\n",
       "      <td>piazza Giuseppe Garibaldi, 6</td>\n",
       "      <td>26021</td>\n",
       "      <td>sì</td>\n",
       "    </tr>\n",
       "    <tr>\n",
       "      <th>3</th>\n",
       "      <td>Bagnolo Cremasco - Biblioteca Comunale</td>\n",
       "      <td>Bagnolo Cremasco</td>\n",
       "      <td>CR</td>\n",
       "      <td>piazza Roma, 3</td>\n",
       "      <td>26010</td>\n",
       "      <td>sì</td>\n",
       "    </tr>\n",
       "    <tr>\n",
       "      <th>4</th>\n",
       "      <td>Bonemerse - Biblioteca Comunale</td>\n",
       "      <td>Bonemerse</td>\n",
       "      <td>CR</td>\n",
       "      <td>via Roma, 25</td>\n",
       "      <td>26040</td>\n",
       "      <td>sì</td>\n",
       "    </tr>\n",
       "    <tr>\n",
       "      <th>7</th>\n",
       "      <td>Camisano - Biblioteca Comunale</td>\n",
       "      <td>Camisano</td>\n",
       "      <td>CR</td>\n",
       "      <td>via Trieste, 57</td>\n",
       "      <td>26010</td>\n",
       "      <td>sì</td>\n",
       "    </tr>\n",
       "  </tbody>\n",
       "</table>\n",
       "</div>"
      ],
      "text/plain": [
       "                                 Denominazione            Comune Provincia  \\\n",
       "0              Agnadello - Biblioteca Comunale         Agnadello        CR   \n",
       "1  Annicco - Biblioteca Comunale Remo Contardi           Annicco        CR   \n",
       "3       Bagnolo Cremasco - Biblioteca Comunale  Bagnolo Cremasco        CR   \n",
       "4              Bonemerse - Biblioteca Comunale         Bonemerse        CR   \n",
       "7               Camisano - Biblioteca Comunale          Camisano        CR   \n",
       "\n",
       "                      Indirizzo    Cap Calendarizzata (sì/no)  \n",
       "0                via Marconi, 6  26020                     sì  \n",
       "1  piazza Giuseppe Garibaldi, 6  26021                     sì  \n",
       "3                piazza Roma, 3  26010                     sì  \n",
       "4                  via Roma, 25  26040                     sì  \n",
       "7               via Trieste, 57  26010                     sì  "
      ]
     },
     "execution_count": 3,
     "metadata": {},
     "output_type": "execute_result"
    }
   ],
   "source": [
    "from pandas_ods_reader import read_ods\n",
    "import pandas as pd\n",
    "path = \"IndirizziBiblio_21-10-2019.ods\"\n",
    "df = read_ods(path, 'Questionari_normalizza')\n",
    "df=df[df['Calendarizzata (sì/no)']=='sì']\n",
    "df=df.astype({'Cap':'int32'})\n",
    "df.head()"
   ]
  },
  {
   "cell_type": "code",
   "execution_count": 4,
   "metadata": {},
   "outputs": [],
   "source": [
    "def getLocation(name):\n",
    "    geolocator = Nominatim(user_agent=\"useer_agent\")\n",
    "    geocode = partial(geolocator.geocode, language=\"it\")\n",
    "    location =geolocator.geocode(name)\n",
    "    return location.latitude, location.longitude\n",
    "lat, lon = getLocation(\"Agnadello, marconi, 6\")\n",
    "#print(lat, lon)"
   ]
  },
  {
   "cell_type": "code",
   "execution_count": 5,
   "metadata": {},
   "outputs": [
    {
     "data": {
      "text/plain": [
       "(45.4452793, 9.5563573)"
      ]
     },
     "execution_count": 5,
     "metadata": {},
     "output_type": "execute_result"
    }
   ],
   "source": [
    "def getName(row):\n",
    "    name=row.Comune + ','\n",
    "    try:\n",
    "        name=name + row.Indirizzo[row.Indirizzo.lower().index('via')+3:len(row.Indirizzo)]\n",
    "    except:\n",
    "        try:\n",
    "            name=name + row.Indirizzo[row.Indirizzo.lower().index('piazza')+6:len(row.Indirizzo)]\n",
    "        except:\n",
    "            try:\n",
    "                name=name + row.Indirizzo[row.Indirizzo.lower().index('piazzetta')+9:len(row.Indirizzo)]\n",
    "            except:\n",
    "                name=name + row.Indirizzo[row.Indirizzo.lower().index('vicolo')+6:len(row.Indirizzo)]\n",
    "           \n",
    "    return name\n",
    "\n",
    "getLocation(getName(df.iloc[0]))"
   ]
  },
  {
   "cell_type": "code",
   "execution_count": 30,
   "metadata": {},
   "outputs": [],
   "source": [
    "lats = []\n",
    "longs = []\n",
    "not_found = []\n",
    "for i in range(len(df)):\n",
    "    try:\n",
    "        name = getName(df.iloc[i])\n",
    "        lat, lon = getLocation(name)\n",
    "        lats.append(lat)\n",
    "        longs.append(lon)\n",
    "    except:\n",
    "        not_found.append(name)\n",
    "        continue"
   ]
  },
  {
   "cell_type": "code",
   "execution_count": 53,
   "metadata": {},
   "outputs": [
    {
     "name": "stdout",
     "output_type": "stream",
     "text": [
      "0-Time 0.18333333333333332 minutes, distance 0.061 km.\n",
      "1-Time 41.81666666666667 minutes, distance 47.844 km.\n",
      "2-Time 17.083333333333332 minutes, distance 15.755 km.\n",
      "3-Time 59.1 minutes, distance 67.123 km.\n",
      "4-Time 23.116666666666667 minutes, distance 20.433 km.\n",
      "5-Time 17.083333333333332 minutes, distance 18.977 km.\n",
      "6-Time 10.35 minutes, distance 8.718 km.\n",
      "7-Time 46.38333333333333 minutes, distance 49.814 km.\n",
      "8-Time 21.666666666666668 minutes, distance 20.998 km.\n",
      "9-Time 88.5 minutes, distance 100.8 km.\n",
      "10-Time 34.96666666666667 minutes, distance 36.207 km.\n",
      "11-Time 28.966666666666665 minutes, distance 31.652 km.\n",
      "12-Time 50.31666666666667 minutes, distance 57.646 km.\n",
      "13-Time 71.35 minutes, distance 83.343 km.\n",
      "14-Time 21.15 minutes, distance 21.008 km.\n",
      "15-Time 20.933333333333334 minutes, distance 20.614 km.\n",
      "16-Time 41.983333333333334 minutes, distance 50.2 km.\n",
      "17-Time 54.516666666666666 minutes, distance 59.426 km.\n",
      "18-Time 54.516666666666666 minutes, distance 59.426 km.\n",
      "19-Time 11.55 minutes, distance 10.245 km.\n",
      "20-Time 29.65 minutes, distance 31.998 km.\n",
      "21-Time 58.733333333333334 minutes, distance 66.982 km.\n",
      "22-Time 63.583333333333336 minutes, distance 71.462 km.\n",
      "23-Time 40.5 minutes, distance 46.585 km.\n",
      "24-Time 82.51666666666667 minutes, distance 94.61 km.\n",
      "25-Time 71.46666666666667 minutes, distance 83.344 km.\n",
      "26-Time 24.483333333333334 minutes, distance 27.537 km.\n",
      "27-Time 23.366666666666667 minutes, distance 24.886 km.\n",
      "28-Time 83.08333333333333 minutes, distance 96.983 km.\n",
      "29-Time 12.533333333333333 minutes, distance 11.178 km.\n",
      "30-Time 25.416666666666668 minutes, distance 28.712 km.\n",
      "31-Time 24.033333333333335 minutes, distance 22.603 km.\n",
      "32-Time 66.91666666666667 minutes, distance 107.11 km.\n",
      "33-Time 41.93333333333333 minutes, distance 47.871 km.\n",
      "34-Time 12.216666666666667 minutes, distance 11.354 km.\n",
      "34-Time 12.216666666666667 minutes, distance 11.354 km.\n",
      "36-Time 55.833333333333336 minutes, distance 64.101 km.\n",
      "37-Time 66.06666666666666 minutes, distance 75.982 km.\n",
      "38-Time 76.58333333333333 minutes, distance 89.121 km.\n",
      "39-Time 307.51666666666665 minutes, distance 568.225 km.\n",
      "40-Time 42.11666666666667 minutes, distance 44.108 km.\n",
      "41-Time 54.15 minutes, distance 55.263 km.\n",
      "42-Time 101.61666666666666 minutes, distance 113.564 km.\n",
      "43-Time 20.416666666666668 minutes, distance 19.577 km.\n",
      "44-Time 20.233333333333334 minutes, distance 23.168 km.\n",
      "45-Time 89.76666666666667 minutes, distance 102.188 km.\n",
      "46-Time 7.7 minutes, distance 6.887 km.\n",
      "47-Time 27.733333333333334 minutes, distance 31.213 km.\n",
      "48-Time 35.5 minutes, distance 38.891 km.\n",
      "49-Time 77.31666666666666 minutes, distance 89.927 km.\n",
      "50-Time 77.65 minutes, distance 89.045 km.\n",
      "51-Time 18.9 minutes, distance 18.203 km.\n",
      "52-Time 43.35 minutes, distance 50.75 km.\n",
      "53-Time 76.21666666666667 minutes, distance 88.822 km.\n",
      "54-Time 30.3 minutes, distance 30.751 km.\n",
      "55-Time 38.833333333333336 minutes, distance 39.458 km.\n",
      "56-Time 118.96666666666667 minutes, distance 191.427 km.\n",
      "57-Time 12.35 minutes, distance 10.483 km.\n",
      "58-Time 12.516666666666667 minutes, distance 10.596 km.\n",
      "59-Time 33.11666666666667 minutes, distance 35.285 km.\n",
      "60-Time 12.75 minutes, distance 12.619 km.\n",
      "61-Time 7.133333333333334 minutes, distance 5.003 km.\n",
      "62-Time 62.63333333333333 minutes, distance 72.047 km.\n",
      "63-Time 56.233333333333334 minutes, distance 59.682 km.\n",
      "64-Time 56.71666666666667 minutes, distance 64.234 km.\n",
      "65-Time 56.71666666666667 minutes, distance 64.234 km.\n"
     ]
    }
   ],
   "source": [
    "lat, lon=getLocation(getName(df.iloc[0]))\n",
    "from_address=str(lat)+\", \"+str(lon)\n",
    "double_error = False\n",
    "for i in range(len(df)):\n",
    "    region = 'EU'\n",
    "    lat, lon=getLocation(getName(df.iloc[i]))\n",
    "    to_address=str(lat)+\", \"+str(lon)\n",
    "    try:\n",
    "        route = WazeRouteCalculator.WazeRouteCalculator(from_address, to_address, region)\n",
    "        route_time, route_distance = route.calc_route_info(real_time=False)\n",
    "        double_error=False\n",
    "    except:\n",
    "        i=i-1\n",
    "        if double_error==True:\n",
    "            break\n",
    "        double_error=True\n",
    "    print (f\"{i}-Time {route_time} minutes, distance {route_distance} km.\")\n",
    "\n"
   ]
  }
 ],
 "metadata": {
  "kernelspec": {
   "display_name": "Python 3",
   "language": "python",
   "name": "python3"
  },
  "language_info": {
   "codemirror_mode": {
    "name": "ipython",
    "version": 3
   },
   "file_extension": ".py",
   "mimetype": "text/x-python",
   "name": "python",
   "nbconvert_exporter": "python",
   "pygments_lexer": "ipython3",
   "version": "3.7.6"
  }
 },
 "nbformat": 4,
 "nbformat_minor": 4
}

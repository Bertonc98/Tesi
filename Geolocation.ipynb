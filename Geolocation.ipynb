{
 "cells": [
  {
   "cell_type": "code",
   "execution_count": 2,
   "metadata": {},
   "outputs": [],
   "source": [
    "from functools import partial\n",
    "from geopy.geocoders import Nominatim\n",
    "import WazeRouteCalculator\n",
    "geolocator = Nominatim(user_agent=\"useer_agent\", domain='nominatim.openstreetmap.org')\n",
    "geocode = partial(geolocator.geocode, language=\"it\", country_codes = \"ita\")\n"
   ]
  },
  {
   "cell_type": "code",
   "execution_count": 3,
   "metadata": {},
   "outputs": [],
   "source": [
    "from pandas_ods_reader import read_ods\n",
    "import pandas as pd\n",
    "path = \"IndirizziBiblio_21-10-2019.ods\"\n",
    "df = read_ods(path, 'Questionari_normalizza')\n",
    "df=df[df['Calendarizzata (sì/no)']=='sì']\n",
    "df=df.astype({'Cap':'int32'})"
   ]
  },
  {
   "cell_type": "code",
   "execution_count": 4,
   "metadata": {},
   "outputs": [],
   "source": [
    "def getLocation(name):\n",
    "    geolocator = Nominatim(user_agent=\"useer_agent\")\n",
    "    geocode = partial(geolocator.geocode, language=\"it\")\n",
    "    location =geolocator.geocode(name)\n",
    "    return location.latitude, location.longitude\n",
    "#print(lat, lon)"
   ]
  },
  {
   "cell_type": "code",
   "execution_count": 5,
   "metadata": {},
   "outputs": [],
   "source": [
    "def getName(row):\n",
    "    name=row.Comune + ','\n",
    "    try:\n",
    "        name=name + row.Indirizzo[row.Indirizzo.lower().index('via')+3:len(row.Indirizzo)]\n",
    "    except:\n",
    "        try:\n",
    "            name=name + row.Indirizzo[row.Indirizzo.lower().index('piazza')+6:len(row.Indirizzo)]\n",
    "        except:\n",
    "            try:\n",
    "                name=name + row.Indirizzo[row.Indirizzo.lower().index('piazzetta')+9:len(row.Indirizzo)]\n",
    "            except:\n",
    "                name=name + row.Indirizzo[row.Indirizzo.lower().index('vicolo')+6:len(row.Indirizzo)]\n",
    "           \n",
    "    return name"
   ]
  },
  {
   "cell_type": "code",
   "execution_count": 6,
   "metadata": {},
   "outputs": [],
   "source": [
    "from tqdm.notebook import tqdm as tqdm"
   ]
  },
  {
   "cell_type": "code",
   "execution_count": 7,
   "metadata": {},
   "outputs": [
    {
     "data": {
      "text/plain": [
       "''"
      ]
     },
     "execution_count": 7,
     "metadata": {},
     "output_type": "execute_result"
    }
   ],
   "source": [
    "import csv\n",
    "x=[]\n",
    "y=[\"\"]\n",
    "for i in range(len(df)):\n",
    "    x.append(getName(df.iloc[i]))\n",
    "x.append(\"Cremona, Sesto 39\")\n",
    "\n",
    "for i in range(len(df)):\n",
    "    y.append(getName(df.iloc[i]))\n",
    "y.append(\"Ostiano\")\n",
    "y.append(\"San Giovanni in Croce\")\n",
    "\"\"\"\n",
    "with open('times.csv', mode='a') as time_file:\n",
    "        time_file = csv.writer(time_file, delimiter=';')\n",
    "        time_file.writerow(y)\n",
    "\n",
    "with open('distances.csv', mode='a') as distance_file:\n",
    "    distance_file = csv.writer(distance_file, delimiter=';', quotechar='\"', quoting=csv.QUOTE_MINIMAL)\n",
    "    distance_file.writerow(y)\n",
    "\"\"\"\n",
    "y.pop(0)\n"
   ]
  },
  {
   "cell_type": "code",
   "execution_count": 12,
   "metadata": {},
   "outputs": [
    {
     "data": {
      "application/vnd.jupyter.widget-view+json": {
       "model_id": "7724c2dd2603487596a2a4ef281532f4",
       "version_major": 2,
       "version_minor": 0
      },
      "text/plain": [
       "HBox(children=(FloatProgress(value=0.0, description='65', max=68.0, style=ProgressStyle(description_width='ini…"
      ]
     },
     "metadata": {},
     "output_type": "display_data"
    },
    {
     "name": "stdout",
     "output_type": "stream",
     "text": [
      "\n"
     ]
    },
    {
     "data": {
      "application/vnd.jupyter.widget-view+json": {
       "model_id": "f1c0eba1a4f648e9ac0769ab37a6b2a9",
       "version_major": 2,
       "version_minor": 0
      },
      "text/plain": [
       "HBox(children=(FloatProgress(value=0.0, description='66', max=68.0, style=ProgressStyle(description_width='ini…"
      ]
     },
     "metadata": {},
     "output_type": "display_data"
    },
    {
     "name": "stdout",
     "output_type": "stream",
     "text": [
      "\n"
     ]
    }
   ],
   "source": [
    "import time\n",
    "dataf=pd.read_csv(\"times_computed.csv\", encoding = \"ISO-8859-1\", delimiter=\";\", index_col=0, error_bad_lines=False)\n",
    "start=len(dataf)\n",
    "while start<len(x):\n",
    "    try:\n",
    "        dataf=pd.read_csv(\"times_computed.csv\", encoding = \"ISO-8859-1\", delimiter=\";\", index_col=0, error_bad_lines=False)\n",
    "        start=len(dataf)\n",
    "        #Outer loop over cities (from)\n",
    "        for j in range(start, len(x)):\n",
    "            lat, lon=getLocation(x[j])\n",
    "            from_address=str(lat)+\", \"+str(lon)\n",
    "            double_error = False\n",
    "            t=[x[j]]\n",
    "            d=[x[j]]\n",
    "            #Inner loop over cities (to)\n",
    "            for i in tqdm(range(len(y)), desc=str(j)):\n",
    "                wait=2\n",
    "                #Loop until get distance\n",
    "                while True:\n",
    "                    region = 'EU'\n",
    "                    lat, lon = getLocation(y[i])\n",
    "                    to_address=str(lat)+\", \"+str(lon)\n",
    "                    try:\n",
    "                        route = WazeRouteCalculator.WazeRouteCalculator(from_address, to_address, region)\n",
    "                        route_time, route_distance = route.calc_route_info(real_time=False)\n",
    "                    except:\n",
    "                        #On error wait (to avoid out of request) and retry to get route\n",
    "                        #print(x[j]+\"\\n\"+y[i])\n",
    "                        time.sleep(wait)\n",
    "                        wait=wait+2\n",
    "                        continue\n",
    "                    t.append(route_time)\n",
    "                    d.append(route_distance)\n",
    "                    break\n",
    "            with open('times_computed.csv', mode='a') as time_file:\n",
    "                time_file = csv.writer(time_file, delimiter=';', quoting=csv.QUOTE_MINIMAL)\n",
    "                time_file.writerow(t)\n",
    "\n",
    "            with open('distances_computed.csv', mode='a') as distance_file:\n",
    "                distance_file = csv.writer(distance_file, delimiter=';', quotechar='\"', quoting=csv.QUOTE_MINIMAL)\n",
    "                distance_file.writerow(d)\n",
    "    except:\n",
    "        time.sleep(5)\n",
    "        pass\n"
   ]
  },
  {
   "cell_type": "code",
   "execution_count": 13,
   "metadata": {},
   "outputs": [
    {
     "data": {
      "text/plain": [
       "67"
      ]
     },
     "execution_count": 13,
     "metadata": {},
     "output_type": "execute_result"
    }
   ],
   "source": [
    "dataf=pd.read_csv(\"times_computed.csv\", encoding = \"ISO-8859-1\", delimiter=\";\", index_col=0, error_bad_lines=False)\n",
    "len(dataf)"
   ]
  },
  {
   "cell_type": "code",
   "execution_count": 9,
   "metadata": {},
   "outputs": [
    {
     "data": {
      "text/plain": [
       "67"
      ]
     },
     "execution_count": 9,
     "metadata": {},
     "output_type": "execute_result"
    }
   ],
   "source": [
    "len(x)"
   ]
  }
 ],
 "metadata": {
  "kernelspec": {
   "display_name": "Python 3",
   "language": "python",
   "name": "python3"
  },
  "language_info": {
   "codemirror_mode": {
    "name": "ipython",
    "version": 3
   },
   "file_extension": ".py",
   "mimetype": "text/x-python",
   "name": "python",
   "nbconvert_exporter": "python",
   "pygments_lexer": "ipython3",
   "version": "3.7.6"
  }
 },
 "nbformat": 4,
 "nbformat_minor": 4
}

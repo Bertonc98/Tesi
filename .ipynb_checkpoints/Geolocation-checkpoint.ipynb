{
 "cells": [
  {
   "cell_type": "code",
   "execution_count": 1,
   "metadata": {},
   "outputs": [
    {
     "name": "stdout",
     "output_type": "stream",
     "text": [
      "45.1786532 9.64905444930788\n"
     ]
    }
   ],
   "source": [
    "from functools import partial\n",
    "from geopy.geocoders import Nominatim\n",
    "geolocator = Nominatim(user_agent=\"useer_agent\", domain='nominatim.openstreetmap.org')\n",
    "geocode = partial(geolocator.geocode, language=\"it\", country_codes = \"ita\")\n",
    "\n",
    "location = geolocator.geocode(\"Biblioteca comunale casalpusterlengo\")\n",
    "print(location.latitude, location.longitude)"
   ]
  },
  {
   "cell_type": "code",
   "execution_count": 2,
   "metadata": {},
   "outputs": [
    {
     "name": "stdout",
     "output_type": "stream",
     "text": [
      "Time 14.466666666666667 minutes, distance 10.993 km.\n"
     ]
    }
   ],
   "source": [
    "import WazeRouteCalculator\n",
    "\n",
    "from_address = '45.177015, 9.657982'\n",
    "to_address = '45.159800, 9.554085'\n",
    "region = 'EU'\n",
    "route = WazeRouteCalculator.WazeRouteCalculator(from_address, to_address, region)\n",
    "route_time, route_distance = route.calc_route_info()\n",
    "print (f\"Time {route_time} minutes, distance {route_distance} km.\")"
   ]
  },
  {
   "cell_type": "code",
   "execution_count": 3,
   "metadata": {},
   "outputs": [
    {
     "data": {
      "text/html": [
       "<div>\n",
       "<style scoped>\n",
       "    .dataframe tbody tr th:only-of-type {\n",
       "        vertical-align: middle;\n",
       "    }\n",
       "\n",
       "    .dataframe tbody tr th {\n",
       "        vertical-align: top;\n",
       "    }\n",
       "\n",
       "    .dataframe thead th {\n",
       "        text-align: right;\n",
       "    }\n",
       "</style>\n",
       "<table border=\"1\" class=\"dataframe\">\n",
       "  <thead>\n",
       "    <tr style=\"text-align: right;\">\n",
       "      <th></th>\n",
       "      <th>Denominazione</th>\n",
       "      <th>Comune</th>\n",
       "      <th>Provincia</th>\n",
       "      <th>Indirizzo</th>\n",
       "      <th>Cap</th>\n",
       "      <th>Calendarizzata (sì/no)</th>\n",
       "    </tr>\n",
       "  </thead>\n",
       "  <tbody>\n",
       "    <tr>\n",
       "      <th>0</th>\n",
       "      <td>Agnadello - Biblioteca Comunale</td>\n",
       "      <td>Agnadello</td>\n",
       "      <td>CR</td>\n",
       "      <td>via Marconi, 6</td>\n",
       "      <td>26020</td>\n",
       "      <td>sì</td>\n",
       "    </tr>\n",
       "    <tr>\n",
       "      <th>1</th>\n",
       "      <td>Annicco - Biblioteca Comunale Remo Contardi</td>\n",
       "      <td>Annicco</td>\n",
       "      <td>CR</td>\n",
       "      <td>piazza Giuseppe Garibaldi, 6</td>\n",
       "      <td>26021</td>\n",
       "      <td>sì</td>\n",
       "    </tr>\n",
       "    <tr>\n",
       "      <th>3</th>\n",
       "      <td>Bagnolo Cremasco - Biblioteca Comunale</td>\n",
       "      <td>Bagnolo Cremasco</td>\n",
       "      <td>CR</td>\n",
       "      <td>piazza Roma, 3</td>\n",
       "      <td>26010</td>\n",
       "      <td>sì</td>\n",
       "    </tr>\n",
       "    <tr>\n",
       "      <th>4</th>\n",
       "      <td>Bonemerse - Biblioteca Comunale</td>\n",
       "      <td>Bonemerse</td>\n",
       "      <td>CR</td>\n",
       "      <td>via Roma, 25</td>\n",
       "      <td>26040</td>\n",
       "      <td>sì</td>\n",
       "    </tr>\n",
       "    <tr>\n",
       "      <th>7</th>\n",
       "      <td>Camisano - Biblioteca Comunale</td>\n",
       "      <td>Camisano</td>\n",
       "      <td>CR</td>\n",
       "      <td>via Trieste, 57</td>\n",
       "      <td>26010</td>\n",
       "      <td>sì</td>\n",
       "    </tr>\n",
       "  </tbody>\n",
       "</table>\n",
       "</div>"
      ],
      "text/plain": [
       "                                 Denominazione            Comune Provincia  \\\n",
       "0              Agnadello - Biblioteca Comunale         Agnadello        CR   \n",
       "1  Annicco - Biblioteca Comunale Remo Contardi           Annicco        CR   \n",
       "3       Bagnolo Cremasco - Biblioteca Comunale  Bagnolo Cremasco        CR   \n",
       "4              Bonemerse - Biblioteca Comunale         Bonemerse        CR   \n",
       "7               Camisano - Biblioteca Comunale          Camisano        CR   \n",
       "\n",
       "                      Indirizzo    Cap Calendarizzata (sì/no)  \n",
       "0                via Marconi, 6  26020                     sì  \n",
       "1  piazza Giuseppe Garibaldi, 6  26021                     sì  \n",
       "3                piazza Roma, 3  26010                     sì  \n",
       "4                  via Roma, 25  26040                     sì  \n",
       "7               via Trieste, 57  26010                     sì  "
      ]
     },
     "execution_count": 3,
     "metadata": {},
     "output_type": "execute_result"
    }
   ],
   "source": [
    "from pandas_ods_reader import read_ods\n",
    "import pandas as pd\n",
    "path = \"IndirizziBiblio_21-10-2019.ods\"\n",
    "df = read_ods(path, 'Questionari_normalizza')\n",
    "df=df[df['Calendarizzata (sì/no)']=='sì']\n",
    "df=df.astype({'Cap':'int32'})\n",
    "df.head()"
   ]
  },
  {
   "cell_type": "code",
   "execution_count": 4,
   "metadata": {},
   "outputs": [],
   "source": [
    "def getLocation(name):\n",
    "    geolocator = Nominatim(user_agent=\"useer_agent\")\n",
    "    geocode = partial(geolocator.geocode, language=\"it\")\n",
    "    location =geolocator.geocode(name)\n",
    "    return location.latitude, location.longitude\n",
    "lat, lon = getLocation(\"Agnadello, marconi, 6\")\n",
    "#print(lat, lon)"
   ]
  },
  {
   "cell_type": "code",
   "execution_count": 5,
   "metadata": {},
   "outputs": [
    {
     "data": {
      "text/plain": [
       "(45.4452793, 9.5563573)"
      ]
     },
     "execution_count": 5,
     "metadata": {},
     "output_type": "execute_result"
    }
   ],
   "source": [
    "def getName(row):\n",
    "    name=row.Comune + ','\n",
    "    try:\n",
    "        name=name + row.Indirizzo[row.Indirizzo.lower().index('via')+3:len(row.Indirizzo)]\n",
    "    except:\n",
    "        try:\n",
    "            name=name + row.Indirizzo[row.Indirizzo.lower().index('piazza')+6:len(row.Indirizzo)]\n",
    "        except:\n",
    "            try:\n",
    "                name=name + row.Indirizzo[row.Indirizzo.lower().index('piazzetta')+9:len(row.Indirizzo)]\n",
    "            except:\n",
    "                name=name + row.Indirizzo[row.Indirizzo.lower().index('vicolo')+6:len(row.Indirizzo)]\n",
    "           \n",
    "    return name\n",
    "\n",
    "getLocation(getName(df.iloc[0]))"
   ]
  },
  {
   "cell_type": "code",
   "execution_count": 30,
   "metadata": {},
   "outputs": [],
   "source": [
    "lats = []\n",
    "longs = []\n",
    "not_found = []\n",
    "for i in range(len(df)):\n",
    "    try:\n",
    "        name = getName(df.iloc[i])\n",
    "        lat, lon = getLocation(name)\n",
    "        lats.append(lat)\n",
    "        longs.append(lon)\n",
    "    except:\n",
    "        not_found.append(name)\n",
    "        continue"
   ]
  },
  {
   "cell_type": "code",
   "execution_count": 39,
   "metadata": {},
   "outputs": [
    {
     "ename": "WRCError",
     "evalue": "Cannot get coords for Agnadello, Marconi, 6",
     "output_type": "error",
     "traceback": [
      "\u001b[1;31m---------------------------------------------------------------------------\u001b[0m",
      "\u001b[1;31mWRCError\u001b[0m                                  Traceback (most recent call last)",
      "\u001b[1;32m<ipython-input-39-7ef11e97a0ff>\u001b[0m in \u001b[0;36m<module>\u001b[1;34m\u001b[0m\n\u001b[0;32m      3\u001b[0m     \u001b[0mregion\u001b[0m \u001b[1;33m=\u001b[0m \u001b[1;34m'EU'\u001b[0m\u001b[1;33m\u001b[0m\u001b[1;33m\u001b[0m\u001b[0m\n\u001b[0;32m      4\u001b[0m     \u001b[0mto_address\u001b[0m\u001b[1;33m=\u001b[0m\u001b[0mgetName\u001b[0m\u001b[1;33m(\u001b[0m\u001b[0mdf\u001b[0m\u001b[1;33m.\u001b[0m\u001b[0miloc\u001b[0m\u001b[1;33m[\u001b[0m\u001b[0mi\u001b[0m\u001b[1;33m]\u001b[0m\u001b[1;33m)\u001b[0m\u001b[1;33m\u001b[0m\u001b[1;33m\u001b[0m\u001b[0m\n\u001b[1;32m----> 5\u001b[1;33m     \u001b[0mroute\u001b[0m \u001b[1;33m=\u001b[0m \u001b[0mWazeRouteCalculator\u001b[0m\u001b[1;33m.\u001b[0m\u001b[0mWazeRouteCalculator\u001b[0m\u001b[1;33m(\u001b[0m\u001b[0mfrom_address\u001b[0m\u001b[1;33m,\u001b[0m \u001b[0mto_address\u001b[0m\u001b[1;33m,\u001b[0m \u001b[0mregion\u001b[0m\u001b[1;33m)\u001b[0m\u001b[1;33m\u001b[0m\u001b[1;33m\u001b[0m\u001b[0m\n\u001b[0m\u001b[0;32m      6\u001b[0m     \u001b[0mroute_time\u001b[0m\u001b[1;33m,\u001b[0m \u001b[0mroute_distance\u001b[0m \u001b[1;33m=\u001b[0m \u001b[0mroute\u001b[0m\u001b[1;33m.\u001b[0m\u001b[0mcalc_route_info\u001b[0m\u001b[1;33m(\u001b[0m\u001b[1;33m)\u001b[0m\u001b[1;33m\u001b[0m\u001b[1;33m\u001b[0m\u001b[0m\n\u001b[0;32m      7\u001b[0m     \u001b[0mprint\u001b[0m \u001b[1;33m(\u001b[0m\u001b[1;34mf\"Time {route_time} minutes, distance {route_distance} km.\"\u001b[0m\u001b[1;33m)\u001b[0m\u001b[1;33m\u001b[0m\u001b[1;33m\u001b[0m\u001b[0m\n",
      "\u001b[1;32m~\\anaconda3\\lib\\site-packages\\WazeRouteCalculator\\WazeRouteCalculator.py\u001b[0m in \u001b[0;36m__init__\u001b[1;34m(self, start_address, end_address, region, vehicle_type, avoid_toll_roads, avoid_subscription_roads, avoid_ferries, log_lvl)\u001b[0m\n\u001b[0;32m     66\u001b[0m             \u001b[0mself\u001b[0m\u001b[1;33m.\u001b[0m\u001b[0mstart_coords\u001b[0m \u001b[1;33m=\u001b[0m \u001b[0mself\u001b[0m\u001b[1;33m.\u001b[0m\u001b[0mcoords_string_parser\u001b[0m\u001b[1;33m(\u001b[0m\u001b[0mstart_address\u001b[0m\u001b[1;33m)\u001b[0m\u001b[1;33m\u001b[0m\u001b[1;33m\u001b[0m\u001b[0m\n\u001b[0;32m     67\u001b[0m         \u001b[1;32melse\u001b[0m\u001b[1;33m:\u001b[0m\u001b[1;33m\u001b[0m\u001b[1;33m\u001b[0m\u001b[0m\n\u001b[1;32m---> 68\u001b[1;33m             \u001b[0mself\u001b[0m\u001b[1;33m.\u001b[0m\u001b[0mstart_coords\u001b[0m \u001b[1;33m=\u001b[0m \u001b[0mself\u001b[0m\u001b[1;33m.\u001b[0m\u001b[0maddress_to_coords\u001b[0m\u001b[1;33m(\u001b[0m\u001b[0mstart_address\u001b[0m\u001b[1;33m)\u001b[0m\u001b[1;33m\u001b[0m\u001b[1;33m\u001b[0m\u001b[0m\n\u001b[0m\u001b[0;32m     69\u001b[0m         \u001b[0mself\u001b[0m\u001b[1;33m.\u001b[0m\u001b[0mlog\u001b[0m\u001b[1;33m.\u001b[0m\u001b[0mdebug\u001b[0m\u001b[1;33m(\u001b[0m\u001b[1;34m'Start coords: (%s, %s)'\u001b[0m\u001b[1;33m,\u001b[0m \u001b[0mself\u001b[0m\u001b[1;33m.\u001b[0m\u001b[0mstart_coords\u001b[0m\u001b[1;33m[\u001b[0m\u001b[1;34m\"lat\"\u001b[0m\u001b[1;33m]\u001b[0m\u001b[1;33m,\u001b[0m \u001b[0mself\u001b[0m\u001b[1;33m.\u001b[0m\u001b[0mstart_coords\u001b[0m\u001b[1;33m[\u001b[0m\u001b[1;34m\"lon\"\u001b[0m\u001b[1;33m]\u001b[0m\u001b[1;33m)\u001b[0m\u001b[1;33m\u001b[0m\u001b[1;33m\u001b[0m\u001b[0m\n\u001b[0;32m     70\u001b[0m         \u001b[1;32mif\u001b[0m \u001b[0mself\u001b[0m\u001b[1;33m.\u001b[0m\u001b[0malready_coords\u001b[0m\u001b[1;33m(\u001b[0m\u001b[0mend_address\u001b[0m\u001b[1;33m)\u001b[0m\u001b[1;33m:\u001b[0m  \u001b[1;31m# See if we have coordinates or address to resolve\u001b[0m\u001b[1;33m\u001b[0m\u001b[1;33m\u001b[0m\u001b[0m\n",
      "\u001b[1;32m~\\anaconda3\\lib\\site-packages\\WazeRouteCalculator\\WazeRouteCalculator.py\u001b[0m in \u001b[0;36maddress_to_coords\u001b[1;34m(self, address)\u001b[0m\n\u001b[0;32m    111\u001b[0m                     \u001b[0mbounds\u001b[0m \u001b[1;33m=\u001b[0m \u001b[1;33m{\u001b[0m\u001b[1;33m}\u001b[0m\u001b[1;33m\u001b[0m\u001b[1;33m\u001b[0m\u001b[0m\n\u001b[0;32m    112\u001b[0m                 \u001b[1;32mreturn\u001b[0m \u001b[1;33m{\u001b[0m\u001b[1;34m\"lat\"\u001b[0m\u001b[1;33m:\u001b[0m \u001b[0mlat\u001b[0m\u001b[1;33m,\u001b[0m \u001b[1;34m\"lon\"\u001b[0m\u001b[1;33m:\u001b[0m \u001b[0mlon\u001b[0m\u001b[1;33m,\u001b[0m \u001b[1;34m\"bounds\"\u001b[0m\u001b[1;33m:\u001b[0m \u001b[0mbounds\u001b[0m\u001b[1;33m}\u001b[0m\u001b[1;33m\u001b[0m\u001b[1;33m\u001b[0m\u001b[0m\n\u001b[1;32m--> 113\u001b[1;33m         \u001b[1;32mraise\u001b[0m \u001b[0mWRCError\u001b[0m\u001b[1;33m(\u001b[0m\u001b[1;34m\"Cannot get coords for %s\"\u001b[0m \u001b[1;33m%\u001b[0m \u001b[0maddress\u001b[0m\u001b[1;33m)\u001b[0m\u001b[1;33m\u001b[0m\u001b[1;33m\u001b[0m\u001b[0m\n\u001b[0m\u001b[0;32m    114\u001b[0m \u001b[1;33m\u001b[0m\u001b[0m\n\u001b[0;32m    115\u001b[0m     \u001b[1;32mdef\u001b[0m \u001b[0mget_route\u001b[0m\u001b[1;33m(\u001b[0m\u001b[0mself\u001b[0m\u001b[1;33m,\u001b[0m \u001b[0mnpaths\u001b[0m\u001b[1;33m=\u001b[0m\u001b[1;36m1\u001b[0m\u001b[1;33m,\u001b[0m \u001b[0mtime_delta\u001b[0m\u001b[1;33m=\u001b[0m\u001b[1;36m0\u001b[0m\u001b[1;33m)\u001b[0m\u001b[1;33m:\u001b[0m\u001b[1;33m\u001b[0m\u001b[1;33m\u001b[0m\u001b[0m\n",
      "\u001b[1;31mWRCError\u001b[0m: Cannot get coords for Agnadello, Marconi, 6"
     ]
    }
   ],
   "source": [
    "from_address=getLocation(getName(df.iloc[0]))\n",
    "for i in range(len(df)):\n",
    "    region = 'EU'\n",
    "    to_address=getLocation(getName(df.iloc[i]))\n",
    "    route = WazeRouteCalculator.WazeRouteCalculator(from_address, to_address, region)\n",
    "    route_time, route_distance = route.calc_route_info()\n",
    "    print (f\"Time {route_time} minutes, distance {route_distance} km.\")\n",
    "    print(i)"
   ]
  }
 ],
 "metadata": {
  "kernelspec": {
   "display_name": "Python 3",
   "language": "python",
   "name": "python3"
  },
  "language_info": {
   "codemirror_mode": {
    "name": "ipython",
    "version": 3
   },
   "file_extension": ".py",
   "mimetype": "text/x-python",
   "name": "python",
   "nbconvert_exporter": "python",
   "pygments_lexer": "ipython3",
   "version": "3.7.6"
  }
 },
 "nbformat": 4,
 "nbformat_minor": 4
}

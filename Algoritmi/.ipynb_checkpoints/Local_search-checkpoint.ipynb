{
 "cells": [
  {
   "cell_type": "code",
   "execution_count": 1,
   "metadata": {},
   "outputs": [],
   "source": [
    "import pandas as pd\n",
    "import numpy as np\n",
    "import math\n",
    "import datetime\n",
    "from ipynb.fs.defs.functions import new_route\n",
    "from ipynb.fs.defs.functions import get_row\n",
    "from ipynb.fs.defs.functions import get_column\n",
    "from ipynb.fs.defs.functions import getName\n",
    "from ipynb.fs.defs.functions import timeDistance\n",
    "from ipynb.fs.defs.functions import best_index\n",
    "from ipynb.fs.defs.functions import find_best_position\n",
    "from ipynb.fs.defs.functions import cities_list\n",
    "\n",
    "table=pd.read_csv(\"../Dati/orari/route.csv\", delimiter=\";\")\n",
    "time_table=pd.read_csv(\"../Dati/orari/route_time.csv\", delimiter=\";\")\n",
    "dft = pd.read_csv(\"../Dati/distanze/times_computed.csv\", delimiter=\";\", encoding = \"ISO-8859-1\", index_col=0)\n",
    "dfd = pd.read_csv(\"../Dati/distanze/distances_computed.csv\", delimiter=\";\", encoding = \"ISO-8859-1\", index_col=0)\n",
    "fur1 = pd.read_csv(\"../Dati/turni_f/furgoncino1_routing.csv\", delimiter=\";\", encoding = \"ISO-8859-1\")\n",
    "fur2 = pd.read_csv(\"../Dati/turni_f/furgoncino2_routing.csv\", delimiter=\";\", encoding = \"ISO-8859-1\")\n",
    "fur1d = pd.read_csv(\"../Dati/turni_f/furgoncino1_KM_routing.csv\", delimiter=\";\", encoding = \"ISO-8859-1\")\n",
    "fur2d = pd.read_csv(\"../Dati/turni_f/furgoncino2_KM_routing.csv\", delimiter=\";\", encoding = \"ISO-8859-1\")"
   ]
  },
  {
   "cell_type": "code",
   "execution_count": 2,
   "metadata": {},
   "outputs": [
    {
     "data": {
      "text/plain": [
       "Castelverde, Ubaldo Ferrari, 15 $ Annicco, Giuseppe Garibaldi, 6         15.0\n",
       "Annicco, Giuseppe Garibaldi, 6 $ Castelleone, Roma, 67                   14.0\n",
       "Castelleone, Roma, 67 $ Madignano, Portici, 4                             9.0\n",
       "Madignano, Portici, 4 $ Crema, Civerchi, 9                                8.0\n",
       "Crema, Civerchi, 9 $ Palazzo Pignano, Marco Polo, 31                     13.0\n",
       "Palazzo Pignano, Marco Polo, 31 $ Pandino, Castello, 15                   7.0\n",
       "Pandino, Castello, 15 $ Rivolta d'Adda, Stefano Renzi, 5                  9.0\n",
       "Rivolta d'Adda, Stefano Renzi, 5 $ Spino d'Adda, Circonvallazione, 13    10.0\n",
       "Spino d'Adda, Circonvallazione, 13 $ Romanengo, Guaiarini, 14            25.0\n",
       "dtype: float64"
      ]
     },
     "execution_count": 2,
     "metadata": {},
     "output_type": "execute_result"
    }
   ],
   "source": [
    "new_route(fur1[\"mercoledi\"].dropna(), dft)"
   ]
  },
  {
   "cell_type": "code",
   "execution_count": 3,
   "metadata": {},
   "outputs": [],
   "source": [
    "def definitive_local_search(fur, n, dft):\n",
    "    #Schedulazione iniziale, e sequenza dei nomi iniziali, una per ciclare e una copia per effettuare pop e insert\n",
    "    pre_schedule = new_route(fur, dft)\n",
    "    lista = [getName(dft, x) for x in fur]\n",
    "    sequence = lista[:]\n",
    "    #Costo iniziale del percorso greedy in base al furgoncino \"n\"\n",
    "    if(n==1):\n",
    "         pre_cost = sum(pre_schedule.values) + timeDistance('Cremona, Sesto 39', lista[0], dft) + timeDistance(lista[-1], 'Ostiano, Mazzini, 1', dft)\n",
    "    else:\n",
    "         pre_cost = sum(pre_schedule.values) + timeDistance('Cremona, Sesto 39', lista[0], dft) + timeDistance(lista[-1], 'San Giovanni in Croce, Feudatari, 25 A', dft)\n",
    "    new_cost = 0\n",
    "    local_best_cost = math.inf\n",
    "    local_best_schedule = []\n",
    "\n",
    "    #Eseguo finchè ho dei miglioramenti e quindi i nuovi costi sono migliori del migliore al passo prima\n",
    "    while(True):\n",
    "        #Prendo ogni città in lista, la inserisco nella posizione migliore, e tra tutte le città prendo quella che da lo\n",
    "        #spostamento più vantaggioso.\n",
    "        #Se questo è anche migliore del risultato precedente utilizzo la nuova sequenza come passo del ciclo successivo\n",
    "        for i in range(len(lista)):\n",
    "            #Copia della lista su cui lavorare\n",
    "            sequence = lista[:]\n",
    "            to_insert = lista[i]\n",
    "            sequence.remove(to_insert)\n",
    "            curr_schedule = new_route(sequence, dft)\n",
    "            index = best_index(sequence, curr_schedule, to_insert, dft)\n",
    "            try:\n",
    "                sequence.insert(index, to_insert)\n",
    "            except:\n",
    "                print(sequence)\n",
    "                print(to_insert)\n",
    "                raise Exception(\"Error on insert\")\n",
    "            curr_schedule = new_route(sequence, dft)\n",
    "            if(n==1):\n",
    "                new_cost = sum(curr_schedule.values) + timeDistance('Cremona, Sesto 39', sequence[0], dft) + timeDistance(sequence[-1], 'Ostiano, Mazzini, 1', dft)\n",
    "            else:\n",
    "                new_cost = sum(curr_schedule.values) + timeDistance('Cremona, Sesto 39', sequence[0], dft) + timeDistance(sequence[-1], 'San Giovanni in Croce, Feudatari, 25 A', dft)\n",
    "            if(new_cost<local_best_cost):\n",
    "                local_best_cost = new_cost\n",
    "                local_best_schedule = curr_schedule[:]\n",
    "        if(local_best_cost<pre_cost):\n",
    "            pre_cost = local_best_cost\n",
    "            pre_schedule = local_best_schedule[:]\n",
    "            lista = cities_list(pre_schedule)\n",
    "        else:\n",
    "            break\n",
    "    return cities_list(pre_schedule), pre_cost"
   ]
  },
  {
   "cell_type": "code",
   "execution_count": 4,
   "metadata": {},
   "outputs": [
    {
     "name": "stdout",
     "output_type": "stream",
     "text": [
      "['Cremona, Sesto 39', 'Sesto ed Uniti, Roma, 4', 'Grumello Cremonese ed Uniti, Roma, 2', 'Pizzighettone, Giuseppe Garibaldi, 18', 'Soresina, Giacomo Matteotti, 6', 'Trigolo, Roma, 26', 'Castelleone, Roma, 67', 'Montodine,  XXV Aprile, 10', 'Ripalta Cremasca, Roma, 5', 'Ricengo, Guglielmo Marconi', 'Capralba, Piave, 2', 'Sergnano, IV Novembre,  10', 'Casale Cremasco-Vidolasco, Roma, 56', 'Camisano, Trieste, 57', 'Soncino, Dante Alighieri, 23', 'Ostiano, Mazzini, 1']\n",
      "['Cremona, Sesto 39', 'Cremona, Ugolani Dati, 4', 'Persico Dosimo, Albert ,7', 'Ostiano, Mazzini, 1', 'San Giovanni in Croce, Feudatari, 25 A', 'Casalmaggiore, Guglielmo Marconi, 8', 'Scandolara Ravara, Italia', 'Casalpusterlengo, Pusterla 7', 'Vailate, Dante Alighieri, 7', 'Crema, Civerchi, 9', 'Ostiano, Mazzini, 1']\n",
      "['Cremona, Sesto 39', 'Castelverde, Ubaldo Ferrari, 15', 'Annicco, Giuseppe Garibaldi, 6', 'Castelleone, Roma, 67', 'Madignano, Portici, 4', 'Crema, Civerchi, 9', 'Palazzo Pignano, Marco Polo, 31', 'Pandino, Castello, 15', \"Rivolta d'Adda, Stefano Renzi, 5\", \"Spino d'Adda, Circonvallazione, 13\", 'Romanengo, Guaiarini, 14', 'Ostiano, Mazzini, 1']\n",
      "['Cremona, Sesto 39', 'Cremona, Sesto 39', 'Cremona, Ugolani Dati, 4', 'Persico Dosimo, Albert ,7', 'Grontardo, Roma, 16', 'Vescovato, Roma, 44', 'Ostiano, Mazzini, 1', 'Isola Dovarese, Giacomo Matteotti, 1', 'Piadena, Platina, 40', 'San Giovanni in Croce, Feudatari, 25 A', 'Casalmaggiore, Guglielmo Marconi, 8', 'Manerbio, INSURREZIONE NAZIONALE', 'Offanengo, Clavelli Martini, 5', 'Izano, Gerardo da Izano, 4/C', 'Crema, Civerchi, 9', 'Ostiano, Mazzini, 1']\n",
      "['Cremona, Sesto 39', 'Crema, Civerchi, 9', 'Capergnanica, XI febbraio, 7', 'Bagnolo Cremasco, Roma, 3', 'Vaiano Cremasco,  Gloriosi Caduti, 3', 'Monte Cremasco, Roma, 12', 'Dovera, Oldrini 2', 'Pandino, Castello, 15', 'Agnadello, Marconi, 6', \"Rivolta d'Adda, Stefano Renzi, 5\", \"Spino d'Adda, Circonvallazione, 13\", 'Trescore Cremasco, Vittorio Veneto, 1', 'Casaletto Vaprio, Maggiore, 7', 'Ostiano, Mazzini, 1']\n"
     ]
    }
   ],
   "source": [
    "#TIME LOCAL SEARCH\n",
    "week= ['lunedi', 'martedi', 'mercoledi', 'giovedi', 'venerdi']\n",
    "data={}\n",
    "to_write = pd.DataFrame(data)\n",
    "for day in week:\n",
    "    sch, cst = definitive_local_search(fur1[day].dropna(), 1, dft)\n",
    "    sch.insert(0, 'Cremona, Sesto 39')\n",
    "    sch.append('Ostiano, Mazzini, 1')\n",
    "    print(sch)\n",
    "    to_write[day] = pd.Series(sch)"
   ]
  },
  {
   "cell_type": "code",
   "execution_count": 5,
   "metadata": {},
   "outputs": [],
   "source": [
    "to_write.to_csv(\"../Dati/turni_f/ls1_shifts.csv\", index=False, sep=\";\")"
   ]
  },
  {
   "cell_type": "code",
   "execution_count": 6,
   "metadata": {},
   "outputs": [
    {
     "name": "stdout",
     "output_type": "stream",
     "text": [
      "martedi\n",
      "mercoledi\n",
      "giovedi\n"
     ]
    }
   ],
   "source": [
    "week= ['martedi', 'mercoledi', 'giovedi']\n",
    "data={}\n",
    "to_write = pd.DataFrame(data)\n",
    "for day in week:\n",
    "    sch, cst = definitive_local_search(fur2[day].dropna(), 2, dft)\n",
    "    print(day)\n",
    "    sch.insert(0, 'Cremona, Sesto 39')\n",
    "    sch.append('San Giovanni in Croce, Feudatari, 25 A')\n",
    "    to_write[day] = pd.Series(sch)\n",
    "to_write.to_csv(\"../Dati/turni_f/ls2_shifts.csv\", index=False, sep=\";\")"
   ]
  },
  {
   "cell_type": "code",
   "execution_count": 7,
   "metadata": {},
   "outputs": [],
   "source": [
    "#COMPUTE KM LOCAL SEARCH\n",
    "week= ['lunedi', 'martedi', 'mercoledi', 'giovedi', 'venerdi']\n",
    "data={}\n",
    "to_write = pd.DataFrame(data)\n",
    "for day in week:\n",
    "    sch, cst = definitive_local_search(fur1d[day].dropna(), 1, dfd)\n",
    "    sch.insert(0, 'Cremona, Sesto 39')\n",
    "    sch.append('Ostiano, Mazzini, 1')\n",
    "    to_write[day] = pd.Series(sch)\n",
    "to_write.to_csv(\"../Dati/turni_f/ls1_km_shifts.csv\", index=False, sep=\";\")"
   ]
  },
  {
   "cell_type": "code",
   "execution_count": 8,
   "metadata": {},
   "outputs": [],
   "source": [
    "week= ['martedi', 'mercoledi', 'giovedi']\n",
    "data={}\n",
    "to_write = pd.DataFrame(data)\n",
    "for day in week:\n",
    "    sch, cst = definitive_local_search(fur2d[day].dropna(), 2, dfd)\n",
    "    sch.insert(0, 'Cremona, Sesto 39')\n",
    "    sch.append('San Giovanni in Croce, Feudatari, 25 A')\n",
    "    to_write[day] = pd.Series(sch)\n",
    "to_write.to_csv(\"../Dati/turni_f/ls2_km_shifts.csv\", index=False, sep=\";\")"
   ]
  },
  {
   "cell_type": "code",
   "execution_count": null,
   "metadata": {},
   "outputs": [],
   "source": []
  }
 ],
 "metadata": {
  "kernelspec": {
   "display_name": "Python 3",
   "language": "python",
   "name": "python3"
  },
  "language_info": {
   "codemirror_mode": {
    "name": "ipython",
    "version": 3
   },
   "file_extension": ".py",
   "mimetype": "text/x-python",
   "name": "python",
   "nbconvert_exporter": "python",
   "pygments_lexer": "ipython3",
   "version": "3.7.6"
  }
 },
 "nbformat": 4,
 "nbformat_minor": 2
}

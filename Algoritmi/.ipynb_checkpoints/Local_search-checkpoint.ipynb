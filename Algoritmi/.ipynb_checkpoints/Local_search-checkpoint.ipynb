{
 "cells": [
  {
   "cell_type": "code",
   "execution_count": 30,
   "metadata": {},
   "outputs": [],
   "source": [
    "import pandas as pd\n",
    "import numpy as np\n",
    "import math\n",
    "import datetime\n",
    "\n",
    "table=pd.read_csv(\"../Dati/orari/route.csv\", delimiter=\";\")\n",
    "time_table=pd.read_csv(\"../Dati/orari/route_time.csv\", delimiter=\";\")\n",
    "dft = pd.read_csv(\"../Dati/distanze/times_computed.csv\", delimiter=\";\", encoding = \"ISO-8859-1\", index_col=0)\n",
    "fur1 = pd.read_csv(\"../Dati/turni_f/furgoncino1_routing.csv\", delimiter=\";\")\n",
    "fur2 = pd.read_csv(\"../Dati/turni_f/furgoncino2_routing.csv\", delimiter=\";\")\n",
    "\n",
    "def get_row(df, string):\n",
    "    return pd.Series(df.index).str.contains(string, case=False)\n",
    "\n",
    "def get_column(df, string):\n",
    "    return pd.Series(df.columns).str.contains(string, case=False)\n",
    "\n",
    "def difference(day, index, index2):\n",
    "    time = datetime.datetime.strptime(time_table[day][index], '%H:%M')\n",
    "    time2 = datetime.datetime.strptime(time_table[day][index2], '%H:%M')\n",
    "    return ((time2-time).seconds)/60\n"
   ]
  },
  {
   "cell_type": "code",
   "execution_count": 43,
   "metadata": {},
   "outputs": [],
   "source": [
    "def new_route(schedule):\n",
    "    start = dft[get_row(dft, 'Cremona, sesto 39').values]\n",
    "    day='lunedi'\n",
    "    times = []\n",
    "    keys = []\n",
    "    row = start\n",
    "    key1 = ''\n",
    "    key2 = ''\n",
    "    impossibile = []\n",
    "    for i in range(len(schedule) +1):\n",
    "        key1 = row.index[0]\n",
    "        try:\n",
    "            paese=schedule[i]\n",
    "        except:\n",
    "            continue\n",
    "        #Distanze in tempo dal paese corrente di ognuno dei furgoni alla destinazione\n",
    "        value=row.loc[:,get_column(dft, paese).values].values[0][0]\n",
    "        times.append(round(value))\n",
    "        row = dft[get_row(dft, paese).values]\n",
    "        key2 = row.index[0]\n",
    "        keys.append(key1 + ' - ' + key2)\n",
    "    \n",
    "    steps_times1 = pd.Series(times , keys)\n",
    "    #creo una copia della serie\n",
    "    steps_times2 = steps_times1.copy()\n",
    "    #creo una copia dei tempi\n",
    "    times1 = times[:]\n",
    "    times2 = times[:]\n",
    "\n",
    "    #aggiungo la chiave per l'ultima destinazione considerata e la casa dell'autista\n",
    "\n",
    "    #autista 1\n",
    "    row = dft[get_row(dft, paese).values]\n",
    "    value=row.loc[:,get_column(dft, 'Ostiano, Mazzini, 1').values].values[0][0]\n",
    "    s1 = pd.Series(round(value), [row.index[0] + ' - Ostiano, Mazzini, 1'])\n",
    "    steps_times1 = steps_times1.append(s1)\n",
    "    times1.append(round(value))\n",
    "\n",
    "    \"\"\"#autista 2\n",
    "    value=row.loc[:,get_column(dft, 'San Giovanni in Croce, Feudatari, 25 A').values].values[0][0]\n",
    "    s2 = pd.Series(round(value), [row.index[0] + ' - San Giovanni in Croce, Feudatari, 25 A'])\n",
    "    steps_times2 = steps_times2.append(s2)\n",
    "    times2.append(round(value))\n",
    "\n",
    "    if(sum(times1) < sum(times2)):\"\"\"\n",
    "    return steps_times1\n",
    "    \"\"\"else:\n",
    "        return steps_times2\"\"\""
   ]
  },
  {
   "cell_type": "code",
   "execution_count": 37,
   "metadata": {},
   "outputs": [],
   "source": [
    "#first attempt to local search algorithm\n",
    "def find_best_position(steps_times, to_insert):\n",
    "    times = []\n",
    "    key2 = []\n",
    "    for i in range(len(steps_times)):\n",
    "        cities = steps_times.keys()[i].split('-')\n",
    "        row1 = dft[get_row(dft, cities[0].strip()).values]\n",
    "        #time from city 1 to current (to insert)\n",
    "        f_c1_to_curr = row1.loc[:,get_column(dft, to_insert).values].values[0][0]\n",
    "        row2 = dft[get_row(dft, to_insert).values]\n",
    "        #time from current (to insert) to city 2\n",
    "        f_curr_to_c2 = row2.loc[:,get_column(dft, cities[1].strip()).values].values[0][0]\n",
    "        times.append(f_c1_to_curr + f_curr_to_c2)\n",
    "    s3 = pd.Series(times, steps_times.keys())\n",
    "    return s3"
   ]
  },
  {
   "cell_type": "code",
   "execution_count": 58,
   "metadata": {},
   "outputs": [
    {
     "name": "stdout",
     "output_type": "stream",
     "text": [
      "0             sesto ed\n",
      "1             grumello\n",
      "2             SORESINA\n",
      "3              TRIGOLO\n",
      "4          CASTELLEONE\n",
      "5            MONTODINE\n",
      "6     ripalta cremasca\n",
      "7              RICENGO\n",
      "8             SERGNANO\n",
      "9      CASALE CREMASCO\n",
      "10            CAMISANO\n",
      "11            CAPRALBA\n",
      "12             SONCINO\n",
      "13       pizzighettone\n",
      "Name: lunedi, dtype: object\n"
     ]
    },
    {
     "ename": "ValueError",
     "evalue": "'CASALE CREMASCO' is not in list",
     "output_type": "error",
     "traceback": [
      "\u001b[1;31m---------------------------------------------------------------------------\u001b[0m",
      "\u001b[1;31mValueError\u001b[0m                                Traceback (most recent call last)",
      "\u001b[1;32m<ipython-input-58-34f22a7e4a18>\u001b[0m in \u001b[0;36m<module>\u001b[1;34m\u001b[0m\n\u001b[0;32m     14\u001b[0m     \u001b[1;32mtry\u001b[0m\u001b[1;33m:\u001b[0m\u001b[1;33m\u001b[0m\u001b[1;33m\u001b[0m\u001b[0m\n\u001b[1;32m---> 15\u001b[1;33m         \u001b[0mposition\u001b[0m \u001b[1;33m=\u001b[0m \u001b[0mschedule\u001b[0m\u001b[1;33m.\u001b[0m\u001b[0mindex\u001b[0m\u001b[1;33m(\u001b[0m\u001b[0mbest\u001b[0m\u001b[1;33m.\u001b[0m\u001b[0msplit\u001b[0m\u001b[1;33m(\u001b[0m\u001b[1;34m'-'\u001b[0m\u001b[1;33m)\u001b[0m\u001b[1;33m[\u001b[0m\u001b[1;36m0\u001b[0m\u001b[1;33m]\u001b[0m\u001b[1;33m.\u001b[0m\u001b[0mstrip\u001b[0m\u001b[1;33m(\u001b[0m\u001b[1;33m)\u001b[0m\u001b[1;33m)\u001b[0m \u001b[1;33m+\u001b[0m \u001b[1;36m1\u001b[0m\u001b[1;33m\u001b[0m\u001b[1;33m\u001b[0m\u001b[0m\n\u001b[0m\u001b[0;32m     16\u001b[0m     \u001b[1;32mexcept\u001b[0m\u001b[1;33m:\u001b[0m\u001b[1;33m\u001b[0m\u001b[1;33m\u001b[0m\u001b[0m\n",
      "\u001b[1;31mValueError\u001b[0m: 'Casale Cremasco' is not in list",
      "\nDuring handling of the above exception, another exception occurred:\n",
      "\u001b[1;31mValueError\u001b[0m                                Traceback (most recent call last)",
      "\u001b[1;32m<ipython-input-58-34f22a7e4a18>\u001b[0m in \u001b[0;36m<module>\u001b[1;34m\u001b[0m\n\u001b[0;32m     15\u001b[0m         \u001b[0mposition\u001b[0m \u001b[1;33m=\u001b[0m \u001b[0mschedule\u001b[0m\u001b[1;33m.\u001b[0m\u001b[0mindex\u001b[0m\u001b[1;33m(\u001b[0m\u001b[0mbest\u001b[0m\u001b[1;33m.\u001b[0m\u001b[0msplit\u001b[0m\u001b[1;33m(\u001b[0m\u001b[1;34m'-'\u001b[0m\u001b[1;33m)\u001b[0m\u001b[1;33m[\u001b[0m\u001b[1;36m0\u001b[0m\u001b[1;33m]\u001b[0m\u001b[1;33m.\u001b[0m\u001b[0mstrip\u001b[0m\u001b[1;33m(\u001b[0m\u001b[1;33m)\u001b[0m\u001b[1;33m)\u001b[0m \u001b[1;33m+\u001b[0m \u001b[1;36m1\u001b[0m\u001b[1;33m\u001b[0m\u001b[1;33m\u001b[0m\u001b[0m\n\u001b[0;32m     16\u001b[0m     \u001b[1;32mexcept\u001b[0m\u001b[1;33m:\u001b[0m\u001b[1;33m\u001b[0m\u001b[1;33m\u001b[0m\u001b[0m\n\u001b[1;32m---> 17\u001b[1;33m         \u001b[0mposition\u001b[0m \u001b[1;33m=\u001b[0m \u001b[0mschedule\u001b[0m\u001b[1;33m.\u001b[0m\u001b[0mindex\u001b[0m\u001b[1;33m(\u001b[0m\u001b[0mbest\u001b[0m\u001b[1;33m.\u001b[0m\u001b[0msplit\u001b[0m\u001b[1;33m(\u001b[0m\u001b[1;34m'-'\u001b[0m\u001b[1;33m)\u001b[0m\u001b[1;33m[\u001b[0m\u001b[1;36m0\u001b[0m\u001b[1;33m]\u001b[0m\u001b[1;33m.\u001b[0m\u001b[0mstrip\u001b[0m\u001b[1;33m(\u001b[0m\u001b[1;33m)\u001b[0m\u001b[1;33m.\u001b[0m\u001b[0mupper\u001b[0m\u001b[1;33m(\u001b[0m\u001b[1;33m)\u001b[0m\u001b[1;33m)\u001b[0m \u001b[1;33m+\u001b[0m \u001b[1;36m1\u001b[0m\u001b[1;33m\u001b[0m\u001b[1;33m\u001b[0m\u001b[0m\n\u001b[0m\u001b[0;32m     18\u001b[0m     \u001b[0mschedule\u001b[0m\u001b[1;33m.\u001b[0m\u001b[0minsert\u001b[0m\u001b[1;33m(\u001b[0m\u001b[0mposition\u001b[0m \u001b[1;33m,\u001b[0m\u001b[0mto_insert\u001b[0m\u001b[1;33m)\u001b[0m\u001b[1;33m\u001b[0m\u001b[1;33m\u001b[0m\u001b[0m\n\u001b[0;32m     19\u001b[0m \u001b[0mschedule\u001b[0m\u001b[1;33m\u001b[0m\u001b[1;33m\u001b[0m\u001b[0m\n",
      "\u001b[1;31mValueError\u001b[0m: 'CASALE CREMASCO' is not in list"
     ]
    }
   ],
   "source": [
    "#furgoncino 1 (MON, FRI)\n",
    "fur1 = pd.read_csv(\"../Dati/turni_f/furgoncino1_routing.csv\", delimiter=\";\")\n",
    "print(fur1['lunedi'])\n",
    "schedule = []\n",
    "schedule.append('Cremona, Sesto 39')\n",
    "for i in range(len(fur1['lunedi'])):\n",
    "    schedule.append(dft[get_row(dft, fur1['lunedi'][i]).values].index[0])\n",
    "schedule.append('Ostiano, Mazzini, 1')\n",
    "l = len(schedule)-2\n",
    "for i in range(1,l):\n",
    "    to_insert = schedule.pop(i)\n",
    "    route = new_route(schedule)\n",
    "    best = find_best_position(route, to_insert).idxmin()\n",
    "    city = best.split('-')[0].strip()\n",
    "    try:\n",
    "        position = schedule.index(city) + 1\n",
    "    except:\n",
    "        position = schedule.index(city.upper()) + 1\n",
    "    schedule.insert(position ,to_insert)\n",
    "schedule"
   ]
  },
  {
   "cell_type": "code",
   "execution_count": 33,
   "metadata": {},
   "outputs": [
    {
     "data": {
      "text/plain": [
       "['Sesto ed Uniti, Roma, 4',\n",
       " 'Grumello Cremonese ed Uniti, Roma, 2',\n",
       " 'Soresina, Giacomo Matteotti, 6',\n",
       " 'Trigolo, Roma, 26',\n",
       " 'Castelleone, Roma, 67',\n",
       " 'Montodine,  XXV Aprile, 10',\n",
       " 'Ripalta Cremasca, Roma, 5',\n",
       " 'Ricengo, Guglielmo Marconi',\n",
       " 'Sergnano, IV Novembre,  10',\n",
       " 'Casale Cremasco-Vidolasco, Roma, 56',\n",
       " 'Camisano, Trieste, 57',\n",
       " 'Capralba, Piave, 2',\n",
       " 'Soncino, Dante Alighieri, 23',\n",
       " 'Pizzighettone, Giuseppe Garibaldi, 18']"
      ]
     },
     "execution_count": 33,
     "metadata": {},
     "output_type": "execute_result"
    }
   ],
   "source": []
  },
  {
   "cell_type": "code",
   "execution_count": 31,
   "metadata": {},
   "outputs": [
    {
     "data": {
      "text/plain": [
       "0             sesto ed\n",
       "1             grumello\n",
       "2             SORESINA\n",
       "3              TRIGOLO\n",
       "4          CASTELLEONE\n",
       "5            MONTODINE\n",
       "6     ripalta cremasca\n",
       "7              RICENGO\n",
       "8             SERGNANO\n",
       "9      CASALE CREMASCO\n",
       "10            CAMISANO\n",
       "11            CAPRALBA\n",
       "12             SONCINO\n",
       "13       pizzighettone\n",
       "Name: lunedi, dtype: object"
      ]
     },
     "execution_count": 31,
     "metadata": {},
     "output_type": "execute_result"
    }
   ],
   "source": [
    "fur1['lunedi']"
   ]
  }
 ],
 "metadata": {
  "kernelspec": {
   "display_name": "Python 3",
   "language": "python",
   "name": "python3"
  },
  "language_info": {
   "codemirror_mode": {
    "name": "ipython",
    "version": 3
   },
   "file_extension": ".py",
   "mimetype": "text/x-python",
   "name": "python",
   "nbconvert_exporter": "python",
   "pygments_lexer": "ipython3",
   "version": "3.7.3"
  }
 },
 "nbformat": 4,
 "nbformat_minor": 2
}

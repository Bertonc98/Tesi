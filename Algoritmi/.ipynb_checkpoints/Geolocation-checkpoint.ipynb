{
 "cells": [
  {
   "cell_type": "code",
   "execution_count": 1,
   "metadata": {},
   "outputs": [],
   "source": [
    "from functools import partial\n",
    "from geopy.geocoders import Nominatim\n",
    "import WazeRouteCalculator\n",
    "geolocator = Nominatim(user_agent=\"useer_agent\", domain='nominatim.openstreetmap.org')\n",
    "geocode = partial(geolocator.geocode, language=\"it\", country_codes = \"ita\")\n"
   ]
  },
  {
   "cell_type": "code",
   "execution_count": 5,
   "metadata": {},
   "outputs": [],
   "source": [
    "from pandas_ods_reader import read_ods\n",
    "import pandas as pd\n",
    "path = \"../Dati/orari/IndirizziBiblio_21-10-2019.ods\"\n",
    "df = read_ods(path, 'Questionari_normalizza')\n",
    "df=df[df['Calendarizzata (sì/no)']=='sì']\n",
    "df=df.astype({'Cap':'int32'})"
   ]
  },
  {
   "cell_type": "code",
   "execution_count": 6,
   "metadata": {},
   "outputs": [],
   "source": [
    "def getLocation(name):\n",
    "    geolocator = Nominatim(user_agent=\"useer_agent\")\n",
    "    geocode = partial(geolocator.geocode, language=\"it\")\n",
    "    location =geolocator.geocode(name)\n",
    "    return location.latitude, location.longitude\n",
    "#print(lat, lon)"
   ]
  },
  {
   "cell_type": "code",
   "execution_count": 7,
   "metadata": {},
   "outputs": [],
   "source": [
    "def getName(row):\n",
    "    name=row.Comune + ','\n",
    "    try:\n",
    "        name=name + row.Indirizzo[row.Indirizzo.lower().index('via')+3:len(row.Indirizzo)]\n",
    "    except:\n",
    "        try:\n",
    "            name=name + row.Indirizzo[row.Indirizzo.lower().index('piazza')+6:len(row.Indirizzo)]\n",
    "        except:\n",
    "            try:\n",
    "                name=name + row.Indirizzo[row.Indirizzo.lower().index('piazzetta')+9:len(row.Indirizzo)]\n",
    "            except:\n",
    "                name=name + row.Indirizzo[row.Indirizzo.lower().index('vicolo')+6:len(row.Indirizzo)]\n",
    "           \n",
    "    return name"
   ]
  },
  {
   "cell_type": "code",
   "execution_count": 8,
   "metadata": {},
   "outputs": [],
   "source": [
    "from tqdm.notebook import tqdm as tqdm"
   ]
  },
  {
   "cell_type": "code",
   "execution_count": 14,
   "metadata": {},
   "outputs": [
    {
     "data": {
      "text/plain": [
       "''"
      ]
     },
     "execution_count": 14,
     "metadata": {},
     "output_type": "execute_result"
    }
   ],
   "source": [
    "\"\"\"\n",
    "import csv\n",
    "x=[]\n",
    "y=[\"\"]\n",
    "for i in range(len(df)):\n",
    "    x.append(getName(df.iloc[i]))\n",
    "x.append(\"Casaletto Vaprio, Maggiore, 7\")\n",
    "x.append(\"Cremona, via Sesto, 39\")\n",
    "\n",
    "for i in range(len(df)):\n",
    "    y.append(getName(df.iloc[i]))\n",
    "y.append(\"Casaletto Vaprio, Maggiore, 7\")\n",
    "y.append(\"Ostiano\")\n",
    "y.append(\"San Giovanni in Croce\")\n",
    "y.append(\"Cremona, via Sesto, 39\")\n",
    "\n",
    "with open('times_computed.csv', mode='a') as time_file:\n",
    "        time_file = csv.writer(time_file, delimiter=';')\n",
    "        time_file.writerow(y)\"\"\"\n",
    "\n",
    "\"\"\"with open('distances.csv', mode='a') as distance_file:\n",
    "    distance_file = csv.writer(distance_file, delimiter=';', quotechar='\"', quoting=csv.QUOTE_MINIMAL)\n",
    "    distance_file.writerow(y)\n",
    "\n",
    "y.pop(0)\n",
    "\"\"\""
   ]
  },
  {
   "cell_type": "code",
   "execution_count": 28,
   "metadata": {},
   "outputs": [],
   "source": [
    "dft=pd.read_csv(\"../Dati/distanze/times_computed.csv\", delimiter=\";\", encoding = \"ISO-8859-1\", index_col=0)\n",
    "x=dft.index\n",
    "y=dft.columns"
   ]
  },
  {
   "cell_type": "code",
   "execution_count": 35,
   "metadata": {},
   "outputs": [
    {
     "data": {
      "application/vnd.jupyter.widget-view+json": {
       "model_id": "676b0d6a152d4c82b98de3ddc4469685",
       "version_major": 2,
       "version_minor": 0
      },
      "text/plain": [
       "HBox(children=(FloatProgress(value=0.0, description='Agnadello, Marconi, 6', max=68.0, style=ProgressStyle(des…"
      ]
     },
     "metadata": {},
     "output_type": "display_data"
    },
    {
     "name": "stdout",
     "output_type": "stream",
     "text": [
      "\n",
      "Scritto\n"
     ]
    },
    {
     "data": {
      "application/vnd.jupyter.widget-view+json": {
       "model_id": "6dcf8772500541e88dbda73a292dd4be",
       "version_major": 2,
       "version_minor": 0
      },
      "text/plain": [
       "HBox(children=(FloatProgress(value=0.0, description='Annicco, Giuseppe Garibaldi, 6', max=68.0, style=Progress…"
      ]
     },
     "metadata": {},
     "output_type": "display_data"
    },
    {
     "name": "stdout",
     "output_type": "stream",
     "text": [
      "\n",
      "Scritto\n"
     ]
    },
    {
     "data": {
      "application/vnd.jupyter.widget-view+json": {
       "model_id": "1bb40b313eaa4933ba2341fb5cd47bbe",
       "version_major": 2,
       "version_minor": 0
      },
      "text/plain": [
       "HBox(children=(FloatProgress(value=0.0, description='Bagnolo Cremasco, Roma, 3', max=68.0, style=ProgressStyle…"
      ]
     },
     "metadata": {},
     "output_type": "display_data"
    },
    {
     "name": "stdout",
     "output_type": "stream",
     "text": [
      "\n",
      "Scritto\n"
     ]
    },
    {
     "data": {
      "application/vnd.jupyter.widget-view+json": {
       "model_id": "7439943870f646d4ba253dd83fa47e84",
       "version_major": 2,
       "version_minor": 0
      },
      "text/plain": [
       "HBox(children=(FloatProgress(value=0.0, description='Bonemerse, Roma, 25', max=68.0, style=ProgressStyle(descr…"
      ]
     },
     "metadata": {},
     "output_type": "display_data"
    },
    {
     "name": "stdout",
     "output_type": "stream",
     "text": [
      "\n",
      "Scritto\n"
     ]
    },
    {
     "data": {
      "application/vnd.jupyter.widget-view+json": {
       "model_id": "e55bff7c95524639bb9bf0b00db4e8d7",
       "version_major": 2,
       "version_minor": 0
      },
      "text/plain": [
       "HBox(children=(FloatProgress(value=0.0, description='Camisano, Trieste, 57', max=68.0, style=ProgressStyle(des…"
      ]
     },
     "metadata": {},
     "output_type": "display_data"
    },
    {
     "name": "stdout",
     "output_type": "stream",
     "text": [
      "\n",
      "Scritto\n"
     ]
    },
    {
     "data": {
      "application/vnd.jupyter.widget-view+json": {
       "model_id": "236d0d540a22467d9f9d3dcbdc6bdf7a",
       "version_major": 2,
       "version_minor": 0
      },
      "text/plain": [
       "HBox(children=(FloatProgress(value=0.0, description='Capergnanica, XI febbraio, 7', max=68.0, style=ProgressSt…"
      ]
     },
     "metadata": {},
     "output_type": "display_data"
    },
    {
     "name": "stdout",
     "output_type": "stream",
     "text": [
      "\n",
      "Scritto\n"
     ]
    },
    {
     "data": {
      "application/vnd.jupyter.widget-view+json": {
       "model_id": "69f256540fc34b64b1eeeb5c3f12ee40",
       "version_major": 2,
       "version_minor": 0
      },
      "text/plain": [
       "HBox(children=(FloatProgress(value=0.0, description='Capralba, Piave, 2', max=68.0, style=ProgressStyle(descri…"
      ]
     },
     "metadata": {},
     "output_type": "display_data"
    },
    {
     "name": "stdout",
     "output_type": "stream",
     "text": [
      "\n",
      "Scritto\n"
     ]
    },
    {
     "data": {
      "application/vnd.jupyter.widget-view+json": {
       "model_id": "305bc27bb5ad40f1bc67e92a13810bb2",
       "version_major": 2,
       "version_minor": 0
      },
      "text/plain": [
       "HBox(children=(FloatProgress(value=0.0, description='Casalbuttano ed Uniti, Jacini, 23', max=68.0, style=Progr…"
      ]
     },
     "metadata": {},
     "output_type": "display_data"
    },
    {
     "name": "stdout",
     "output_type": "stream",
     "text": [
      "\n",
      "Scritto\n"
     ]
    },
    {
     "data": {
      "application/vnd.jupyter.widget-view+json": {
       "model_id": "fc2e4c19eb44421c80493582007856e3",
       "version_major": 2,
       "version_minor": 0
      },
      "text/plain": [
       "HBox(children=(FloatProgress(value=0.0, description='Casale Cremasco-Vidolasco, Roma, 56', max=68.0, style=Pro…"
      ]
     },
     "metadata": {},
     "output_type": "display_data"
    },
    {
     "name": "stdout",
     "output_type": "stream",
     "text": [
      "\n",
      "Scritto\n"
     ]
    },
    {
     "data": {
      "application/vnd.jupyter.widget-view+json": {
       "model_id": "e271021ff0da4220b0f9c56ea0f3fd75",
       "version_major": 2,
       "version_minor": 0
      },
      "text/plain": [
       "HBox(children=(FloatProgress(value=0.0, description='Casalmaggiore, Guglielmo Marconi, 8', max=68.0, style=Pro…"
      ]
     },
     "metadata": {},
     "output_type": "display_data"
    },
    {
     "name": "stdout",
     "output_type": "stream",
     "text": [
      "\n",
      "Scritto\n"
     ]
    },
    {
     "data": {
      "application/vnd.jupyter.widget-view+json": {
       "model_id": "34154fd152714a97aafaec031415968c",
       "version_major": 2,
       "version_minor": 0
      },
      "text/plain": [
       "HBox(children=(FloatProgress(value=0.0, description='Casalpusterlengo, Pusterla 7', max=68.0, style=ProgressSt…"
      ]
     },
     "metadata": {},
     "output_type": "display_data"
    },
    {
     "name": "stdout",
     "output_type": "stream",
     "text": [
      "\n",
      "Scritto\n"
     ]
    },
    {
     "data": {
      "application/vnd.jupyter.widget-view+json": {
       "model_id": "a029478f1313491c92ce28a18dabf0eb",
       "version_major": 2,
       "version_minor": 0
      },
      "text/plain": [
       "HBox(children=(FloatProgress(value=0.0, description='Castelleone, Roma, 67', max=68.0, style=ProgressStyle(des…"
      ]
     },
     "metadata": {},
     "output_type": "display_data"
    },
    {
     "name": "stdout",
     "output_type": "stream",
     "text": [
      "\n",
      "Scritto\n"
     ]
    },
    {
     "data": {
      "application/vnd.jupyter.widget-view+json": {
       "model_id": "ccb0734ea0564c29a8e96daa3bfb3a6b",
       "version_major": 2,
       "version_minor": 0
      },
      "text/plain": [
       "HBox(children=(FloatProgress(value=0.0, description='Castelverde, Ubaldo Ferrari, 15', max=68.0, style=Progres…"
      ]
     },
     "metadata": {},
     "output_type": "display_data"
    },
    {
     "name": "stdout",
     "output_type": "stream",
     "text": [
      "\n",
      "Scritto\n"
     ]
    },
    {
     "data": {
      "application/vnd.jupyter.widget-view+json": {
       "model_id": "a26507a28db848c0b080d91e522345c3",
       "version_major": 2,
       "version_minor": 0
      },
      "text/plain": [
       "HBox(children=(FloatProgress(value=0.0, description=\"Cingia de' Botti, Giuseppina, 79\", max=68.0, style=Progre…"
      ]
     },
     "metadata": {},
     "output_type": "display_data"
    },
    {
     "name": "stdout",
     "output_type": "stream",
     "text": [
      "\n",
      "Scritto\n"
     ]
    },
    {
     "data": {
      "application/vnd.jupyter.widget-view+json": {
       "model_id": "1d55ce44a512461783b5210cda92b833",
       "version_major": 2,
       "version_minor": 0
      },
      "text/plain": [
       "HBox(children=(FloatProgress(value=0.0, description='Crema, Civerchi, 9', max=68.0, style=ProgressStyle(descri…"
      ]
     },
     "metadata": {},
     "output_type": "display_data"
    },
    {
     "name": "stdout",
     "output_type": "stream",
     "text": [
      "\n",
      "Scritto\n"
     ]
    },
    {
     "data": {
      "application/vnd.jupyter.widget-view+json": {
       "model_id": "21b19fc95d384337be38fdea79f12016",
       "version_major": 2,
       "version_minor": 0
      },
      "text/plain": [
       "HBox(children=(FloatProgress(value=0.0, description='Crema, Dante Alighieri, 49', max=68.0, style=ProgressStyl…"
      ]
     },
     "metadata": {},
     "output_type": "display_data"
    },
    {
     "name": "stdout",
     "output_type": "stream",
     "text": [
      "\n",
      "Scritto\n"
     ]
    },
    {
     "data": {
      "application/vnd.jupyter.widget-view+json": {
       "model_id": "bfe4185d3afa46af88057e629c87f33d",
       "version_major": 2,
       "version_minor": 0
      },
      "text/plain": [
       "HBox(children=(FloatProgress(value=0.0, description='Cremona, Ugolani Dati, 4', max=68.0, style=ProgressStyle(…"
      ]
     },
     "metadata": {},
     "output_type": "display_data"
    },
    {
     "name": "stdout",
     "output_type": "stream",
     "text": [
      "\n",
      "Scritto\n"
     ]
    },
    {
     "data": {
      "application/vnd.jupyter.widget-view+json": {
       "model_id": "30f127b031f441329b516c04e2253e2b",
       "version_major": 2,
       "version_minor": 0
      },
      "text/plain": [
       "HBox(children=(FloatProgress(value=0.0, description='Cremona, Ugolani Dati, 4', max=68.0, style=ProgressStyle(…"
      ]
     },
     "metadata": {},
     "output_type": "display_data"
    },
    {
     "name": "stdout",
     "output_type": "stream",
     "text": [
      "\n",
      "Scritto\n"
     ]
    },
    {
     "data": {
      "application/vnd.jupyter.widget-view+json": {
       "model_id": "0c52e887e1a045cc82dd9d36be5e37e2",
       "version_major": 2,
       "version_minor": 0
      },
      "text/plain": [
       "HBox(children=(FloatProgress(value=0.0, description='Dovera, Oldrini 2', max=68.0, style=ProgressStyle(descrip…"
      ]
     },
     "metadata": {},
     "output_type": "display_data"
    },
    {
     "name": "stdout",
     "output_type": "stream",
     "text": [
      "\n",
      "Scritto\n"
     ]
    },
    {
     "data": {
      "application/vnd.jupyter.widget-view+json": {
       "model_id": "3c56713373a444d1a8277189acc72cff",
       "version_major": 2,
       "version_minor": 0
      },
      "text/plain": [
       "HBox(children=(FloatProgress(value=0.0, description='Fiesco, Giuseppe Parini, 10', max=68.0, style=ProgressSty…"
      ]
     },
     "metadata": {},
     "output_type": "display_data"
    },
    {
     "name": "stdout",
     "output_type": "stream",
     "text": [
      "\n",
      "Scritto\n"
     ]
    },
    {
     "data": {
      "application/vnd.jupyter.widget-view+json": {
       "model_id": "3d6803bf01ac4fda8571608778b609fd",
       "version_major": 2,
       "version_minor": 0
      },
      "text/plain": [
       "HBox(children=(FloatProgress(value=0.0, description='Gadesco-Pieve Delmona, Giovanni Lonati 9', max=68.0, styl…"
      ]
     },
     "metadata": {},
     "output_type": "display_data"
    },
    {
     "name": "stdout",
     "output_type": "stream",
     "text": [
      "\n",
      "Scritto\n"
     ]
    },
    {
     "data": {
      "application/vnd.jupyter.widget-view+json": {
       "model_id": "c24b2affe9094a0b9ba5eb19d65efc55",
       "version_major": 2,
       "version_minor": 0
      },
      "text/plain": [
       "HBox(children=(FloatProgress(value=0.0, description='Grontardo, Roma, 16', max=68.0, style=ProgressStyle(descr…"
      ]
     },
     "metadata": {},
     "output_type": "display_data"
    },
    {
     "name": "stdout",
     "output_type": "stream",
     "text": [
      "\n",
      "Scritto\n"
     ]
    },
    {
     "data": {
      "application/vnd.jupyter.widget-view+json": {
       "model_id": "a36c3ddcab4c4ffdaabe52d58b7028c2",
       "version_major": 2,
       "version_minor": 0
      },
      "text/plain": [
       "HBox(children=(FloatProgress(value=0.0, description='Grumello Cremonese ed Uniti, Roma, 2', max=68.0, style=Pr…"
      ]
     },
     "metadata": {},
     "output_type": "display_data"
    },
    {
     "name": "stdout",
     "output_type": "stream",
     "text": [
      "\n",
      "Scritto\n"
     ]
    },
    {
     "data": {
      "application/vnd.jupyter.widget-view+json": {
       "model_id": "29b5ecb35a6349cf849baa1a1bfe2780",
       "version_major": 2,
       "version_minor": 0
      },
      "text/plain": [
       "HBox(children=(FloatProgress(value=0.0, description='Gussola, Comaschi, 1', max=68.0, style=ProgressStyle(desc…"
      ]
     },
     "metadata": {},
     "output_type": "display_data"
    },
    {
     "name": "stdout",
     "output_type": "stream",
     "text": [
      "\n",
      "Scritto\n"
     ]
    },
    {
     "data": {
      "application/vnd.jupyter.widget-view+json": {
       "model_id": "ec5cbc41cf3b4ef8b60175728f18f9de",
       "version_major": 2,
       "version_minor": 0
      },
      "text/plain": [
       "HBox(children=(FloatProgress(value=0.0, description='Isola Dovarese, Giacomo Matteotti, 1', max=68.0, style=Pr…"
      ]
     },
     "metadata": {},
     "output_type": "display_data"
    },
    {
     "name": "stdout",
     "output_type": "stream",
     "text": [
      "\n",
      "Scritto\n"
     ]
    },
    {
     "data": {
      "application/vnd.jupyter.widget-view+json": {
       "model_id": "c3f2d4fddaf64e89922a4812baa3dfd0",
       "version_major": 2,
       "version_minor": 0
      },
      "text/plain": [
       "HBox(children=(FloatProgress(value=0.0, description='Izano, Gerardo da Izano, 4/C', max=68.0, style=ProgressSt…"
      ]
     },
     "metadata": {},
     "output_type": "display_data"
    },
    {
     "name": "stdout",
     "output_type": "stream",
     "text": [
      "\n",
      "Scritto\n"
     ]
    },
    {
     "data": {
      "application/vnd.jupyter.widget-view+json": {
       "model_id": "85d810355ec44434ab11c3d28db92431",
       "version_major": 2,
       "version_minor": 0
      },
      "text/plain": [
       "HBox(children=(FloatProgress(value=0.0, description='Madignano, Portici, 4', max=68.0, style=ProgressStyle(des…"
      ]
     },
     "metadata": {},
     "output_type": "display_data"
    },
    {
     "name": "stdout",
     "output_type": "stream",
     "text": [
      "\n",
      "Scritto\n"
     ]
    },
    {
     "data": {
      "application/vnd.jupyter.widget-view+json": {
       "model_id": "6b0905ccfb454352a0df6a65d96dad33",
       "version_major": 2,
       "version_minor": 0
      },
      "text/plain": [
       "HBox(children=(FloatProgress(value=0.0, description='Martignana di Po, Libertà, 64', max=68.0, style=ProgressS…"
      ]
     },
     "metadata": {},
     "output_type": "display_data"
    },
    {
     "name": "stdout",
     "output_type": "stream",
     "text": [
      "\n",
      "Scritto\n"
     ]
    },
    {
     "data": {
      "application/vnd.jupyter.widget-view+json": {
       "model_id": "6c683113c2444e7b89131dff9e574e14",
       "version_major": 2,
       "version_minor": 0
      },
      "text/plain": [
       "HBox(children=(FloatProgress(value=0.0, description='Monte Cremasco, Roma, 12', max=68.0, style=ProgressStyle(…"
      ]
     },
     "metadata": {},
     "output_type": "display_data"
    },
    {
     "name": "stdout",
     "output_type": "stream",
     "text": [
      "\n",
      "Scritto\n"
     ]
    },
    {
     "data": {
      "application/vnd.jupyter.widget-view+json": {
       "model_id": "16b133ba62544911a730ef99bbde0fa8",
       "version_major": 2,
       "version_minor": 0
      },
      "text/plain": [
       "HBox(children=(FloatProgress(value=0.0, description='Montodine,  XXV Aprile, 10', max=68.0, style=ProgressStyl…"
      ]
     },
     "metadata": {},
     "output_type": "display_data"
    },
    {
     "name": "stdout",
     "output_type": "stream",
     "text": [
      "\n",
      "Scritto\n"
     ]
    },
    {
     "data": {
      "application/vnd.jupyter.widget-view+json": {
       "model_id": "9c8572684f634d7cab6c561370dc0e61",
       "version_major": 2,
       "version_minor": 0
      },
      "text/plain": [
       "HBox(children=(FloatProgress(value=0.0, description='Offanengo, Clavelli Martini, 5', max=68.0, style=Progress…"
      ]
     },
     "metadata": {},
     "output_type": "display_data"
    },
    {
     "name": "stdout",
     "output_type": "stream",
     "text": [
      "\n",
      "Scritto\n"
     ]
    },
    {
     "data": {
      "application/vnd.jupyter.widget-view+json": {
       "model_id": "be4dac5b1bb748189fc2712822b6e331",
       "version_major": 2,
       "version_minor": 0
      },
      "text/plain": [
       "HBox(children=(FloatProgress(value=0.0, description='Ostiano, Mazzini, 1', max=68.0, style=ProgressStyle(descr…"
      ]
     },
     "metadata": {},
     "output_type": "display_data"
    },
    {
     "name": "stdout",
     "output_type": "stream",
     "text": [
      "\n",
      "Scritto\n"
     ]
    },
    {
     "data": {
      "application/vnd.jupyter.widget-view+json": {
       "model_id": "a27568e0c85746f8b1b9c8ee7aea4866",
       "version_major": 2,
       "version_minor": 0
      },
      "text/plain": [
       "HBox(children=(FloatProgress(value=0.0, description='Paderno Ponchielli, Municipio, 3', max=68.0, style=Progre…"
      ]
     },
     "metadata": {},
     "output_type": "display_data"
    },
    {
     "name": "stdout",
     "output_type": "stream",
     "text": [
      "\n",
      "Scritto\n"
     ]
    },
    {
     "data": {
      "application/vnd.jupyter.widget-view+json": {
       "model_id": "57900e8f55af44139e4305abad3207c3",
       "version_major": 2,
       "version_minor": 0
      },
      "text/plain": [
       "HBox(children=(FloatProgress(value=0.0, description='Palazzo Pignano, Marco Polo, 31', max=68.0, style=Progres…"
      ]
     },
     "metadata": {},
     "output_type": "display_data"
    },
    {
     "name": "stdout",
     "output_type": "stream",
     "text": [
      "\n",
      "Scritto\n"
     ]
    }
   ],
   "source": [
    "#ALBERTONCINI\n",
    "\n",
    "import time\n",
    "import csv\n",
    "\n",
    "dataf=pd.read_csv(\"../Dati/distanze/distances_computed.csv\", encoding = \"ISO-8859-1\", delimiter=\";\", index_col=0, error_bad_lines=False)\n",
    "start=len(dataf)\n",
    "end=round(len(x)/2)+1\n",
    "while start<end:\n",
    "    try:\n",
    "        dataf=pd.read_csv(\"../Dati/distanze/distances_computed.csv\", encoding = \"ISO-8859-1\", delimiter=\";\", index_col=0, error_bad_lines=False)\n",
    "        start=len(dataf)\n",
    "        #Outer loop over cities (from)\n",
    "        for j in range(start, end):\n",
    "            lat, lon=getLocation(x[j])\n",
    "            from_address=str(lat)+\", \"+str(lon)\n",
    "            double_error = False\n",
    "            t=[x[j]]\n",
    "            d=[x[j]]\n",
    "            #Inner loop over cities (to)\n",
    "            for i in tqdm(range(len(y)), desc=x[j]):\n",
    "                wait=2\n",
    "                #Loop until get distance\n",
    "                while True:\n",
    "                    region = 'EU'\n",
    "                    lat, lon = getLocation(y[i])\n",
    "                    to_address=str(lat)+\", \"+str(lon)\n",
    "                    try:\n",
    "                        route = WazeRouteCalculator.WazeRouteCalculator(from_address, to_address, region)\n",
    "                        route_time, route_distance = route.calc_route_info(real_time=False)\n",
    "                    except:\n",
    "                        #On error wait (to avoid out of request) and retry to get route\n",
    "                        #print(x[j]+\"\\n\"+y[i])\n",
    "                        time.sleep(wait)\n",
    "                        wait=wait+2\n",
    "                        continue\n",
    "                    #t.append(round(route_distance, 2))\n",
    "                    d.append(round(route_distance,2))\n",
    "                    break\n",
    "            with open('../Dati/distanze/distances_computed.csv', mode='a', newline='') as distance_file:\n",
    "                d_file = csv.writer(distance_file, delimiter=';', quoting=csv.QUOTE_MINIMAL)\n",
    "                d_file.writerow(d)\n",
    "            print(\"Scritto\")\n",
    "\n",
    "    except:\n",
    "        time.sleep(5)\n",
    "        pass\n"
   ]
  },
  {
   "cell_type": "code",
   "execution_count": 39,
   "metadata": {},
   "outputs": [
    {
     "name": "stdout",
     "output_type": "stream",
     "text": [
      "33\n"
     ]
    },
    {
     "data": {
      "application/vnd.jupyter.widget-view+json": {
       "model_id": "62fbb38db7d44906973ced281fd24072",
       "version_major": 2,
       "version_minor": 0
      },
      "text/plain": [
       "HBox(children=(FloatProgress(value=0.0, description='33', max=68.0, style=ProgressStyle(description_width='ini…"
      ]
     },
     "metadata": {},
     "output_type": "display_data"
    },
    {
     "name": "stdout",
     "output_type": "stream",
     "text": [
      "\n"
     ]
    },
    {
     "ename": "KeyboardInterrupt",
     "evalue": "",
     "output_type": "error",
     "traceback": [
      "\u001b[0;31m---------------------------------------------------------------------------\u001b[0m",
      "\u001b[0;31mWRCError\u001b[0m                                  Traceback (most recent call last)",
      "\u001b[0;32m<ipython-input-39-05e8236c0950>\u001b[0m in \u001b[0;36m<module>\u001b[0;34m\u001b[0m\n\u001b[1;32m     28\u001b[0m                         \u001b[0mroute\u001b[0m \u001b[0;34m=\u001b[0m \u001b[0mWazeRouteCalculator\u001b[0m\u001b[0;34m.\u001b[0m\u001b[0mWazeRouteCalculator\u001b[0m\u001b[0;34m(\u001b[0m\u001b[0mfrom_address\u001b[0m\u001b[0;34m,\u001b[0m \u001b[0mto_address\u001b[0m\u001b[0;34m,\u001b[0m \u001b[0mregion\u001b[0m\u001b[0;34m)\u001b[0m\u001b[0;34m\u001b[0m\u001b[0;34m\u001b[0m\u001b[0m\n\u001b[0;32m---> 29\u001b[0;31m                         \u001b[0mroute_time\u001b[0m\u001b[0;34m,\u001b[0m \u001b[0mroute_distance\u001b[0m \u001b[0;34m=\u001b[0m \u001b[0mroute\u001b[0m\u001b[0;34m.\u001b[0m\u001b[0mcalc_route_info\u001b[0m\u001b[0;34m(\u001b[0m\u001b[0mreal_time\u001b[0m\u001b[0;34m=\u001b[0m\u001b[0;32mFalse\u001b[0m\u001b[0;34m)\u001b[0m\u001b[0;34m\u001b[0m\u001b[0;34m\u001b[0m\u001b[0m\n\u001b[0m\u001b[1;32m     30\u001b[0m                     \u001b[0;32mexcept\u001b[0m\u001b[0;34m:\u001b[0m\u001b[0;34m\u001b[0m\u001b[0;34m\u001b[0m\u001b[0m\n",
      "\u001b[0;32m~/anaconda3/lib/python3.7/site-packages/WazeRouteCalculator/WazeRouteCalculator.py\u001b[0m in \u001b[0;36mcalc_route_info\u001b[0;34m(self, real_time, stop_at_bounds, time_delta)\u001b[0m\n\u001b[1;32m    192\u001b[0m \u001b[0;34m\u001b[0m\u001b[0m\n\u001b[0;32m--> 193\u001b[0;31m         \u001b[0mroute\u001b[0m \u001b[0;34m=\u001b[0m \u001b[0mself\u001b[0m\u001b[0;34m.\u001b[0m\u001b[0mget_route\u001b[0m\u001b[0;34m(\u001b[0m\u001b[0;36m1\u001b[0m\u001b[0;34m,\u001b[0m \u001b[0mtime_delta\u001b[0m\u001b[0;34m)\u001b[0m\u001b[0;34m\u001b[0m\u001b[0;34m\u001b[0m\u001b[0m\n\u001b[0m\u001b[1;32m    194\u001b[0m         \u001b[0mresults\u001b[0m \u001b[0;34m=\u001b[0m \u001b[0mroute\u001b[0m\u001b[0;34m[\u001b[0m\u001b[0;34m'results'\u001b[0m\u001b[0;34m]\u001b[0m\u001b[0;34m\u001b[0m\u001b[0;34m\u001b[0m\u001b[0m\n",
      "\u001b[0;32m~/anaconda3/lib/python3.7/site-packages/WazeRouteCalculator/WazeRouteCalculator.py\u001b[0m in \u001b[0;36mget_route\u001b[0;34m(self, npaths, time_delta)\u001b[0m\n\u001b[1;32m    149\u001b[0m         \u001b[0;32melse\u001b[0m\u001b[0;34m:\u001b[0m\u001b[0;34m\u001b[0m\u001b[0;34m\u001b[0m\u001b[0m\n\u001b[0;32m--> 150\u001b[0;31m             \u001b[0;32mraise\u001b[0m \u001b[0mWRCError\u001b[0m\u001b[0;34m(\u001b[0m\u001b[0;34m\"empty response\"\u001b[0m\u001b[0;34m)\u001b[0m\u001b[0;34m\u001b[0m\u001b[0;34m\u001b[0m\u001b[0m\n\u001b[0m\u001b[1;32m    151\u001b[0m \u001b[0;34m\u001b[0m\u001b[0m\n",
      "\u001b[0;31mWRCError\u001b[0m: empty response",
      "\nDuring handling of the above exception, another exception occurred:\n",
      "\u001b[0;31mKeyboardInterrupt\u001b[0m                         Traceback (most recent call last)",
      "\u001b[0;32m<ipython-input-39-05e8236c0950>\u001b[0m in \u001b[0;36m<module>\u001b[0;34m\u001b[0m\n\u001b[1;32m     32\u001b[0m                         \u001b[0;31m#print(x[j]+\"\\n\"+y[i])\u001b[0m\u001b[0;34m\u001b[0m\u001b[0;34m\u001b[0m\u001b[0;34m\u001b[0m\u001b[0m\n\u001b[0;32m---> 33\u001b[0;31m                         \u001b[0mtime\u001b[0m\u001b[0;34m.\u001b[0m\u001b[0msleep\u001b[0m\u001b[0;34m(\u001b[0m\u001b[0mwait\u001b[0m\u001b[0;34m)\u001b[0m\u001b[0;34m\u001b[0m\u001b[0;34m\u001b[0m\u001b[0m\n\u001b[0m\u001b[1;32m     34\u001b[0m                         \u001b[0mwait\u001b[0m\u001b[0;34m=\u001b[0m\u001b[0mwait\u001b[0m\u001b[0;34m+\u001b[0m\u001b[0;36m2\u001b[0m\u001b[0;34m\u001b[0m\u001b[0;34m\u001b[0m\u001b[0m\n",
      "\u001b[0;31mKeyboardInterrupt\u001b[0m: ",
      "\nDuring handling of the above exception, another exception occurred:\n",
      "\u001b[0;31mKeyboardInterrupt\u001b[0m                         Traceback (most recent call last)",
      "\u001b[0;32m<ipython-input-39-05e8236c0950>\u001b[0m in \u001b[0;36m<module>\u001b[0;34m\u001b[0m\n\u001b[1;32m     42\u001b[0m \u001b[0;34m\u001b[0m\u001b[0m\n\u001b[1;32m     43\u001b[0m     \u001b[0;32mexcept\u001b[0m\u001b[0;34m:\u001b[0m\u001b[0;34m\u001b[0m\u001b[0;34m\u001b[0m\u001b[0m\n\u001b[0;32m---> 44\u001b[0;31m         \u001b[0mtime\u001b[0m\u001b[0;34m.\u001b[0m\u001b[0msleep\u001b[0m\u001b[0;34m(\u001b[0m\u001b[0;36m5\u001b[0m\u001b[0;34m)\u001b[0m\u001b[0;34m\u001b[0m\u001b[0;34m\u001b[0m\u001b[0m\n\u001b[0m\u001b[1;32m     45\u001b[0m         \u001b[0;32mpass\u001b[0m\u001b[0;34m\u001b[0m\u001b[0;34m\u001b[0m\u001b[0m\n",
      "\u001b[0;31mKeyboardInterrupt\u001b[0m: "
     ]
    }
   ],
   "source": [
    "#MASSIMO\n",
    "import time\n",
    "import csv\n",
    "dataf=pd.read_csv(\"../Dati/distanze/distances_computed2.csv\", encoding = \"ISO-8859-1\", delimiter=\";\", index_col=0, error_bad_lines=False)\n",
    "start=len(dataf)+33\n",
    "end=len(x)\n",
    "while start<end:\n",
    "    try:\n",
    "        dataf=pd.read_csv(\"../Dati/distanze/distances_computed2.csv\", encoding = \"ISO-8859-1\", delimiter=\";\", index_col=0, error_bad_lines=False)\n",
    "        start=len(dataf)+33\n",
    "        #Outer loop over cities (from)\n",
    "        for j in range(start, end):\n",
    "            print(j)\n",
    "            lat, lon=getLocation(x[j])\n",
    "            from_address=str(lat)+\", \"+str(lon)\n",
    "            double_error = False\n",
    "            t=[x[j]]\n",
    "            d=[x[j]]\n",
    "            #Inner loop over cities (to)\n",
    "            for i in tqdm(range(len(y)), desc=str(j)):\n",
    "                wait=2\n",
    "                #Loop until get distance\n",
    "                while True:\n",
    "                    region = 'EU'\n",
    "                    lat, lon = getLocation(y[i])\n",
    "                    to_address=str(lat)+\", \"+str(lon)\n",
    "                    try:\n",
    "                        route = WazeRouteCalculator.WazeRouteCalculator(from_address, to_address, region)\n",
    "                        route_time, route_distance = route.calc_route_info(real_time=False)\n",
    "                    except:\n",
    "                        #On error wait (to avoid out of request) and retry to get route\n",
    "                        #print(x[j]+\"\\n\"+y[i])\n",
    "                        time.sleep(wait)\n",
    "                        wait=wait+2\n",
    "                        continue\n",
    "                    #t.append(round(route_distance, 2))\n",
    "                    d.append(round(route_distance,2))\n",
    "                    break\n",
    "            with open('../Dati/distanze/distances_computed2.csv', mode='a') as distance_file:\n",
    "                d_file = csv.writer(distance_file, delimiter=';', quoting=csv.QUOTE_MINIMAL)\n",
    "                d_file.writerow(d)\n",
    "\n",
    "    except:\n",
    "        time.sleep(5)\n",
    "        pass"
   ]
  },
  {
   "cell_type": "code",
   "execution_count": 26,
   "metadata": {},
   "outputs": [
    {
     "name": "stdout",
     "output_type": "stream",
     "text": [
      "33\n",
      "34\n",
      "35\n",
      "36\n",
      "37\n",
      "38\n",
      "39\n",
      "40\n",
      "41\n",
      "42\n",
      "43\n",
      "44\n",
      "45\n",
      "46\n",
      "47\n",
      "48\n",
      "49\n",
      "50\n",
      "51\n",
      "52\n",
      "53\n",
      "54\n",
      "55\n",
      "56\n",
      "57\n",
      "58\n",
      "59\n",
      "60\n",
      "61\n",
      "62\n",
      "63\n",
      "64\n",
      "65\n"
     ]
    }
   ],
   "source": [
    "dataf=pd.read_csv(\"../Dati/distanze/distances_computed.csv\", encoding = \"ISO-8859-1\", delimiter=\";\", index_col=0, error_bad_lines=False)\n",
    "start=len(dataf)+33\n",
    "for j in range(start, end):\n",
    "            print(j)"
   ]
  },
  {
   "cell_type": "code",
   "execution_count": 85,
   "metadata": {},
   "outputs": [
    {
     "data": {
      "text/html": [
       "<div>\n",
       "<style scoped>\n",
       "    .dataframe tbody tr th:only-of-type {\n",
       "        vertical-align: middle;\n",
       "    }\n",
       "\n",
       "    .dataframe tbody tr th {\n",
       "        vertical-align: top;\n",
       "    }\n",
       "\n",
       "    .dataframe thead th {\n",
       "        text-align: right;\n",
       "    }\n",
       "</style>\n",
       "<table border=\"1\" class=\"dataframe\">\n",
       "  <thead>\n",
       "    <tr style=\"text-align: right;\">\n",
       "      <th></th>\n",
       "      <th>Agnadello, Marconi, 6</th>\n",
       "      <th>Annicco, Giuseppe Garibaldi, 6</th>\n",
       "      <th>Bagnolo Cremasco, Roma, 3</th>\n",
       "      <th>Bonemerse, Roma, 25</th>\n",
       "      <th>Camisano, Trieste, 57</th>\n",
       "      <th>Capergnanica, XI febbraio, 7</th>\n",
       "      <th>Capralba, Piave, 2</th>\n",
       "      <th>Casalbuttano ed Uniti, Jacini, 23</th>\n",
       "      <th>Casale Cremasco-Vidolasco, Roma, 56</th>\n",
       "      <th>Casalmaggiore, Guglielmo Marconi, 8</th>\n",
       "      <th>...</th>\n",
       "      <th>Spino d'Adda, Circonvallazione, 13</th>\n",
       "      <th>Trescore Cremasco, Vittorio Veneto, 1</th>\n",
       "      <th>Trigolo, Roma, 26</th>\n",
       "      <th>Vaiano Cremasco,  Gloriosi Caduti, 3</th>\n",
       "      <th>Vailate, Dante Alighieri, 7</th>\n",
       "      <th>Vescovato, Roma, 44</th>\n",
       "      <th>Cremona, Felice Cavallotti, 2</th>\n",
       "      <th>Cremona, Palosca n. 2</th>\n",
       "      <th>Ostiano</th>\n",
       "      <th>San Giovanni in Croce</th>\n",
       "    </tr>\n",
       "  </thead>\n",
       "  <tbody>\n",
       "    <tr>\n",
       "      <th>Agnadello, Marconi, 6</th>\n",
       "      <td>0.25</td>\n",
       "      <td>39.23</td>\n",
       "      <td>16.02</td>\n",
       "      <td>54.90</td>\n",
       "      <td>23.12</td>\n",
       "      <td>16.22</td>\n",
       "      <td>11.13</td>\n",
       "      <td>44.75</td>\n",
       "      <td>21.73</td>\n",
       "      <td>81.17</td>\n",
       "      <td>...</td>\n",
       "      <td>12.30</td>\n",
       "      <td>12.77</td>\n",
       "      <td>31.63</td>\n",
       "      <td>12.22</td>\n",
       "      <td>8.23</td>\n",
       "      <td>57.78</td>\n",
       "      <td>52.13</td>\n",
       "      <td>52.45</td>\n",
       "      <td>66.15</td>\n",
       "      <td>71.70</td>\n",
       "    </tr>\n",
       "    <tr>\n",
       "      <th>Annicco, Giuseppe Garibaldi, 6</th>\n",
       "      <td>38.47</td>\n",
       "      <td>0.00</td>\n",
       "      <td>31.45</td>\n",
       "      <td>24.77</td>\n",
       "      <td>31.23</td>\n",
       "      <td>27.48</td>\n",
       "      <td>36.20</td>\n",
       "      <td>12.12</td>\n",
       "      <td>30.73</td>\n",
       "      <td>51.43</td>\n",
       "      <td>...</td>\n",
       "      <td>36.98</td>\n",
       "      <td>33.32</td>\n",
       "      <td>15.13</td>\n",
       "      <td>31.55</td>\n",
       "      <td>40.75</td>\n",
       "      <td>27.72</td>\n",
       "      <td>21.95</td>\n",
       "      <td>22.37</td>\n",
       "      <td>36.02</td>\n",
       "      <td>41.70</td>\n",
       "    </tr>\n",
       "    <tr>\n",
       "      <th>Bagnolo Cremasco, Roma, 3</th>\n",
       "      <td>14.95</td>\n",
       "      <td>31.55</td>\n",
       "      <td>0.00</td>\n",
       "      <td>47.20</td>\n",
       "      <td>21.42</td>\n",
       "      <td>7.67</td>\n",
       "      <td>19.25</td>\n",
       "      <td>37.77</td>\n",
       "      <td>20.92</td>\n",
       "      <td>73.45</td>\n",
       "      <td>...</td>\n",
       "      <td>13.48</td>\n",
       "      <td>11.88</td>\n",
       "      <td>23.97</td>\n",
       "      <td>5.95</td>\n",
       "      <td>22.17</td>\n",
       "      <td>50.10</td>\n",
       "      <td>44.45</td>\n",
       "      <td>44.75</td>\n",
       "      <td>58.48</td>\n",
       "      <td>64.00</td>\n",
       "    </tr>\n",
       "    <tr>\n",
       "      <th>Bonemerse, Roma, 25</th>\n",
       "      <td>55.02</td>\n",
       "      <td>23.90</td>\n",
       "      <td>48.08</td>\n",
       "      <td>0.00</td>\n",
       "      <td>47.77</td>\n",
       "      <td>44.15</td>\n",
       "      <td>52.63</td>\n",
       "      <td>20.82</td>\n",
       "      <td>47.20</td>\n",
       "      <td>30.52</td>\n",
       "      <td>...</td>\n",
       "      <td>53.48</td>\n",
       "      <td>49.87</td>\n",
       "      <td>33.22</td>\n",
       "      <td>47.97</td>\n",
       "      <td>57.15</td>\n",
       "      <td>15.25</td>\n",
       "      <td>12.00</td>\n",
       "      <td>4.47</td>\n",
       "      <td>22.80</td>\n",
       "      <td>20.87</td>\n",
       "    </tr>\n",
       "    <tr>\n",
       "      <th>Camisano, Trieste, 57</th>\n",
       "      <td>22.38</td>\n",
       "      <td>31.12</td>\n",
       "      <td>22.20</td>\n",
       "      <td>48.38</td>\n",
       "      <td>0.00</td>\n",
       "      <td>18.50</td>\n",
       "      <td>15.18</td>\n",
       "      <td>30.70</td>\n",
       "      <td>5.83</td>\n",
       "      <td>74.60</td>\n",
       "      <td>...</td>\n",
       "      <td>25.42</td>\n",
       "      <td>14.08</td>\n",
       "      <td>21.95</td>\n",
       "      <td>22.15</td>\n",
       "      <td>17.67</td>\n",
       "      <td>51.23</td>\n",
       "      <td>45.62</td>\n",
       "      <td>45.95</td>\n",
       "      <td>57.53</td>\n",
       "      <td>65.13</td>\n",
       "    </tr>\n",
       "    <tr>\n",
       "      <th>...</th>\n",
       "      <td>...</td>\n",
       "      <td>...</td>\n",
       "      <td>...</td>\n",
       "      <td>...</td>\n",
       "      <td>...</td>\n",
       "      <td>...</td>\n",
       "      <td>...</td>\n",
       "      <td>...</td>\n",
       "      <td>...</td>\n",
       "      <td>...</td>\n",
       "      <td>...</td>\n",
       "      <td>...</td>\n",
       "      <td>...</td>\n",
       "      <td>...</td>\n",
       "      <td>...</td>\n",
       "      <td>...</td>\n",
       "      <td>...</td>\n",
       "      <td>...</td>\n",
       "      <td>...</td>\n",
       "      <td>...</td>\n",
       "      <td>...</td>\n",
       "    </tr>\n",
       "    <tr>\n",
       "      <th>Vailate, Dante Alighieri, 7</th>\n",
       "      <td>7.37</td>\n",
       "      <td>41.20</td>\n",
       "      <td>22.22</td>\n",
       "      <td>56.65</td>\n",
       "      <td>17.87</td>\n",
       "      <td>21.68</td>\n",
       "      <td>7.03</td>\n",
       "      <td>40.20</td>\n",
       "      <td>16.53</td>\n",
       "      <td>83.03</td>\n",
       "      <td>...</td>\n",
       "      <td>18.62</td>\n",
       "      <td>10.18</td>\n",
       "      <td>30.93</td>\n",
       "      <td>18.55</td>\n",
       "      <td>0.38</td>\n",
       "      <td>59.50</td>\n",
       "      <td>53.92</td>\n",
       "      <td>54.30</td>\n",
       "      <td>67.08</td>\n",
       "      <td>73.80</td>\n",
       "    </tr>\n",
       "    <tr>\n",
       "      <th>Vescovato, Roma, 44</th>\n",
       "      <td>57.80</td>\n",
       "      <td>26.80</td>\n",
       "      <td>50.85</td>\n",
       "      <td>14.62</td>\n",
       "      <td>50.60</td>\n",
       "      <td>46.90</td>\n",
       "      <td>55.08</td>\n",
       "      <td>23.53</td>\n",
       "      <td>50.03</td>\n",
       "      <td>31.47</td>\n",
       "      <td>...</td>\n",
       "      <td>56.37</td>\n",
       "      <td>52.68</td>\n",
       "      <td>35.98</td>\n",
       "      <td>50.95</td>\n",
       "      <td>59.98</td>\n",
       "      <td>0.00</td>\n",
       "      <td>19.43</td>\n",
       "      <td>12.33</td>\n",
       "      <td>11.25</td>\n",
       "      <td>22.12</td>\n",
       "    </tr>\n",
       "    <tr>\n",
       "      <th>Cremona, Felice Cavallotti, 2</th>\n",
       "      <td>50.93</td>\n",
       "      <td>19.97</td>\n",
       "      <td>43.98</td>\n",
       "      <td>10.95</td>\n",
       "      <td>43.77</td>\n",
       "      <td>40.03</td>\n",
       "      <td>48.17</td>\n",
       "      <td>17.95</td>\n",
       "      <td>43.17</td>\n",
       "      <td>38.65</td>\n",
       "      <td>...</td>\n",
       "      <td>49.45</td>\n",
       "      <td>45.80</td>\n",
       "      <td>29.12</td>\n",
       "      <td>44.08</td>\n",
       "      <td>52.90</td>\n",
       "      <td>19.38</td>\n",
       "      <td>0.12</td>\n",
       "      <td>11.00</td>\n",
       "      <td>27.72</td>\n",
       "      <td>30.22</td>\n",
       "    </tr>\n",
       "    <tr>\n",
       "      <th>Cremona, Palosca n. 2</th>\n",
       "      <td>52.55</td>\n",
       "      <td>21.40</td>\n",
       "      <td>45.53</td>\n",
       "      <td>4.70</td>\n",
       "      <td>45.28</td>\n",
       "      <td>41.57</td>\n",
       "      <td>49.92</td>\n",
       "      <td>18.27</td>\n",
       "      <td>44.72</td>\n",
       "      <td>30.87</td>\n",
       "      <td>...</td>\n",
       "      <td>51.07</td>\n",
       "      <td>47.35</td>\n",
       "      <td>30.65</td>\n",
       "      <td>45.67</td>\n",
       "      <td>54.67</td>\n",
       "      <td>12.50</td>\n",
       "      <td>11.72</td>\n",
       "      <td>0.00</td>\n",
       "      <td>20.85</td>\n",
       "      <td>21.52</td>\n",
       "    </tr>\n",
       "    <tr>\n",
       "      <th>Cremona, Sesto 39</th>\n",
       "      <td>39.37</td>\n",
       "      <td>8.38</td>\n",
       "      <td>32.45</td>\n",
       "      <td>15.78</td>\n",
       "      <td>32.20</td>\n",
       "      <td>28.52</td>\n",
       "      <td>36.63</td>\n",
       "      <td>16.48</td>\n",
       "      <td>31.63</td>\n",
       "      <td>42.00</td>\n",
       "      <td>...</td>\n",
       "      <td>37.93</td>\n",
       "      <td>34.27</td>\n",
       "      <td>17.53</td>\n",
       "      <td>32.52</td>\n",
       "      <td>41.30</td>\n",
       "      <td>18.48</td>\n",
       "      <td>12.93</td>\n",
       "      <td>13.30</td>\n",
       "      <td>26.82</td>\n",
       "      <td>32.62</td>\n",
       "    </tr>\n",
       "  </tbody>\n",
       "</table>\n",
       "<p>65 rows × 66 columns</p>\n",
       "</div>"
      ],
      "text/plain": [
       "                                Agnadello, Marconi, 6  \\\n",
       "Agnadello, Marconi, 6                            0.25   \n",
       "Annicco, Giuseppe Garibaldi, 6                  38.47   \n",
       "Bagnolo Cremasco, Roma, 3                       14.95   \n",
       "Bonemerse, Roma, 25                             55.02   \n",
       "Camisano, Trieste, 57                           22.38   \n",
       "...                                               ...   \n",
       "Vailate, Dante Alighieri, 7                      7.37   \n",
       "Vescovato, Roma, 44                             57.80   \n",
       "Cremona, Felice Cavallotti, 2                   50.93   \n",
       "Cremona, Palosca n. 2                           52.55   \n",
       "Cremona, Sesto 39                               39.37   \n",
       "\n",
       "                                Annicco, Giuseppe Garibaldi, 6  \\\n",
       "Agnadello, Marconi, 6                                    39.23   \n",
       "Annicco, Giuseppe Garibaldi, 6                            0.00   \n",
       "Bagnolo Cremasco, Roma, 3                                31.55   \n",
       "Bonemerse, Roma, 25                                      23.90   \n",
       "Camisano, Trieste, 57                                    31.12   \n",
       "...                                                        ...   \n",
       "Vailate, Dante Alighieri, 7                              41.20   \n",
       "Vescovato, Roma, 44                                      26.80   \n",
       "Cremona, Felice Cavallotti, 2                            19.97   \n",
       "Cremona, Palosca n. 2                                    21.40   \n",
       "Cremona, Sesto 39                                         8.38   \n",
       "\n",
       "                                Bagnolo Cremasco, Roma, 3  \\\n",
       "Agnadello, Marconi, 6                               16.02   \n",
       "Annicco, Giuseppe Garibaldi, 6                      31.45   \n",
       "Bagnolo Cremasco, Roma, 3                            0.00   \n",
       "Bonemerse, Roma, 25                                 48.08   \n",
       "Camisano, Trieste, 57                               22.20   \n",
       "...                                                   ...   \n",
       "Vailate, Dante Alighieri, 7                         22.22   \n",
       "Vescovato, Roma, 44                                 50.85   \n",
       "Cremona, Felice Cavallotti, 2                       43.98   \n",
       "Cremona, Palosca n. 2                               45.53   \n",
       "Cremona, Sesto 39                                   32.45   \n",
       "\n",
       "                                Bonemerse, Roma, 25  Camisano, Trieste, 57  \\\n",
       "Agnadello, Marconi, 6                         54.90                  23.12   \n",
       "Annicco, Giuseppe Garibaldi, 6                24.77                  31.23   \n",
       "Bagnolo Cremasco, Roma, 3                     47.20                  21.42   \n",
       "Bonemerse, Roma, 25                            0.00                  47.77   \n",
       "Camisano, Trieste, 57                         48.38                   0.00   \n",
       "...                                             ...                    ...   \n",
       "Vailate, Dante Alighieri, 7                   56.65                  17.87   \n",
       "Vescovato, Roma, 44                           14.62                  50.60   \n",
       "Cremona, Felice Cavallotti, 2                 10.95                  43.77   \n",
       "Cremona, Palosca n. 2                          4.70                  45.28   \n",
       "Cremona, Sesto 39                             15.78                  32.20   \n",
       "\n",
       "                                Capergnanica, XI febbraio, 7  \\\n",
       "Agnadello, Marconi, 6                                  16.22   \n",
       "Annicco, Giuseppe Garibaldi, 6                         27.48   \n",
       "Bagnolo Cremasco, Roma, 3                               7.67   \n",
       "Bonemerse, Roma, 25                                    44.15   \n",
       "Camisano, Trieste, 57                                  18.50   \n",
       "...                                                      ...   \n",
       "Vailate, Dante Alighieri, 7                            21.68   \n",
       "Vescovato, Roma, 44                                    46.90   \n",
       "Cremona, Felice Cavallotti, 2                          40.03   \n",
       "Cremona, Palosca n. 2                                  41.57   \n",
       "Cremona, Sesto 39                                      28.52   \n",
       "\n",
       "                                Capralba, Piave, 2  \\\n",
       "Agnadello, Marconi, 6                        11.13   \n",
       "Annicco, Giuseppe Garibaldi, 6               36.20   \n",
       "Bagnolo Cremasco, Roma, 3                    19.25   \n",
       "Bonemerse, Roma, 25                          52.63   \n",
       "Camisano, Trieste, 57                        15.18   \n",
       "...                                            ...   \n",
       "Vailate, Dante Alighieri, 7                   7.03   \n",
       "Vescovato, Roma, 44                          55.08   \n",
       "Cremona, Felice Cavallotti, 2                48.17   \n",
       "Cremona, Palosca n. 2                        49.92   \n",
       "Cremona, Sesto 39                            36.63   \n",
       "\n",
       "                                Casalbuttano ed Uniti, Jacini, 23  \\\n",
       "Agnadello, Marconi, 6                                       44.75   \n",
       "Annicco, Giuseppe Garibaldi, 6                              12.12   \n",
       "Bagnolo Cremasco, Roma, 3                                   37.77   \n",
       "Bonemerse, Roma, 25                                         20.82   \n",
       "Camisano, Trieste, 57                                       30.70   \n",
       "...                                                           ...   \n",
       "Vailate, Dante Alighieri, 7                                 40.20   \n",
       "Vescovato, Roma, 44                                         23.53   \n",
       "Cremona, Felice Cavallotti, 2                               17.95   \n",
       "Cremona, Palosca n. 2                                       18.27   \n",
       "Cremona, Sesto 39                                           16.48   \n",
       "\n",
       "                                Casale Cremasco-Vidolasco, Roma, 56  \\\n",
       "Agnadello, Marconi, 6                                         21.73   \n",
       "Annicco, Giuseppe Garibaldi, 6                                30.73   \n",
       "Bagnolo Cremasco, Roma, 3                                     20.92   \n",
       "Bonemerse, Roma, 25                                           47.20   \n",
       "Camisano, Trieste, 57                                          5.83   \n",
       "...                                                             ...   \n",
       "Vailate, Dante Alighieri, 7                                   16.53   \n",
       "Vescovato, Roma, 44                                           50.03   \n",
       "Cremona, Felice Cavallotti, 2                                 43.17   \n",
       "Cremona, Palosca n. 2                                         44.72   \n",
       "Cremona, Sesto 39                                             31.63   \n",
       "\n",
       "                                Casalmaggiore, Guglielmo Marconi, 8  ...  \\\n",
       "Agnadello, Marconi, 6                                         81.17  ...   \n",
       "Annicco, Giuseppe Garibaldi, 6                                51.43  ...   \n",
       "Bagnolo Cremasco, Roma, 3                                     73.45  ...   \n",
       "Bonemerse, Roma, 25                                           30.52  ...   \n",
       "Camisano, Trieste, 57                                         74.60  ...   \n",
       "...                                                             ...  ...   \n",
       "Vailate, Dante Alighieri, 7                                   83.03  ...   \n",
       "Vescovato, Roma, 44                                           31.47  ...   \n",
       "Cremona, Felice Cavallotti, 2                                 38.65  ...   \n",
       "Cremona, Palosca n. 2                                         30.87  ...   \n",
       "Cremona, Sesto 39                                             42.00  ...   \n",
       "\n",
       "                                Spino d'Adda, Circonvallazione, 13  \\\n",
       "Agnadello, Marconi, 6                                        12.30   \n",
       "Annicco, Giuseppe Garibaldi, 6                               36.98   \n",
       "Bagnolo Cremasco, Roma, 3                                    13.48   \n",
       "Bonemerse, Roma, 25                                          53.48   \n",
       "Camisano, Trieste, 57                                        25.42   \n",
       "...                                                            ...   \n",
       "Vailate, Dante Alighieri, 7                                  18.62   \n",
       "Vescovato, Roma, 44                                          56.37   \n",
       "Cremona, Felice Cavallotti, 2                                49.45   \n",
       "Cremona, Palosca n. 2                                        51.07   \n",
       "Cremona, Sesto 39                                            37.93   \n",
       "\n",
       "                                Trescore Cremasco, Vittorio Veneto, 1  \\\n",
       "Agnadello, Marconi, 6                                           12.77   \n",
       "Annicco, Giuseppe Garibaldi, 6                                  33.32   \n",
       "Bagnolo Cremasco, Roma, 3                                       11.88   \n",
       "Bonemerse, Roma, 25                                             49.87   \n",
       "Camisano, Trieste, 57                                           14.08   \n",
       "...                                                               ...   \n",
       "Vailate, Dante Alighieri, 7                                     10.18   \n",
       "Vescovato, Roma, 44                                             52.68   \n",
       "Cremona, Felice Cavallotti, 2                                   45.80   \n",
       "Cremona, Palosca n. 2                                           47.35   \n",
       "Cremona, Sesto 39                                               34.27   \n",
       "\n",
       "                                Trigolo, Roma, 26  \\\n",
       "Agnadello, Marconi, 6                       31.63   \n",
       "Annicco, Giuseppe Garibaldi, 6              15.13   \n",
       "Bagnolo Cremasco, Roma, 3                   23.97   \n",
       "Bonemerse, Roma, 25                         33.22   \n",
       "Camisano, Trieste, 57                       21.95   \n",
       "...                                           ...   \n",
       "Vailate, Dante Alighieri, 7                 30.93   \n",
       "Vescovato, Roma, 44                         35.98   \n",
       "Cremona, Felice Cavallotti, 2               29.12   \n",
       "Cremona, Palosca n. 2                       30.65   \n",
       "Cremona, Sesto 39                           17.53   \n",
       "\n",
       "                                Vaiano Cremasco,  Gloriosi Caduti, 3  \\\n",
       "Agnadello, Marconi, 6                                          12.22   \n",
       "Annicco, Giuseppe Garibaldi, 6                                 31.55   \n",
       "Bagnolo Cremasco, Roma, 3                                       5.95   \n",
       "Bonemerse, Roma, 25                                            47.97   \n",
       "Camisano, Trieste, 57                                          22.15   \n",
       "...                                                              ...   \n",
       "Vailate, Dante Alighieri, 7                                    18.55   \n",
       "Vescovato, Roma, 44                                            50.95   \n",
       "Cremona, Felice Cavallotti, 2                                  44.08   \n",
       "Cremona, Palosca n. 2                                          45.67   \n",
       "Cremona, Sesto 39                                              32.52   \n",
       "\n",
       "                                Vailate, Dante Alighieri, 7  \\\n",
       "Agnadello, Marconi, 6                                  8.23   \n",
       "Annicco, Giuseppe Garibaldi, 6                        40.75   \n",
       "Bagnolo Cremasco, Roma, 3                             22.17   \n",
       "Bonemerse, Roma, 25                                   57.15   \n",
       "Camisano, Trieste, 57                                 17.67   \n",
       "...                                                     ...   \n",
       "Vailate, Dante Alighieri, 7                            0.38   \n",
       "Vescovato, Roma, 44                                   59.98   \n",
       "Cremona, Felice Cavallotti, 2                         52.90   \n",
       "Cremona, Palosca n. 2                                 54.67   \n",
       "Cremona, Sesto 39                                     41.30   \n",
       "\n",
       "                                Vescovato, Roma, 44  \\\n",
       "Agnadello, Marconi, 6                         57.78   \n",
       "Annicco, Giuseppe Garibaldi, 6                27.72   \n",
       "Bagnolo Cremasco, Roma, 3                     50.10   \n",
       "Bonemerse, Roma, 25                           15.25   \n",
       "Camisano, Trieste, 57                         51.23   \n",
       "...                                             ...   \n",
       "Vailate, Dante Alighieri, 7                   59.50   \n",
       "Vescovato, Roma, 44                            0.00   \n",
       "Cremona, Felice Cavallotti, 2                 19.38   \n",
       "Cremona, Palosca n. 2                         12.50   \n",
       "Cremona, Sesto 39                             18.48   \n",
       "\n",
       "                                Cremona, Felice Cavallotti, 2  \\\n",
       "Agnadello, Marconi, 6                                   52.13   \n",
       "Annicco, Giuseppe Garibaldi, 6                          21.95   \n",
       "Bagnolo Cremasco, Roma, 3                               44.45   \n",
       "Bonemerse, Roma, 25                                     12.00   \n",
       "Camisano, Trieste, 57                                   45.62   \n",
       "...                                                       ...   \n",
       "Vailate, Dante Alighieri, 7                             53.92   \n",
       "Vescovato, Roma, 44                                     19.43   \n",
       "Cremona, Felice Cavallotti, 2                            0.12   \n",
       "Cremona, Palosca n. 2                                   11.72   \n",
       "Cremona, Sesto 39                                       12.93   \n",
       "\n",
       "                                Cremona, Palosca n. 2  Ostiano  \\\n",
       "Agnadello, Marconi, 6                           52.45    66.15   \n",
       "Annicco, Giuseppe Garibaldi, 6                  22.37    36.02   \n",
       "Bagnolo Cremasco, Roma, 3                       44.75    58.48   \n",
       "Bonemerse, Roma, 25                              4.47    22.80   \n",
       "Camisano, Trieste, 57                           45.95    57.53   \n",
       "...                                               ...      ...   \n",
       "Vailate, Dante Alighieri, 7                     54.30    67.08   \n",
       "Vescovato, Roma, 44                             12.33    11.25   \n",
       "Cremona, Felice Cavallotti, 2                   11.00    27.72   \n",
       "Cremona, Palosca n. 2                            0.00    20.85   \n",
       "Cremona, Sesto 39                               13.30    26.82   \n",
       "\n",
       "                                San Giovanni in Croce  \n",
       "Agnadello, Marconi, 6                           71.70  \n",
       "Annicco, Giuseppe Garibaldi, 6                  41.70  \n",
       "Bagnolo Cremasco, Roma, 3                       64.00  \n",
       "Bonemerse, Roma, 25                             20.87  \n",
       "Camisano, Trieste, 57                           65.13  \n",
       "...                                               ...  \n",
       "Vailate, Dante Alighieri, 7                     73.80  \n",
       "Vescovato, Roma, 44                             22.12  \n",
       "Cremona, Felice Cavallotti, 2                   30.22  \n",
       "Cremona, Palosca n. 2                           21.52  \n",
       "Cremona, Sesto 39                               32.62  \n",
       "\n",
       "[65 rows x 66 columns]"
      ]
     },
     "execution_count": 85,
     "metadata": {},
     "output_type": "execute_result"
    }
   ],
   "source": [
    "dataf"
   ]
  },
  {
   "cell_type": "code",
   "execution_count": 22,
   "metadata": {},
   "outputs": [
    {
     "name": "stdout",
     "output_type": "stream",
     "text": [
      "45.146777 9.9997472\n",
      "45.1761671 9.9157889\n"
     ]
    },
    {
     "data": {
      "text/plain": [
       "10.216666666666667"
      ]
     },
     "execution_count": 22,
     "metadata": {},
     "output_type": "execute_result"
    }
   ],
   "source": [
    "\n",
    "lat, lon=getLocation(\"Cremona, via Sesto, 39\")\n",
    "from_address=str(lat)+\", \"+str(lon)\n",
    "print(str(lat) + \" \" + str(lon))\n",
    "lat, lon = getLocation(\"Sesto ed Uniti, via Roma, 4\")\n",
    "print(str(lat) + \" \" + str(lon))\n",
    "to_address=str(lat)+\", \"+str(lon)\n",
    "route = WazeRouteCalculator.WazeRouteCalculator(from_address, to_address, \"EU\")\n",
    "route_time, route_distance = route.calc_route_info(real_time=False)\n",
    "route_time"
   ]
  },
  {
   "cell_type": "code",
   "execution_count": 15,
   "metadata": {},
   "outputs": [
    {
     "data": {
      "application/vnd.jupyter.widget-view+json": {
       "model_id": "82e975404a8d441387d8fec9a0448c2b",
       "version_major": 2,
       "version_minor": 0
      },
      "text/plain": [
       "HBox(children=(FloatProgress(value=0.0, max=68.0), HTML(value='')))"
      ]
     },
     "metadata": {},
     "output_type": "display_data"
    },
    {
     "name": "stdout",
     "output_type": "stream",
     "text": [
      "\n"
     ]
    }
   ],
   "source": [
    "#COMPUTE AND SAVE ROW\n",
    "import time\n",
    "paese=\"Casaletto Vaprio, Maggiore, 7\"\n",
    "lat, lon=getLocation(paese)\n",
    "from_address=str(lat)+\", \"+str(lon)\n",
    "t=[paese]\n",
    "d=[paese]\n",
    "#Inner loop over cities (to)\n",
    "for i in tqdm(range(len(y))):\n",
    "    wait=2\n",
    "    #Loop until get distance\n",
    "    while True:\n",
    "        region = 'EU'\n",
    "        lat, lon = getLocation(y[i])\n",
    "        to_address=str(lat)+\", \"+str(lon)\n",
    "        try:\n",
    "            route = WazeRouteCalculator.WazeRouteCalculator(from_address, to_address, region)\n",
    "            route_time, route_distance = route.calc_route_info(real_time=False)\n",
    "        except:\n",
    "            #On error wait (to avoid out of request) and retry to get route\n",
    "            #print(x[j]+\"\\n\"+y[i])\n",
    "            time.sleep(wait)\n",
    "            wait=wait+2\n",
    "            continue\n",
    "        t.append(route_time)\n",
    "        d.append(route_distance)\n",
    "        break\n",
    "\n",
    "roundedr=[round(float(x),2) for x in t[1:]]\n",
    "roundedr\n",
    "with open('row.csv', mode='w') as time_file:\n",
    "    time_file = csv.writer(time_file, delimiter=';')\n",
    "    time_file.writerow(roundedr)\n"
   ]
  },
  {
   "cell_type": "code",
   "execution_count": 16,
   "metadata": {},
   "outputs": [
    {
     "data": {
      "application/vnd.jupyter.widget-view+json": {
       "model_id": "dbb80d3065d3453b9e73f37fa3723037",
       "version_major": 2,
       "version_minor": 0
      },
      "text/plain": [
       "HBox(children=(FloatProgress(value=0.0, max=66.0), HTML(value='')))"
      ]
     },
     "metadata": {},
     "output_type": "display_data"
    },
    {
     "name": "stdout",
     "output_type": "stream",
     "text": [
      "\n"
     ]
    },
    {
     "ename": "NameError",
     "evalue": "name 'rounded' is not defined",
     "output_type": "error",
     "traceback": [
      "\u001b[1;31m---------------------------------------------------------------------------\u001b[0m",
      "\u001b[1;31mNameError\u001b[0m                                 Traceback (most recent call last)",
      "\u001b[1;32m<ipython-input-16-0b571a15e6fc>\u001b[0m in \u001b[0;36m<module>\u001b[1;34m\u001b[0m\n\u001b[0;32m     29\u001b[0m \u001b[0mroundedc\u001b[0m\u001b[1;33m=\u001b[0m\u001b[1;33m[\u001b[0m\u001b[0mround\u001b[0m\u001b[1;33m(\u001b[0m\u001b[0mfloat\u001b[0m\u001b[1;33m(\u001b[0m\u001b[0mx\u001b[0m\u001b[1;33m)\u001b[0m\u001b[1;33m,\u001b[0m\u001b[1;36m2\u001b[0m\u001b[1;33m)\u001b[0m \u001b[1;32mfor\u001b[0m \u001b[0mx\u001b[0m \u001b[1;32min\u001b[0m \u001b[0mt\u001b[0m\u001b[1;33m[\u001b[0m\u001b[1;36m1\u001b[0m\u001b[1;33m:\u001b[0m\u001b[1;33m]\u001b[0m\u001b[1;33m]\u001b[0m\u001b[1;33m\u001b[0m\u001b[1;33m\u001b[0m\u001b[0m\n\u001b[0;32m     30\u001b[0m \u001b[0mroundedc\u001b[0m\u001b[1;33m\u001b[0m\u001b[1;33m\u001b[0m\u001b[0m\n\u001b[1;32m---> 31\u001b[1;33m \u001b[1;32mfor\u001b[0m \u001b[0mi\u001b[0m \u001b[1;32min\u001b[0m \u001b[0mrounded\u001b[0m\u001b[1;33m:\u001b[0m\u001b[1;33m\u001b[0m\u001b[1;33m\u001b[0m\u001b[0m\n\u001b[0m\u001b[0;32m     32\u001b[0m     \u001b[1;32mwith\u001b[0m \u001b[0mopen\u001b[0m\u001b[1;33m(\u001b[0m\u001b[1;34m'column.csv'\u001b[0m\u001b[1;33m,\u001b[0m \u001b[0mmode\u001b[0m\u001b[1;33m=\u001b[0m\u001b[1;34m'a'\u001b[0m\u001b[1;33m,\u001b[0m \u001b[0mnewline\u001b[0m\u001b[1;33m=\u001b[0m\u001b[1;34m''\u001b[0m\u001b[1;33m)\u001b[0m \u001b[1;32mas\u001b[0m \u001b[0mtime_file\u001b[0m\u001b[1;33m:\u001b[0m\u001b[1;33m\u001b[0m\u001b[1;33m\u001b[0m\u001b[0m\n\u001b[0;32m     33\u001b[0m         \u001b[0mtime_file\u001b[0m \u001b[1;33m=\u001b[0m \u001b[0mcsv\u001b[0m\u001b[1;33m.\u001b[0m\u001b[0mwriter\u001b[0m\u001b[1;33m(\u001b[0m\u001b[0mtime_file\u001b[0m\u001b[1;33m)\u001b[0m\u001b[1;33m\u001b[0m\u001b[1;33m\u001b[0m\u001b[0m\n",
      "\u001b[1;31mNameError\u001b[0m: name 'rounded' is not defined"
     ]
    }
   ],
   "source": [
    "#COMPUTE AND SAVE COLUMN\n",
    "import time\n",
    "paese=\"Casaletto Vaprio, Maggiore, 7\"\n",
    "lat, lon=getLocation(paese)\n",
    "to_address=str(lat)+\", \"+str(lon)\n",
    "t=[paese]\n",
    "d=[paese]\n",
    "#Inner loop over cities (to)\n",
    "for i in tqdm(range(len(x))):\n",
    "    wait=2\n",
    "    #Loop until get distance\n",
    "    while True:\n",
    "        region = 'EU'\n",
    "        lat, lon = getLocation(x[i])\n",
    "        from_address=str(lat)+\", \"+str(lon)\n",
    "        try:\n",
    "            route = WazeRouteCalculator.WazeRouteCalculator(to_address, from_address, region)\n",
    "            route_time, route_distance = route.calc_route_info(real_time=False)\n",
    "        except:\n",
    "            #On error wait (to avoid out of request) and retry to get route\n",
    "            #print(x[j]+\"\\n\"+y[i])\n",
    "            time.sleep(wait)\n",
    "            wait=wait+2\n",
    "            continue\n",
    "        t.append(route_time)\n",
    "        d.append(route_distance)\n",
    "        break\n",
    "\n",
    "roundedc=[round(float(x),2) for x in t[1:]]\n",
    "roundedc\n",
    "for i in roundedc:\n",
    "    with open('column.csv', mode='a', newline='') as time_file:\n",
    "        time_file = csv.writer(time_file)\n",
    "        time_file.writerow([i])\n"
   ]
  },
  {
   "cell_type": "code",
   "execution_count": 7,
   "metadata": {},
   "outputs": [
    {
     "data": {
      "text/plain": [
       "\"\\nwith open('sospirot.csv', mode='w') as time_file:\\n        time_file = csv.writer(time_file, delimiter=';')\\n        time_file.writerow(t)\\nwith open('sospirod.csv', mode='w') as time_file:\\n        time_file = csv.writer(time_file, delimiter=';')\\n        time_file.writerow(d)\\n\\nrounded=[round(float(x),2) for x in t[1:]]\\nrounded\""
      ]
     },
     "execution_count": 7,
     "metadata": {},
     "output_type": "execute_result"
    }
   ],
   "source": [
    "\"\"\"\n",
    "with open('sospirot.csv', mode='w') as time_file:\n",
    "        time_file = csv.writer(time_file, delimiter=';')\n",
    "        time_file.writerow(t)\n",
    "with open('sospirod.csv', mode='w') as time_file:\n",
    "        time_file = csv.writer(time_file, delimiter=';')\n",
    "        time_file.writerow(d)\n",
    "\n",
    "rounded=[round(float(x),2) for x in t[1:]]\n",
    "rounded\"\"\"\n"
   ]
  },
  {
   "cell_type": "code",
   "execution_count": 8,
   "metadata": {},
   "outputs": [
    {
     "name": "stdout",
     "output_type": "stream",
     "text": [
      "45.4084978\n",
      "9.62918198238575\n"
     ]
    }
   ],
   "source": [
    "lat, lon=getLocation(\"Casaletto Vaprio, Maggiore, 7\")\n",
    "print(lat)\n",
    "print(lon)"
   ]
  }
 ],
 "metadata": {
  "kernelspec": {
   "display_name": "Python 3",
   "language": "python",
   "name": "python3"
  },
  "language_info": {
   "codemirror_mode": {
    "name": "ipython",
    "version": 3
   },
   "file_extension": ".py",
   "mimetype": "text/x-python",
   "name": "python",
   "nbconvert_exporter": "python",
   "pygments_lexer": "ipython3",
   "version": "3.7.6"
  }
 },
 "nbformat": 4,
 "nbformat_minor": 4
}

{
 "cells": [
  {
   "cell_type": "code",
   "execution_count": 1,
   "metadata": {},
   "outputs": [],
   "source": [
    "import matplotlib.pyplot as plt\n",
    "import math\n",
    "import pandas as pd\n",
    "import numpy as np\n",
    "import folium\n",
    "from ipynb.fs.defs.Local_search import get_row\n",
    "from ipynb.fs.defs.Local_search import getName\n",
    "from ipynb.fs.defs.functions import translate_name\n",
    "from ipynb.fs.defs.functions import get_row\n",
    "from ipynb.fs.defs.functions import get_column\n",
    "from tqdm.notebook import tqdm as tqdm\n",
    "\n",
    "df = pd.read_csv(\"../Dati/request_cr.csv\", delimiter=\",\", encoding = \"ISO-8859-1\")\n",
    "dataframe = pd.read_csv(\"../Dati/num_orders.csv\", delimiter=\";\", encoding = \"ISO-8859-1\")\n",
    "coor = pd.read_csv('../Dati/altro/CitiesLocation.csv', delimiter=\";\", encoding = \"ISO-8859-1\", index_col = 0)\n",
    "dft = pd.read_csv(\"../Dati/distanze/corrected_times_computed.csv\", delimiter=\";\", encoding = \"ISO-8859-1\", index_col=0)\n",
    "fur1_MVLS = pd.read_csv(\"../Dati/turni_f/multi_veich_LS1.csv\", delimiter=\";\", encoding = \"ISO-8859-1\")\n",
    "fur2_MVLS = pd.read_csv(\"../Dati/turni_f/multi_veich_LS2.csv\", delimiter=\";\", encoding = \"ISO-8859-1\")\n",
    "fur1_2opt = pd.read_csv(\"../Dati/turni_f/2-opt1_shifts.csv\", delimiter=\";\", encoding = \"ISO-8859-1\")\n",
    "fur2_2opt = pd.read_csv(\"../Dati/turni_f/2-opt2_shifts.csv\", delimiter=\";\", encoding = \"ISO-8859-1\")\n",
    "fur1_greedy = pd.read_csv(\"../Dati/turni_f/furgoncino1_routing.csv\", delimiter=\";\", encoding = \"ISO-8859-1\")\n",
    "fur2_greedy = pd.read_csv(\"../Dati/turni_f/furgoncino2_routing.csv\", delimiter=\";\", encoding = \"ISO-8859-1\")\n",
    "\n",
    "def manage_exception(string):\n",
    "    if(string.lower().strip() == 'piadena drizzona'):\n",
    "        return 'Piadena, Platina, 40'\n",
    "    elif(string.lower().strip() == 'brescia'):\n",
    "        return 'manerbio, insurrezione nazionale'\n",
    "    elif(string.lower().strip() == 'centro fumetto a. pazienza' or string.lower().strip() == 'cremona. la piccola biblioteca' or string.lower().strip() == 'uff. bib. cremona'):\n",
    "        return 'cremona, ugolani dati, 4'\n",
    "    elif(string.lower().strip() == 'casale cremasco vidolasco'):\n",
    "        return 'Casale Cremasco-Vidolasco, Roma, 56'\n",
    "    elif(string.lower().strip() == 'cremona-m.i.t.o.'):\n",
    "        return 'Cremona, Palosca n. 2'\n",
    "    elif(string.lower().strip() == 'cremona - manin (scolastica)'):\n",
    "        return 'Cremona, Felice Cavallotti, 2'\n",
    "    elif(string.lower().strip() == 'gadesco pieve delmona'):\n",
    "        return 'Gadesco-Pieve Delmona, Giovanni Lonati 9'\n",
    "    elif(string.lower().strip() == 'cremona - cda'):\n",
    "        return 'cremona, sesto 39'\n",
    "    elif(string.lower().strip() == 'crema'):\n",
    "        return 'Crema, Civerchi, 9'\n",
    "    elif(string.lower().strip() == 'martignana di po, libertà, 64'):\n",
    "        return 'martignana di po, libertà, 64'\n",
    "    else:\n",
    "        return string"
   ]
  },
  {
   "cell_type": "code",
   "execution_count": 54,
   "metadata": {},
   "outputs": [
    {
     "name": "stderr",
     "output_type": "stream",
     "text": [
      "C:\\Users\\Alberto\\anaconda3\\lib\\site-packages\\pandas\\core\\strings.py:1952: UserWarning: This pattern has match groups. To actually get the groups, use str.extract.\n",
      "  return func(self, *args, **kwargs)\n"
     ]
    }
   ],
   "source": [
    "loc = [coor.loc['Cremona, Ugolani Dati, 4']['Lat'], coor.loc['Cremona, Ugolani Dati, 4']['Lon']]\n",
    "map_ = folium.Map(location = loc)\n",
    "orig = ''\n",
    "dest = ''\n",
    "\n",
    "\n",
    "for i in range(len(dataframe)):\n",
    "    try:\n",
    "        orig = getName(coor, manage_exception(dataframe.iloc[i]['origin']))\n",
    "        dest = getName(coor, manage_exception(dataframe.iloc[i]['destination']))\n",
    "    except:\n",
    "        continue\n",
    "    point1 = [coor.loc[orig]['Lat'], coor.loc[orig]['Lon']]\n",
    "    point2 = [coor.loc[dest]['Lat'], coor.loc[dest]['Lon']]\n",
    "    points = [point1, point2]\n",
    "    \n",
    "    orders = dataframe.iloc[i]['num_orders']\n",
    "    if(orders > 500):\n",
    "        folium.PolyLine(points, color=\"black\", weight=0.5, opacity=1).add_to(map_)\n",
    "        #folium.PolyLine(points).add_to(map_)\n",
    "    elif(orders >= 400 and orders < 500):\n",
    "        folium.PolyLine(points, color=\"red\", weight=0.5, opacity=1).add_to(map_)\n",
    "    elif(orders >= 300 and orders < 400):\n",
    "        folium.PolyLine(points, color=\"orange\", weight=0.5, opacity=1).add_to(map_)\n",
    "    elif(orders >= 200 and orders < 300):\n",
    "        folium.PolyLine(points, color=\"darkblue\", weight=0.5, opacity=1).add_to(map_)\n",
    "    elif(orders >= 100 and orders < 200):\n",
    "        folium.PolyLine(points, color=\"blue\", weight=0.5, opacity=1).add_to(map_)\n",
    "    elif(orders >= 0 and orders < 100):\n",
    "        folium.PolyLine(points, color=\"lightblue\", weight=0.5, opacity=1).add_to(map_)\n",
    "    "
   ]
  },
  {
   "cell_type": "code",
   "execution_count": 13,
   "metadata": {},
   "outputs": [],
   "source": [
    "#set(list(df['biblioteca_destinazione']))\n",
    "origins = []\n",
    "for x in set(list(df['biblioteca_partenza'])):\n",
    "    try:\n",
    "        origins.append(getName(dft, manage_exception(x)))\n",
    "    except:\n",
    "        continue\n",
    "destins = []\n",
    "for x in set(list(df['biblioteca_destinazione'])):\n",
    "    try:\n",
    "        destins.append(getName(dft, manage_exception(x)))\n",
    "    except:\n",
    "        continue\n",
    "origins.sort()\n",
    "destins.sort()"
   ]
  },
  {
   "cell_type": "code",
   "execution_count": 83,
   "metadata": {},
   "outputs": [],
   "source": [
    "indx = [getName(dft, x) for x in dft.columns]\n",
    "ord_numbers = pd.DataFrame({}, index = indx, columns = indx)\n",
    "for i in range(len(dataframe)):\n",
    "    try:\n",
    "        orig = getName(dft, manage_exception(dataframe.iloc[i]['origin']))\n",
    "        exc.append(dataframe.iloc[i]['origin'])\n",
    "        dest = getName(dft, manage_exception(dataframe.iloc[i]['destination']))\n",
    "        exc.append(dataframe.iloc[i]['destination'])\n",
    "        orders = dataframe.iloc[i]['num_orders']\n",
    "        ord_numbers.loc[orig,dest] = orders\n",
    "    except:\n",
    "        #print([orig, dest])\n",
    "        continue  "
   ]
  },
  {
   "cell_type": "code",
   "execution_count": 84,
   "metadata": {},
   "outputs": [],
   "source": [
    "ord_numbers=ord_numbers.replace(np.nan, 0)"
   ]
  },
  {
   "cell_type": "code",
   "execution_count": 85,
   "metadata": {},
   "outputs": [],
   "source": [
    "ord_numbers.to_csv(\"../Dati/distanze/ord_numbers.csv\", sep=\";\", encoding = \"ISO-8859-1\")"
   ]
  },
  {
   "cell_type": "code",
   "execution_count": 86,
   "metadata": {},
   "outputs": [],
   "source": [
    "orders = pd.read_csv(\"../Dati/distanze/ord_numbers.csv\", delimiter=\";\", encoding = \"ISO-8859-1\", index_col=0)"
   ]
  }
 ],
 "metadata": {
  "kernelspec": {
   "display_name": "Python 3",
   "language": "python",
   "name": "python3"
  },
  "language_info": {
   "codemirror_mode": {
    "name": "ipython",
    "version": 3
   },
   "file_extension": ".py",
   "mimetype": "text/x-python",
   "name": "python",
   "nbconvert_exporter": "python",
   "pygments_lexer": "ipython3",
   "version": "3.7.6"
  }
 },
 "nbformat": 4,
 "nbformat_minor": 2
}

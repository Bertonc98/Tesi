{
 "cells": [
  {
   "cell_type": "code",
   "execution_count": 2,
   "metadata": {},
   "outputs": [],
   "source": [
    "import pandas as pd\n",
    "import numpy as np\n",
    "import math\n",
    "import datetime\n",
    "import itertools\n",
    "import warnings\n",
    "warnings.filterwarnings('ignore')\n",
    "\n",
    "table=pd.read_csv(\"../Dati/orari/route.csv\", delimiter=\";\")\n",
    "time_table=pd.read_csv(\"../Dati/orari/route_time.csv\", delimiter=\";\")\n",
    "dft = pd.read_csv(\"../Dati/distanze/times_computed.csv\", delimiter=\";\", encoding = \"ISO-8859-1\", index_col=0)\n",
    "dfd = pd.read_csv(\"../Dati/distanze/distances_computed.csv\", delimiter=\";\", encoding = \"ISO-8859-1\", index_col=0)\n",
    "fur1 = pd.read_csv(\"../Dati/turni_f/furgoncino1_routing.csv\", delimiter=\";\")\n",
    "fur2 = pd.read_csv(\"../Dati/turni_f/furgoncino2_routing.csv\", delimiter=\";\")\n",
    "fur1d = pd.read_csv(\"../Dati/turni_f/furgoncino1_KM_routing.csv\", delimiter=\";\")\n",
    "fur2d = pd.read_csv(\"../Dati/turni_f/furgoncino2_KM_routing.csv\", delimiter=\";\")\n",
    "\n",
    "def get_row(df, string):\n",
    "    return pd.Series(df.index).str.contains(string, case=False)\n",
    "\n",
    "def get_column(df, string):\n",
    "    return pd.Series(df.columns).str.contains(string, case=False)\n",
    "\n",
    "def difference(day, index, index2):\n",
    "    time = datetime.datetime.strptime(time_table[day][index], '%H:%M')\n",
    "    time2 = datetime.datetime.strptime(time_table[day][index2], '%H:%M')\n",
    "    return ((time2-time).seconds)/60\n"
   ]
  },
  {
   "cell_type": "code",
   "execution_count": 3,
   "metadata": {},
   "outputs": [],
   "source": [
    "#(inizio e fine compresi)\n",
    "#Ritorna una lista contenente le chiavi di due città e il tempo di percorrenza tra le due\n",
    "#nel formato (times, \"key1 - key2\")\n",
    "#\"key1 - key2\" è la chiave\n",
    "#La lista partirà dalla posizione \"inizio\" della schedulazione e finità con \"fine\"\n",
    "def route(schedule, inizio, fine, dft):\n",
    "    times = []\n",
    "    keys = []\n",
    "    row = dft[get_row(dft, schedule[inizio]).values]\n",
    "    key1 = ''\n",
    "    key2 = ''\n",
    "    impossibile = []\n",
    "    \n",
    "    for i in range(inizio+1,fine+1):\n",
    "        key1 = row.index[0]\n",
    "        try:\n",
    "            paese=schedule[i]\n",
    "        except:\n",
    "            continue\n",
    "        #Distanze in tempo dal paese corrente di ognuno dei furgoni alla destinazione\n",
    "        value=row.loc[:,get_column(dft, paese).values].values[0][0]\n",
    "        times.append(round(value))\n",
    "        row = dft[get_row(dft, paese).values]\n",
    "        key2 = row.index[0]\n",
    "        keys.append(key1 + ' - ' + key2)\n",
    "    \n",
    "    steps_times1 = pd.Series(times , keys)\n",
    "    times1 = times[:]\n",
    "    return steps_times1\n",
    "\n",
    "#Data una lista ottenuta da route restituisce la lista dei nomi delle città\n",
    "def cities_list(serie):\n",
    "    cities = []\n",
    "    keys = serie.keys()\n",
    "    for i in range(0, len(serie)):\n",
    "        cities = cities + [keys[i].split('-')[0].strip()]\n",
    "    if len(keys[i].split('-')) > 2: \n",
    "        return cities + [keys[i].split('-')[len(keys[i].split('-'))-1].strip()]\n",
    "    else:\n",
    "        return cities + [keys[i].split('-')[1].strip()]"
   ]
  },
  {
   "cell_type": "code",
   "execution_count": 4,
   "metadata": {},
   "outputs": [],
   "source": [
    "#Datogli una schedulazione calcola il tempo di percorrenza\n",
    "def schedule_time(schedule, dft):\n",
    "    times = []\n",
    "    row = dft[get_row(dft, 'Cremona, sesto 39').values]\n",
    "    keys = []\n",
    "    key1 = ''\n",
    "    key2 = ''\n",
    "    for i in range(1, len(schedule)):\n",
    "        key1 = row.index[0]\n",
    "        paese=schedule[i]\n",
    "\n",
    "        value=row.loc[:,get_column(dft, paese).values].values[0][0]\n",
    "        times.append(round(value))\n",
    "        \n",
    "        row = dft[get_row(dft, paese).values]\n",
    "        key2 = row.index[0]\n",
    "        keys.append(key1 + ' - ' + key2)\n",
    "    steps_times = pd.Series(times , keys)\n",
    "    return sum(steps_times.values)"
   ]
  },
  {
   "cell_type": "code",
   "execution_count": 5,
   "metadata": {},
   "outputs": [],
   "source": [
    "#mantiene il nodo inizial e il successivo a y invariati, mentre fa il reverse della lista tra i due\n",
    "#A-b-c-d-E -> A-d-c-b-E\n",
    "def cross(schedule, x, y):\n",
    "    i = [schedule[x]]\n",
    "    j1 = [schedule[y+1]]\n",
    "    j1_i1 = list(schedule[x+1: y+1].sort_index(ascending = False).values) \n",
    "    return i + j1_i1 + j1"
   ]
  },
  {
   "cell_type": "code",
   "execution_count": 6,
   "metadata": {},
   "outputs": [],
   "source": [
    "#Data una schedulazione e due nodi di cui fare l'incrocio dei nodi\n",
    "#effettua la tabulazione del nuovo percorso, dopodichè restituisce il migliore\n",
    "#tra il nuovo e il vecchio\n",
    "def two_opt(schedule , i, j, dft):\n",
    "    #computo la prima parte che rimane uguale\n",
    "    first_part = route(schedule, 0, i, dft)\n",
    "\n",
    "    #stesso per l'ultima\n",
    "    final_part = route(schedule, j+1, len(schedule), dft)\n",
    "    #print(final_part)\n",
    "    crossed = cross(schedule, i, j)\n",
    "    central_part = route(crossed, 0,len(crossed), dft)\n",
    "    \n",
    "    new_schedule = first_part.append(central_part).append(final_part)\n",
    "    if(schedule_time(schedule, dft)> sum(new_schedule.values)):\n",
    "        return new_schedule\n",
    "    else:\n",
    "        return route(schedule, 0, len(schedule), dft)"
   ]
  },
  {
   "cell_type": "code",
   "execution_count": 7,
   "metadata": {},
   "outputs": [
    {
     "data": {
      "text/plain": [
       "Cremona, Sesto 39 - Sesto ed Uniti, Roma, 4                              10.0\n",
       "Sesto ed Uniti, Roma, 4 - Grumello Cremonese ed Uniti, Roma, 2            6.0\n",
       "Grumello Cremonese ed Uniti, Roma, 2 - Soresina, Giacomo Matteotti, 6    12.0\n",
       "Soresina, Giacomo Matteotti, 6 - Trigolo, Roma, 26                        9.0\n",
       "Trigolo, Roma, 26 - Castelleone, Roma, 67                                11.0\n",
       "Castelleone, Roma, 67 - Montodine,  XXV Aprile, 10                        7.0\n",
       "Montodine,  XXV Aprile, 10 - Ripalta Cremasca, Roma, 5                    5.0\n",
       "Ripalta Cremasca, Roma, 5 - Ricengo, Guglielmo Marconi                   12.0\n",
       "Ricengo, Guglielmo Marconi - Sergnano, IV Novembre,  10                   7.0\n",
       "Sergnano, IV Novembre,  10 - Casale Cremasco-Vidolasco, Roma, 56          4.0\n",
       "Casale Cremasco-Vidolasco, Roma, 56 - Camisano, Trieste, 57               6.0\n",
       "Camisano, Trieste, 57 - Capralba, Piave, 2                               15.0\n",
       "Capralba, Piave, 2 - Soncino, Dante Alighieri, 23                        21.0\n",
       "Soncino, Dante Alighieri, 23 - Pizzighettone, Giuseppe Garibaldi, 18     30.0\n",
       "Pizzighettone, Giuseppe Garibaldi, 18 - Ostiano, Mazzini, 1              41.0\n",
       "dtype: float64"
      ]
     },
     "execution_count": 7,
     "metadata": {},
     "output_type": "execute_result"
    }
   ],
   "source": [
    "two_opt(schedule, 5, 8, dft)"
   ]
  },
  {
   "cell_type": "code",
   "execution_count": 10,
   "metadata": {
    "scrolled": true
   },
   "outputs": [
    {
     "name": "stdout",
     "output_type": "stream",
     "text": [
      "lunedi\n",
      "martedi\n",
      "mercoledi\n",
      "giovedi\n",
      "venerdi\n"
     ]
    }
   ],
   "source": [
    "#TIME 2-OPT\n",
    "week= ['lunedi', 'martedi', 'mercoledi', 'giovedi', 'venerdi']\n",
    "df = pd.DataFrame({})\n",
    "for day in week:\n",
    "    print(day)\n",
    "    #Otteniamo la schedulazione unendo Cremona-tabella del giorno-Ostiano\n",
    "    schedule = pd.Series('Cremona, sesto 39')\n",
    "    schedule = schedule.append(fur1[day].dropna(), [1, len(fur1)])\n",
    "    schedule = schedule.append(pd.Series('Ostiano' , [len(schedule)]))\n",
    "    #print(schedule)\n",
    "    #Otteniamo la schedulazione filtrando i nan e salviamo anche il suo tempo di percorrenza\n",
    "    best_schedule = pd.Series(schedule.dropna())\n",
    "    best_time = schedule_time(schedule, dft)\n",
    "    local_best_time = best_time\n",
    "    #Per ogni i e j effettua il 2-opt e salva se il risultato migliora con lo scambio\n",
    "    #Alla fine, avendo provato a scambiare tutte el coppie e avendole confrontate otteremo la miglior schedulazione\n",
    "    #per ogni giro di 2-opt parte dalla schedulazione greedy\n",
    "    while(True):\n",
    "        for i in range(1, len(schedule)-2):\n",
    "            for j in range(i+1, len(schedule)-1):\n",
    "                s = two_opt(pd.Series(schedule), i, j, dft)\n",
    "                t = sum(s.values)\n",
    "                if schedule_time(best_schedule, dft)> t:\n",
    "                    best_time = t.copy()\n",
    "                    best_schedule = cities_list(s) \n",
    "        if(local_best_time>best_time):\n",
    "            schedule = best_schedule[:]\n",
    "            local_best_time = best_time\n",
    "        else:\n",
    "            break\n",
    "    df[day] = pd.Series(best_schedule)       \n",
    "    df.to_csv('../Dati/turni_f/2-opt1_shifts.csv', index=False, sep=\";\")"
   ]
  },
  {
   "cell_type": "code",
   "execution_count": 8,
   "metadata": {},
   "outputs": [
    {
     "name": "stdout",
     "output_type": "stream",
     "text": [
      "martedi\n",
      "mercoledi\n",
      "giovedi\n"
     ]
    }
   ],
   "source": [
    "week= ['martedi', 'mercoledi', 'giovedi']\n",
    "df = pd.DataFrame({})\n",
    "for day in week:\n",
    "    print(day)\n",
    "    schedule = pd.Series('Cremona, sesto 39')\n",
    "    schedule = schedule.append(fur2[day].dropna(), [1, len(fur2)])\n",
    "    schedule = schedule.append(pd.Series('San Giovanni in Croce, Feudatari, 25 A' , [len(schedule)]))\n",
    "    #print(schedule)\n",
    "    best_schedule = pd.Series(schedule.dropna())\n",
    "    best_time = schedule_time(schedule, dft)\n",
    "    local_best_time = best_time\n",
    "    while(True):\n",
    "        for i in range(1, len(schedule)-2):\n",
    "            for j in range(i+1, len(schedule)-1):\n",
    "                s = two_opt(pd.Series(schedule), i, j, dft)\n",
    "                t = sum(s.values)\n",
    "                if schedule_time(best_schedule, dft)> t:\n",
    "                    best_time = t.copy()\n",
    "                    best_schedule = cities_list(s) \n",
    "        if(local_best_time>best_time):\n",
    "            schedule = best_schedule[:]\n",
    "            local_best_time = best_time\n",
    "        else:\n",
    "            break \n",
    "    df[day] = pd.Series(best_schedule)       \n",
    "df.to_csv('../Dati/turni_f/2-opt2_shifts.csv', index=False, sep=\";\")"
   ]
  },
  {
   "cell_type": "code",
   "execution_count": 7,
   "metadata": {},
   "outputs": [
    {
     "name": "stdout",
     "output_type": "stream",
     "text": [
      "lunedi\n",
      "martedi\n",
      "mercoledi\n",
      "giovedi\n",
      "venerdi\n"
     ]
    }
   ],
   "source": [
    "#KM 2-OPT\n",
    "week= ['lunedi', 'martedi', 'mercoledi', 'giovedi', 'venerdi']\n",
    "df = pd.DataFrame({})\n",
    "for day in week:\n",
    "    print(day)\n",
    "    #Otteniamo la schedulazione unendo Cremona-tabella del giorno-Ostiano\n",
    "    schedule = pd.Series('Cremona, sesto 39')\n",
    "    schedule = schedule.append(fur1d[day].dropna(), [1, len(fur1d)])\n",
    "    schedule = schedule.append(pd.Series('Ostiano' , [len(schedule)]))\n",
    "    #print(schedule)\n",
    "    #Otteniamo la schedulazione filtrando i nan e salviamo anche il suo tempo di percorrenza\n",
    "    best_schedule = pd.Series(schedule.dropna())\n",
    "    best_time = schedule_time(schedule, dfd)\n",
    "    local_best_time = best_time\n",
    "    #Per ogni i e j effettua il 2-opt e salva se il risultato migliora con lo scambio\n",
    "    #Alla fine, avendo provato a scambiare tutte el coppie e avendole confrontate otteremo la miglior schedulazione\n",
    "    #per ogni giro di 2-opt parte dalla schedulazione greedy\n",
    "    while(True):\n",
    "        for i in range(1, len(schedule)-2):\n",
    "            for j in range(i+1, len(schedule)-1):\n",
    "                s = two_opt(pd.Series(schedule), i, j, dfd)\n",
    "                t = sum(s.values)\n",
    "                if schedule_time(best_schedule, dfd)> t:\n",
    "                    best_time = t.copy()\n",
    "                    best_schedule = cities_list(s) \n",
    "        if(local_best_time>best_time):\n",
    "            schedule = best_schedule[:]\n",
    "            local_best_time = best_time\n",
    "        else:\n",
    "            break\n",
    "    df[day] = pd.Series(best_schedule)       \n",
    "    df.to_csv('../Dati/turni_f/2-opt1_km_shifts.csv', index=False, sep=\";\")"
   ]
  },
  {
   "cell_type": "code",
   "execution_count": 9,
   "metadata": {},
   "outputs": [
    {
     "name": "stdout",
     "output_type": "stream",
     "text": [
      "martedi\n",
      "mercoledi\n",
      "giovedi\n"
     ]
    }
   ],
   "source": [
    "week= ['martedi', 'mercoledi', 'giovedi']\n",
    "df = pd.DataFrame({})\n",
    "for day in week:\n",
    "    print(day)\n",
    "    schedule = pd.Series('Cremona, sesto 39')\n",
    "    schedule = schedule.append(fur2d[day].dropna(), [1, len(fur2d)])\n",
    "    schedule = schedule.append(pd.Series('San Giovanni in Croce, Feudatari, 25 A' , [len(schedule)]))\n",
    "    #print(schedule)\n",
    "    best_schedule = pd.Series(schedule.dropna())\n",
    "    best_time = schedule_time(schedule, dfd)\n",
    "    local_best_time = best_time\n",
    "    while(True):\n",
    "        for i in range(1, len(schedule)-2):\n",
    "            for j in range(i+1, len(schedule)-1):\n",
    "                s = two_opt(pd.Series(schedule), i, j, dfd)\n",
    "                t = sum(s.values)\n",
    "                if schedule_time(best_schedule, dfd)> t:\n",
    "                    best_time = t.copy()\n",
    "                    best_schedule = cities_list(s) \n",
    "        if(local_best_time>best_time):\n",
    "            schedule = best_schedule[:]\n",
    "            local_best_time = best_time\n",
    "        else:\n",
    "            break \n",
    "    df[day] = pd.Series(best_schedule)       \n",
    "df.to_csv('../Dati/turni_f/2-opt2_km_shifts.csv', index=False, sep=\";\")"
   ]
  }
 ],
 "metadata": {
  "kernelspec": {
   "display_name": "Python 3",
   "language": "python",
   "name": "python3"
  },
  "language_info": {
   "codemirror_mode": {
    "name": "ipython",
    "version": 3
   },
   "file_extension": ".py",
   "mimetype": "text/x-python",
   "name": "python",
   "nbconvert_exporter": "python",
   "pygments_lexer": "ipython3",
   "version": "3.7.6"
  }
 },
 "nbformat": 4,
 "nbformat_minor": 2
}

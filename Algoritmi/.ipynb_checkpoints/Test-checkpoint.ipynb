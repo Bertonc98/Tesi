{
 "cells": [
  {
   "cell_type": "code",
   "execution_count": 1,
   "metadata": {},
   "outputs": [],
   "source": [
    "import pandas as pd\n",
    "import numpy as np\n",
    "import math\n",
    "import datetime\n",
    "from ipynb.fs.defs.functions import new_route\n",
    "from ipynb.fs.defs.functions import get_row\n",
    "from ipynb.fs.defs.functions import get_column\n",
    "from ipynb.fs.defs.functions import best_index\n",
    "from ipynb.fs.defs.functions import find_best_position\n",
    "from ipynb.fs.defs.functions import cities_list\n",
    "from ipynb.fs.defs.functions import getName"
   ]
  },
  {
   "cell_type": "code",
   "execution_count": 2,
   "metadata": {},
   "outputs": [],
   "source": [
    "dft = pd.read_csv(\"../Dati/distanze/times_computed.csv\", delimiter=\";\", encoding = \"ISO-8859-1\", index_col=0)\n",
    "fur1 = pd.read_csv(\"../Dati/turni_f/2-opt1_shifts.csv\", delimiter=\";\", encoding = \"ISO-8859-1\")\n",
    "fur2 = pd.read_csv(\"../Dati/turni_f/2-opt2_shifts.csv\", delimiter=\";\", encoding = \"ISO-8859-1\")\n",
    "week = [\"lunedi\", \"martedi\", \"mercoledi\", \"giovedi\", \"venerdi\"]\n",
    "lista = []\n",
    "for day in week:\n",
    "    lista = lista + list(fur1[day].dropna())\n",
    "week = [\"martedi\", \"mercoledi\", \"giovedi\"]\n",
    "for day in week:\n",
    "    lista = lista + list(fur2[day].dropna())"
   ]
  },
  {
   "cell_type": "code",
   "execution_count": 4,
   "metadata": {},
   "outputs": [
    {
     "data": {
      "text/plain": [
       "'Crema, Civerchi, 9'"
      ]
     },
     "execution_count": 4,
     "metadata": {},
     "output_type": "execute_result"
    }
   ],
   "source": [
    "getName(dft, \"Crema\")"
   ]
  },
  {
   "cell_type": "code",
   "execution_count": 5,
   "metadata": {},
   "outputs": [
    {
     "name": "stdout",
     "output_type": "stream",
     "text": [
      "Rivolta D'adda  ==>  Rivolta d'Adda, Stefano Renzi, 5\n",
      "Piadena, Platina, 40  ==>  Piadena, Platina, 40\n",
      "Gadesco-Pieve Delmona, Giovanni Lonati 9  ==>  Gadesco-Pieve Delmona, Giovanni Lonati 9\n",
      "Ostiano, Mazzini, 1  ==>  Ostiano, Mazzini, 1\n",
      "Cremona, sesto 39  ==>  Cremona, Sesto 39\n",
      "Ripalta Cremasca, Roma, 5  ==>  Ripalta Cremasca, Roma, 5\n",
      "Bonemerse, Roma, 25  ==>  Bonemerse, Roma, 25\n",
      "Manerbio, INSURREZIONE NAZIONALE  ==>  Manerbio, INSURREZIONE NAZIONALE\n",
      "Pandino, Castello, 15  ==>  Pandino, Castello, 15\n",
      "Martignana di Po, Libertà, 64  ==>  Martignana di Po, Libertà, 64\n",
      "Bagnolo Cremasco, Roma, 3  ==>  Bagnolo Cremasco, Roma, 3\n",
      "Izano, Gerardo da Izano, 4/C  ==>  Izano, Gerardo da Izano, 4/C\n",
      "Madignano  ==>  Madignano, Portici, 4\n",
      "Pescarolo ed Uniti, Giuseppe Mazzini, 73  ==>  Pescarolo ed Uniti, Giuseppe Mazzini, 73\n",
      "Ricengo, Guglielmo Marconi  ==>  Ricengo, Guglielmo Marconi\n",
      "Castelleone  ==>  Castelleone, Roma, 67\n",
      "Spino d'Adda, Circonvallazione, 13  ==>  Spino d'Adda, Circonvallazione, 13\n",
      "Sesto ed Uniti, Roma, 4  ==>  Sesto ed Uniti, Roma, 4\n",
      "Solarolo Rainerio, Giuseppina, 81  ==>  Solarolo Rainerio, Giuseppina, 81\n",
      "Capralba, Piave, 2  ==>  Capralba, Piave, 2\n",
      "Scandolara Ravara, Italia  ==>  Scandolara Ravara, Italia\n",
      "Vailate, Dante Alighieri, 7  ==>  Vailate, Dante Alighieri, 7\n",
      "Romanengo  ==>  Romanengo, Guaiarini, 14\n",
      "Monte Cremasco, Roma, 12  ==>  Monte Cremasco, Roma, 12\n",
      "Cingia de' Botti, Giuseppina, 79  ==>  Cingia de' Botti, Giuseppina, 79\n",
      "Camisano, Trieste, 57  ==>  Camisano, Trieste, 57\n",
      "Pizzighettone, Giuseppe Garibaldi, 18  ==>  Pizzighettone, Giuseppe Garibaldi, 18\n",
      "Cremona, Felice Cavallotti, 2  ==>  Cremona, Felice Cavallotti, 2\n",
      "Casalpusterlengo, Pusterla 7  ==>  Casalpusterlengo, Pusterla 7\n",
      "Trigolo, Roma, 26  ==>  Trigolo, Roma, 26\n",
      "Capergnanica, XI febbraio, 7  ==>  Capergnanica, XI febbraio, 7\n",
      "Rivarolo del Re ed Uniti, Giovanni XXIII, 5  ==>  Rivarolo del Re ed Uniti, Giovanni XXIII, 5\n",
      "Casalmaggiore, Guglielmo Marconi, 8  ==>  Casalmaggiore, Guglielmo Marconi, 8\n",
      "San Giovanni in Croce, Feudatari, 25 A  ==>  San Giovanni in Croce, Feudatari, 25 A\n",
      "Soresina, Giacomo Matteotti, 6  ==>  Soresina, Giacomo Matteotti, 6\n",
      "Pianengo, Nenni  ==>  Pianengo, Nenni\n",
      "Cremona, Palosca n. 2  ==>  Cremona, Palosca n. 2\n",
      "Trescore Cremasco, Vittorio Veneto, 1  ==>  Trescore Cremasco, Vittorio Veneto, 1\n",
      "Cremona, Sesto 39  ==>  Cremona, Sesto 39\n",
      "Persico Dosimo, Albert ,7  ==>  Persico Dosimo, Albert ,7\n",
      "Casaletto Vaprio, Maggiore, 7  ==>  Casaletto Vaprio, Maggiore, 7\n",
      "Casale Cremasco-Vidolasco, Roma, 56  ==>  Casale Cremasco-Vidolasco, Roma, 56\n",
      "Castelverde  ==>  Castelverde, Ubaldo Ferrari, 15\n",
      "Sospiro, Tosi  ==>  Sospiro, Tosi\n",
      "Paderno Ponchielli, Municipio, 3  ==>  Paderno Ponchielli, Municipio, 3\n",
      "Isola Dovarese, Giacomo Matteotti, 1  ==>  Isola Dovarese, Giacomo Matteotti, 1\n",
      "Soncino, Dante Alighieri, 23  ==>  Soncino, Dante Alighieri, 23\n",
      "Cremona, Ugolani Dati, 4  ==>  Cremona, Ugolani Dati, 4\n",
      "Montodine,  XXV Aprile, 10  ==>  Montodine,  XXV Aprile, 10\n",
      "Castelleone, Roma, 67  ==>  Castelleone, Roma, 67\n",
      "Annicco  ==>  Annicco, Giuseppe Garibaldi, 6\n",
      "Palazzo Pignano  ==>  Palazzo Pignano, Marco Polo, 31\n",
      "Agnadello, Marconi, 6  ==>  Agnadello, Marconi, 6\n",
      "Spino d'adda  ==>  Spino d'Adda, Circonvallazione, 13\n",
      "San Bassano, Mons. Frosi  ==>  San Bassano, Mons. Frosi\n",
      "Gussola, Comaschi, 1  ==>  Gussola, Comaschi, 1\n",
      "Viadana, A. Manzoni, 2  ==>  Viadana, A. Manzoni, 2\n",
      "Crema  ==>  Crema, Civerchi, 9\n",
      "Rivolta d'Adda, Stefano Renzi, 5  ==>  Rivolta d'Adda, Stefano Renzi, 5\n",
      "Grumello Cremonese ed Uniti, Roma, 2  ==>  Grumello Cremonese ed Uniti, Roma, 2\n",
      "Crema, Civerchi, 9  ==>  Crema, Civerchi, 9\n",
      "Vescovato, Roma, 44  ==>  Vescovato, Roma, 44\n",
      "Dovera, Oldrini 2  ==>  Dovera, Oldrini 2\n",
      "Casalbuttano ed Uniti, Jacini, 23  ==>  Casalbuttano ed Uniti, Jacini, 23\n",
      "Grontardo, Roma, 16  ==>  Grontardo, Roma, 16\n",
      "Pandino  ==>  Pandino, Castello, 15\n",
      "Fiesco, Giuseppe Parini, 10  ==>  Fiesco, Giuseppe Parini, 10\n",
      "Vaiano Cremasco,  Gloriosi Caduti, 3  ==>  Vaiano Cremasco,  Gloriosi Caduti, 3\n",
      "Sergnano, IV Novembre,  10  ==>  Sergnano, IV Novembre,  10\n",
      "Offanengo, Clavelli Martini, 5  ==>  Offanengo, Clavelli Martini, 5\n"
     ]
    }
   ],
   "source": [
    "lista = set(lista)\n",
    "for x in lista:\n",
    "    print(x, getName(dft, x), sep=\"  ==>  \")"
   ]
  },
  {
   "cell_type": "code",
   "execution_count": null,
   "metadata": {},
   "outputs": [],
   "source": []
  }
 ],
 "metadata": {
  "kernelspec": {
   "display_name": "Python 3",
   "language": "python",
   "name": "python3"
  },
  "language_info": {
   "codemirror_mode": {
    "name": "ipython",
    "version": 3
   },
   "file_extension": ".py",
   "mimetype": "text/x-python",
   "name": "python",
   "nbconvert_exporter": "python",
   "pygments_lexer": "ipython3",
   "version": "3.7.6"
  }
 },
 "nbformat": 4,
 "nbformat_minor": 4
}

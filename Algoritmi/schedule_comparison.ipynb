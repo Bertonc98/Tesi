{
 "cells": [
  {
   "cell_type": "code",
   "execution_count": 1,
   "metadata": {},
   "outputs": [],
   "source": [
    "import pandas as pd\n",
    "import numpy as np\n",
    "import math\n",
    "import datetime\n",
    "\n",
    "table = pd.read_csv(\"../Dati/orari/route.csv\", delimiter=\";\")\n",
    "time_table = pd.read_csv(\"../Dati/orari/route_time.csv\", delimiter=\";\")\n",
    "dft = pd.read_csv(\"../Dati/distanze/times_computed.csv\", delimiter=\";\", encoding = \"ISO-8859-1\", index_col=0)\n",
    "dfd = pd.read_csv(\"../Dati/distanze/distances_computed.csv\", delimiter=\";\", encoding = \"ISO-8859-1\", index_col=0)\n",
    "fur1 = pd.read_csv(\"../Dati/turni_f/furgoncino1_routing.csv\", delimiter=\";\")\n",
    "fur2 = pd.read_csv(\"../Dati/turni_f/furgoncino2_routing.csv\", delimiter=\";\")\n",
    "\n",
    "def get_row(df, string):\n",
    "    return pd.Series(df.index).str.contains(string, case=False)\n",
    "\n",
    "def get_column(df, string):\n",
    "    return pd.Series(df.columns).str.contains(string, case=False)\n",
    "\n",
    "def difference(day, index, index2):\n",
    "    time = datetime.datetime.strptime(time_table[day][index], '%H:%M')\n",
    "    time2 = datetime.datetime.strptime(time_table[day][index2], '%H:%M')\n",
    "    return ((time2-time).seconds)/60\n",
    "\n",
    "#FIXED tiene conto delle pause pranzo\n",
    "def difference2(day, index, index2):\n",
    "    time = datetime.datetime.strptime(time_table[day][index], '%H:%M')\n",
    "    time2 = datetime.datetime.strptime(time_table[day][index2], '%H:%M')\n",
    "    \n",
    "    if(time > datetime.datetime.strptime('12:00', '%H:%M') and \n",
    "       time < datetime.datetime.strptime('13:25', '%H:%M') and\n",
    "       ((time2-time).seconds)/60 > 30):\n",
    "        time = time + datetime.timedelta(hours=1)\n",
    "        #print(time)\n",
    "    return ((time2-time).seconds)/60"
   ]
  },
  {
   "cell_type": "code",
   "execution_count": 3,
   "metadata": {},
   "outputs": [
    {
     "name": "stdout",
     "output_type": "stream",
     "text": [
      "lunedi 1, diff: 10.0 , value: 5.58\n",
      "lunedi 2, diff: 20.0 , value: 13.05\n",
      "lunedi 3, diff: 15.0 , value: 16.97\n",
      "lunedi 4, diff: 15.0 , value: 4.88\n",
      "lunedi 5, diff: 20.0 , value: 17.72\n",
      "lunedi 6, diff: 15.0 , value: 12.62\n",
      "lunedi 7, diff: 10.0 , value: 5.97\n",
      "lunedi 8, diff: 25.0 , value: 21.95\n",
      "lunedi 9, diff: 20.0 , value: 11.3\n",
      "lunedi 10, diff: 40.0 , value: 10.33\n",
      "lunedi 11, diff: 30.0 , value: 23.88\n",
      "lunedi 12, diff: 25.0 , value: 6.67\n",
      "lunedi 13, diff: 25.0 , value: 16.32\n",
      "venerdi 1, diff: 35.0 , value: 11.8\n",
      "venerdi 2, diff: 20.0 , value: 10.82\n",
      "venerdi 3, diff: 15.0 , value: 9.8\n",
      "venerdi 4, diff: 20.0 , value: 9.57\n",
      "venerdi 5, diff: 20.0 , value: 15.33\n",
      "venerdi 6, diff: 15.0 , value: 12.77\n",
      "venerdi 7, diff: 10.0 , value: 13.92\n",
      "venerdi 8, diff: 30.0 , value: 10.22\n",
      "venerdi 9, diff: 25.0 , value: 14.98\n",
      "venerdi 10, diff: 15.0 , value: 13.78\n",
      "venerdi 11, diff: 15.0 , value: 10.6\n",
      "[7.904615384615386, 7.8554545454545455]\n"
     ]
    }
   ],
   "source": [
    "\n",
    "#start = dft[get_row(dft, 'Cremona, sesto 39').values]\n",
    "#day='lunedi'\n",
    "\n",
    "#indici\n",
    "\n",
    "mean = []\n",
    "#Lista dei paesi non raggiungibili\n",
    "impossibile = []\n",
    "for day in ['lunedi', 'venerdi']:\n",
    "    row = dft[get_row(dft, table[day][0]).values]\n",
    "    i1 = 0\n",
    "    biases = []\n",
    "    sumb = 0\n",
    "    for i in range(1,len(time_table[day].dropna())):\n",
    "        paese=table[day][i]\n",
    "        #print(paese)\n",
    "        #Distanze in tempo dal paese corrente di ognuno dei furgoni alla destinazione\n",
    "        value=row.loc[:,get_column(dft, paese).values]\n",
    "        row = dft[get_row(dft, table[day][i]).values]\n",
    "\n",
    "        diff=difference2(day, i1, i)\n",
    "        print(f\"{day} {i}, diff: {diff} , value: {value.values[0][0]}\")\n",
    "        b = diff-value.values[0][0]\n",
    "        biases.append(b)\n",
    "        sumb+=diff-value.values[0][0]\n",
    "        i1 = i\n",
    "    mean.append(sumb/len(biases))\n",
    "print(mean)\n",
    "#15 minuti per carico e scarico (e caffé)"
   ]
  },
  {
   "cell_type": "code",
   "execution_count": 32,
   "metadata": {},
   "outputs": [
    {
     "name": "stdout",
     "output_type": "stream",
     "text": [
      "lunedi\n",
      "diff greedy: 12.58 , diff current: 10.0\n",
      "diff greedy: 18.77 , diff current: 20.0\n",
      "diff greedy: 15.72 , diff current: 15.0\n",
      "diff greedy: 18.3 , diff current: 15.0\n",
      "diff greedy: 13.92 , diff current: 20.0\n",
      "diff greedy: 11.88 , diff current: 15.0\n",
      "diff greedy: 18.97 , diff current: 10.0\n",
      "diff greedy: 13.67 , diff current: 25.0\n",
      "diff greedy: 11.33 , diff current: 20.0\n",
      "diff greedy: 12.97 , diff current: 40.0\n",
      "diff greedy: 22.18 , diff current: 30.0\n",
      "diff greedy: 27.75 , diff current: 25.0\n",
      "diff greedy: 37.33 , diff current: 25.0\n",
      "(235.37, 270.0)\n",
      "venerdi\n",
      "diff greedy: 18.2 , diff current: 35.0\n",
      "diff greedy: 16.18 , diff current: 20.0\n",
      "diff greedy: 12.95 , diff current: 15.0\n",
      "diff greedy: 10.4 , diff current: 20.0\n",
      "diff greedy: 14.68 , diff current: 20.0\n",
      "diff greedy: 14.73 , diff current: 15.0\n",
      "diff greedy: 13.15 , diff current: 10.0\n",
      "diff greedy: 14.45 , diff current: 30.0\n",
      "diff greedy: 16.92 , diff current: 25.0\n",
      "diff greedy: 21.4 , diff current: 15.0\n",
      "diff greedy: 11.08 , diff current: 15.0\n",
      "(164.14, 220.0)\n"
     ]
    }
   ],
   "source": [
    "for day in ['lunedi', 'venerdi']:\n",
    "    schedule = fur1[day]\n",
    "    row = dft[get_row(dft, schedule[0]).values]\n",
    "    i1 = 0\n",
    "    diff_greedy = []\n",
    "    diff_curr = []\n",
    "    for j in range(1, len(schedule.dropna())):\n",
    "        value=0\n",
    "        paese = schedule[j]\n",
    "        value = row.loc[:,get_column(dft, paese).values].values[0][0] + 7\n",
    "        #print(f\"{paese}: {value}\")\n",
    "        diff_greedy.append(round(value,2))\n",
    "        diff=round(difference2(day, i1, j),2)\n",
    "        diff_curr.append(diff)\n",
    "        i1 = j\n",
    "        row=dft[get_row(dft, paese).values]\n",
    "    print(day)\n",
    "    for j in range(len(schedule.dropna())-1):\n",
    "        print(f\"diff greedy: {diff_greedy[j]} , diff current: {diff_curr[j]}\")\n",
    "    print((round(sum(diff_greedy),2), sum(diff_curr)))"
   ]
  },
  {
   "cell_type": "code",
   "execution_count": null,
   "metadata": {},
   "outputs": [],
   "source": [
    "#Get distances for every day\n",
    "dfd = pd.read_csv(\"../Dati/distanze/times_computed.csv\", delimiter=\";\", encoding = \"ISO-8859-1\", index_col=0)\n",
    "tot = 0\n",
    "for day in ['lunedi', 'venerdi']:\n",
    "    schedule = fur1[day]\n",
    "    row = dfd[get_row(dfd, schedule[0]).values]\n",
    "    tot += row.loc[:,get_column(dft, paese).values].values[0][0]\n",
    "    print(f\"{day}: {tot}km\")"
   ]
  },
  {
   "cell_type": "code",
   "execution_count": 11,
   "metadata": {},
   "outputs": [],
   "source": [
    "def compute(schedule, df):\n",
    "    row = df[get_row(df, schedule[0]).values]\n",
    "    tot = 0\n",
    "    #print(str(schedule[0]) + \" \" + str(tot))\n",
    "    for i in range(1, len(schedule.dropna())):\n",
    "        val = row.loc[:, get_column(df, schedule[i]).values].values[0][0]\n",
    "        #print(str(schedule[i]) + \" \" + str(val))\n",
    "        tot += val\n",
    "        row = df[get_row(df, schedule[i]).values]\n",
    "    return round(tot, 2)\n",
    "\n",
    "def addHeadTail(schedule):\n",
    "    formatted = list(schedule.dropna())[:]\n",
    "    formatted.insert(0, \"Cremona, Sesto 39\")\n",
    "    formatted.append(\"Ostiano, Mazzini, 1\")\n",
    "    return formatted"
   ]
  },
  {
   "cell_type": "code",
   "execution_count": 12,
   "metadata": {},
   "outputs": [
    {
     "name": "stdout",
     "output_type": "stream",
     "text": [
      "Comparison 1st pickup with greedy, local search and 2opt solutions (Based on time schedule)\n",
      "Giorno: lunedi  195.12 183.97 178.27 min\n",
      "Giorno: martedi  260.85 252.93 216.61 min\n",
      "Giorno: mercoledi  163.72 163.72 163.72 min\n",
      "Giorno: giovedi  246.81 246.06 223.41 min\n",
      "Giorno: venerdi  181.04 181.04 170.61 min\n"
     ]
    }
   ],
   "source": [
    "week = [\"lunedi\", \"martedi\", \"mercoledi\", \"giovedi\", \"venerdi\"]\n",
    "fur1_time_greedy = pd.read_csv(\"../Dati/turni_f/furgoncino1_routing.csv\", delimiter=\";\", encoding = \"ISO-8859-1\")\n",
    "fur1_time_local = pd.read_csv(\"../Dati/turni_f/ls1_shifts.csv\", delimiter=\";\", encoding = \"ISO-8859-1\")\n",
    "fur1_time_2opt = pd.read_csv(\"../Dati/turni_f/2-opt1_shifts.csv\", delimiter=\";\", encoding = \"ISO-8859-1\")\n",
    "\n",
    "print(\"Comparison 1st pickup with greedy, local search and 2opt solutions (Based on time schedule)\")\n",
    "for day in week:\n",
    "    greedy_schedule = addHeadTail(fur1_time_greedy[day])\n",
    "    print(f\"Giorno: {day}  {compute(pd.Series(greedy_schedule), dft)} \"+\n",
    "          f\"{compute(fur1_time_local[day], dft)} \"+\n",
    "          f\"{compute(fur1_time_2opt[day], dft)} min\")"
   ]
  },
  {
   "cell_type": "code",
   "execution_count": 13,
   "metadata": {},
   "outputs": [
    {
     "name": "stdout",
     "output_type": "stream",
     "text": [
      "Comparison 1st pickup with greedy, local search and 2opt solutions (Based on kilometers schedule)\n",
      "Giorno: lunedi  189.52  185.86  161.94 km\n",
      "Giorno: martedi  314.19  307.48  296.46 km\n",
      "Giorno: mercoledi  170.99  163.62  155.37 km\n",
      "Giorno: giovedi  237.83  225.69  186.6 km\n",
      "Giorno: venerdi  162.72  162.47  159.14 km\n"
     ]
    }
   ],
   "source": [
    "fur1_distance_greedy = pd.read_csv(\"../Dati/turni_f/furgoncino1_KM_routing.csv\", delimiter=\";\")\n",
    "fur1_distance_local = pd.read_csv(\"../Dati/turni_f/ls1_km_shifts.csv\", delimiter=\";\")\n",
    "fur1_distance_2opt = pd.read_csv(\"../Dati/turni_f/2-opt1_km_shifts.csv\", delimiter=\";\")\n",
    "print(\"Comparison 1st pickup with greedy, local search and 2opt solutions (Based on kilometers schedule)\")\n",
    "for day in week:\n",
    "    greedy_schedule = addHeadTail(fur1_distance_greedy[day])\n",
    "    print(f\"Giorno: {day}  {compute(pd.Series(greedy_schedule), dfd)}  \"+\n",
    "          f\"{compute(pd.Series(fur1_distance_local[day]), dfd)}  \"+\n",
    "          f\"{compute(pd.Series(fur1_distance_2opt[day]), dfd)} km\")"
   ]
  },
  {
   "cell_type": "code",
   "execution_count": 14,
   "metadata": {},
   "outputs": [],
   "source": [
    "def addHeadTail(schedule):\n",
    "    formatted = list(schedule.dropna())[:]\n",
    "    formatted.insert(0, \"Cremona, Sesto 39\")\n",
    "    formatted.append(\"San Giovanni in Croce, Feudatari, 25 A\")\n",
    "    return formatted"
   ]
  },
  {
   "cell_type": "code",
   "execution_count": 15,
   "metadata": {},
   "outputs": [
    {
     "name": "stdout",
     "output_type": "stream",
     "text": [
      "Comparison 2nd pickup with greedy, local search and 2opt solutions (Based on time schedule)\n",
      "Giorno: martedi  298.71  292.23  237.3 min\n",
      "Giorno: mercoledi  143.73  143.73  135.54 min\n",
      "Giorno: giovedi  158.78  108.73  108.73 min\n"
     ]
    }
   ],
   "source": [
    "shortweek = [\"martedi\", \"mercoledi\", \"giovedi\"]\n",
    "fur2_time_greedy = pd.read_csv(\"../Dati/turni_f/furgoncino2_routing.csv\", delimiter=\";\")\n",
    "fur2_time_local = pd.read_csv(\"../Dati/turni_f/ls2_shifts.csv\", delimiter=\";\")\n",
    "fur2_time_2opt = pd.read_csv(\"../Dati/turni_f/2-opt2_shifts.csv\", delimiter=\";\")\n",
    "\n",
    "print(\"Comparison 2nd pickup with greedy, local search and 2opt solutions (Based on time schedule)\")\n",
    "for day in shortweek:\n",
    "    greedy_schedule = addHeadTail(fur2_time_greedy[day])\n",
    "    print(f\"Giorno: {day}  {compute(pd.Series(greedy_schedule), dft)}  \"+\n",
    "          f\"{compute(fur2_time_local[day], dft)}  \"+\n",
    "          f\"{compute(fur2_time_2opt[day], dft)} min\")"
   ]
  },
  {
   "cell_type": "code",
   "execution_count": 16,
   "metadata": {},
   "outputs": [
    {
     "name": "stdout",
     "output_type": "stream",
     "text": [
      "Comparison 2nd pickup with greedy, local search and 2opt solutions (Based on kilometers schedule)\n",
      "Giorno: martedi  108.93  108.85  108.67 km\n",
      "Giorno: mercoledi  164.2  162.67  162.67 km\n",
      "Giorno: giovedi  236.13  236.13  173.54 km\n"
     ]
    }
   ],
   "source": [
    "fur2_distance_greedy = pd.read_csv(\"../Dati/turni_f/furgoncino2_KM_routing.csv\", delimiter=\";\")\n",
    "fur2_distance_local = pd.read_csv(\"../Dati/turni_f/ls2_km_shifts.csv\", delimiter=\";\")\n",
    "fur2_distance_2opt = pd.read_csv(\"../Dati/turni_f/2-opt2_km_shifts.csv\", delimiter=\";\")\n",
    "print(\"Comparison 2nd pickup with greedy, local search and 2opt solutions (Based on kilometers schedule)\")\n",
    "for day in shortweek:\n",
    "    greedy_schedule = addHeadTail(fur2_distance_greedy[day])\n",
    "    print(f\"Giorno: {day}  {compute(pd.Series(greedy_schedule), dfd)}  \"+\n",
    "          f\"{compute(pd.Series(fur2_distance_local[day]), dfd)}  \"+\n",
    "          f\"{compute(pd.Series(fur2_distance_2opt[day]), dfd)} km\")"
   ]
  }
 ],
 "metadata": {
  "kernelspec": {
   "display_name": "Python 3",
   "language": "python",
   "name": "python3"
  },
  "language_info": {
   "codemirror_mode": {
    "name": "ipython",
    "version": 3
   },
   "file_extension": ".py",
   "mimetype": "text/x-python",
   "name": "python",
   "nbconvert_exporter": "python",
   "pygments_lexer": "ipython3",
   "version": "3.7.6"
  }
 },
 "nbformat": 4,
 "nbformat_minor": 2
}

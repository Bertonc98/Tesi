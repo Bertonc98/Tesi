{
 "cells": [
  {
   "cell_type": "code",
   "execution_count": 52,
   "metadata": {},
   "outputs": [],
   "source": [
    "import pandas as pd\n",
    "import numpy as np\n",
    "import math\n",
    "import datetime\n",
    "\n",
    "table = pd.read_csv(\"../Dati/orari/route.csv\", delimiter=\";\")\n",
    "time_table = pd.read_csv(\"../Dati/orari/route_time.csv\", delimiter=\";\")\n",
    "dft = pd.read_csv(\"../Dati/distanze/times_computed.csv\", delimiter=\";\", encoding = \"ISO-8859-1\", index_col=0)\n",
    "fur1 = pd.read_csv(\"../Dati/turni_f/furgoncino1_routing.csv\", delimiter=\";\")\n",
    "fur2 = pd.read_csv(\"../Dati/turni_f/furgoncino2_routing.csv\", delimiter=\";\")\n",
    "\n",
    "def get_row(df, string):\n",
    "    return pd.Series(df.index).str.contains(string, case=False)\n",
    "\n",
    "def get_column(df, string):\n",
    "    return pd.Series(df.columns).str.contains(string, case=False)\n",
    "\n",
    "def difference(day, index, index2):\n",
    "    time = datetime.datetime.strptime(time_table[day][index], '%H:%M')\n",
    "    time2 = datetime.datetime.strptime(time_table[day][index2], '%H:%M')\n",
    "    return ((time2-time).seconds)/60\n",
    "\n",
    "#TOFIX\n",
    "def difference2(day, index, index2):\n",
    "    time = datetime.datetime.strptime(time_table[day][index], '%H:%M')\n",
    "    if(time > datetime.datetime.strptime('12:00', '%H:%M')):\n",
    "        time = time + datetime.datetime.strptime('01:00', '%H:%M')\n",
    "        print(time)\n",
    "    time2 = datetime.datetime.strptime(time_table[day][index2], '%H:%M')\n",
    "    return ((time2-time).seconds)/60"
   ]
  },
  {
   "cell_type": "code",
   "execution_count": 46,
   "metadata": {},
   "outputs": [
    {
     "name": "stdout",
     "output_type": "stream",
     "text": [
      "diff: 10.0 , value: 5.58\n",
      "diff: 20.0 , value: 13.05\n",
      "diff: 15.0 , value: 16.97\n",
      "diff: 15.0 , value: 4.88\n",
      "diff: 20.0 , value: 17.72\n",
      "diff: 15.0 , value: 12.62\n",
      "diff: 10.0 , value: 5.97\n",
      "diff: 25.0 , value: 21.95\n",
      "diff: 80.0 , value: 11.3\n",
      "diff: 40.0 , value: 10.33\n",
      "diff: 30.0 , value: 23.88\n",
      "diff: 25.0 , value: 6.67\n",
      "diff: 25.0 , value: 16.32\n",
      "diff: 35.0 , value: 11.8\n",
      "diff: 20.0 , value: 10.82\n",
      "diff: 15.0 , value: 9.8\n",
      "diff: 20.0 , value: 9.57\n",
      "diff: 20.0 , value: 15.33\n",
      "diff: 15.0 , value: 12.77\n",
      "diff: 70.0 , value: 13.92\n",
      "diff: 30.0 , value: 10.22\n",
      "diff: 25.0 , value: 14.98\n",
      "diff: 15.0 , value: 13.78\n",
      "diff: 15.0 , value: 10.6\n",
      "[12.52, 13.31]\n"
     ]
    }
   ],
   "source": [
    "\n",
    "#start = dft[get_row(dft, 'Cremona, sesto 39').values]\n",
    "#day='lunedi'\n",
    "\n",
    "#indici\n",
    "\n",
    "mean = []\n",
    "#Lista dei paesi non raggiungibili\n",
    "impossibile = []\n",
    "for day in ['lunedi', 'venerdi']:\n",
    "    row = dft[get_row(dft, table[day][0]).values]\n",
    "    i1 = 0\n",
    "    biases = []\n",
    "    sumb = 0\n",
    "    for i in range(1,len(time_table[day].dropna())):\n",
    "        paese=table[day][i]\n",
    "        #print(paese)\n",
    "        #Distanze in tempo dal paese corrente di ognuno dei furgoni alla destinazione\n",
    "        value=row.loc[:,get_column(dft, paese).values]\n",
    "        row = dft[get_row(dft, table[day][i]).values]\n",
    "\n",
    "        diff=difference(day, i1, i)\n",
    "        print(f\"diff: {diff} , value: {value.values[0][0]}\")\n",
    "        b = diff-value.values[0][0]\n",
    "        biases.append(b)\n",
    "        sumb+=diff-value.values[0][0]\n",
    "        i1 = i\n",
    "    mean.append(sumb/len(biases))\n",
    "print(mean)\n",
    "#15 minuti per carico e scarico (e caffé)"
   ]
  },
  {
   "cell_type": "code",
   "execution_count": 45,
   "metadata": {},
   "outputs": [
    {
     "name": "stdout",
     "output_type": "stream",
     "text": [
      "lunedi\n",
      " diff greedy: 18.58 , diff current: 10.0\n",
      " diff greedy: 26.55 , diff current: 20.0\n",
      " diff greedy: 33.730000000000004 , diff current: 15.0\n",
      " diff greedy: 37.67 , diff current: 15.0\n",
      " diff greedy: 51.2 , diff current: 20.0\n",
      " diff greedy: 45.88 , diff current: 15.0\n",
      " diff greedy: 46.52 , diff current: 10.0\n",
      " diff greedy: 32.370000000000005 , diff current: 25.0\n",
      " diff greedy: 29.23 , diff current: 80.0\n",
      " diff greedy: 28.27 , diff current: 40.0\n",
      " diff greedy: 43.05 , diff current: 30.0\n",
      " diff greedy: 46.57 , diff current: 25.0\n",
      "venerdi\n",
      " diff greedy: 24.8 , diff current: 35.0\n",
      " diff greedy: 29.5 , diff current: 20.0\n",
      " diff greedy: 28.07 , diff current: 15.0\n",
      " diff greedy: 28.22 , diff current: 20.0\n",
      " diff greedy: 22.18 , diff current: 20.0\n",
      " diff greedy: 24.35 , diff current: 15.0\n",
      " diff greedy: 24.15 , diff current: 70.0\n",
      " diff greedy: 28.33 , diff current: 30.0\n",
      " diff greedy: 33.769999999999996 , diff current: 25.0\n",
      " diff greedy: 27.630000000000003 , diff current: 15.0\n"
     ]
    }
   ],
   "source": [
    "for day in ['lunedi', 'venerdi']:\n",
    "    schedule = fur1[day]\n",
    "    row = dft[get_row(dft, schedule[0]).values]\n",
    "    i1 = 0\n",
    "    diff_greedy = []\n",
    "    diff_curr = []\n",
    "    for j in range(1, len(schedule.dropna())):\n",
    "        paese = schedule[j]\n",
    "        value = row.loc[:,get_column(dft, paese).values].values[0][0] + 13\n",
    "        diff_greedy.append(value)\n",
    "        diff=difference(day, i1, j)\n",
    "        diff_curr.append(diff)\n",
    "        i1 = j\n",
    "    print(day)\n",
    "    for j in range(len(schedule.dropna())-1):\n",
    "        print(f\" diff greedy: {diff_greedy[j]} , diff current: {diff_curr[j]}\")"
   ]
  },
  {
   "cell_type": "code",
   "execution_count": 53,
   "metadata": {},
   "outputs": [
    {
     "ename": "TypeError",
     "evalue": "unsupported operand type(s) for +: 'datetime.datetime' and 'datetime.datetime'",
     "output_type": "error",
     "traceback": [
      "\u001b[1;31m---------------------------------------------------------------------------\u001b[0m",
      "\u001b[1;31mTypeError\u001b[0m                                 Traceback (most recent call last)",
      "\u001b[1;32m<ipython-input-53-010462f611ec>\u001b[0m in \u001b[0;36m<module>\u001b[1;34m\u001b[0m\n\u001b[1;32m----> 1\u001b[1;33m \u001b[0mdifference2\u001b[0m\u001b[1;33m(\u001b[0m\u001b[1;34m'lunedi'\u001b[0m\u001b[1;33m,\u001b[0m \u001b[1;36m8\u001b[0m\u001b[1;33m,\u001b[0m \u001b[1;36m9\u001b[0m\u001b[1;33m)\u001b[0m\u001b[1;33m\u001b[0m\u001b[1;33m\u001b[0m\u001b[0m\n\u001b[0m",
      "\u001b[1;32m<ipython-input-52-a7e95d52c6c9>\u001b[0m in \u001b[0;36mdifference2\u001b[1;34m(day, index, index2)\u001b[0m\n\u001b[0;32m     24\u001b[0m     \u001b[0mtime\u001b[0m \u001b[1;33m=\u001b[0m \u001b[0mdatetime\u001b[0m\u001b[1;33m.\u001b[0m\u001b[0mdatetime\u001b[0m\u001b[1;33m.\u001b[0m\u001b[0mstrptime\u001b[0m\u001b[1;33m(\u001b[0m\u001b[0mtime_table\u001b[0m\u001b[1;33m[\u001b[0m\u001b[0mday\u001b[0m\u001b[1;33m]\u001b[0m\u001b[1;33m[\u001b[0m\u001b[0mindex\u001b[0m\u001b[1;33m]\u001b[0m\u001b[1;33m,\u001b[0m \u001b[1;34m'%H:%M'\u001b[0m\u001b[1;33m)\u001b[0m\u001b[1;33m\u001b[0m\u001b[1;33m\u001b[0m\u001b[0m\n\u001b[0;32m     25\u001b[0m     \u001b[1;32mif\u001b[0m\u001b[1;33m(\u001b[0m\u001b[0mtime\u001b[0m \u001b[1;33m>\u001b[0m \u001b[0mdatetime\u001b[0m\u001b[1;33m.\u001b[0m\u001b[0mdatetime\u001b[0m\u001b[1;33m.\u001b[0m\u001b[0mstrptime\u001b[0m\u001b[1;33m(\u001b[0m\u001b[1;34m'12:00'\u001b[0m\u001b[1;33m,\u001b[0m \u001b[1;34m'%H:%M'\u001b[0m\u001b[1;33m)\u001b[0m\u001b[1;33m)\u001b[0m\u001b[1;33m:\u001b[0m\u001b[1;33m\u001b[0m\u001b[1;33m\u001b[0m\u001b[0m\n\u001b[1;32m---> 26\u001b[1;33m         \u001b[0mtime\u001b[0m \u001b[1;33m=\u001b[0m \u001b[0mtime\u001b[0m \u001b[1;33m+\u001b[0m \u001b[0mdatetime\u001b[0m\u001b[1;33m.\u001b[0m\u001b[0mdatetime\u001b[0m\u001b[1;33m.\u001b[0m\u001b[0mstrptime\u001b[0m\u001b[1;33m(\u001b[0m\u001b[1;34m'01:00'\u001b[0m\u001b[1;33m,\u001b[0m \u001b[1;34m'%H:%M'\u001b[0m\u001b[1;33m)\u001b[0m\u001b[1;33m\u001b[0m\u001b[1;33m\u001b[0m\u001b[0m\n\u001b[0m\u001b[0;32m     27\u001b[0m         \u001b[0mprint\u001b[0m\u001b[1;33m(\u001b[0m\u001b[0mtime\u001b[0m\u001b[1;33m)\u001b[0m\u001b[1;33m\u001b[0m\u001b[1;33m\u001b[0m\u001b[0m\n\u001b[0;32m     28\u001b[0m     \u001b[0mtime2\u001b[0m \u001b[1;33m=\u001b[0m \u001b[0mdatetime\u001b[0m\u001b[1;33m.\u001b[0m\u001b[0mdatetime\u001b[0m\u001b[1;33m.\u001b[0m\u001b[0mstrptime\u001b[0m\u001b[1;33m(\u001b[0m\u001b[0mtime_table\u001b[0m\u001b[1;33m[\u001b[0m\u001b[0mday\u001b[0m\u001b[1;33m]\u001b[0m\u001b[1;33m[\u001b[0m\u001b[0mindex2\u001b[0m\u001b[1;33m]\u001b[0m\u001b[1;33m,\u001b[0m \u001b[1;34m'%H:%M'\u001b[0m\u001b[1;33m)\u001b[0m\u001b[1;33m\u001b[0m\u001b[1;33m\u001b[0m\u001b[0m\n",
      "\u001b[1;31mTypeError\u001b[0m: unsupported operand type(s) for +: 'datetime.datetime' and 'datetime.datetime'"
     ]
    }
   ],
   "source": [
    "difference2('lunedi', 8, 9)"
   ]
  }
 ],
 "metadata": {
  "kernelspec": {
   "display_name": "Python 3",
   "language": "python",
   "name": "python3"
  },
  "language_info": {
   "codemirror_mode": {
    "name": "ipython",
    "version": 3
   },
   "file_extension": ".py",
   "mimetype": "text/x-python",
   "name": "python",
   "nbconvert_exporter": "python",
   "pygments_lexer": "ipython3",
   "version": "3.7.3"
  }
 },
 "nbformat": 4,
 "nbformat_minor": 2
}

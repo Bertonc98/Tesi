{
 "cells": [
  {
   "cell_type": "code",
   "execution_count": 10,
   "metadata": {},
   "outputs": [],
   "source": [
    "import pandas as pd\n",
    "import numpy as np\n",
    "import math\n",
    "import datetime\n",
    "from ipynb.fs.defs.functions import check_cities\n",
    "table = pd.read_csv(\"../Dati/orari/route.csv\", delimiter=\";\")\n",
    "time_table = pd.read_csv(\"../Dati/orari/route_time.csv\", delimiter=\";\")\n",
    "dft = pd.read_csv(\"../Dati/distanze/times_computed.csv\", delimiter=\";\", encoding = \"ISO-8859-1\", index_col=0)\n",
    "dfd = pd.read_csv(\"../Dati/distanze/distances_computed.csv\", delimiter=\";\", encoding = \"ISO-8859-1\", index_col=0)\n",
    "#fur1 = pd.read_csv(\"../Dati/turni_f/furgoncino1_routing.csv\", delimiter=\";\")\n",
    "#fur2 = pd.read_csv(\"../Dati/turni_f/furgoncino2_routing.csv\", delimiter=\";\")\n",
    "\n",
    "def get_row(df, string):\n",
    "    return pd.Series(df.index).str.contains(string, case=False)\n",
    "\n",
    "def get_column(df, string):\n",
    "    return pd.Series(df.columns).str.contains(string, case=False)\n",
    "\n",
    "def difference(day, index, index2):\n",
    "    time = datetime.datetime.strptime(time_table[day][index], '%H:%M')\n",
    "    time2 = datetime.datetime.strptime(time_table[day][index2], '%H:%M')\n",
    "    return ((time2-time).seconds)/60\n",
    "\n",
    "#FIXED tiene conto delle pause pranzo\n",
    "def difference2(day, index, index2):\n",
    "    time = datetime.datetime.strptime(time_table[day][index], '%H:%M')\n",
    "    time2 = datetime.datetime.strptime(time_table[day][index2], '%H:%M')\n",
    "    \n",
    "    if(time > datetime.datetime.strptime('12:00', '%H:%M') and \n",
    "       time < datetime.datetime.strptime('13:25', '%H:%M') and\n",
    "       ((time2-time).seconds)/60 > 30):\n",
    "        time = time + datetime.timedelta(hours=1)\n",
    "        #print(time)\n",
    "    return ((time2-time).seconds)/60"
   ]
  },
  {
   "cell_type": "code",
   "execution_count": 2,
   "metadata": {},
   "outputs": [],
   "source": [
    "def compute(schedule, df):\n",
    "    row = df[get_row(df, schedule[0].strip()).values]\n",
    "    tot = 0\n",
    "    #print(str(schedule[0]) + \" \" + str(tot))\n",
    "    for i in range(1, len(schedule.dropna())):\n",
    "        try:\n",
    "            val = row.loc[:, get_column(df, schedule[i].strip()).values].values[0][0]\n",
    "        except:\n",
    "            print(row.index)\n",
    "            print(schedule[i])\n",
    "            raise Exception(\"Prova\")\n",
    "        #print(str(schedule[i]) + \" \" + str(val))\n",
    "        tot += val\n",
    "        row = df[get_row(df, schedule[i].strip()).values]\n",
    "    return round(tot, 2)\n",
    "\n",
    "def addHeadTail(schedule):\n",
    "    formatted = list(schedule.dropna())[:]\n",
    "    formatted.insert(0, \"Cremona, Sesto 39\")\n",
    "    formatted.append(\"Ostiano, Mazzini, 1\")\n",
    "    return formatted"
   ]
  },
  {
   "cell_type": "code",
   "execution_count": 3,
   "metadata": {},
   "outputs": [
    {
     "name": "stdout",
     "output_type": "stream",
     "text": [
      "Comparison 1st pickup with greedy, local search and 2opt solutions (Based on time schedule)\n",
      "Giorno: lunedi  224.21 195.12 183.97 178.27 min\n",
      "Giorno: martedi  222.56 260.85 252.93 216.61 min\n",
      "Giorno: mercoledi  271.43 163.72 163.72 163.72 min\n",
      "Giorno: giovedi  239.98 246.81 246.06 223.41 min\n",
      "Giorno: venerdi  235.36 181.04 181.04 170.61 min\n"
     ]
    }
   ],
   "source": [
    "week = [\"lunedi\", \"martedi\", \"mercoledi\", \"giovedi\", \"venerdi\"]\n",
    "fur1_time_greedy = pd.read_csv(\"../Dati/turni_f/furgoncino1_routing.csv\", delimiter=\";\", encoding = \"ISO-8859-1\")\n",
    "fur1_time_local = pd.read_csv(\"../Dati/turni_f/ls1_shifts.csv\", delimiter=\";\", encoding = \"ISO-8859-1\")\n",
    "fur1_time_2opt = pd.read_csv(\"../Dati/turni_f/2-opt1_shifts.csv\", delimiter=\";\", encoding = \"ISO-8859-1\")\n",
    "fur1_time_base = pd.read_csv(\"../Dati/turni_f/f1_original.csv\", delimiter=\";\", encoding = \"ISO-8859-1\")\n",
    "fur1_multi = pd.read_csv(\"../Dati/turni_f/multi_veich_LS1.csv\", delimiter=\";\", encoding = \"ISO-8859-1\")\n",
    "print(\"Comparison 1st pickup with greedy, local search and 2opt solutions (Based on time schedule)\")\n",
    "for day in week:\n",
    "    greedy_schedule = addHeadTail(fur1_time_greedy[day])\n",
    "    base_schedule = addHeadTail(fur1_time_base[day])\n",
    "    print(f\"Giorno: {day}  \"+\n",
    "          f\"{compute(pd.Series(base_schedule), dft)} \"+\n",
    "          f\"{compute(pd.Series(greedy_schedule), dft)} \"+\n",
    "          f\"{compute(fur1_time_local[day], dft)} \"+\n",
    "          f\"{compute(fur1_time_2opt[day], dft)} min\")"
   ]
  },
  {
   "cell_type": "code",
   "execution_count": 4,
   "metadata": {},
   "outputs": [
    {
     "name": "stdout",
     "output_type": "stream",
     "text": [
      "Comparison 1st pickup with greedy, local search and 2opt solutions (Based on kilometers schedule)\n",
      "Giorno: lunedi  189.52  185.86  161.94 km\n",
      "Giorno: martedi  314.19  307.48  296.46 km\n",
      "Giorno: mercoledi  170.99  163.62  155.37 km\n",
      "Giorno: giovedi  237.83  225.69  186.6 km\n",
      "Giorno: venerdi  162.72  162.47  159.14 km\n"
     ]
    }
   ],
   "source": [
    "fur1_distance_greedy = pd.read_csv(\"../Dati/turni_f/furgoncino1_KM_routing.csv\", delimiter=\";\")\n",
    "fur1_distance_local = pd.read_csv(\"../Dati/turni_f/ls1_km_shifts.csv\", delimiter=\";\")\n",
    "fur1_distance_2opt = pd.read_csv(\"../Dati/turni_f/2-opt1_km_shifts.csv\", delimiter=\";\")\n",
    "print(\"Comparison 1st pickup with greedy, local search and 2opt solutions (Based on kilometers schedule)\")\n",
    "for day in week:\n",
    "    greedy_schedule = addHeadTail(fur1_distance_greedy[day])\n",
    "    print(f\"Giorno: {day}  {compute(pd.Series(greedy_schedule), dfd)}  \"+\n",
    "          f\"{compute(pd.Series(fur1_distance_local[day]), dfd)}  \"+\n",
    "          f\"{compute(pd.Series(fur1_distance_2opt[day]), dfd)} km\")"
   ]
  },
  {
   "cell_type": "code",
   "execution_count": 5,
   "metadata": {},
   "outputs": [],
   "source": [
    "def addHeadTail(schedule):\n",
    "    formatted = list(schedule.dropna())[:]\n",
    "    formatted.insert(0, \"Cremona, Sesto 39\")\n",
    "    formatted.append(\"San Giovanni in Croce, Feudatari, 25 A\")\n",
    "    return formatted"
   ]
  },
  {
   "cell_type": "code",
   "execution_count": 8,
   "metadata": {
    "scrolled": true
   },
   "outputs": [
    {
     "name": "stdout",
     "output_type": "stream",
     "text": [
      "Comparison 2nd pickup with greedy, local search and 2opt solutions (Based on time schedule)\n",
      "Giorno: martedi  201.86  298.71  292.23  237.3 min\n",
      "Giorno: mercoledi  275.74  143.73  143.73  135.54 min\n",
      "Index(['Cingia de' Botti, Giuseppina, 79'], dtype='object')\n",
      "Martignana di Po, LibertÃ , 64\n"
     ]
    },
    {
     "ename": "Exception",
     "evalue": "Prova",
     "output_type": "error",
     "traceback": [
      "\u001b[1;31m---------------------------------------------------------------------------\u001b[0m",
      "\u001b[1;31mIndexError\u001b[0m                                Traceback (most recent call last)",
      "\u001b[1;32m<ipython-input-2-d864d6d6f6b0>\u001b[0m in \u001b[0;36mcompute\u001b[1;34m(schedule, df)\u001b[0m\n\u001b[0;32m      6\u001b[0m         \u001b[1;32mtry\u001b[0m\u001b[1;33m:\u001b[0m\u001b[1;33m\u001b[0m\u001b[1;33m\u001b[0m\u001b[0m\n\u001b[1;32m----> 7\u001b[1;33m             \u001b[0mval\u001b[0m \u001b[1;33m=\u001b[0m \u001b[0mrow\u001b[0m\u001b[1;33m.\u001b[0m\u001b[0mloc\u001b[0m\u001b[1;33m[\u001b[0m\u001b[1;33m:\u001b[0m\u001b[1;33m,\u001b[0m \u001b[0mget_column\u001b[0m\u001b[1;33m(\u001b[0m\u001b[0mdf\u001b[0m\u001b[1;33m,\u001b[0m \u001b[0mschedule\u001b[0m\u001b[1;33m[\u001b[0m\u001b[0mi\u001b[0m\u001b[1;33m]\u001b[0m\u001b[1;33m.\u001b[0m\u001b[0mstrip\u001b[0m\u001b[1;33m(\u001b[0m\u001b[1;33m)\u001b[0m\u001b[1;33m)\u001b[0m\u001b[1;33m.\u001b[0m\u001b[0mvalues\u001b[0m\u001b[1;33m]\u001b[0m\u001b[1;33m.\u001b[0m\u001b[0mvalues\u001b[0m\u001b[1;33m[\u001b[0m\u001b[1;36m0\u001b[0m\u001b[1;33m]\u001b[0m\u001b[1;33m[\u001b[0m\u001b[1;36m0\u001b[0m\u001b[1;33m]\u001b[0m\u001b[1;33m\u001b[0m\u001b[1;33m\u001b[0m\u001b[0m\n\u001b[0m\u001b[0;32m      8\u001b[0m         \u001b[1;32mexcept\u001b[0m\u001b[1;33m:\u001b[0m\u001b[1;33m\u001b[0m\u001b[1;33m\u001b[0m\u001b[0m\n",
      "\u001b[1;31mIndexError\u001b[0m: index 0 is out of bounds for axis 0 with size 0",
      "\nDuring handling of the above exception, another exception occurred:\n",
      "\u001b[1;31mException\u001b[0m                                 Traceback (most recent call last)",
      "\u001b[1;32m<ipython-input-8-a4524820f04d>\u001b[0m in \u001b[0;36m<module>\u001b[1;34m\u001b[0m\n\u001b[0;32m     12\u001b[0m           \u001b[1;34mf\"{compute(pd.Series(base_schedule), dft)}  \"\u001b[0m\u001b[1;33m+\u001b[0m\u001b[1;33m\u001b[0m\u001b[1;33m\u001b[0m\u001b[0m\n\u001b[0;32m     13\u001b[0m           \u001b[1;34mf\"{compute(pd.Series(greedy_schedule), dft)}  \"\u001b[0m\u001b[1;33m+\u001b[0m\u001b[1;33m\u001b[0m\u001b[1;33m\u001b[0m\u001b[0m\n\u001b[1;32m---> 14\u001b[1;33m           \u001b[1;34mf\"{compute(fur2_time_local[day], dft)}  \"\u001b[0m\u001b[1;33m+\u001b[0m\u001b[1;33m\u001b[0m\u001b[1;33m\u001b[0m\u001b[0m\n\u001b[0m\u001b[0;32m     15\u001b[0m           f\"{compute(fur2_time_2opt[day], dft)} min\")\n",
      "\u001b[1;32m<ipython-input-2-d864d6d6f6b0>\u001b[0m in \u001b[0;36mcompute\u001b[1;34m(schedule, df)\u001b[0m\n\u001b[0;32m      9\u001b[0m             \u001b[0mprint\u001b[0m\u001b[1;33m(\u001b[0m\u001b[0mrow\u001b[0m\u001b[1;33m.\u001b[0m\u001b[0mindex\u001b[0m\u001b[1;33m)\u001b[0m\u001b[1;33m\u001b[0m\u001b[1;33m\u001b[0m\u001b[0m\n\u001b[0;32m     10\u001b[0m             \u001b[0mprint\u001b[0m\u001b[1;33m(\u001b[0m\u001b[0mschedule\u001b[0m\u001b[1;33m[\u001b[0m\u001b[0mi\u001b[0m\u001b[1;33m]\u001b[0m\u001b[1;33m)\u001b[0m\u001b[1;33m\u001b[0m\u001b[1;33m\u001b[0m\u001b[0m\n\u001b[1;32m---> 11\u001b[1;33m             \u001b[1;32mraise\u001b[0m \u001b[0mException\u001b[0m\u001b[1;33m(\u001b[0m\u001b[1;34m\"Prova\"\u001b[0m\u001b[1;33m)\u001b[0m\u001b[1;33m\u001b[0m\u001b[1;33m\u001b[0m\u001b[0m\n\u001b[0m\u001b[0;32m     12\u001b[0m         \u001b[1;31m#print(str(schedule[i]) + \" \" + str(val))\u001b[0m\u001b[1;33m\u001b[0m\u001b[1;33m\u001b[0m\u001b[1;33m\u001b[0m\u001b[0m\n\u001b[0;32m     13\u001b[0m         \u001b[0mtot\u001b[0m \u001b[1;33m+=\u001b[0m \u001b[0mval\u001b[0m\u001b[1;33m\u001b[0m\u001b[1;33m\u001b[0m\u001b[0m\n",
      "\u001b[1;31mException\u001b[0m: Prova"
     ]
    }
   ],
   "source": [
    "shortweek = [\"martedi\", \"mercoledi\", \"giovedi\"]\n",
    "fur2_time_greedy = pd.read_csv(\"../Dati/turni_f/furgoncino2_routing.csv\", delimiter=\";\", encoding = \"ISO-8859-1\")\n",
    "fur2_time_local = pd.read_csv(\"../Dati/turni_f/ls2_shifts.csv\", delimiter=\";\", encoding = \"ISO-8859-1\")\n",
    "fur2_time_2opt = pd.read_csv(\"../Dati/turni_f/2-opt2_shifts.csv\", delimiter=\";\", encoding = \"ISO-8859-1\")\n",
    "fur2_time_base = pd.read_csv(\"../Dati/turni_f/f2_original.csv\", delimiter=\";\", encoding = \"ISO-8859-1\")\n",
    "\n",
    "print(\"Comparison 2nd pickup with greedy, local search and 2opt solutions (Based on time schedule)\")\n",
    "for day in shortweek:\n",
    "    greedy_schedule = addHeadTail(fur2_time_greedy[day])\n",
    "    base_schedule = addHeadTail(fur1_time_base[day])\n",
    "    print(f\"Giorno: {day}  \" +\n",
    "          f\"{compute(pd.Series(base_schedule), dft)}  \"+\n",
    "          f\"{compute(pd.Series(greedy_schedule), dft)}  \"+\n",
    "          f\"{compute(fur2_time_local[day], dft)}  \"+\n",
    "          f\"{compute(fur2_time_2opt[day], dft)} min\")"
   ]
  },
  {
   "cell_type": "code",
   "execution_count": 7,
   "metadata": {},
   "outputs": [
    {
     "name": "stdout",
     "output_type": "stream",
     "text": [
      "Comparison 2nd pickup with greedy, local search and 2opt solutions (Based on kilometers schedule)\n",
      "Giorno: martedi  108.93  108.85  108.67 km\n",
      "Giorno: mercoledi  164.2  162.67  162.67 km\n",
      "Giorno: giovedi  236.13  236.13  173.54 km\n"
     ]
    }
   ],
   "source": [
    "fur2_distance_greedy = pd.read_csv(\"../Dati/turni_f/furgoncino2_KM_routing.csv\", delimiter=\";\")\n",
    "fur2_distance_local = pd.read_csv(\"../Dati/turni_f/ls2_km_shifts.csv\", delimiter=\";\")\n",
    "fur2_distance_2opt = pd.read_csv(\"../Dati/turni_f/2-opt2_km_shifts.csv\", delimiter=\";\")\n",
    "print(\"Comparison 2nd pickup with greedy, local search and 2opt solutions (Based on kilometers schedule)\")\n",
    "for day in shortweek:\n",
    "    greedy_schedule = addHeadTail(fur2_distance_greedy[day])\n",
    "    print(f\"Giorno: {day}  {compute(pd.Series(greedy_schedule), dfd)}  \"+\n",
    "          f\"{compute(pd.Series(fur2_distance_local[day]), dfd)}  \"+\n",
    "          f\"{compute(pd.Series(fur2_distance_2opt[day]), dfd)} km\")"
   ]
  },
  {
   "cell_type": "code",
   "execution_count": 9,
   "metadata": {},
   "outputs": [],
   "source": [
    "def compute_week(days, lista, add):\n",
    "    res = 0\n",
    "    for day in days:\n",
    "        if add:\n",
    "            res += compute(pd.Series(addHeadTail(lista[day])), dft)\n",
    "        else:\n",
    "            res += compute(lista[day], dft)\n",
    "    return res\n",
    "\n",
    "def addHeadTail(schedule):\n",
    "    formatted = list(schedule.dropna())[:]\n",
    "    formatted.insert(0, \"Cremona, Sesto 39\")\n",
    "    formatted.append(\"Ostiano, Mazzini, 1\")\n",
    "    return formatted"
   ]
  },
  {
   "cell_type": "code",
   "execution_count": 10,
   "metadata": {},
   "outputs": [
    {
     "name": "stdout",
     "output_type": "stream",
     "text": [
      "Greedy: 1047.54\n",
      "Time base: 1193.54\n",
      "Local search: 1027.72\n",
      "2opt: 952.62\n",
      "Multi veichle: 572.55\n"
     ]
    }
   ],
   "source": [
    "fur1_time_greedy = pd.read_csv(\"../Dati/turni_f/furgoncino1_routing.csv\", delimiter=\";\", encoding = \"ISO-8859-1\")\n",
    "fur1_time_local = pd.read_csv(\"../Dati/turni_f/ls1_shifts.csv\", delimiter=\";\", encoding = \"ISO-8859-1\")\n",
    "fur1_time_2opt = pd.read_csv(\"../Dati/turni_f/2-opt1_shifts.csv\", delimiter=\";\", encoding = \"ISO-8859-1\")\n",
    "fur1_time_base = pd.read_csv(\"../Dati/turni_f/f1_original.csv\", delimiter=\";\", encoding = \"ISO-8859-1\")\n",
    "fur1_multi = pd.read_csv(\"../Dati/turni_f/multi_veich_LS1.csv\", delimiter=\";\", encoding = \"ISO-8859-1\")\n",
    "\n",
    "print(\"Greedy\", round(compute_week(week, fur1_time_greedy, True),2), sep=\": \")\n",
    "print(\"Time base\", round(compute_week(week, fur1_time_base, True),2), sep=\": \")\n",
    "print(\"Local search\", round(compute_week(week, fur1_time_local, False),2), sep=\": \")\n",
    "print(\"2opt\", round(compute_week(week, fur1_time_2opt, False),2), sep=\": \")\n",
    "print(\"Multi veichle\", round(compute_week(week, fur1_multi, False),2), sep=\": \")"
   ]
  },
  {
   "cell_type": "code",
   "execution_count": 11,
   "metadata": {},
   "outputs": [],
   "source": [
    "def addHeadTail(schedule):\n",
    "    formatted = list(schedule.dropna())[:]\n",
    "    formatted.insert(0, \"Cremona, Sesto 39\")\n",
    "    formatted.append(\"San Giovanni in Croce, Feudatari, 25 A\")\n",
    "    return formatted"
   ]
  },
  {
   "cell_type": "code",
   "execution_count": 12,
   "metadata": {},
   "outputs": [
    {
     "name": "stdout",
     "output_type": "stream",
     "text": [
      "Greedy: 601.22\n",
      "Time base: 455.06\n",
      "Local search: 544.69\n",
      "2opt: 481.57\n",
      "Multi veichle: 426.91\n"
     ]
    }
   ],
   "source": [
    "fur2_time_greedy = pd.read_csv(\"../Dati/turni_f/furgoncino2_routing.csv\", delimiter=\";\")\n",
    "fur2_time_local = pd.read_csv(\"../Dati/turni_f/ls2_shifts.csv\", delimiter=\";\")\n",
    "fur2_time_2opt = pd.read_csv(\"../Dati/turni_f/2-opt2_shifts.csv\", delimiter=\";\", encoding = \"ISO-8859-1\")\n",
    "fur2_time_base = pd.read_csv(\"../Dati/turni_f/f2_original.csv\", delimiter=\";\", encoding = \"ISO-8859-1\")\n",
    "fur2_multi = pd.read_csv(\"../Dati/turni_f/multi_veich_LS2.csv\", delimiter=\";\", encoding = \"ISO-8859-1\")\n",
    "shortweek=[\"martedi\", \"mercoledi\", \"giovedi\"]\n",
    "print(\"Greedy\", round(compute_week(shortweek, fur2_time_greedy, True),2), sep=\": \")\n",
    "print(\"Time base\", round(compute_week(shortweek, fur2_time_base, True),2), sep=\": \")\n",
    "print(\"Local search\", round(compute_week(shortweek, fur2_time_local, False),2), sep=\": \")\n",
    "print(\"2opt\", round(compute_week(shortweek, fur2_time_2opt, False),2), sep=\": \")\n",
    "print(\"Multi veichle\", round(compute_week(shortweek, fur2_multi, False),2), sep=\": \")"
   ]
  },
  {
   "cell_type": "raw",
   "metadata": {},
   "source": [
    "\n",
    "#start = dft[get_row(dft, 'Cremona, sesto 39').values]\n",
    "#day='lunedi'\n",
    "\n",
    "#indici\n",
    "\n",
    "mean = []\n",
    "#Lista dei paesi non raggiungibili\n",
    "impossibile = []\n",
    "for day in ['lunedi', 'venerdi']:\n",
    "    row = dft[get_row(dft, table[day][0]).values]\n",
    "    i1 = 0\n",
    "    biases = []\n",
    "    sumb = 0\n",
    "    for i in range(1,len(time_table[day].dropna())):\n",
    "        paese=table[day][i]\n",
    "        #print(paese)\n",
    "        #Distanze in tempo dal paese corrente di ognuno dei furgoni alla destinazione\n",
    "        value=row.loc[:,get_column(dft, paese).values]\n",
    "        row = dft[get_row(dft, table[day][i]).values]\n",
    "\n",
    "        diff=difference2(day, i1, i)\n",
    "        print(f\"{day} {i}, diff: {diff} , value: {value.values[0][0]}\")\n",
    "        b = diff-value.values[0][0]\n",
    "        biases.append(b)\n",
    "        sumb+=diff-value.values[0][0]\n",
    "        i1 = i\n",
    "    mean.append(sumb/len(biases))\n",
    "print(mean)\n",
    "#15 minuti per carico e scarico (e caffé)"
   ]
  },
  {
   "cell_type": "raw",
   "metadata": {},
   "source": [
    "for day in ['lunedi', 'venerdi']:\n",
    "    schedule = fur1[day]\n",
    "    row = dft[get_row(dft, schedule[0]).values]\n",
    "    i1 = 0\n",
    "    diff_greedy = []\n",
    "    diff_curr = []\n",
    "    for j in range(1, len(schedule.dropna())):\n",
    "        value=0\n",
    "        paese = schedule[j]\n",
    "        value = row.loc[:,get_column(dft, paese).values].values[0][0] + 7\n",
    "        #print(f\"{paese}: {value}\")\n",
    "        diff_greedy.append(round(value,2))\n",
    "        diff=round(difference2(day, i1, j),2)\n",
    "        diff_curr.append(diff)\n",
    "        i1 = j\n",
    "        row=dft[get_row(dft, paese).values]\n",
    "    print(day)\n",
    "    for j in range(len(schedule.dropna())-1):\n",
    "        print(f\"diff greedy: {diff_greedy[j]} , diff current: {diff_curr[j]}\")\n",
    "    print((round(sum(diff_greedy),2), sum(diff_curr)))"
   ]
  },
  {
   "cell_type": "raw",
   "metadata": {},
   "source": [
    "#Get distances for every day\n",
    "dfd = pd.read_csv(\"../Dati/distanze/times_computed.csv\", delimiter=\";\", encoding = \"ISO-8859-1\", index_col=0)\n",
    "tot = 0\n",
    "for day in ['lunedi', 'venerdi']:\n",
    "    schedule = fur1[day]\n",
    "    row = dfd[get_row(dfd, schedule[0]).values]\n",
    "    tot += row.loc[:,get_column(dft, paese).values].values[0][0]\n",
    "    print(f\"{day}: {tot}km\")"
   ]
  },
  {
   "cell_type": "code",
   "execution_count": 16,
   "metadata": {},
   "outputs": [
    {
     "name": "stdout",
     "output_type": "stream",
     "text": [
      "oss_ls = 1657.99 ls = 1572.88\n",
      "oss_opt = 1485.5 opt = 1434.66\n",
      "oss_mvls = 1158.09 mvls = 1241.55\n"
     ]
    }
   ],
   "source": [
    "week = [\"lunedi\", \"martedi\", \"mercoledi\", \"giovedi\", \"venerdi\"]\n",
    "short_week = [\"martedi\", \"mercoledi\", \"giovedi\"]\n",
    "\n",
    "\n",
    "fur1_local = pd.read_csv(\"../Dati/turni_f/ls1_shifts.csv\", delimiter=\";\", encoding = \"ISO-8859-1\")\n",
    "fur1_2opt = pd.read_csv(\"../Dati/turni_f/2-opt1_shifts.csv\", delimiter=\";\", encoding = \"ISO-8859-1\")\n",
    "fur1_multi = pd.read_csv(\"../Dati/turni_f/multi_veich_LS1.csv\", delimiter=\";\", encoding = \"ISO-8859-1\")\n",
    "\n",
    "fur2_local = pd.read_csv(\"../Dati/turni_f/ls2_shifts.csv\", delimiter=\";\", encoding = \"ISO-8859-1\")\n",
    "fur2_2opt = pd.read_csv(\"../Dati/turni_f/2-opt2_shifts.csv\", delimiter=\";\", encoding = \"ISO-8859-1\")\n",
    "fur2_multi = pd.read_csv(\"../Dati/turni_f/multi_veich_LS2.csv\", delimiter=\";\", encoding = \"ISO-8859-1\")\n",
    "\n",
    "oss_ls_1 = pd.read_csv(\"../Dati/turni_f/optimized_start/oss_ls1.csv\", delimiter=\";\", encoding = \"ISO-8859-1\")\n",
    "oss_ls_2 = pd.read_csv(\"../Dati/turni_f/optimized_start/oss_ls2.csv\", delimiter=\";\", encoding = \"ISO-8859-1\")\n",
    "\n",
    "oss_2opt_1 = pd.read_csv(\"../Dati/turni_f/optimized_start/oss_2opt_f1.csv\", delimiter=\";\", encoding = \"ISO-8859-1\")\n",
    "oss_2opt_2 = pd.read_csv(\"../Dati/turni_f/optimized_start/oss_2opt_f2.csv\", delimiter=\";\", encoding = \"ISO-8859-1\")\n",
    "\n",
    "oss_mvls_1 = pd.read_csv(\"../Dati/turni_f/optimized_start/oss_MVLS_f1.csv\", delimiter=\";\", encoding = \"ISO-8859-1\")\n",
    "oss_mvls_2 = pd.read_csv(\"../Dati/turni_f/optimized_start/oss_MVLS_f2.csv\", delimiter=\";\", encoding = \"ISO-8859-1\")\n",
    "#print('fur1')\n",
    "oss_ls1 = 0\n",
    "oss_opt1 = 0\n",
    "oss_mvls1 = 0\n",
    "ls1 = 0\n",
    "opt1 = 0\n",
    "mvls1 = 0\n",
    "for day in week:\n",
    "    #greedy_schedule = addHeadTail(fur1_time_greedy[day])\n",
    "    #base_schedule = addHeadTail(fur1_time_base[day])\n",
    "    oss_ls1 = oss_ls1 + compute(oss_ls_1[day], dft)\n",
    "    oss_opt1 = oss_opt1 + compute(oss_2opt_1[day], dft)\n",
    "    oss_mvls1 = oss_mvls1 + compute(oss_mvls_1[day], dft)\n",
    "    \n",
    "    ls1 = ls1 + compute(fur1_local[day], dft)\n",
    "    opt1 = opt1 + compute(fur1_2opt[day], dft)\n",
    "    mvls1 = mvls1 + compute(fur1_multi[day], dft)\n",
    "#print('\\noss\\n')  \n",
    "#print(f\"ls = {round(oss_ls, 2)} \"+\n",
    "#      f\"2opt = {round(oss_opt, 2)} \")\n",
    "#print('\\nnon ottimizzato\\n')\n",
    "#print(f\"ls = {round(ls, 2)} \"+\n",
    "#      f\"2opt = {round(opt, 2)} \")\n",
    "\n",
    "\n",
    "#print('\\n') \n",
    "#print('fur2')\n",
    "oss_ls2 = 0\n",
    "oss_opt2 = 0\n",
    "oss_mvls2 = 0\n",
    "ls2 = 0\n",
    "opt2 = 0\n",
    "mvls2 = 0\n",
    "for day in short_week:\n",
    "    #greedy_schedule = addHeadTail(fur1_time_greedy[day])\n",
    "    #base_schedule = addHeadTail(fur1_time_base[day])\n",
    "    oss_ls2 = oss_ls2 + compute(oss_ls_2[day], dft)\n",
    "    oss_opt2 = oss_opt2 + compute(oss_2opt_2[day], dft)\n",
    "    oss_mvls2 = oss_mvls2 + compute(oss_mvls_2[day], dft)\n",
    "    \n",
    "    ls2 = ls2 + compute(fur2_local[day], dft)\n",
    "    opt2 = opt2 + compute(fur2_2opt[day], dft)\n",
    "    mvls2 = mvls2 + compute(fur2_multi[day], dft)\n",
    "    \n",
    "#print('\\noss\\n')\n",
    "#print(f\"ls = {round(oss_ls, 2)} \"+\n",
    "#      f\"2opt = {round(oss_opt, 2)} \")\n",
    "#print('\\nnon ottimizzato\\n')\n",
    "#print(f\"ls = {round(ls, 2)} \"+\n",
    "#      f\"2opt = {round(opt, 2)} \")\n",
    "#print('\\n')\n",
    "print(f\"oss_ls = {round(oss_ls1 + oss_ls2, 2)} \" + \n",
    "      f\"ls = {round(ls1 + ls2, 2)}\")\n",
    "print(f\"oss_opt = {round(oss_opt1 + oss_opt2, 2)} \" + \n",
    "      f\"opt = {round(opt1 + opt2, 2)}\")\n",
    "print(f\"oss_mvls = {oss_mvls1 + oss_mvls2} \" + \n",
    "      f\"mvls = {round(mvls1 + mvls2, 2)}\")"
   ]
  },
  {
   "cell_type": "code",
   "execution_count": 11,
   "metadata": {},
   "outputs": [
    {
     "name": "stdout",
     "output_type": "stream",
     "text": [
      "diff_ls = []\n",
      "diff_2opt = []\n",
      "diff_2opt = []\n"
     ]
    }
   ],
   "source": [
    "print(f\"diff_ls = {check_cities(fur1_local, fur2_local, oss_ls_1, oss_ls_2)}\")\n",
    "print(f\"diff_2opt = {check_cities(fur1_2opt, fur2_2opt, oss_2opt_1, oss_2opt_2)}\")\n",
    "print(f\"diff_2opt = {check_cities(fur1_multi, fur2_multi, oss_mvls_1, oss_mvls_2)}\")"
   ]
  }
 ],
 "metadata": {
  "kernelspec": {
   "display_name": "Python 3",
   "language": "python",
   "name": "python3"
  },
  "language_info": {
   "codemirror_mode": {
    "name": "ipython",
    "version": 3
   },
   "file_extension": ".py",
   "mimetype": "text/x-python",
   "name": "python",
   "nbconvert_exporter": "python",
   "pygments_lexer": "ipython3",
   "version": "3.7.3"
  }
 },
 "nbformat": 4,
 "nbformat_minor": 2
}

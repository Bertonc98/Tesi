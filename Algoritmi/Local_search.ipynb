{
 "cells": [
  {
   "cell_type": "code",
   "execution_count": 131,
   "metadata": {},
   "outputs": [],
   "source": [
    "import pandas as pd\n",
    "import numpy as np\n",
    "import math\n",
    "import datetime\n",
    "\n",
    "table=pd.read_csv(\"../Dati/orari/route.csv\", delimiter=\";\")\n",
    "time_table=pd.read_csv(\"../Dati/orari/route_time.csv\", delimiter=\";\")\n",
    "dft = pd.read_csv(\"../Dati/distanze/times_computed.csv\", delimiter=\";\", encoding = \"ISO-8859-1\", index_col=0)\n",
    "fur1 = pd.read_csv(\"../Dati/turni_f/furgoncino1_routing.csv\", delimiter=\";\")\n",
    "fur2 = pd.read_csv(\"../Dati/turni_f/furgoncino2_routing.csv\", delimiter=\";\")\n",
    "\n",
    "def get_row(df, string):\n",
    "    return pd.Series(df.index).str.contains(string, case=False)\n",
    "\n",
    "def get_column(df, string):\n",
    "    return pd.Series(df.columns).str.contains(string, case=False)\n",
    "\n",
    "def difference(day, index, index2):\n",
    "    time = datetime.datetime.strptime(time_table[day][index], '%H:%M')\n",
    "    time2 = datetime.datetime.strptime(time_table[day][index2], '%H:%M')\n",
    "    return ((time2-time).seconds)/60\n"
   ]
  },
  {
   "cell_type": "code",
   "execution_count": 132,
   "metadata": {},
   "outputs": [],
   "source": [
    "#furgoncino 1 (MON, FRI)\n",
    "schedule = fur1['lunedi']\n",
    "to_insert = schedule.pop(0)"
   ]
  },
  {
   "cell_type": "code",
   "execution_count": 137,
   "metadata": {},
   "outputs": [
    {
     "name": "stdout",
     "output_type": "stream",
     "text": [
      "tempo totale autisti: Ostiano = 195.0, San Giovanni = 200.0\n",
      "14\n"
     ]
    }
   ],
   "source": [
    "start = dft[get_row(dft, 'Cremona, sesto 39').values]\n",
    "day='lunedi'\n",
    "times = []\n",
    "keys = []\n",
    "row = start\n",
    "key1 = ''\n",
    "key2 = ''\n",
    "impossibile = []\n",
    "for i in range(1,len(schedule.dropna()) +1 ):\n",
    "    key1 = row.index[0]\n",
    "    paese=schedule[i]\n",
    "    #Distanze in tempo dal paese corrente di ognuno dei furgoni alla destinazione\n",
    "    value=row.loc[:,get_column(dft, paese).values].values[0][0]\n",
    "    times.append(round(value))\n",
    "    row = dft[get_row(dft, paese).values]\n",
    "    key2 = row.index[0]\n",
    "    keys.append(key1 + ' - ' + key2)\n",
    "    \n",
    "steps_times1 = pd.Series(times , keys)\n",
    "#creo una copia della serie\n",
    "steps_times2 = steps_times1.copy()\n",
    "#creo una copia dei tempi\n",
    "times1 = times[:]\n",
    "times2 = times[:]\n",
    "\n",
    "#aggiungo la chiave per l'ultima destinazione considerata e la casa dell'autista\n",
    "\n",
    "#autista 1\n",
    "row = dft[get_row(dft, paese).values]\n",
    "value=row.loc[:,get_column(dft, 'Ostiano, Mazzini, 1').values].values[0][0]\n",
    "s1 = pd.Series(round(value), [row.index[0] + ' - Ostiano, Mazzini, 1'])\n",
    "steps_times1 = steps_times1.append(s1)\n",
    "times1.append(round(value))\n",
    "\n",
    "#autista 2\n",
    "value=row.loc[:,get_column(dft, 'San Giovanni in Croce, Feudatari, 25 A').values].values[0][0]\n",
    "s2 = pd.Series(round(value), [row.index[0] + ' - San Giovanni in Croce, Feudatari, 25 A'])\n",
    "steps_times2 = steps_times2.append(s2)\n",
    "times2.append(round(value))\n",
    "\n",
    "#tempo praticamente identico (5 minuti di scarto)\n",
    "print(f\"tempo totale autisti: Ostiano = {sum(times1)}, San Giovanni = {sum(times2)}\")\n",
    "print(len(steps_times1.keys()))"
   ]
  },
  {
   "cell_type": "code",
   "execution_count": 146,
   "metadata": {},
   "outputs": [
    {
     "data": {
      "text/plain": [
       "Cremona, Sesto 39 - Grumello Cremonese ed Uniti, Roma, 2                 15.68\n",
       "Grumello Cremonese ed Uniti, Roma, 2 - Soresina, Giacomo Matteotti, 6    20.92\n",
       "Soresina, Giacomo Matteotti, 6 - Trigolo, Roma, 26                       34.92\n",
       "Trigolo, Roma, 26 - Castelleone, Roma, 67                                36.20\n",
       "Castelleone, Roma, 67 - Montodine,  XXV Aprile, 10                       37.06\n",
       "Montodine,  XXV Aprile, 10 - Ripalta Cremasca, Roma, 5                   44.94\n",
       "Ripalta Cremasca, Roma, 5 - Ricengo, Guglielmo Marconi                   54.30\n",
       "Ricengo, Guglielmo Marconi - Sergnano, IV Novembre,  10                  63.54\n",
       "Sergnano, IV Novembre,  10 - Casale Cremasco-Vidolasco, Roma, 56         67.03\n",
       "Casale Cremasco-Vidolasco, Roma, 56 - Camisano, Trieste, 57              66.46\n",
       "Camisano, Trieste, 57 - Capralba, Piave, 2                               72.37\n",
       "Capralba, Piave, 2 - Soncino, Dante Alighieri, 23                        66.39\n",
       "Soncino, Dante Alighieri, 23 - Pizzighettone, Giuseppe Garibaldi, 18     41.83\n",
       "Pizzighettone, Giuseppe Garibaldi, 18 - Ostiano, Mazzini, 1              43.52\n",
       "dtype: float64"
      ]
     },
     "execution_count": 146,
     "metadata": {},
     "output_type": "execute_result"
    }
   ],
   "source": [
    "#first attempt to local search algorithm\n",
    "times = []\n",
    "key2 = []\n",
    "for i in range(len(steps_times1)):\n",
    "    cities = steps_times1.keys()[i].split('-')\n",
    "    row1 = dft[get_row(dft, cities[0].strip()).values]\n",
    "    #time from current (to insert) to city 2\n",
    "    f_c1_to_curr = row1.loc[:,get_column(dft, to_insert).values].values[0][0]\n",
    "    row2 = dft[get_row(dft, to_insert).values]\n",
    "    #time from city 1 to current (to insert)\n",
    "    f_curr_to_c2 = row2.loc[:,get_column(dft, cities[1].strip()).values].values[0][0]\n",
    "    times.append(f_c1_to_curr + f_curr_to_c2)\n",
    "s3 = pd.Series(times, steps_times1.keys())\n",
    "s3"
   ]
  }
 ],
 "metadata": {
  "kernelspec": {
   "display_name": "Python 3",
   "language": "python",
   "name": "python3"
  },
  "language_info": {
   "codemirror_mode": {
    "name": "ipython",
    "version": 3
   },
   "file_extension": ".py",
   "mimetype": "text/x-python",
   "name": "python",
   "nbconvert_exporter": "python",
   "pygments_lexer": "ipython3",
   "version": "3.7.3"
  }
 },
 "nbformat": 4,
 "nbformat_minor": 2
}

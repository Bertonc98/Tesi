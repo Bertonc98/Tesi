{
 "cells": [
  {
   "cell_type": "code",
   "execution_count": 1,
   "metadata": {},
   "outputs": [],
   "source": [
    "import pandas as pd\n",
    "import numpy as np\n",
    "import math\n",
    "import datetime\n",
    "\n",
    "table=pd.read_csv(\"../Dati/orari/route.csv\", delimiter=\";\")\n",
    "time_table=pd.read_csv(\"../Dati/orari/route_time.csv\", delimiter=\";\")\n",
    "dft = pd.read_csv(\"../Dati/distanze/times_computed.csv\", delimiter=\";\", encoding = \"ISO-8859-1\", index_col=0)\n",
    "dfd = pd.read_csv(\"../Dati/distanze/distances_computed.csv\", delimiter=\";\", encoding = \"ISO-8859-1\", index_col=0)\n",
    "fur1 = pd.read_csv(\"../Dati/turni_f/furgoncino1_routing.csv\", delimiter=\";\", encoding = \"ISO-8859-1\")\n",
    "fur2 = pd.read_csv(\"../Dati/turni_f/furgoncino2_routing.csv\", delimiter=\";\", encoding = \"ISO-8859-1\")\n",
    "fur1d = pd.read_csv(\"../Dati/turni_f/furgoncino1_KM_routing.csv\", delimiter=\";\", encoding = \"ISO-8859-1\")\n",
    "fur2d = pd.read_csv(\"../Dati/turni_f/furgoncino2_KM_routing.csv\", delimiter=\";\", encoding = \"ISO-8859-1\")\n",
    "\n",
    "def get_row(df, string):\n",
    "    return pd.Series(df.index).str.contains(string, case=False)\n",
    "\n",
    "def get_column(df, string):\n",
    "    return pd.Series(df.columns).str.contains(string, case=False)\n",
    "\n",
    "def difference(day, index, index2):\n",
    "    time = datetime.datetime.strptime(time_table[day][index], '%H:%M')\n",
    "    time2 = datetime.datetime.strptime(time_table[day][index2], '%H:%M')\n",
    "    return ((time2-time).seconds)/60\n",
    "\n",
    "def getName(nome):\n",
    "    city = dft[get_row(dft, nome).values].index[0]\n",
    "    return city"
   ]
  },
  {
   "cell_type": "code",
   "execution_count": 2,
   "metadata": {},
   "outputs": [],
   "source": [
    "def new_route(schedule, dframe):\n",
    "    times = []\n",
    "    keys = []\n",
    "    #row = dft[get_row(dft, 'Cremona, sesto 39').values]\n",
    "    row = dframe[get_row(dframe, schedule[0]).values]\n",
    "    key1 = ''\n",
    "    key2 = ''\n",
    "    impossibile = []\n",
    "    \n",
    "    for i in range(1,len(schedule)):\n",
    "        key1 = row.index[0]\n",
    "        try:\n",
    "            paese=schedule[i]\n",
    "        except:\n",
    "            continue\n",
    "        #Distanze in tempo dal paese corrente di ognuno dei furgoni alla destinazione\n",
    "        value=row.loc[:,get_column(dframe, paese).values].values[0][0]\n",
    "        times.append(round(value))\n",
    "        row = dframe[get_row(dframe, paese).values]\n",
    "        try:\n",
    "            key2 = row.index[0]\n",
    "        except:\n",
    "            print(paese)\n",
    "            raise Exception(\"ciao\")\n",
    "        keys.append(key1 + ' - ' + key2)\n",
    "    \n",
    "    steps_times1 = pd.Series(times , keys)\n",
    "    times1 = times[:]\n",
    "    return steps_times1"
   ]
  },
  {
   "cell_type": "code",
   "execution_count": 3,
   "metadata": {},
   "outputs": [],
   "source": [
    "#returns a pd.Series: keys = city1 - city2, values = times from city1 to city2\n",
    "def schedule_time(new_schedule, dft):\n",
    "    times = []\n",
    "    #row = dft[get_row(dft, 'Cremona, sesto 39').values]\n",
    "    row = dft[get_row(dft, new_schedule[0]).values]\n",
    "    keys = []\n",
    "    key1 = ''\n",
    "    key2 = ''\n",
    "    for i in range(1,len(new_schedule)):\n",
    "        key1 = row.index[0]\n",
    "        paese=new_schedule[i]\n",
    "\n",
    "        value=row.loc[:,get_column(dft, paese).values].values[0][0]\n",
    "        times.append(round(value))\n",
    "        \n",
    "        row = dft[get_row(dft, paese).values]\n",
    "        key2 = row.index[0]\n",
    "        keys.append(key1 + ' - ' + key2)\n",
    "    steps_times = pd.Series(times , keys)\n",
    "    return steps_times"
   ]
  },
  {
   "cell_type": "code",
   "execution_count": 4,
   "metadata": {},
   "outputs": [],
   "source": [
    "def timeDistance(start, end, dft):\n",
    "    start_city_row = dft[get_row(dft, start).values]\n",
    "    return start_city_row.loc[:,get_column(dft, end).values].values[0][0]"
   ]
  },
  {
   "cell_type": "code",
   "execution_count": 5,
   "metadata": {},
   "outputs": [],
   "source": [
    "#Data una lista ottenuta da route restituisce la lista dei nomi delle città\n",
    "def cities_list(serie):\n",
    "    cities = []\n",
    "    keys = serie.keys()\n",
    "    for i in range(0, len(serie)):\n",
    "        cities = cities + [keys[i].split('-')[0].strip()]\n",
    "    if len(keys[i].split('-')) > 2: \n",
    "        return cities + [keys[i].split('-')[len(keys[i].split('-'))-1].strip()]\n",
    "    else:\n",
    "        return cities + [keys[i].split('-')[1].strip()]"
   ]
  },
  {
   "cell_type": "code",
   "execution_count": 6,
   "metadata": {},
   "outputs": [],
   "source": [
    "#first attempt to local search algorithm\n",
    "def find_best_position(steps_times, to_insert, dframe):\n",
    "    times = []\n",
    "    key2 = []\n",
    "    for i in range(len(steps_times)):\n",
    "        cities = steps_times.keys()[i].split('-')\n",
    "        if(cities[0].strip()==\"San Bassano, Mons. Frosi (ex piazza Scuole)\"):\n",
    "            row1 = dframe[get_row(dframe, 'San Bassano, Mons. Frosi').values]\n",
    "        else:\n",
    "            row1 = dframe[get_row(dframe, cities[0].strip()).values]\n",
    "        #time from city 1 to current (to insert)\n",
    "        #print(\"From: \" + cities[0].strip() + \" to: \" + to_insert)\n",
    "        f_c1_to_curr = row1.loc[:,get_column(dframe, to_insert).values].values[0][0]\n",
    "        #print(\"Done\\n\")\n",
    "        row2 = dframe[get_row(dframe, to_insert).values]\n",
    "        #time from current (to insert) to city 2\n",
    "        f_curr_to_c2 = row2.loc[:,get_column(dframe, cities[1].strip()).values].values[0][0]\n",
    "        times.append(f_c1_to_curr + f_curr_to_c2)\n",
    "    s3 = pd.Series(times, steps_times.keys())\n",
    "    return s3"
   ]
  },
  {
   "cell_type": "code",
   "execution_count": 7,
   "metadata": {},
   "outputs": [],
   "source": [
    "def best_index(lista, schedule, to_insert, dframe):\n",
    "    idx = find_best_position(schedule, to_insert, dframe).idxmin()\n",
    "    a = idx.split(\"-\")[0].strip()  \n",
    "    try:\n",
    "        return lista.index(a)+1\n",
    "    except:\n",
    "        #problema nome diverso\n",
    "        if(a.lower() == 'casale cremasco'):\n",
    "            a = 'Casale Cremasco-Vidolasco, Roma, 56'\n",
    "            return lista.index(a)+1\n",
    "        elif(a.lower() == 'gadesco'):\n",
    "            a = 'Gadesco-Pieve Delmona, Giovanni Lonati 9'\n",
    "            return lista.index(a)+1\n",
    "        elif(a==\"San Bassano, Mons. Frosi (ex piazza Scuole)\"):\n",
    "            print(lista)\n",
    "            a = \"San Bassano, Mons. Frosi\"\n",
    "            return lista.index(a)+1"
   ]
  },
  {
   "cell_type": "code",
   "execution_count": 8,
   "metadata": {},
   "outputs": [],
   "source": [
    "def definitive_local_search(fur, n, dft):\n",
    "    #Schedulazione iniziale, e sequenza dei nomi iniziali, una per ciclare e una copia per effettuare pop e insert\n",
    "    pre_schedule = new_route(fur, dft)\n",
    "    lista = [getName(x) for x in fur]\n",
    "    sequence = lista[:]\n",
    "    #Costo iniziale del percorso greedy\n",
    "    if(n==1):\n",
    "         pre_cost = sum(pre_schedule.values) + timeDistance('Cremona, Sesto 39', lista[0], dft) + timeDistance(lista[-1], 'Ostiano, Mazzini, 1', dft)\n",
    "    else:\n",
    "         pre_cost = sum(pre_schedule.values) + timeDistance('Cremona, Sesto 39', lista[0], dft) + timeDistance(lista[-1], 'San Giovanni in Croce, Feudatari, 25 A', dft)\n",
    "    new_cost = 0\n",
    "    local_best_cost = math.inf\n",
    "    local_best_schedule = []\n",
    "\n",
    "    #Eseguo finchè ho dei miglioramenti e quindi i nuovi costi sono migliori del migliore al passo prima\n",
    "    while(True):\n",
    "        #Prendo ogni città in lista, la inserisco nella posizione migliore, e tra tutte le città prendo quella che da lo\n",
    "        #spostamento più vantaggioso.\n",
    "        #Se questo è anche migliore del risultato precedente utilizzo la nuova sequenza come passo del ciclo successivo\n",
    "        for i in range(len(lista)):\n",
    "            #Copia della lista su cui lavorare\n",
    "            sequence = lista[:]\n",
    "            to_insert = lista[i]\n",
    "            sequence.remove(to_insert)\n",
    "            curr_schedule = new_route(sequence, dft)\n",
    "            index = best_index(sequence, curr_schedule, to_insert, dft)\n",
    "            try:\n",
    "                sequence.insert(index, to_insert)\n",
    "            except:\n",
    "                print(sequence)\n",
    "                print(to_insert)\n",
    "                raise Exception(\"Errororor\")\n",
    "            curr_schedule = new_route(sequence, dft)\n",
    "            if(n==1):\n",
    "                new_cost = sum(curr_schedule.values) + timeDistance('Cremona, Sesto 39', sequence[0], dft) + timeDistance(sequence[-1], 'Ostiano, Mazzini, 1', dft)\n",
    "            else:\n",
    "                new_cost = sum(curr_schedule.values) + timeDistance('Cremona, Sesto 39', sequence[0], dft) + timeDistance(sequence[-1], 'San Giovanni in Croce, Feudatari, 25 A', dft)\n",
    "            if(new_cost<local_best_cost):\n",
    "                local_best_cost = new_cost\n",
    "                local_best_schedule = curr_schedule[:]\n",
    "        if(local_best_cost<pre_cost):\n",
    "            pre_cost = local_best_cost\n",
    "            pre_schedule = local_best_schedule[:]\n",
    "            lista = cities_list(pre_schedule)\n",
    "        else:\n",
    "            break\n",
    "    return cities_list(pre_schedule), pre_cost"
   ]
  },
  {
   "cell_type": "code",
   "execution_count": 9,
   "metadata": {},
   "outputs": [],
   "source": [
    "#TIME LOCAL SEARCH\n",
    "week= ['lunedi', 'martedi', 'mercoledi', 'giovedi', 'venerdi']\n",
    "data={}\n",
    "to_write = pd.DataFrame(data)\n",
    "for day in week:\n",
    "    sch, cst = definitive_local_search(fur1[day].dropna(), 1, dft)\n",
    "    sch.insert(0, 'Cremona, Sesto 39')\n",
    "    sch.append('Ostiano, Mazzini, 1')\n",
    "    to_write[day] = pd.Series(sch)"
   ]
  },
  {
   "cell_type": "code",
   "execution_count": 10,
   "metadata": {},
   "outputs": [],
   "source": [
    "to_write.to_csv(\"../Dati/turni_f/ls1_shifts.csv\", index=False, sep=\";\")"
   ]
  },
  {
   "cell_type": "code",
   "execution_count": 11,
   "metadata": {},
   "outputs": [
    {
     "name": "stdout",
     "output_type": "stream",
     "text": [
      "martedi\n",
      "mercoledi\n",
      "giovedi\n"
     ]
    }
   ],
   "source": [
    "week= ['martedi', 'mercoledi', 'giovedi']\n",
    "data={}\n",
    "to_write = pd.DataFrame(data)\n",
    "for day in week:\n",
    "    sch, cst = definitive_local_search(fur2[day].dropna(), 2, dft)\n",
    "    print(day)\n",
    "    sch.insert(0, 'Cremona, Sesto 39')\n",
    "    sch.append('San Giovanni in Croce, Feudatari, 25 A')\n",
    "    to_write[day] = pd.Series(sch)\n",
    "to_write.to_csv(\"../Dati/turni_f/ls2_shifts.csv\", index=False, sep=\";\")"
   ]
  },
  {
   "cell_type": "code",
   "execution_count": 12,
   "metadata": {},
   "outputs": [],
   "source": [
    "#COMPUTE KM LOCAL SEARCH\n",
    "week= ['lunedi', 'martedi', 'mercoledi', 'giovedi', 'venerdi']\n",
    "data={}\n",
    "to_write = pd.DataFrame(data)\n",
    "for day in week:\n",
    "    sch, cst = definitive_local_search(fur1d[day].dropna(), 1, dfd)\n",
    "    sch.insert(0, 'Cremona, Sesto 39')\n",
    "    sch.append('Ostiano, Mazzini, 1')\n",
    "    to_write[day] = pd.Series(sch)\n",
    "to_write.to_csv(\"../Dati/turni_f/ls1_km_shifts.csv\", index=False, sep=\";\")"
   ]
  },
  {
   "cell_type": "code",
   "execution_count": 13,
   "metadata": {},
   "outputs": [],
   "source": [
    "week= ['martedi', 'mercoledi', 'giovedi']\n",
    "data={}\n",
    "to_write = pd.DataFrame(data)\n",
    "for day in week:\n",
    "    sch, cst = definitive_local_search(fur2d[day].dropna(), 2, dfd)\n",
    "    sch.insert(0, 'Cremona, Sesto 39')\n",
    "    sch.append('San Giovanni in Croce, Feudatari, 25 A')\n",
    "    to_write[day] = pd.Series(sch)\n",
    "to_write.to_csv(\"../Dati/turni_f/ls2_km_shifts.csv\", index=False, sep=\";\")"
   ]
  }
 ],
 "metadata": {
  "kernelspec": {
   "display_name": "Python 3",
   "language": "python",
   "name": "python3"
  },
  "language_info": {
   "codemirror_mode": {
    "name": "ipython",
    "version": 3
   },
   "file_extension": ".py",
   "mimetype": "text/x-python",
   "name": "python",
   "nbconvert_exporter": "python",
   "pygments_lexer": "ipython3",
   "version": "3.7.6"
  }
 },
 "nbformat": 4,
 "nbformat_minor": 2
}

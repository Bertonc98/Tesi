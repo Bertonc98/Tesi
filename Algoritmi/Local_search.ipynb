{
 "cells": [
  {
   "cell_type": "code",
   "execution_count": 6,
   "metadata": {},
   "outputs": [],
   "source": [
    "import pandas as pd\n",
    "import numpy as np\n",
    "import math\n",
    "import datetime\n",
    "from ipynb.fs.defs.functions import new_route\n",
    "from ipynb.fs.defs.functions import get_row\n",
    "from ipynb.fs.defs.functions import get_column\n",
    "from ipynb.fs.defs.functions import getName\n",
    "from ipynb.fs.defs.functions import timeDistance\n",
    "from ipynb.fs.defs.functions import best_index\n",
    "from ipynb.fs.defs.functions import find_best_position\n",
    "from ipynb.fs.defs.functions import cities_list\n",
    "\n",
    "table=pd.read_csv(\"../Dati/orari/route.csv\", delimiter=\";\")\n",
    "time_table=pd.read_csv(\"../Dati/orari/route_time.csv\", delimiter=\";\")\n",
    "dft = pd.read_csv(\"../Dati/distanze/times_computed.csv\", delimiter=\";\", encoding = \"ISO-8859-1\", index_col=0)\n",
    "dfd = pd.read_csv(\"../Dati/distanze/distances_computed.csv\", delimiter=\";\", encoding = \"ISO-8859-1\", index_col=0)\n",
    "fur1 = pd.read_csv(\"../Dati/turni_f/original_start/f1_original.csv\", delimiter=\";\", encoding = \"ISO-8859-1\")\n",
    "fur2 = pd.read_csv(\"../Dati/turni_f/original_start/f2_original.csv\", delimiter=\";\", encoding = \"ISO-8859-1\")"
   ]
  },
  {
   "cell_type": "code",
   "execution_count": 2,
   "metadata": {},
   "outputs": [
    {
     "data": {
      "text/plain": [
       "Paderno Ponchielli, Municipio, 3 $ San Bassano, Mons. Frosi           12.0\n",
       "San Bassano, Mons. Frosi $ Castelleone, Roma, 67                       9.0\n",
       "Castelleone, Roma, 67 $ Spino d'Adda, Circonvallazione, 13            26.0\n",
       "Spino d'Adda, Circonvallazione, 13 $ Romanengo, Guaiarini, 14         25.0\n",
       "Romanengo, Guaiarini, 14 $ Pandino, Castello, 15                      23.0\n",
       "Pandino, Castello, 15 $ Palazzo Pignano, Marco Polo, 31                8.0\n",
       "Palazzo Pignano, Marco Polo, 31 $ Rivolta d'Adda, Stefano Renzi, 5    14.0\n",
       "Rivolta d'Adda, Stefano Renzi, 5 $ Crema, Civerchi, 9                 23.0\n",
       "Crema, Civerchi, 9 $ Madignano, Portici, 4                             9.0\n",
       "Madignano, Portici, 4 $ Soresina, Giacomo Matteotti, 6                17.0\n",
       "Soresina, Giacomo Matteotti, 6 $ Annicco, Giuseppe Garibaldi, 6        7.0\n",
       "Annicco, Giuseppe Garibaldi, 6 $ Soncino, Dante Alighieri, 23         20.0\n",
       "Soncino, Dante Alighieri, 23 $ Fiesco, Giuseppe Parini, 10            13.0\n",
       "dtype: float64"
      ]
     },
     "execution_count": 2,
     "metadata": {},
     "output_type": "execute_result"
    }
   ],
   "source": [
    "new_route(fur1[\"mercoledi\"].dropna(), dft)"
   ]
  },
  {
   "cell_type": "code",
   "execution_count": 7,
   "metadata": {},
   "outputs": [],
   "source": [
    "def definitive_local_search(fur, n, dft):\n",
    "    #Schedulazione iniziale, e sequenza dei nomi iniziali, una per ciclare e una copia per effettuare pop e insert\n",
    "    pre_schedule = new_route(fur, dft)\n",
    "    lista = [getName(dft, x) for x in fur]\n",
    "    sequence = lista[:]\n",
    "    #Costo iniziale del percorso greedy in base al furgoncino \"n\"\n",
    "    if(n==1):\n",
    "         pre_cost = sum(pre_schedule.values) + timeDistance('Cremona, Sesto 39', lista[0], dft) + timeDistance(lista[-1], 'Ostiano, Mazzini, 1', dft)\n",
    "    else:\n",
    "         pre_cost = sum(pre_schedule.values) + timeDistance('Cremona, Sesto 39', lista[0], dft) + timeDistance(lista[-1], 'San Giovanni in Croce, Feudatari, 25 A', dft)\n",
    "    new_cost = 0\n",
    "    local_best_cost = math.inf\n",
    "    local_best_schedule = []\n",
    "\n",
    "    #Eseguo finchè ho dei miglioramenti e quindi i nuovi costi sono migliori del migliore al passo prima\n",
    "    while(True):\n",
    "        #Prendo ogni città in lista, la inserisco nella posizione migliore, e tra tutte le città prendo quella che da lo\n",
    "        #spostamento più vantaggioso.\n",
    "        #Se questo è anche migliore del risultato precedente utilizzo la nuova sequenza come passo del ciclo successivo\n",
    "        for i in range(len(lista)):\n",
    "            #Copia della lista su cui lavorare\n",
    "            sequence = lista[:]\n",
    "            to_insert = lista[i]\n",
    "            sequence.remove(to_insert)\n",
    "            curr_schedule = new_route(sequence, dft)\n",
    "            index = best_index(sequence, curr_schedule, to_insert, dft)\n",
    "            try:\n",
    "                sequence.insert(index, to_insert)\n",
    "            except:\n",
    "                print(sequence)\n",
    "                print(to_insert)\n",
    "                raise Exception(\"Error on insert\")\n",
    "            curr_schedule = new_route(sequence, dft)\n",
    "            if(n==1):\n",
    "                new_cost = sum(curr_schedule.values) + timeDistance('Cremona, Sesto 39', sequence[0], dft) + timeDistance(sequence[-1], 'Ostiano, Mazzini, 1', dft)\n",
    "            else:\n",
    "                new_cost = sum(curr_schedule.values) + timeDistance('Cremona, Sesto 39', sequence[0], dft) + timeDistance(sequence[-1], 'San Giovanni in Croce, Feudatari, 25 A', dft)\n",
    "            if(new_cost<local_best_cost):\n",
    "                local_best_cost = new_cost\n",
    "                local_best_schedule = curr_schedule[:]\n",
    "        if(local_best_cost<pre_cost):\n",
    "            pre_cost = local_best_cost\n",
    "            pre_schedule = local_best_schedule[:]\n",
    "            lista = cities_list(pre_schedule)\n",
    "        else:\n",
    "            break\n",
    "    return cities_list(pre_schedule), pre_cost"
   ]
  },
  {
   "cell_type": "code",
   "execution_count": 8,
   "metadata": {},
   "outputs": [
    {
     "name": "stdout",
     "output_type": "stream",
     "text": [
      "lunedi\n",
      "martedi\n",
      "mercoledi\n",
      "giovedi\n",
      "venerdi\n"
     ]
    }
   ],
   "source": [
    "#TIME LOCAL SEARCH\n",
    "week= ['lunedi', 'martedi', 'mercoledi', 'giovedi', 'venerdi']\n",
    "path1 = \"../Dati/turni_f/original_start/f1_original.csv\"\n",
    "path2 = \"../Dati/turni_f/original_start/f2_original.csv\"\n",
    "\n",
    "to_path1 = \"../Dati/turni_f/original_start/original_ls1.csv\"\n",
    "to_path2 = \"../Dati/turni_f/original_start/original_ls2.csv\"\n",
    "\n",
    "fur1 = pd.read_csv(path1, delimiter=\";\", encoding = \"ISO-8859-1\")\n",
    "fur2 = pd.read_csv(path2, delimiter=\";\", encoding = \"ISO-8859-1\")\n",
    "to_write = pd.DataFrame({})\n",
    "for day in week:\n",
    "    print(day)\n",
    "    sch, cst = definitive_local_search(fur1[day].dropna(), 1, dft)\n",
    "    sch.insert(0, 'Cremona, Sesto 39')\n",
    "    sch.append('Ostiano, Mazzini, 1')\n",
    "    to_write = pd.concat([to_write, pd.DataFrame(pd.Series(sch).rename(day))], axis=1)"
   ]
  },
  {
   "cell_type": "code",
   "execution_count": 9,
   "metadata": {},
   "outputs": [],
   "source": [
    "to_write.to_csv(to_path1, index=False, sep=\";\", encoding = \"ISO-8859-1\")"
   ]
  },
  {
   "cell_type": "code",
   "execution_count": 10,
   "metadata": {},
   "outputs": [
    {
     "name": "stdout",
     "output_type": "stream",
     "text": [
      "martedi\n",
      "mercoledi\n",
      "giovedi\n"
     ]
    }
   ],
   "source": [
    "week= ['martedi', 'mercoledi', 'giovedi']\n",
    "data={}\n",
    "to_write = pd.DataFrame(data)\n",
    "for day in week:\n",
    "    sch, cst = definitive_local_search(fur2[day].dropna(), 2, dft)\n",
    "    print(day)\n",
    "    sch.insert(0, 'Cremona, Sesto 39')\n",
    "    sch.append('San Giovanni in Croce, Feudatari, 25 A')\n",
    "    to_write = pd.concat([to_write, pd.DataFrame(pd.Series(sch).rename(day))], axis=1)\n",
    "to_write.to_csv(to_path2, index=False, sep=\";\", encoding = \"ISO-8859-1\")"
   ]
  },
  {
   "cell_type": "code",
   "execution_count": 9,
   "metadata": {},
   "outputs": [],
   "source": [
    "#COMPUTE KM LOCAL SEARCH\n",
    "to_path1 = \"../Dati/turni_f/optimized_start/oss_km_ls1.csv\"\n",
    "to_path2 = \"../Dati/turni_f/optimized_start/oss_km_ls2.csv\"\n",
    "week= ['lunedi', 'martedi', 'mercoledi', 'giovedi', 'venerdi']\n",
    "data={}\n",
    "to_write = pd.DataFrame(data)\n",
    "for day in week:\n",
    "    sch, cst = definitive_local_search(fur1d[day].dropna(), 1, dfd)\n",
    "    sch.insert(0, 'Cremona, Sesto 39')\n",
    "    sch.append('Ostiano, Mazzini, 1')\n",
    "    to_write = pd.concat([to_write, pd.DataFrame(pd.Series(sch).rename(day))], axis=1)\n",
    "to_write.to_csv(to_path1, index=False, sep=\";\", encoding = \"ISO-8859-1\")"
   ]
  },
  {
   "cell_type": "code",
   "execution_count": 10,
   "metadata": {},
   "outputs": [],
   "source": [
    "week= ['martedi', 'mercoledi', 'giovedi']\n",
    "data={}\n",
    "to_write = pd.DataFrame(data)\n",
    "for day in week:\n",
    "    sch, cst = definitive_local_search(fur2d[day].dropna(), 2, dfd)\n",
    "    sch.insert(0, 'Cremona, Sesto 39')\n",
    "    sch.append('San Giovanni in Croce, Feudatari, 25 A')\n",
    "    to_write = pd.concat([to_write, pd.DataFrame(pd.Series(sch).rename(day))], axis=1)\n",
    "to_write.to_csv(to_path2, index=False, sep=\";\", encoding = \"ISO-8859-1\")"
   ]
  },
  {
   "cell_type": "code",
   "execution_count": null,
   "metadata": {},
   "outputs": [],
   "source": []
  }
 ],
 "metadata": {
  "kernelspec": {
   "display_name": "Python 3",
   "language": "python",
   "name": "python3"
  },
  "language_info": {
   "codemirror_mode": {
    "name": "ipython",
    "version": 3
   },
   "file_extension": ".py",
   "mimetype": "text/x-python",
   "name": "python",
   "nbconvert_exporter": "python",
   "pygments_lexer": "ipython3",
   "version": "3.7.6"
  }
 },
 "nbformat": 4,
 "nbformat_minor": 2
}

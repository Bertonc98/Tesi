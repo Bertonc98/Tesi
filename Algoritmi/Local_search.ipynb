{
 "cells": [
  {
   "cell_type": "code",
   "execution_count": 13,
   "metadata": {},
   "outputs": [],
   "source": [
    "import pandas as pd\n",
    "import numpy as np\n",
    "import math\n",
    "import datetime\n",
    "import time\n",
    "from ipynb.fs.defs.functions import new_route\n",
    "from ipynb.fs.defs.functions import get_row\n",
    "from ipynb.fs.defs.functions import get_column\n",
    "from ipynb.fs.defs.functions import getName\n",
    "from ipynb.fs.defs.functions import timeDistance\n",
    "from ipynb.fs.defs.functions import best_index\n",
    "from ipynb.fs.defs.functions import find_best_position\n",
    "from ipynb.fs.defs.functions import cities_list\n",
    "from ipynb.fs.defs.functions import check_cities\n",
    "from ipynb.fs.defs.functions import random_schedule_day\n",
    "\n",
    "table=pd.read_csv(\"../Dati/orari/route.csv\", delimiter=\";\")\n",
    "time_table=pd.read_csv(\"../Dati/orari/route_time.csv\", delimiter=\";\")\n",
    "dft = pd.read_csv(\"../Dati/distanze/corrected_times_computed.csv\", delimiter=\";\", encoding = \"ISO-8859-1\", index_col=0)\n",
    "dfd = pd.read_csv(\"../Dati/distanze/distances_computed.csv\", delimiter=\";\", encoding = \"ISO-8859-1\", index_col=0)\n",
    "fur1 = pd.read_csv(\"../Dati/turni_f/original_start/f1_original.csv\", delimiter=\";\", encoding = \"ISO-8859-1\")\n",
    "fur2 = pd.read_csv(\"../Dati/turni_f/optimized_start/oss_f2.csv\", delimiter=\";\", encoding = \"ISO-8859-1\")"
   ]
  },
  {
   "cell_type": "code",
   "execution_count": 2,
   "metadata": {},
   "outputs": [],
   "source": [
    "def remove_city(pos, l, dframe):\n",
    "    lc = l[:]\n",
    "    lc.pop(pos)\n",
    "    return new_route(pd.Series(lc), dframe)\n",
    "\n",
    "def local_search(s, dframe):\n",
    "    for d in s.columns:\n",
    "        route = new_route(s[d].dropna(), dframe)\n",
    "        l = list(s[d].dropna())[1:len(s[d].dropna())-1]\n",
    "        l_copy = l[:]\n",
    "        for p in range(len(l)):\n",
    "            l_copy\n",
    "            remove_city(p, l_copy, dframe)"
   ]
  },
  {
   "cell_type": "code",
   "execution_count": 3,
   "metadata": {},
   "outputs": [],
   "source": [
    "def definitive_local_search(fur, n, dft):\n",
    "    count = 0\n",
    "    tot = 0\n",
    "    #Schedulazione iniziale, e sequenza dei nomi iniziali, una per ciclare e una copia per effettuare pop e insert\n",
    "    pre_schedule = new_route(fur, dft)\n",
    "    lista = [getName(dft, x) for x in fur]\n",
    "    sequence = lista[:]\n",
    "    #Costo iniziale del percorso greedy in base al furgoncino \"n\"\n",
    "    if(n==1):\n",
    "         pre_cost = sum(pre_schedule.values) + timeDistance('Cremona, Sesto 39', lista[0], dft) + timeDistance(lista[-1], 'Ostiano, Mazzini, 1', dft)\n",
    "    else:\n",
    "         pre_cost = sum(pre_schedule.values) + timeDistance('Cremona, Sesto 39', lista[0], dft) + timeDistance(lista[-1], 'San Giovanni in Croce, Feudatari, 25 A', dft)\n",
    "    new_cost = 0\n",
    "    local_best_cost = math.inf\n",
    "    local_best_schedule = []\n",
    "\n",
    "    #Eseguo finchè ho dei miglioramenti e quindi i nuovi costi sono migliori del migliore al passo prima\n",
    "    while(True):\n",
    "        #Prendo ogni città in lista, la inserisco nella posizione migliore, e tra tutte le città prendo quella che da lo\n",
    "        #spostamento più vantaggioso.\n",
    "        #Se questo è anche migliore del risultato precedente utilizzo la nuova sequenza come passo del ciclo successivo\n",
    "        startime = time.time()\n",
    "        for i in range(len(lista)):\n",
    "            #Copia della lista su cui lavorare\n",
    "            sequence = lista[:]\n",
    "            to_insert = lista[i]\n",
    "            sequence.remove(to_insert)\n",
    "            if(len(sequence)==1):\n",
    "                if timeDistance(to_insert, sequence[0], dft) < timeDistance(sequence[0], to_insert, dft):\n",
    "                    index=0\n",
    "                else:\n",
    "                    index=1\n",
    "            else:\n",
    "                curr_schedule = new_route(sequence, dft)\n",
    "                \n",
    "                index = best_index(sequence, curr_schedule, to_insert, dft)\n",
    "               \n",
    "            try:\n",
    "                sequence.insert(index, to_insert)\n",
    "            except:\n",
    "                print(sequence)\n",
    "                print(to_insert)\n",
    "                raise Exception(\"Error on insert\")\n",
    "            curr_schedule = new_route(sequence, dft)\n",
    "            if(n==1):\n",
    "                new_cost = sum(curr_schedule.values) + timeDistance('Cremona, Sesto 39', sequence[0], dft) + timeDistance(sequence[-1], 'Ostiano, Mazzini, 1', dft)\n",
    "            else:\n",
    "                new_cost = sum(curr_schedule.values) + timeDistance('Cremona, Sesto 39', sequence[0], dft) + timeDistance(sequence[-1], 'San Giovanni in Croce, Feudatari, 25 A', dft)\n",
    "            if(new_cost<local_best_cost):\n",
    "                local_best_cost = new_cost\n",
    "                local_best_schedule = curr_schedule[:]\n",
    "        count += 1\n",
    "        if(local_best_cost<pre_cost):\n",
    "            pre_cost = local_best_cost\n",
    "            pre_schedule = local_best_schedule[:]\n",
    "            lista = cities_list(pre_schedule)\n",
    "        else:\n",
    "            break\n",
    "        tot += round((time.time()-startime),3)\n",
    "    \n",
    "        #print(time.time()-startime, count, sep=\" \")\n",
    "    #return count    \n",
    "    return cities_list(pre_schedule), pre_cost, round((tot/count), 3), count"
   ]
  },
  {
   "cell_type": "code",
   "execution_count": 32,
   "metadata": {},
   "outputs": [
    {
     "data": {
      "text/html": [
       "<div>\n",
       "<style scoped>\n",
       "    .dataframe tbody tr th:only-of-type {\n",
       "        vertical-align: middle;\n",
       "    }\n",
       "\n",
       "    .dataframe tbody tr th {\n",
       "        vertical-align: top;\n",
       "    }\n",
       "\n",
       "    .dataframe thead th {\n",
       "        text-align: right;\n",
       "    }\n",
       "</style>\n",
       "<table border=\"1\" class=\"dataframe\">\n",
       "  <thead>\n",
       "    <tr style=\"text-align: right;\">\n",
       "      <th></th>\n",
       "      <th>5</th>\n",
       "      <th>10</th>\n",
       "      <th>15</th>\n",
       "      <th>20</th>\n",
       "      <th>25</th>\n",
       "      <th>30</th>\n",
       "      <th>35</th>\n",
       "      <th>40</th>\n",
       "      <th>45</th>\n",
       "      <th>50</th>\n",
       "    </tr>\n",
       "  </thead>\n",
       "  <tbody>\n",
       "    <tr>\n",
       "      <th>greedy</th>\n",
       "      <td>0.035</td>\n",
       "      <td>0.116</td>\n",
       "      <td>0.278</td>\n",
       "      <td>0.462</td>\n",
       "      <td>0.72</td>\n",
       "      <td>1.044</td>\n",
       "      <td>1.331</td>\n",
       "      <td>1.824</td>\n",
       "      <td>2.341</td>\n",
       "      <td>2.743</td>\n",
       "    </tr>\n",
       "    <tr>\n",
       "      <th>LS</th>\n",
       "      <td>NaN</td>\n",
       "      <td>NaN</td>\n",
       "      <td>NaN</td>\n",
       "      <td>NaN</td>\n",
       "      <td>NaN</td>\n",
       "      <td>NaN</td>\n",
       "      <td>NaN</td>\n",
       "      <td>NaN</td>\n",
       "      <td>NaN</td>\n",
       "      <td>NaN</td>\n",
       "    </tr>\n",
       "  </tbody>\n",
       "</table>\n",
       "</div>"
      ],
      "text/plain": [
       "            5     10     15     20    25     30     35     40     45     50\n",
       "greedy  0.035  0.116  0.278  0.462  0.72  1.044  1.331  1.824  2.341  2.743\n",
       "LS        NaN    NaN    NaN    NaN   NaN    NaN    NaN    NaN    NaN    NaN"
      ]
     },
     "execution_count": 32,
     "metadata": {},
     "output_type": "execute_result"
    }
   ],
   "source": [
    "tries = range(5, 51, 5)\n",
    "benchmark = pd.read_csv(\"../Dati/altro/benchmark.csv\", delimiter=\";\", encoding = \"ISO-8859-1\", index_col=0)\n",
    "benchmark = pd.concat([benchmark, pd.Series(index=[\"LS\"], dtype=float)])[[str(x) for x in tries]]\n",
    "benchmark"
   ]
  },
  {
   "cell_type": "code",
   "execution_count": 16,
   "metadata": {},
   "outputs": [],
   "source": [
    "# import random\n",
    "# def random_schedule_day(sched, length):\n",
    "#     sample = random.sample(range(1,len(sched[1:len(sched)])), length)\n",
    "#     return [sched.iloc[idx] for idx in sample]"
   ]
  },
  {
   "cell_type": "code",
   "execution_count": 29,
   "metadata": {},
   "outputs": [],
   "source": [
    "def definitive_local_search_synt(fur, n, dft):\n",
    "    count = 0\n",
    "    tot = 0\n",
    "    #Schedulazione iniziale, e sequenza dei nomi iniziali, una per ciclare e una copia per effettuare pop e insert\n",
    "    pre_schedule = new_route(fur, dft)\n",
    "    lista = [getName(dft, x) for x in fur]\n",
    "    sequence = lista[:]\n",
    "    #Costo iniziale del percorso greedy in base al furgoncino \"n\"\n",
    "#     if(n==1):\n",
    "    pre_cost = sum(pre_schedule.values)# + timeDistance('Cremona, Sesto 39', lista[0], dft) + timeDistance(lista[-1], 'Ostiano, Mazzini, 1', dft)\n",
    "#     else:\n",
    "#          pre_cost = sum(pre_schedule.values)# + timeDistance('Cremona, Sesto 39', lista[0], dft) + timeDistance(lista[-1], 'San Giovanni in Croce, Feudatari, 25 A', dft)\n",
    "    new_cost = 0\n",
    "    local_best_cost = math.inf\n",
    "    local_best_schedule = []\n",
    "\n",
    "    #Eseguo finchè ho dei miglioramenti e quindi i nuovi costi sono migliori del migliore al passo prima\n",
    "    while(True):\n",
    "        #Prendo ogni città in lista, la inserisco nella posizione migliore, e tra tutte le città prendo quella che da lo\n",
    "        #spostamento più vantaggioso.\n",
    "        #Se questo è anche migliore del risultato precedente utilizzo la nuova sequenza come passo del ciclo successivo\n",
    "        startime = time.time()\n",
    "        for i in range(len(lista)):\n",
    "            #Copia della lista su cui lavorare\n",
    "            sequence = lista[:]\n",
    "            to_insert = lista[i]\n",
    "            sequence.remove(to_insert)\n",
    "            if(len(sequence)==1):\n",
    "                if timeDistance(to_insert, sequence[0], dft) < timeDistance(sequence[0], to_insert, dft):\n",
    "                    index=0\n",
    "                else:\n",
    "                    index=1\n",
    "            else:\n",
    "                curr_schedule = new_route(sequence, dft)\n",
    "                \n",
    "                index = best_index(sequence, curr_schedule, to_insert, dft)\n",
    "               \n",
    "            try:\n",
    "                sequence.insert(index, to_insert)\n",
    "            except:\n",
    "                print(sequence)\n",
    "                print(to_insert)\n",
    "                raise Exception(\"Error on insert\")\n",
    "            curr_schedule = new_route(sequence, dft)\n",
    "            #if(n==1):\n",
    "            new_cost = sum(curr_schedule.values)# + timeDistance('Cremona, Sesto 39', sequence[0], dft) + timeDistance(sequence[-1], 'Ostiano, Mazzini, 1', dft)\n",
    "            #else:\n",
    "            #new_cost = sum(curr_schedule.values)# + timeDistance('Cremona, Sesto 39', sequence[0], dft) + timeDistance(sequence[-1], 'San Giovanni in Croce, Feudatari, 25 A', dft)\n",
    "            if(new_cost<local_best_cost):\n",
    "                local_best_cost = new_cost\n",
    "                local_best_schedule = curr_schedule[:]\n",
    "        count += 1\n",
    "        if(local_best_cost<pre_cost):\n",
    "            pre_cost = local_best_cost\n",
    "            pre_schedule = local_best_schedule[:]\n",
    "            lista = cities_list(pre_schedule)\n",
    "        else:\n",
    "            break\n",
    "        tot += round((time.time()-startime),3)\n",
    "    \n",
    "        #print(time.time()-startime, count, sep=\" \")\n",
    "    #return count    \n",
    "    return cities_list(pre_schedule), pre_cost, round((tot/count), 3), count"
   ]
  },
  {
   "cell_type": "code",
   "execution_count": 21,
   "metadata": {},
   "outputs": [],
   "source": [
    "df = pd.read_csv(\"../Dati/distanze/synthetic_costs.csv\", delimiter=\";\", encoding = \"ISO-8859-1\", index_col=0)\n",
    "df.columns = dft.index[0:35]\n",
    "df.index = dft.index[0:35]\n",
    "#df.to_csv(\"../Dati/altro/synthetic_costs.csv\", sep=\";\", encoding = \"ISO-8859-1\")"
   ]
  },
  {
   "cell_type": "code",
   "execution_count": 30,
   "metadata": {},
   "outputs": [
    {
     "name": "stdout",
     "output_type": "stream",
     "text": [
      "5\n",
      "10\n",
      "15\n",
      "20\n",
      "25\n",
      "30\n",
      "35\n"
     ]
    }
   ],
   "source": [
    "\n",
    "tries = range(5, 36, 5)\n",
    "#tries = [25]\n",
    "#benchmark = pd.read_csv(\"../Dati/altro/benchmark.csv\", delimiter=\";\", encoding = \"ISO-8859-1\", index_col=0)\n",
    "#benchmark_time = pd.DataFrame({}, index=[\"LS\"], columns=tries)\n",
    "benchmark_count = pd.DataFrame({}, index=[\"LS\"], columns=tries)\n",
    "for n in tries:\n",
    "    print(n)\n",
    "    #tot = 0\n",
    "    count = 0\n",
    "    for i in range(0, 3):\n",
    "#         sample = random_schedule_day(fur1[\"lunedi\"].dropna(), len(fur1[\"lunedi\"].dropna())-2)\n",
    "        sample = random_schedule_day(df,n)\n",
    "#          s, costo, t, _ = definitive_local_search(sample, 1, dft)\n",
    "        s, costo, t, c = definitive_local_search(sample, 1, df)\n",
    "        #s.insert(0, 'Cremona, Sesto 39')\n",
    "        #s.append('Ostiano, Mazzini, 1')\n",
    "        #tot += t\n",
    "        count += c\n",
    "    #benchmark_time[n][\"LS\"] = round(tot/3, 3)\n",
    "    benchmark_count[n][\"LS\"] = round(count/3, 3)\n",
    "#print(s, costo)\n",
    "#round(tot, 3)"
   ]
  },
  {
   "cell_type": "code",
   "execution_count": 31,
   "metadata": {},
   "outputs": [
    {
     "data": {
      "text/html": [
       "<div>\n",
       "<style scoped>\n",
       "    .dataframe tbody tr th:only-of-type {\n",
       "        vertical-align: middle;\n",
       "    }\n",
       "\n",
       "    .dataframe tbody tr th {\n",
       "        vertical-align: top;\n",
       "    }\n",
       "\n",
       "    .dataframe thead th {\n",
       "        text-align: right;\n",
       "    }\n",
       "</style>\n",
       "<table border=\"1\" class=\"dataframe\">\n",
       "  <thead>\n",
       "    <tr style=\"text-align: right;\">\n",
       "      <th></th>\n",
       "      <th>5</th>\n",
       "      <th>10</th>\n",
       "      <th>15</th>\n",
       "      <th>20</th>\n",
       "      <th>25</th>\n",
       "      <th>30</th>\n",
       "      <th>35</th>\n",
       "    </tr>\n",
       "  </thead>\n",
       "  <tbody>\n",
       "    <tr>\n",
       "      <th>LS</th>\n",
       "      <td>4</td>\n",
       "      <td>6.667</td>\n",
       "      <td>9</td>\n",
       "      <td>16.333</td>\n",
       "      <td>16.667</td>\n",
       "      <td>22.667</td>\n",
       "      <td>31</td>\n",
       "    </tr>\n",
       "  </tbody>\n",
       "</table>\n",
       "</div>"
      ],
      "text/plain": [
       "   5      10 15      20      25      30  35\n",
       "LS  4  6.667  9  16.333  16.667  22.667  31"
      ]
     },
     "execution_count": 31,
     "metadata": {},
     "output_type": "execute_result"
    }
   ],
   "source": [
    "benchmark_count"
   ]
  },
  {
   "cell_type": "code",
   "execution_count": 31,
   "metadata": {},
   "outputs": [
    {
     "data": {
      "text/plain": [
       "217.0"
      ]
     },
     "execution_count": 31,
     "metadata": {},
     "output_type": "execute_result"
    }
   ],
   "source": [
    "sum(new_route(s, dft).values)"
   ]
  },
  {
   "cell_type": "code",
   "execution_count": 42,
   "metadata": {},
   "outputs": [
    {
     "data": {
      "text/html": [
       "<div>\n",
       "<style scoped>\n",
       "    .dataframe tbody tr th:only-of-type {\n",
       "        vertical-align: middle;\n",
       "    }\n",
       "\n",
       "    .dataframe tbody tr th {\n",
       "        vertical-align: top;\n",
       "    }\n",
       "\n",
       "    .dataframe thead th {\n",
       "        text-align: right;\n",
       "    }\n",
       "</style>\n",
       "<table border=\"1\" class=\"dataframe\">\n",
       "  <thead>\n",
       "    <tr style=\"text-align: right;\">\n",
       "      <th></th>\n",
       "      <th>5</th>\n",
       "      <th>10</th>\n",
       "      <th>15</th>\n",
       "      <th>20</th>\n",
       "      <th>25</th>\n",
       "      <th>30</th>\n",
       "      <th>35</th>\n",
       "    </tr>\n",
       "  </thead>\n",
       "  <tbody>\n",
       "    <tr>\n",
       "      <th>LS</th>\n",
       "      <td>3.333</td>\n",
       "      <td>6</td>\n",
       "      <td>11.667</td>\n",
       "      <td>12.667</td>\n",
       "      <td>18</td>\n",
       "      <td>19</td>\n",
       "      <td>31.667</td>\n",
       "    </tr>\n",
       "  </tbody>\n",
       "</table>\n",
       "</div>"
      ],
      "text/plain": [
       "       5  10      15      20  25  30      35\n",
       "LS  3.333  6  11.667  12.667  18  19  31.667"
      ]
     },
     "execution_count": 42,
     "metadata": {},
     "output_type": "execute_result"
    }
   ],
   "source": [
    "benchmark"
   ]
  },
  {
   "cell_type": "code",
   "execution_count": 34,
   "metadata": {},
   "outputs": [
    {
     "data": {
      "image/png": "[encoded data removed]",
      "text/plain": [
       "<Figure size 504x504 with 1 Axes>"
      ]
     },
     "metadata": {
      "needs_background": "light"
     },
     "output_type": "display_data"
    }
   ],
   "source": [
    "import matplotlib.pyplot as plt\n",
    "plt.figure(figsize=[7,7])\n",
    "plt.plot(benchmark_count.loc[\"LS\"], \"bo-\")\n",
    "plt.show()\n",
    "#benchmark.to_csv(\"../Dati/altro/benchmark.csv\", sep=\";\", encoding = \"ISO-8859-1\")\n",
    "benchmark_count.to_csv(\"../Dati/altro/synt_benchmark_counter.csv\", sep=\";\", encoding = \"ISO-8859-1\")"
   ]
  },
  {
   "cell_type": "code",
   "execution_count": 13,
   "metadata": {},
   "outputs": [
    {
     "name": "stderr",
     "output_type": "stream",
     "text": [
      "C:\\Users\\Alberto\\anaconda3\\lib\\site-packages\\ipykernel_launcher.py:13: DeprecationWarning: The default dtype for empty Series will be 'object' instead of 'float64' in a future version. Specify a dtype explicitly to silence this warning.\n",
      "  del sys.path[0]\n"
     ]
    },
    {
     "name": "stdout",
     "output_type": "stream",
     "text": [
      "lunedi\n"
     ]
    },
    {
     "name": "stderr",
     "output_type": "stream",
     "text": [
      "C:\\Users\\Alberto\\anaconda3\\lib\\site-packages\\ipykernel_launcher.py:18: SettingWithCopyWarning: \n",
      "A value is trying to be set on a copy of a slice from a DataFrame\n",
      "\n",
      "See the caveats in the documentation: https://pandas.pydata.org/pandas-docs/stable/user_guide/indexing.html#returning-a-view-versus-a-copy\n"
     ]
    },
    {
     "name": "stdout",
     "output_type": "stream",
     "text": [
      "martedi\n",
      "mercoledi\n",
      "giovedi\n",
      "venerdi\n"
     ]
    },
    {
     "data": {
      "text/html": [
       "<div>\n",
       "<style scoped>\n",
       "    .dataframe tbody tr th:only-of-type {\n",
       "        vertical-align: middle;\n",
       "    }\n",
       "\n",
       "    .dataframe tbody tr th {\n",
       "        vertical-align: top;\n",
       "    }\n",
       "\n",
       "    .dataframe thead th {\n",
       "        text-align: right;\n",
       "    }\n",
       "</style>\n",
       "<table border=\"1\" class=\"dataframe\">\n",
       "  <thead>\n",
       "    <tr style=\"text-align: right;\">\n",
       "      <th></th>\n",
       "      <th>0</th>\n",
       "      <th>giovedi</th>\n",
       "      <th>lunedi</th>\n",
       "      <th>martedi</th>\n",
       "      <th>mercoledi</th>\n",
       "      <th>venerdi</th>\n",
       "    </tr>\n",
       "  </thead>\n",
       "  <tbody>\n",
       "    <tr>\n",
       "      <th>greedy</th>\n",
       "      <td>NaN</td>\n",
       "      <td>(0.249, 14)</td>\n",
       "      <td>(0.069, 10)</td>\n",
       "      <td>(0.016, 3)</td>\n",
       "      <td>(0.312, 16)</td>\n",
       "      <td>(0.165, 16)</td>\n",
       "    </tr>\n",
       "    <tr>\n",
       "      <th>LS</th>\n",
       "      <td>NaN</td>\n",
       "      <td>(1.496, 16, 2)</td>\n",
       "      <td>(0.0, 10, 1)</td>\n",
       "      <td>(0.0, 2, 1)</td>\n",
       "      <td>(0.0, 17, 1)</td>\n",
       "      <td>(1.546, 16, 2)</td>\n",
       "    </tr>\n",
       "  </tbody>\n",
       "</table>\n",
       "</div>"
      ],
      "text/plain": [
       "         0         giovedi        lunedi      martedi     mercoledi  \\\n",
       "greedy NaN     (0.249, 14)   (0.069, 10)   (0.016, 3)   (0.312, 16)   \n",
       "LS     NaN  (1.496, 16, 2)  (0.0, 10, 1)  (0.0, 2, 1)  (0.0, 17, 1)   \n",
       "\n",
       "               venerdi  \n",
       "greedy     (0.165, 16)  \n",
       "LS      (1.546, 16, 2)  "
      ]
     },
     "execution_count": 13,
     "metadata": {},
     "output_type": "execute_result"
    }
   ],
   "source": [
    "#TIME LOCAL SEARCH\n",
    "week= ['lunedi', 'martedi', 'mercoledi', 'giovedi', 'venerdi']\n",
    "path1 = \"../Dati/turni_f/fine_optimized_start/foss_greedy1.csv\"\n",
    "path2 = \"../Dati/turni_f/optimized_start/oss_ls1.csv\"\n",
    "results = pd.read_csv(\"../Dati/altro/computational_times_FOSS.csv\", delimiter=\";\", encoding = \"ISO-8859-1\", index_col=0)\n",
    "\n",
    "to_path1 = \"../Dati/turni_f/fine_optimized_start/foss_ls1.csv\"\n",
    "to_path2 = \"../Dati/turni_f/fine_optimized_start/foss_ls2.csv\"\n",
    "\n",
    "fur1 = pd.read_csv(path1, delimiter=\";\", encoding = \"ISO-8859-1\")\n",
    "fur2 = pd.read_csv(path2, delimiter=\";\", encoding = \"ISO-8859-1\")\n",
    "to_write = pd.DataFrame({})\n",
    "results = pd.concat([results, pd.Series(index=[\"LS\"])])\n",
    "for day in week:\n",
    "    print(day)\n",
    "    s = fur1[day].dropna()\n",
    "    sch, cst, t, c = definitive_local_search(s, 1, dft)\n",
    "    results[day][\"LS\"]=(t, len(fur1[day].dropna())-2, c)\n",
    "#     sch.insert(0, 'Cremona, Sesto 39')\n",
    "#     sch.append('Ostiano, Mazzini, 1')\n",
    "    to_write = pd.concat([to_write, pd.DataFrame(pd.Series(sch).rename(day))], axis=1)\n",
    "#to_write.to_csv(to_path1, index=False, sep=\";\", encoding = \"ISO-8859-1\")\n",
    "results"
   ]
  },
  {
   "cell_type": "code",
   "execution_count": 14,
   "metadata": {},
   "outputs": [],
   "source": [
    "results = results[fur1.columns]\n",
    "results.to_csv(\"../Dati/altro/computational_times_FOSS.csv\", sep=\";\", encoding = \"ISO-8859-1\")"
   ]
  },
  {
   "cell_type": "code",
   "execution_count": 7,
   "metadata": {},
   "outputs": [
    {
     "name": "stdout",
     "output_type": "stream",
     "text": [
      "martedi\n",
      "mercoledi\n",
      "giovedi\n"
     ]
    }
   ],
   "source": [
    "week= ['martedi', 'mercoledi', 'giovedi']\n",
    "data={}\n",
    "to_write2 = pd.DataFrame(data)\n",
    "for day in week:\n",
    "    print(day)\n",
    "    s = fur2[day].dropna()\n",
    "    sch, cst = definitive_local_search(s, 2, dft)\n",
    "#     sch.insert(0, 'Cremona, Sesto 39')\n",
    "#     sch.append('San Giovanni in Croce, Feudatari, 25 A')\n",
    "    to_write2 = pd.concat([to_write2, pd.DataFrame(pd.Series(sch).rename(day))], axis=1)\n",
    "to_write2.to_csv(to_path2, index=False, sep=\";\", encoding = \"ISO-8859-1\")"
   ]
  },
  {
   "cell_type": "code",
   "execution_count": 9,
   "metadata": {},
   "outputs": [],
   "source": [
    "#COMPUTE KM LOCAL SEARCH\n",
    "to_path1 = \"../Dati/turni_f/optimized_start/oss_km_ls1.csv\"\n",
    "to_path2 = \"../Dati/turni_f/optimized_start/oss_km_ls2.csv\"\n",
    "week= ['lunedi', 'martedi', 'mercoledi', 'giovedi', 'venerdi']\n",
    "data={}\n",
    "to_write = pd.DataFrame(data)\n",
    "for day in week:\n",
    "    sch, cst = definitive_local_search(fur1d[day].dropna(), 1, dfd)\n",
    "    sch.insert(0, 'Cremona, Sesto 39')\n",
    "    sch.append('Ostiano, Mazzini, 1')\n",
    "    to_write = pd.concat([to_write, pd.DataFrame(pd.Series(sch).rename(day))], axis=1)\n",
    "to_write.to_csv(to_path1, index=False, sep=\";\", encoding = \"ISO-8859-1\")"
   ]
  },
  {
   "cell_type": "code",
   "execution_count": 10,
   "metadata": {},
   "outputs": [],
   "source": [
    "week= ['martedi', 'mercoledi', 'giovedi']\n",
    "data={}\n",
    "to_write = pd.DataFrame(data)\n",
    "for day in week:\n",
    "    sch, cst = definitive_local_search(fur2d[day].dropna(), 2, dfd)\n",
    "    sch.insert(0, 'Cremona, Sesto 39')\n",
    "    sch.append('San Giovanni in Croce, Feudatari, 25 A')\n",
    "    to_write = pd.concat([to_write, pd.DataFrame(pd.Series(sch).rename(day))], axis=1)\n",
    "to_write.to_csv(to_path2, index=False, sep=\";\", encoding = \"ISO-8859-1\")"
   ]
  },
  {
   "cell_type": "code",
   "execution_count": null,
   "metadata": {},
   "outputs": [],
   "source": []
  }
 ],
 "metadata": {
  "kernelspec": {
   "display_name": "Python 3",
   "language": "python",
   "name": "python3"
  },
  "language_info": {
   "codemirror_mode": {
    "name": "ipython",
    "version": 3
   },
   "file_extension": ".py",
   "mimetype": "text/x-python",
   "name": "python",
   "nbconvert_exporter": "python",
   "pygments_lexer": "ipython3",
   "version": "3.7.3"
  }
 },
 "nbformat": 4,
 "nbformat_minor": 2
}

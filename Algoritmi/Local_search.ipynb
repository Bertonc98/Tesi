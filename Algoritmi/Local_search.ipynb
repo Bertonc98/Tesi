{
 "cells": [
  {
   "cell_type": "code",
   "execution_count": 1,
   "metadata": {},
   "outputs": [],
   "source": [
    "import pandas as pd\n",
    "import numpy as np\n",
    "import math\n",
    "import datetime\n",
    "\n",
    "table=pd.read_csv(\"../Dati/orari/route.csv\", delimiter=\";\")\n",
    "time_table=pd.read_csv(\"../Dati/orari/route_time.csv\", delimiter=\";\")\n",
    "dft = pd.read_csv(\"../Dati/distanze/times_computed.csv\", delimiter=\";\", encoding = \"ISO-8859-1\", index_col=0)\n",
    "fur1 = pd.read_csv(\"../Dati/turni_f/furgoncino1_routing.csv\", delimiter=\";\")\n",
    "fur2 = pd.read_csv(\"../Dati/turni_f/furgoncino2_routing.csv\", delimiter=\";\")\n",
    "\n",
    "def get_row(df, string):\n",
    "    return pd.Series(df.index).str.contains(string, case=False)\n",
    "\n",
    "def get_column(df, string):\n",
    "    return pd.Series(df.columns).str.contains(string, case=False)\n",
    "\n",
    "def difference(day, index, index2):\n",
    "    time = datetime.datetime.strptime(time_table[day][index], '%H:%M')\n",
    "    time2 = datetime.datetime.strptime(time_table[day][index2], '%H:%M')\n",
    "    return ((time2-time).seconds)/60\n"
   ]
  },
  {
   "cell_type": "code",
   "execution_count": 2,
   "metadata": {},
   "outputs": [],
   "source": [
    "def new_route(schedule):\n",
    "    day='lunedi'\n",
    "    times = []\n",
    "    keys = []\n",
    "    row = dft[get_row(dft, 'Cremona, sesto 39').values]\n",
    "    key1 = ''\n",
    "    key2 = ''\n",
    "    impossibile = []\n",
    "    for i in range(1,len(schedule)-1):\n",
    "        key1 = row.index[0]\n",
    "        try:\n",
    "            paese=schedule[i]\n",
    "        except:\n",
    "            continue\n",
    "        #Distanze in tempo dal paese corrente di ognuno dei furgoni alla destinazione\n",
    "        value=row.loc[:,get_column(dft, paese).values].values[0][0]\n",
    "        times.append(round(value))\n",
    "        row = dft[get_row(dft, paese).values]\n",
    "        key2 = row.index[0]\n",
    "        keys.append(key1 + ' - ' + key2)\n",
    "    \n",
    "    steps_times1 = pd.Series(times , keys)\n",
    "    #creo una copia della serie\n",
    "    #steps_times2 = steps_times1.copy()\n",
    "    #creo una copia dei tempi\n",
    "    times1 = times[:]\n",
    "    #times2 = times[:]\n",
    "\n",
    "    #aggiungo la chiave per l'ultima destinazione considerata e la casa dell'autista\n",
    "\n",
    "    #autista 1\n",
    "    row = dft[get_row(dft, paese).values]\n",
    "    value=row.loc[:,get_column(dft, 'Ostiano, Mazzini, 1').values].values[0][0]\n",
    "    s1 = pd.Series(round(value), [row.index[0] + ' - Ostiano, Mazzini, 1'])\n",
    "    steps_times1 = steps_times1.append(s1)\n",
    "    times1.append(round(value))\n",
    "\n",
    "    \"\"\"#autista 2\n",
    "    value=row.loc[:,get_column(dft, 'San Giovanni in Croce, Feudatari, 25 A').values].values[0][0]\n",
    "    s2 = pd.Series(round(value), [row.index[0] + ' - San Giovanni in Croce, Feudatari, 25 A'])\n",
    "    steps_times2 = steps_times2.append(s2)\n",
    "    times2.append(round(value))\n",
    "\n",
    "    if(sum(times1) < sum(times2)):\"\"\"\n",
    "    return steps_times1\n",
    "    \"\"\"else:\n",
    "        return steps_times2\"\"\""
   ]
  },
  {
   "cell_type": "code",
   "execution_count": 3,
   "metadata": {},
   "outputs": [],
   "source": [
    "#first attempt to local search algorithm\n",
    "def find_best_position(steps_times, to_insert):\n",
    "    times = []\n",
    "    key2 = []\n",
    "    for i in range(len(steps_times)):\n",
    "        cities = steps_times.keys()[i].split('-')\n",
    "        row1 = dft[get_row(dft, cities[0].strip()).values]\n",
    "        #time from city 1 to current (to insert)\n",
    "        f_c1_to_curr = row1.loc[:,get_column(dft, to_insert).values].values[0][0]\n",
    "        row2 = dft[get_row(dft, to_insert).values]\n",
    "        #time from current (to insert) to city 2\n",
    "        f_curr_to_c2 = row2.loc[:,get_column(dft, cities[1].strip()).values].values[0][0]\n",
    "        times.append(f_c1_to_curr + f_curr_to_c2)\n",
    "    s3 = pd.Series(times, steps_times.keys())\n",
    "    return s3"
   ]
  },
  {
   "cell_type": "code",
   "execution_count": 10,
   "metadata": {},
   "outputs": [
    {
     "name": "stdout",
     "output_type": "stream",
     "text": [
      "['cremona, sesto 39', 'sesto ed uniti, roma, 4', 'grumello cremonese ed uniti, roma, 2', 'soresina, giacomo matteotti, 6', 'trigolo, roma, 26', 'castelleone, roma, 67', 'montodine,  xxv aprile, 10', 'ripalta cremasca, roma, 5', 'ricengo, guglielmo marconi', 'sergnano, iv novembre,  10', 'casale cremasco-vidolasco, roma, 56', 'camisano, trieste, 57', 'capralba, piave, 2', 'soncino, dante alighieri, 23', 'pizzighettone, giuseppe garibaldi, 18', 'ostiano, mazzini, 1']\n"
     ]
    }
   ],
   "source": [
    "#furgoncino 1 (MON, FRI)\n",
    "fur1 = pd.read_csv(\"../Dati/turni_f/furgoncino1_routing.csv\", delimiter=\";\")\n",
    "\n",
    "schedule = []\n",
    "schedule.append('Cremona, Sesto 39'.lower())\n",
    "for i in range(len(fur1['lunedi'])):\n",
    "    schedule.append(dft[get_row(dft, fur1['lunedi'][i]).values].index[0].lower())\n",
    "    \n",
    "schedule.append('Ostiano, Mazzini, 1'.lower())\n",
    "#schedule.append('San Giovanni in Croce, Feudatari, 25 A'.lower())\n",
    "\n",
    "print(schedule)\n",
    "l = len(schedule)-1\n",
    "moved = []\n",
    "i = 1\n",
    "#finché in moved non ci sono tutte le città (meno Cremona e Ostiano)\n",
    "while len(moved) < l-1:\n",
    "    #faccio il pop della città\n",
    "    to_insert = schedule.pop(i)\n",
    "    #controllo se l'ho già considerata\n",
    "    if(to_insert not in moved):\n",
    "        #(se no) la inserisco nella lista di quelle già considerate\n",
    "        moved.append(to_insert)\n",
    "        #calcolo la nuova route tra le città rimanenti\n",
    "        route = new_route(schedule)\n",
    "        #trovo la posizione migliore\n",
    "        best = find_best_position(route, to_insert).idxmin()\n",
    "        city = best.split('-')[0].strip().lower()\n",
    "        try:\n",
    "            #trovo l'indice della posizione migliore\n",
    "            position = schedule.index(city) + 1\n",
    "        except:\n",
    "            #problema nome diverso\n",
    "            if(city == 'casale cremasco'):\n",
    "                city = 'casale cremasco-vidolasco, roma, 56'\n",
    "                position = schedule.index(city) + 1\n",
    "        #inserisco la città nella posizione corretta\n",
    "        schedule.insert(position ,to_insert)\n",
    "    else:\n",
    "        #(se si) reinserisco la città nella sua posizione e vado avanti\n",
    "        schedule.insert(i ,to_insert)\n",
    "        #incremento l'indice per la prossima città\n",
    "        i += 1"
   ]
  },
  {
   "cell_type": "code",
   "execution_count": 11,
   "metadata": {},
   "outputs": [
    {
     "data": {
      "text/plain": [
       "['cremona, sesto 39',\n",
       " 'sesto ed uniti, roma, 4',\n",
       " 'pizzighettone, giuseppe garibaldi, 18',\n",
       " 'grumello cremonese ed uniti, roma, 2',\n",
       " 'soresina, giacomo matteotti, 6',\n",
       " 'soncino, dante alighieri, 23',\n",
       " 'trigolo, roma, 26',\n",
       " 'castelleone, roma, 67',\n",
       " 'ripalta cremasca, roma, 5',\n",
       " 'montodine,  xxv aprile, 10',\n",
       " 'ricengo, guglielmo marconi',\n",
       " 'capralba, piave, 2',\n",
       " 'sergnano, iv novembre,  10',\n",
       " 'casale cremasco-vidolasco, roma, 56',\n",
       " 'camisano, trieste, 57',\n",
       " 'ostiano, mazzini, 1']"
      ]
     },
     "execution_count": 11,
     "metadata": {},
     "output_type": "execute_result"
    }
   ],
   "source": [
    "schedule"
   ]
  }
 ],
 "metadata": {
  "kernelspec": {
   "display_name": "Python 3",
   "language": "python",
   "name": "python3"
  },
  "language_info": {
   "codemirror_mode": {
    "name": "ipython",
    "version": 3
   },
   "file_extension": ".py",
   "mimetype": "text/x-python",
   "name": "python",
   "nbconvert_exporter": "python",
   "pygments_lexer": "ipython3",
   "version": "3.7.3"
  }
 },
 "nbformat": 4,
 "nbformat_minor": 2
}

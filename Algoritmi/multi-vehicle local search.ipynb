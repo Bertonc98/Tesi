{
 "cells": [
  {
   "cell_type": "code",
   "execution_count": 1,
   "metadata": {},
   "outputs": [],
   "source": [
    "import pandas as pd\n",
    "import numpy as np\n",
    "import math\n",
    "import datetime\n",
    "from ipynb.fs.defs.Local_search import new_route\n",
    "from ipynb.fs.defs.Local_search import get_row\n",
    "from ipynb.fs.defs.Local_search import get_column\n",
    "from ipynb.fs.defs.Local_search import best_index\n",
    "from ipynb.fs.defs.Local_search import schedule_time\n",
    "from ipynb.fs.defs.Local_search import find_best_position\n",
    "from ipynb.fs.defs.Local_search import cities_list\n",
    "#table=pd.read_csv(\"../Dati/orari/route.csv\", delimiter=\";\")\n",
    "#time_table=pd.read_csv(\"../Dati/orari/route_time.csv\", delimiter=\";\")\n",
    "dft = pd.read_csv(\"../Dati/distanze/times_computed.csv\", delimiter=\";\", encoding = \"ISO-8859-1\", index_col=0)\n",
    "#dfd = pd.read_csv(\"../Dati/distanze/distances_computed.csv\", delimiter=\";\", encoding = \"ISO-8859-1\", index_col=0)\n",
    "#fur1 = pd.read_csv(\"../Dati/turni_f/furgoncino1_routing.csv\", delimiter=\";\", encoding = \"ISO-8859-1\")\n",
    "#fur2 = pd.read_csv(\"../Dati/turni_f/furgoncino2_routing.csv\", delimiter=\";\", encoding = \"ISO-8859-1\")\n",
    "#fur1d = pd.read_csv(\"../Dati/turni_f/furgoncino1_KM_routing.csv\", delimiter=\";\", encoding = \"ISO-8859-1\")\n",
    "#fur2d = pd.read_csv(\"../Dati/turni_f/furgoncino2_KM_routing.csv\", delimiter=\";\", encoding = \"ISO-8859-1\")\n",
    "fur1 = pd.read_csv(\"../Dati/turni_f/2-opt1_shifts.csv\", delimiter=\";\", encoding = \"ISO-8859-1\")\n",
    "fur2 = pd.read_csv(\"../Dati/turni_f/2-opt2_shifts.csv\", delimiter=\";\", encoding = \"ISO-8859-1\")"
   ]
  },
  {
   "cell_type": "code",
   "execution_count": 2,
   "metadata": {},
   "outputs": [],
   "source": [
    "#Given a list of cities it return False if \"to_insert\" is already present\n",
    "#Return True if \"to_insert\" isn't present and it will give the index of the best position\n",
    "def check_insert(schedule_day_list, to_insert, dframe):\n",
    "    if to_insert in schedule_day_list:\n",
    "        return False, -1\n",
    "    else:\n",
    "        #print(schedule_day_list)\n",
    "        schedule_day_list = cities_list(new_route(schedule_day_list, dframe))\n",
    "        to_return = best_index(schedule_day_list, new_route(schedule_day_list, dframe), to_insert, dframe)\n",
    "        return True, to_return\n",
    "\n",
    "#Given: city list wich to_insert come, the city \"to_insert\" to be moved, \n",
    "#the city list where \"to_insert\" will be insered, the index of the best position and a dataframe\n",
    "#the function return the improvement\n",
    "#If negative the exchange mustn't be done, if positive you gain some time\n",
    "def improvement(f_l, to_insert, t_l, index, dframe):\n",
    "    from_list = f_l[:]\n",
    "    from_time = sum(new_route(from_list, dframe).values)\n",
    "    from_list.remove(to_insert)\n",
    "    from_time_removed = sum(new_route(from_list, dframe).values)\n",
    "    \n",
    "    to_list = t_l[:]\n",
    "    to_time = sum(new_route(to_list, dframe).values)\n",
    "    to_list.insert(index, to_insert)\n",
    "    to_time_insert = sum(new_route(to_list, dframe).values)\n",
    "    \n",
    "    return (from_time-from_time_removed) + (to_time-to_time_insert)"
   ]
  },
  {
   "cell_type": "code",
   "execution_count": 3,
   "metadata": {},
   "outputs": [
    {
     "name": "stdout",
     "output_type": "stream",
     "text": [
      "11.0\n"
     ]
    }
   ],
   "source": [
    "l = list(fur1[\"lunedi\"].dropna())\n",
    "m = list(fur1[\"martedi\"].dropna())\n",
    "i = l[3]\n",
    "b, pos = check_insert(m, i, dft)\n",
    "if b:\n",
    "    print(improvement(l, i, m, pos,dft))"
   ]
  },
  {
   "cell_type": "code",
   "execution_count": 4,
   "metadata": {},
   "outputs": [],
   "source": [
    "def get_best_improvement(days, veichle, best_improvement, best_day, best_veichle, best_idx, to_insert, curr_f_list):\n",
    "    for inner_day in days:\n",
    "        if(veichle==1):\n",
    "            curr_to_list = list(fur1[inner_day].dropna())\n",
    "        else:\n",
    "            curr_to_list = list(fur2[inner_day].dropna())\n",
    "           \n",
    "        if inner_day == day:\n",
    "            continue\n",
    "        else:\n",
    "            boo, index = check_insert(curr_to_list, to_insert, dft)\n",
    "\n",
    "        if boo:\n",
    "            local_improvement = improvement(curr_f_list, to_insert, curr_to_list, index, dft)\n",
    "        else:\n",
    "            continue\n",
    "\n",
    "        #If there's an improvement we update \"best\" variables, in other case we skip to next day\n",
    "        if local_improvement<0:\n",
    "            continue\n",
    "        elif local_improvement>best_improvement:\n",
    "            best_improvement = local_improvement\n",
    "            best_day = inner_day\n",
    "            best_veichle = veichle\n",
    "            best_idx = index\n",
    "        else:\n",
    "            continue\n",
    "    return best_improvement, best_day, best_veichle, best_idx"
   ]
  },
  {
   "cell_type": "code",
   "execution_count": 21,
   "metadata": {},
   "outputs": [
    {
     "name": "stdout",
     "output_type": "stream",
     "text": [
      "['Cremona, Sesto 39', 'Sesto ed Uniti, Roma, 4', 'Grumello Cremonese ed Uniti, Roma, 2', 'Pizzighettone, Giuseppe Garibaldi, 18', 'Castelleone, Roma, 67', 'Montodine,  XXV Aprile, 10', 'Ripalta Cremasca, Roma, 5', 'Ricengo, Guglielmo Marconi', 'Capralba, Piave, 2', 'Sergnano, IV Novembre,  10', 'Casale Cremasco', 'Camisano, Trieste, 57', 'Soncino, Dante Alighieri, 23', 'Trigolo, Roma, 26', 'Soresina, Giacomo Matteotti, 6', 'Ostiano, Mazzini, 1']\n",
      "['Cremona, Sesto 39', 'Grumello Cremonese ed Uniti, Roma, 2', 'Pizzighettone, Giuseppe Garibaldi, 18', 'Castelleone, Roma, 67', 'Montodine,  XXV Aprile, 10', 'Ripalta Cremasca, Roma, 5', 'Ricengo, Guglielmo Marconi', 'Capralba, Piave, 2', 'Sergnano, IV Novembre,  10', 'Casale Cremasco', 'Camisano, Trieste, 57', 'Soncino, Dante Alighieri, 23', 'Trigolo, Roma, 26', 'Soresina, Giacomo Matteotti, 6', 'Ostiano, Mazzini, 1']\n",
      "['Cremona, Sesto 39', 'Grumello Cremonese ed Uniti, Roma, 2', 'Castelleone, Roma, 67', 'Montodine,  XXV Aprile, 10', 'Ripalta Cremasca, Roma, 5', 'Ricengo, Guglielmo Marconi', 'Capralba, Piave, 2', 'Sergnano, IV Novembre,  10', 'Casale Cremasco', 'Camisano, Trieste, 57', 'Soncino, Dante Alighieri, 23', 'Trigolo, Roma, 26', 'Soresina, Giacomo Matteotti, 6', 'Ostiano, Mazzini, 1']\n",
      "['Cremona, Sesto 39', 'Grumello Cremonese ed Uniti, Roma, 2', 'Castelleone, Roma, 67', 'Ripalta Cremasca, Roma, 5', 'Ricengo, Guglielmo Marconi', 'Capralba, Piave, 2', 'Sergnano, IV Novembre,  10', 'Casale Cremasco', 'Camisano, Trieste, 57', 'Soncino, Dante Alighieri, 23', 'Trigolo, Roma, 26', 'Soresina, Giacomo Matteotti, 6', 'Ostiano, Mazzini, 1']\n",
      "['Cremona, Sesto 39', 'Grumello Cremonese ed Uniti, Roma, 2', 'Castelleone, Roma, 67', 'Ripalta Cremasca, Roma, 5', 'Capralba, Piave, 2', 'Sergnano, IV Novembre,  10', 'Casale Cremasco', 'Camisano, Trieste, 57', 'Soncino, Dante Alighieri, 23', 'Trigolo, Roma, 26', 'Soresina, Giacomo Matteotti, 6', 'Ostiano, Mazzini, 1']\n",
      "['Cremona, Sesto 39', 'Grumello Cremonese ed Uniti, Roma, 2', 'Castelleone, Roma, 67', 'Ripalta Cremasca, Roma, 5', 'Capralba, Piave, 2', 'Casale Cremasco', 'Camisano, Trieste, 57', 'Soncino, Dante Alighieri, 23', 'Trigolo, Roma, 26', 'Soresina, Giacomo Matteotti, 6', 'Ostiano, Mazzini, 1']\n",
      "['Cremona, Sesto 39', 'Grumello Cremonese ed Uniti, Roma, 2', 'Castelleone, Roma, 67', 'Ripalta Cremasca, Roma, 5', 'Capralba, Piave, 2', 'Casale Cremasco', 'Soncino, Dante Alighieri, 23', 'Trigolo, Roma, 26', 'Soresina, Giacomo Matteotti, 6', 'Ostiano, Mazzini, 1']\n",
      "['Cremona, Sesto 39', 'Grumello Cremonese ed Uniti, Roma, 2', 'Castelleone, Roma, 67', 'Ripalta Cremasca, Roma, 5', 'Capralba, Piave, 2', 'Casale Cremasco', 'Soncino, Dante Alighieri, 23', 'Soresina, Giacomo Matteotti, 6', 'Ostiano, Mazzini, 1']\n",
      "['Cremona, Sesto 39', 'Grumello Cremonese ed Uniti, Roma, 2', 'Castelleone, Roma, 67', 'Ripalta Cremasca, Roma, 5', 'Capralba, Piave, 2', 'Casale Cremasco', 'Soncino, Dante Alighieri, 23', 'Soresina, Giacomo Matteotti, 6']\n"
     ]
    },
    {
     "ename": "IndexError",
     "evalue": "pop index out of range",
     "output_type": "error",
     "traceback": [
      "\u001b[1;31m---------------------------------------------------------------------------\u001b[0m",
      "\u001b[1;31mIndexError\u001b[0m                                Traceback (most recent call last)",
      "\u001b[1;32m<ipython-input-21-ffb77fdbee1a>\u001b[0m in \u001b[0;36m<module>\u001b[1;34m\u001b[0m\n\u001b[0;32m     20\u001b[0m     \u001b[1;32mfor\u001b[0m \u001b[0mi\u001b[0m \u001b[1;32min\u001b[0m \u001b[0mrange\u001b[0m\u001b[1;33m(\u001b[0m\u001b[1;36m1\u001b[0m\u001b[1;33m,\u001b[0m \u001b[0mcycles\u001b[0m\u001b[1;33m-\u001b[0m\u001b[1;36m1\u001b[0m\u001b[1;33m)\u001b[0m\u001b[1;33m:\u001b[0m\u001b[1;33m\u001b[0m\u001b[1;33m\u001b[0m\u001b[0m\n\u001b[0;32m     21\u001b[0m         \u001b[0mprint\u001b[0m\u001b[1;33m(\u001b[0m\u001b[0mto_insert_list\u001b[0m\u001b[1;33m)\u001b[0m\u001b[1;33m\u001b[0m\u001b[1;33m\u001b[0m\u001b[0m\n\u001b[1;32m---> 22\u001b[1;33m         \u001b[0mto_insert\u001b[0m \u001b[1;33m=\u001b[0m \u001b[0mto_insert_list\u001b[0m\u001b[1;33m.\u001b[0m\u001b[0mpop\u001b[0m\u001b[1;33m(\u001b[0m\u001b[0mi\u001b[0m\u001b[1;33m)\u001b[0m\u001b[1;33m\u001b[0m\u001b[1;33m\u001b[0m\u001b[0m\n\u001b[0m\u001b[0;32m     23\u001b[0m \u001b[1;33m\u001b[0m\u001b[0m\n\u001b[0;32m     24\u001b[0m         \u001b[1;31m#to_insert = to_insert_list.pop(0)\u001b[0m\u001b[1;33m\u001b[0m\u001b[1;33m\u001b[0m\u001b[1;33m\u001b[0m\u001b[0m\n",
      "\u001b[1;31mIndexError\u001b[0m: pop index out of range"
     ]
    }
   ],
   "source": [
    "#For every day of every veichle we get every Location\n",
    "#We compare the improvement removing this location from the day/veichle routing list and inserting it \n",
    "#in the other day/veichle routing lists.\n",
    "#The location will be moved only if the improvement is positive \n",
    "#In case of different positive improvement we move in the higher\n",
    "week = [\"lunedi\", \"martedi\", \"mercoledi\", \"giovedi\", \"venerdi\"]\n",
    "short_week = [\"martedi\", \"mercoledi\", \"giovedi\"]\n",
    "fur1_copy = pd.DataFrame({})\n",
    "fur1_copy['col'] = pd.Series([0]*50)\n",
    "fur1_copy = fur1_copy.join(fur1)\n",
    "\n",
    "fur2_copy = pd.DataFrame({})\n",
    "fur2_copy['col'] = pd.Series([0]*50)\n",
    "fur2_copy = fur2_copy.join(fur2)\n",
    "for day in week:\n",
    "    curr_from_list = list(fur1_copy[day].dropna())\n",
    "    to_insert_list = list(fur1_copy[day].dropna())\n",
    "    cycles = len(to_insert_list)\n",
    "    #For every location in this schedule\n",
    "    for i in range(1, cycles-1):\n",
    "        print(to_insert_list)\n",
    "        to_insert = to_insert_list.pop(i)\n",
    "        \n",
    "        #to_insert = to_insert_list.pop(0)\n",
    "        \n",
    "        best_improvement = -1000\n",
    "        best_day = \"\"\n",
    "        best_veichle = \"\"\n",
    "        best_idx = \"\"\n",
    "        #Here we must compare every possible insert in other days\n",
    "        #Cycle for first veichle\n",
    "        best_improvement, best_day, best_veichle, best_idx = get_best_improvement(week, 1, best_improvement, best_day, best_veichle, best_idx, to_insert, curr_from_list)\n",
    "        best_improvement, best_day, best_veichle, best_idx = get_best_improvement(short_week, 2, best_improvement, best_day, best_veichle, best_idx, to_insert, curr_from_list)\n",
    "        #If best_day isn't modified where isn't an improvement for every day/veihe\n",
    "        if(best_day==\"\"):\n",
    "            continue\n",
    "        else:\n",
    "            #Remove from origin list and insert into target list\n",
    "            curr_from_list.remove(to_insert)\n",
    "            if(best_veichle==1):\n",
    "                temp_list = list(fur1_copy[best_day])\n",
    "                temp_list.insert(best_idx, to_insert)\n",
    "                if(len(temp_list)>len(fur1_copy['col'])):\n",
    "                    temp_list.pop(len(temp_list)-1)\n",
    "                #fur1_copy[best_day] = pd.Series(temp_list)\n",
    "                fur1_copy[best_day] =  fur1_copy[best_day].replace(list(fur1_copy[best_day]), temp_list)\n",
    "            elif(best_veichle==2):\n",
    "                temp_list = list(fur2_copy[best_day])\n",
    "                temp_list.insert(best_idx, to_insert)\n",
    "                if(len(temp_list)>len(fur2_copy['col'])):\n",
    "                    temp_list.pop(len(temp_list)-1)\n",
    "                #fur2_copy[best_day] = pd.Series(temp_list)\n",
    "                fur2_copy[best_day] =  fur2_copy[best_day].replace(list(fur2_copy[best_day]), temp_list)\n",
    "fur1_copy   "
   ]
  },
  {
   "cell_type": "code",
   "execution_count": null,
   "metadata": {},
   "outputs": [],
   "source": []
  }
 ],
 "metadata": {
  "kernelspec": {
   "display_name": "Python 3",
   "language": "python",
   "name": "python3"
  },
  "language_info": {
   "codemirror_mode": {
    "name": "ipython",
    "version": 3
   },
   "file_extension": ".py",
   "mimetype": "text/x-python",
   "name": "python",
   "nbconvert_exporter": "python",
   "pygments_lexer": "ipython3",
   "version": "3.7.3"
  }
 },
 "nbformat": 4,
 "nbformat_minor": 2
}

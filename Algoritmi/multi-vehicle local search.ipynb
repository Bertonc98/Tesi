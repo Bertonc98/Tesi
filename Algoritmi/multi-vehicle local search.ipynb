{
 "cells": [
  {
   "cell_type": "code",
   "execution_count": 62,
   "metadata": {},
   "outputs": [],
   "source": [
    "import pandas as pd\n",
    "import numpy as np\n",
    "import math\n",
    "import datetime\n",
    "from ipynb.fs.defs.Local_search import new_route\n",
    "from ipynb.fs.defs.Local_search import get_row\n",
    "from ipynb.fs.defs.Local_search import get_column\n",
    "from ipynb.fs.defs.Local_search import best_index\n",
    "from ipynb.fs.defs.Local_search import find_best_position\n",
    "#table=pd.read_csv(\"../Dati/orari/route.csv\", delimiter=\";\")\n",
    "#time_table=pd.read_csv(\"../Dati/orari/route_time.csv\", delimiter=\";\")\n",
    "dft = pd.read_csv(\"../Dati/distanze/times_computed.csv\", delimiter=\";\", encoding = \"ISO-8859-1\", index_col=0)\n",
    "#dfd = pd.read_csv(\"../Dati/distanze/distances_computed.csv\", delimiter=\";\", encoding = \"ISO-8859-1\", index_col=0)\n",
    "#fur1 = pd.read_csv(\"../Dati/turni_f/furgoncino1_routing.csv\", delimiter=\";\", encoding = \"ISO-8859-1\")\n",
    "#fur2 = pd.read_csv(\"../Dati/turni_f/furgoncino2_routing.csv\", delimiter=\";\", encoding = \"ISO-8859-1\")\n",
    "#fur1d = pd.read_csv(\"../Dati/turni_f/furgoncino1_KM_routing.csv\", delimiter=\";\", encoding = \"ISO-8859-1\")\n",
    "#fur2d = pd.read_csv(\"../Dati/turni_f/furgoncino2_KM_routing.csv\", delimiter=\";\", encoding = \"ISO-8859-1\")\n",
    "fur1 = pd.read_csv(\"../Dati/turni_f/2-opt1_shifts.csv\", delimiter=\";\", encoding = \"ISO-8859-1\")\n",
    "fur2 = pd.read_csv(\"../Dati/turni_f/2-opt2_shifts.csv\", delimiter=\";\", encoding = \"ISO-8859-1\")"
   ]
  },
  {
   "cell_type": "code",
   "execution_count": null,
   "metadata": {},
   "outputs": [],
   "source": [
    "def check_insert(schedule_day_list, to_insert):\n",
    "    if to_insert in schedule_day_list:\n",
    "        return false, -1\n",
    "    else:\n",
    "        return true, best_index\n",
    "\n",
    "def dsghkdj(from_, to_insert, to_):\n",
    "    #1)tempo di from_\n",
    "    #2)tempo di from_ - to_insert\n",
    "    #3)tempo di to_\n",
    "    #4)tempo di to_ + to_insert in nella posizione data da check_insert\n",
    "    #restituisce il miglioramento dato da: (1-2) + (3-4)\n",
    "    "
   ]
  }
 ],
 "metadata": {
  "kernelspec": {
   "display_name": "Python 3",
   "language": "python",
   "name": "python3"
  },
  "language_info": {
   "codemirror_mode": {
    "name": "ipython",
    "version": 3
   },
   "file_extension": ".py",
   "mimetype": "text/x-python",
   "name": "python",
   "nbconvert_exporter": "python",
   "pygments_lexer": "ipython3",
   "version": "3.7.3"
  }
 },
 "nbformat": 4,
 "nbformat_minor": 2
}

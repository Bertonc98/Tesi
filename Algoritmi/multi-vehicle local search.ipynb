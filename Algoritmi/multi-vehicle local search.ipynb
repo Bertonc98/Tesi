{
 "cells": [
  {
   "cell_type": "code",
   "execution_count": 12,
   "metadata": {},
   "outputs": [],
   "source": [
    "import pandas as pd\n",
    "import numpy as np\n",
    "import math\n",
    "import datetime\n",
    "import ipynb.fs.defs.Local_search\n",
    "\n",
    "#table=pd.read_csv(\"../Dati/orari/route.csv\", delimiter=\";\")\n",
    "#time_table=pd.read_csv(\"../Dati/orari/route_time.csv\", delimiter=\";\")\n",
    "dft = pd.read_csv(\"../Dati/distanze/times_computed.csv\", delimiter=\";\", encoding = \"ISO-8859-1\", index_col=0)\n",
    "#dfd = pd.read_csv(\"../Dati/distanze/distances_computed.csv\", delimiter=\";\", encoding = \"ISO-8859-1\", index_col=0)\n",
    "#fur1 = pd.read_csv(\"../Dati/turni_f/furgoncino1_routing.csv\", delimiter=\";\", encoding = \"ISO-8859-1\")\n",
    "#fur2 = pd.read_csv(\"../Dati/turni_f/furgoncino2_routing.csv\", delimiter=\";\", encoding = \"ISO-8859-1\")\n",
    "#fur1d = pd.read_csv(\"../Dati/turni_f/furgoncino1_KM_routing.csv\", delimiter=\";\", encoding = \"ISO-8859-1\")\n",
    "#fur2d = pd.read_csv(\"../Dati/turni_f/furgoncino2_KM_routing.csv\", delimiter=\";\", encoding = \"ISO-8859-1\")\n",
    "fur1 = pd.read_csv(\"../Dati/turni_f/2-opt1_shifts.csv\", delimiter=\";\", encoding = \"ISO-8859-1\")\n",
    "fur2 = pd.read_csv(\"../Dati/turni_f/2-opt2_shifts.csv\", delimiter=\";\", encoding = \"ISO-8859-1\")"
   ]
  },
  {
   "cell_type": "code",
   "execution_count": 13,
   "metadata": {},
   "outputs": [],
   "source": [
    "week_fur1 = ['lunedi', 'martedi', 'mercoledi', 'giovedi', 'venerdi']\n",
    "week_fur2 = ['martedi', 'mercoledi', 'giovedi']\n",
    "for day_1 in week_fur1:\n",
    "    fur1_copy = fur1[day_1][:]\n",
    "    length = len(fur1_copy.dropna())\n",
    "    i = 0\n",
    "    considered = []\n",
    "    while i < length:\n",
    "        time = sum(new_route(fur1_copy, dft).values)\n",
    "        to_insert = fur1_copy.pop(0)\n",
    "        if considered.contains(to_insert):\n",
    "            continue\n",
    "        considered.append(to_insert)\n",
    "        removed_city_time = sum(new_route(fur1_copy, dft).values)\n",
    "        day_diff = time-removed_city_time\n",
    "        best_day_time = -300000\n",
    "        for day_fur1 in week_fur1:\n",
    "            if day_1 != day_fur1 and !fur1[day_fur1].contains(to_insert):\n",
    "                fur1_day_fur1_time = sum(new_route(fur1[day_fur1], dft).values)\n",
    "                fur1_day_fur1_copy = fur1[day_fur1][:]\n",
    "                idx = best_index(fur1[day_fur1], new_route(fur1[day_fur1], dft), to_insert, dft)\n",
    "                fur1_day_fur1_copy.insert(idx, to_insert)\n",
    "                fur1_day_fur1_copy_time = sum(new_route(fur1_day_fur1_copy, dft).values)\n",
    "                \n",
    "                if day_diff + (fur1_day_fur1_time-fur1_day_fur1_copy_time) > best_day_time:\n",
    "                    best_day = day_fur1\n",
    "                    best_idx = idx\n",
    "                    best_day_time = day_diff + (fur1_day_fur1_time-fur1_day_fur1_copy_time)\n",
    "                    fur = 1\n",
    "                    \n",
    "        for day_fur2 in week_fur2:           \n",
    "            if day_1 != day_fur2 and !fur2[day_fur2].contains(to_insert):\n",
    "                fur2_day_fur2_time = sum(new_route(fur2[day_fur2], dft).values)\n",
    "                fur2_day_fur2_copy = fur2[day_fur2][:]\n",
    "                idx = best_index(fur2[day_fur2], new_route(fur2[day_fur2], dft), to_insert, dft)\n",
    "                fur2_day_fur2_copy.insert(idx, to_insert)\n",
    "                fur2_day_fur2_copy_time = sum(new_route(fur2_day_fur2_copy, dft).values)\n",
    "                \n",
    "                if day_diff + (fur2_day_fur2_time-fur2_day_fur2_copy_time) > best_day_time:\n",
    "                    best_day = day_fur2\n",
    "                    best_idx = idx\n",
    "                    best_day_time = day_diff + (fur2_day_fur2_time-fur2_day_fur2_copy_time)\n",
    "                    fur = 2\n",
    "                    \n",
    "        if best_day_time > 0:\n",
    "            i += 1\n",
    "            if(fur == 1):\n",
    "                fur1"
   ]
  },
  {
   "cell_type": "code",
   "execution_count": 19,
   "metadata": {},
   "outputs": [
    {
     "name": "stdout",
     "output_type": "stream",
     "text": [
      "1\n",
      "2\n",
      "3\n",
      "4\n",
      "5\n",
      "6\n",
      "7\n",
      "8\n",
      "9\n",
      "10\n"
     ]
    }
   ],
   "source": [
    "length = 5\n",
    "i = 0\n",
    "while i < length:\n",
    "    if i == 10:\n",
    "        break;\n",
    "    else:\n",
    "        i += 1\n",
    "        print(i)\n",
    "        length = 10"
   ]
  },
  {
   "cell_type": "code",
   "execution_count": null,
   "metadata": {},
   "outputs": [],
   "source": []
  }
 ],
 "metadata": {
  "kernelspec": {
   "display_name": "Python 3",
   "language": "python",
   "name": "python3"
  },
  "language_info": {
   "codemirror_mode": {
    "name": "ipython",
    "version": 3
   },
   "file_extension": ".py",
   "mimetype": "text/x-python",
   "name": "python",
   "nbconvert_exporter": "python",
   "pygments_lexer": "ipython3",
   "version": "3.7.3"
  }
 },
 "nbformat": 4,
 "nbformat_minor": 2
}

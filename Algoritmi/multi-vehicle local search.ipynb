{
 "cells": [
  {
   "cell_type": "code",
   "execution_count": 58,
   "metadata": {},
   "outputs": [],
   "source": [
    "import pandas as pd\n",
    "import numpy as np\n",
    "import math\n",
    "import datetime\n",
    "from ipynb.fs.defs.Local_search import new_route\n",
    "from ipynb.fs.defs.Local_search import get_row\n",
    "from ipynb.fs.defs.Local_search import get_column\n",
    "from ipynb.fs.defs.Local_search import best_index\n",
    "from ipynb.fs.defs.Local_search import schedule_time\n",
    "#table=pd.read_csv(\"../Dati/orari/route.csv\", delimiter=\";\")\n",
    "#time_table=pd.read_csv(\"../Dati/orari/route_time.csv\", delimiter=\";\")\n",
    "dft = pd.read_csv(\"../Dati/distanze/times_computed.csv\", delimiter=\";\", encoding = \"ISO-8859-1\", index_col=0)\n",
    "#dfd = pd.read_csv(\"../Dati/distanze/distances_computed.csv\", delimiter=\";\", encoding = \"ISO-8859-1\", index_col=0)\n",
    "#fur1 = pd.read_csv(\"../Dati/turni_f/furgoncino1_routing.csv\", delimiter=\";\", encoding = \"ISO-8859-1\")\n",
    "#fur2 = pd.read_csv(\"../Dati/turni_f/furgoncino2_routing.csv\", delimiter=\";\", encoding = \"ISO-8859-1\")\n",
    "#fur1d = pd.read_csv(\"../Dati/turni_f/furgoncino1_KM_routing.csv\", delimiter=\";\", encoding = \"ISO-8859-1\")\n",
    "#fur2d = pd.read_csv(\"../Dati/turni_f/furgoncino2_KM_routing.csv\", delimiter=\";\", encoding = \"ISO-8859-1\")\n",
    "fur1 = pd.read_csv(\"../Dati/turni_f/2-opt1_shifts.csv\", delimiter=\";\", encoding = \"ISO-8859-1\")\n",
    "fur2 = pd.read_csv(\"../Dati/turni_f/2-opt2_shifts.csv\", delimiter=\";\", encoding = \"ISO-8859-1\")"
   ]
  },
  {
   "cell_type": "code",
   "execution_count": 59,
   "metadata": {},
   "outputs": [],
   "source": [
    "def check_insert(schedule_day_list, to_insert, dframe):\n",
    "    if to_insert in schedule_day_list:\n",
    "        return False, -1\n",
    "    else:\n",
    "        return True, best_index(schedule_day_list, new_route(schedule_day_list, dframe), to_insert, dframe)\n",
    "\n",
    "def improvement(from_list, to_insert, to_list, index, dframe):\n",
    "    from_time = sum(new_route(from_list).values, dframe)\n",
    "    from_list.remove(to_insert)\n",
    "    from_time_removed = sum(new_route(from_list).values, dframe)\n",
    "    \n",
    "    to_time = sum(new_route(to_list).values, dframe)\n",
    "    to_list.insert(index, to_insert)\n",
    "    to_time_insert = sum(new_route(to_list).values, dframe)\n",
    "    \n",
    "    return (from_time-from_time_removed) + (to_time-to_time_insert)"
   ]
  },
  {
   "cell_type": "code",
   "execution_count": 60,
   "metadata": {},
   "outputs": [],
   "source": [
    "def find_best_position(steps_times, to_insert, dframe):\n",
    "    times = []\n",
    "    key2 = []\n",
    "    for i in range(len(steps_times)):\n",
    "        cities = steps_times.keys()[i].split('-')\n",
    "        if(cities[0].strip()==\"San Bassano, Mons. Frosi (ex piazza Scuole)\"):\n",
    "            row1 = dframe[get_row(dframe, 'San Bassano, Mons. Frosi').values]\n",
    "        else:\n",
    "            row1 = dframe[get_row(dframe, cities[0].strip()).values]\n",
    "        #time from city 1 to current (to insert)\n",
    "        #print(\"From: \" + cities[0].strip() + \" to: \" + to_insert)\n",
    "        f_c1_to_curr = row1.loc[:,get_column(dframe, to_insert).values].values[0][0]\n",
    "        #print(\"Done\\n\")\n",
    "        row2 = dframe[get_row(dframe, to_insert).values]\n",
    "        #time from current (to insert) to city 2\n",
    "        f_curr_to_c2 = row2.loc[:,get_column(dframe, cities[1].strip()).values].values[0][0]\n",
    "        times.append(f_c1_to_curr + f_curr_to_c2)\n",
    "    s3 = pd.Series(times, steps_times.keys())\n",
    "    return s3"
   ]
  },
  {
   "cell_type": "code",
   "execution_count": 66,
   "metadata": {},
   "outputs": [
    {
     "name": "stdout",
     "output_type": "stream",
     "text": [
      "Sesto ed Uniti, Roma, 4\n",
      "Grumello Cremonese ed Uniti, Roma, 2\n",
      "Pizzighettone, Giuseppe Garibaldi, 18\n",
      "Castelleone, Roma, 67\n",
      "Montodine,  XXV Aprile, 10\n",
      "Ripalta Cremasca, Roma, 5\n",
      "Ricengo, Guglielmo Marconi\n",
      "Capralba, Piave, 2\n",
      "Sergnano, IV Novembre,  10\n",
      "Casale Cremasco\n",
      "Camisano, Trieste, 57\n",
      "Soncino, Dante Alighieri, 23\n",
      "Trigolo, Roma, 26\n",
      "Soresina, Giacomo Matteotti, 6\n",
      "Ostiano, Mazzini, 1\n",
      "Series([], dtype: float64)\n"
     ]
    },
    {
     "name": "stderr",
     "output_type": "stream",
     "text": [
      "/home/alberto/anaconda3/lib/python3.7/site-packages/ipykernel_launcher.py:18: DeprecationWarning: The default dtype for empty Series will be 'object' instead of 'float64' in a future version. Specify a dtype explicitly to silence this warning.\n"
     ]
    }
   ],
   "source": [
    "l = list(fur1[\"lunedi\"].dropna())\n",
    "m = list(fur1[\"martedi\"].dropna())\n",
    "print(find_best_position(new_route(l, dft), m[1], dft))"
   ]
  },
  {
   "cell_type": "code",
   "execution_count": 67,
   "metadata": {},
   "outputs": [
    {
     "name": "stdout",
     "output_type": "stream",
     "text": [
      "Sesto ed Uniti, Roma, 4\n",
      "Grumello Cremonese ed Uniti, Roma, 2\n",
      "Pizzighettone, Giuseppe Garibaldi, 18\n",
      "Castelleone, Roma, 67\n",
      "Montodine,  XXV Aprile, 10\n",
      "Ripalta Cremasca, Roma, 5\n",
      "Ricengo, Guglielmo Marconi\n",
      "Capralba, Piave, 2\n",
      "Sergnano, IV Novembre,  10\n",
      "Casale Cremasco\n",
      "Camisano, Trieste, 57\n",
      "Soncino, Dante Alighieri, 23\n",
      "Trigolo, Roma, 26\n",
      "Soresina, Giacomo Matteotti, 6\n",
      "Ostiano, Mazzini, 1\n"
     ]
    },
    {
     "data": {
      "text/plain": [
       "Series([], dtype: float64)"
      ]
     },
     "execution_count": 67,
     "metadata": {},
     "output_type": "execute_result"
    }
   ],
   "source": [
    "l = list(fur1[\"lunedi\"].dropna())\n",
    "m = list(fur1[\"martedi\"].dropna())\n",
    "new_route(fur1[\"lunedi\"].dropna(), dft)"
   ]
  },
  {
   "cell_type": "code",
   "execution_count": null,
   "metadata": {},
   "outputs": [],
   "source": []
  }
 ],
 "metadata": {
  "kernelspec": {
   "display_name": "Python 3",
   "language": "python",
   "name": "python3"
  },
  "language_info": {
   "codemirror_mode": {
    "name": "ipython",
    "version": 3
   },
   "file_extension": ".py",
   "mimetype": "text/x-python",
   "name": "python",
   "nbconvert_exporter": "python",
   "pygments_lexer": "ipython3",
   "version": "3.7.6"
  }
 },
 "nbformat": 4,
 "nbformat_minor": 2
}

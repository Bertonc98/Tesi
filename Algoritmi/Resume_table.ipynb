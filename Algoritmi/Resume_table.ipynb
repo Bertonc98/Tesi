{
 "cells": [
  {
   "cell_type": "code",
   "execution_count": 88,
   "metadata": {},
   "outputs": [],
   "source": [
    "import pandas as pd\n",
    "import numpy as np\n",
    "import math\n",
    "from os import listdir\n",
    "from os.path import isfile, join\n",
    "from ipynb.fs.defs.functions import new_route\n",
    "\n",
    "dft = pd.read_csv(\"../Dati/distanze/corrected_times_computed.csv\", delimiter=\";\", encoding = \"ISO-8859-1\", index_col=0)\n",
    "dfd = pd.read_csv(\"../Dati/distanze/distances_computed.csv\", delimiter=\";\", encoding = \"ISO-8859-1\", index_col=0)\n",
    "onlyfiles = [f for f in listdir(\"../Dati/turni_f/\") if isfile(join(\"../Dati/turni_f/\", f))]"
   ]
  },
  {
   "cell_type": "code",
   "execution_count": 89,
   "metadata": {},
   "outputs": [],
   "source": [
    "def get_table_cost(path, dframe):\n",
    "    cols = [\"lunedi\",\"martedi\",\"mercoledi\",\"giovedi\",\"venerdi\",\"tot\"]\n",
    "    resume_table = pd.DataFrame(columns = cols)\n",
    "    \n",
    "    onlyfiles = [f for f in listdir(path) if isfile(join(path, f))]\n",
    "\n",
    "    for file in onlyfiles:\n",
    "        resume_table = pd.concat([resume_table, pd.Series(index=[file], dtype=float)])[cols]\n",
    "        current_file = pd.read_csv(path+file, delimiter=\";\", encoding = \"ISO-8859-1\")\n",
    "        for day in current_file.columns:\n",
    "            resume_table[day].loc[file] = sum(new_route(current_file[day].dropna(), dframe).values)\n",
    "        resume_table[\"tot\"].loc[file] = sum(resume_table.loc[file].dropna())\n",
    "    return resume_table"
   ]
  },
  {
   "cell_type": "code",
   "execution_count": 90,
   "metadata": {},
   "outputs": [],
   "source": [
    "resume_time_table = get_table_cost(\"../Dati/turni_f/original_start/\", dft)\n",
    "resume_distance_table = get_table_cost(\"../Dati/turni_f/original_start/\", dfd)"
   ]
  },
  {
   "cell_type": "code",
   "execution_count": 91,
   "metadata": {},
   "outputs": [
    {
     "data": {
      "text/html": [
       "<div>\n",
       "<style scoped>\n",
       "    .dataframe tbody tr th:only-of-type {\n",
       "        vertical-align: middle;\n",
       "    }\n",
       "\n",
       "    .dataframe tbody tr th {\n",
       "        vertical-align: top;\n",
       "    }\n",
       "\n",
       "    .dataframe thead th {\n",
       "        text-align: right;\n",
       "    }\n",
       "</style>\n",
       "<table border=\"1\" class=\"dataframe\">\n",
       "  <thead>\n",
       "    <tr style=\"text-align: right;\">\n",
       "      <th></th>\n",
       "      <th>time</th>\n",
       "      <th>distance</th>\n",
       "    </tr>\n",
       "  </thead>\n",
       "  <tbody>\n",
       "    <tr>\n",
       "      <th>f_original.csv</th>\n",
       "      <td>1777</td>\n",
       "      <td>1691</td>\n",
       "    </tr>\n",
       "    <tr>\n",
       "      <th>original_2opt.csv</th>\n",
       "      <td>1434</td>\n",
       "      <td>1309</td>\n",
       "    </tr>\n",
       "    <tr>\n",
       "      <th>original_ls.csv</th>\n",
       "      <td>1568</td>\n",
       "      <td>1465</td>\n",
       "    </tr>\n",
       "    <tr>\n",
       "      <th>original_MVLS.csv</th>\n",
       "      <td>1399</td>\n",
       "      <td>1218</td>\n",
       "    </tr>\n",
       "  </tbody>\n",
       "</table>\n",
       "</div>"
      ],
      "text/plain": [
       "                   time distance\n",
       "f_original.csv     1777     1691\n",
       "original_2opt.csv  1434     1309\n",
       "original_ls.csv    1568     1465\n",
       "original_MVLS.csv  1399     1218"
      ]
     },
     "execution_count": 91,
     "metadata": {},
     "output_type": "execute_result"
    }
   ],
   "source": [
    "total_table = pd.DataFrame(columns=[\"time\", \"distance\"])\n",
    "col = [\"time\", \"distance\"]\n",
    "for r in range(0, len(resume_time_table), 2):\n",
    "    file = resume_time_table.index[r]\n",
    "    curr_indx = file.replace('1', '')\n",
    "    total_table = pd.concat([total_table, pd.Series(index=[curr_indx], dtype=float)])[col]\n",
    "    total_table[\"time\"].loc[curr_indx] = resume_time_table[\"tot\"].iloc[r] + resume_time_table[\"tot\"].iloc[r+1]\n",
    "    total_table[\"distance\"].loc[curr_indx] = resume_distance_table[\"tot\"].iloc[r] + resume_distance_table[\"tot\"].iloc[r+1]\n",
    "total_table = total_table[col]\n",
    "total_table"
   ]
  },
  {
   "cell_type": "code",
   "execution_count": 92,
   "metadata": {},
   "outputs": [],
   "source": [
    "resume_time_table.to_csv(\"../Dati/altro/original_time_table.csv\", sep=\";\", encoding = \"ISO-8859-1\")\n",
    "resume_distance_table.to_csv(\"../Dati/altro/original_distance_table.csv\", sep=\";\", encoding = \"ISO-8859-1\")\n",
    "total_table.to_csv(\"../Dati/altro/original_total_table.csv\", sep=\";\", encoding = \"ISO-8859-1\")"
   ]
  }
 ],
 "metadata": {
  "kernelspec": {
   "display_name": "Python 3",
   "language": "python",
   "name": "python3"
  },
  "language_info": {
   "codemirror_mode": {
    "name": "ipython",
    "version": 3
   },
   "file_extension": ".py",
   "mimetype": "text/x-python",
   "name": "python",
   "nbconvert_exporter": "python",
   "pygments_lexer": "ipython3",
   "version": "3.7.6"
  }
 },
 "nbformat": 4,
 "nbformat_minor": 4
}

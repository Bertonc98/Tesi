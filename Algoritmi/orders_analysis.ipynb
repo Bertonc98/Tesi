{
 "cells": [
  {
   "cell_type": "code",
   "execution_count": 53,
   "metadata": {},
   "outputs": [],
   "source": [
    "import matplotlib.pyplot as plt\n",
    "from kneed import KneeLocator\n",
    "from sklearn.cluster import KMeans\n",
    "from sklearn.preprocessing import StandardScaler\n",
    "import pandas as pd\n",
    "import numpy as np\n",
    "import folium\n",
    "from collections import Counter\n",
    "from ipynb.fs.defs.Local_search import get_row\n",
    "from ipynb.fs.defs.Local_search import getName\n",
    "\n",
    "df = pd.read_csv(\"../Dati/request_cr.csv\", delimiter=\",\", encoding = \"ISO-8859-1\")\n",
    "dataframe = pd.read_csv(\"../Dati/num_orders.csv\", delimiter=\";\", encoding = \"ISO-8859-1\")\n",
    "coor = pd.read_csv('../Dati/altro/CitiesLocation.csv', delimiter=\";\", encoding = \"ISO-8859-1\", index_col = 0)\n",
    "dft = pd.read_csv(\"../Dati/distanze/corrected_times_computed.csv\", delimiter=\";\", encoding = \"ISO-8859-1\", index_col=0)"
   ]
  },
  {
   "cell_type": "raw",
   "metadata": {},
   "source": [
    "to_ = list(df['biblioteca_destinazione'])\n",
    "from_ = list(df['biblioteca_partenza'])\n",
    "data = np.column_stack((from_, to_)).tolist()\n",
    "occ = [[x, data.count(x)] for x in data]"
   ]
  },
  {
   "cell_type": "raw",
   "metadata": {},
   "source": [
    "def unique(list_): \n",
    "  \n",
    "    # intilize a null list \n",
    "    unique_list = [] \n",
    "      \n",
    "    # traverse for all elements \n",
    "    for x in list_: \n",
    "        # check if exists in unique_list or not \n",
    "        if x not in unique_list: \n",
    "            unique_list.append(x) \n",
    "    return unique_list\n",
    "unique_occ = unique(occ)"
   ]
  },
  {
   "cell_type": "raw",
   "metadata": {},
   "source": [
    "origins = []\n",
    "destinations = []\n",
    "values = []\n",
    "for i in unique_occ:\n",
    "    origins.append(i[0][0])\n",
    "    destinations.append(i[0][1])\n",
    "    values.append(i[1])\n",
    "d = {'origin' : origins, 'destination': destinations, 'num_orders': values}\n",
    "dataframe = pd.DataFrame(d)\n",
    "dataframe = dataframe.sort_values('num_orders', ascending = False)\n"
   ]
  },
  {
   "cell_type": "raw",
   "metadata": {},
   "source": [
    "dataframe.to_csv(\"../Dati/num_orders.csv\", index = False, sep = ';')"
   ]
  },
  {
   "cell_type": "code",
   "execution_count": 57,
   "metadata": {},
   "outputs": [],
   "source": [
    "def manage_exception(string):\n",
    "    if(string.lower().strip() == 'piadena drizzona'):\n",
    "        return 'Piadena, Platina, 40'\n",
    "    elif(string.lower().strip() == 'brescia'):\n",
    "        return 'manerbio, insurrezione nazionale'\n",
    "    elif(string.lower().strip() == 'centro fumetto a. pazienza' or string.lower().strip() == 'cremona. la piccola biblioteca' or string.lower().strip() == 'uff. bib. cremona'):\n",
    "        return 'cremona, ugolani dati, 4'\n",
    "    elif(string.lower().strip() == 'casale cremasco vidolasco'):\n",
    "        return 'Casale Cremasco-Vidolasco, Roma, 56'\n",
    "    elif(string.lower().strip() == 'cremona-m.i.t.o.'):\n",
    "        return 'Cremona, Palosca n. 2'\n",
    "    elif(string.lower().strip() == 'cremona - manin (scolastica)'):\n",
    "        return 'Cremona, Felice Cavallotti, 2'\n",
    "    elif(string.lower().strip() == 'gadesco pieve delmona'):\n",
    "        return 'Gadesco-Pieve Delmona, Giovanni Lonati 9'\n",
    "    elif(string.lower().strip() == 'cremona - cda'):\n",
    "        return 'cremona, sesto 39'\n",
    "    else:\n",
    "        return string\n",
    "orig = []\n",
    "dest = []\n",
    "exceptions_orig = []\n",
    "exceptions_dest = []\n",
    "for i in range(len(dataframe)):\n",
    "    try:\n",
    "        orig.append(getName(dft, dataframe.iloc[i]['origin']))\n",
    "    except:\n",
    "        #try-except solo per cremona-cda (da togliere una volta aggiunta via sesto 41)\n",
    "        try:\n",
    "            orig.append(getName(dft, manage_exception(dataframe.iloc[i]['origin'])))\n",
    "        except Exception as e: \n",
    "            #print(e)\n",
    "            exceptions_orig.append(dataframe.iloc[i]['origin'])\n",
    "    try:\n",
    "        dest.append(getName(dft, dataframe.iloc[i]['destination']))\n",
    "    except:\n",
    "        #try-except solo per cremona-cda (da togliere una volta aggiunta via sesto 41)\n",
    "        try:\n",
    "            dest.append(getName(dft, manage_exception(dataframe.iloc[i]['destination'])))\n",
    "        except Exception as e: \n",
    "            #print(e)\n",
    "            exceptions_dest.append(dataframe.iloc[i]['destination'])\n",
    "    \n"
   ]
  },
  {
   "cell_type": "code",
   "execution_count": 58,
   "metadata": {},
   "outputs": [
    {
     "name": "stdout",
     "output_type": "stream",
     "text": [
      "{'CASALETTO CEREDANO', 'Cremona - Anguissola (scolastica)', 'CREMOSANO', 'GENIVOLTA', 'TORRICELLA DEL PIZZO', \"CORTE DE' FRATI\", 'UNIONE MUNICIPIA', 'SAN DANIELE PO', 'Cremona-A.R.T.E.'}\n",
      "{'CASALETTO CEREDANO', 'Cremona - Anguissola (scolastica)', 'GENIVOLTA', 'CREMOSANO', 'TORRICELLA DEL PIZZO', \"CORTE DE' FRATI\", 'CALVATONE', 'UNIONE MUNICIPIA', 'SAN DANIELE PO', 'Cremona-A.R.T.E.'}\n"
     ]
    },
    {
     "data": {
      "text/plain": [
       "\"san daniele po = v\\nunione municipia = n\\ncremona arte = boh\\ntorricella del pizzo = n\\nCASALETTO CEREDANO = v\\nCORTE DE' FRATI = n\\nCREMOSANO = v\\nCremona - Anguissola (scolastica) = n\\nGENIVOLTA = n\\ncalvatone = n\""
      ]
     },
     "execution_count": 58,
     "metadata": {},
     "output_type": "execute_result"
    }
   ],
   "source": [
    "print(set(exceptions_orig))\n",
    "print(set(exceptions_dest))\n",
    "\n",
    "\n",
    "\n",
    "\n",
    "\"\"\"san daniele po = v\n",
    "unione municipia = n\n",
    "cremona arte = boh\n",
    "torricella del pizzo = n\n",
    "CASALETTO CEREDANO = v\n",
    "CORTE DE' FRATI = n\n",
    "CREMOSANO = v\n",
    "Cremona - Anguissola (scolastica) = n\n",
    "GENIVOLTA = n\n",
    "calvatone = n\"\"\""
   ]
  }
 ],
 "metadata": {
  "kernelspec": {
   "display_name": "Python 3",
   "language": "python",
   "name": "python3"
  },
  "language_info": {
   "codemirror_mode": {
    "name": "ipython",
    "version": 3
   },
   "file_extension": ".py",
   "mimetype": "text/x-python",
   "name": "python",
   "nbconvert_exporter": "python",
   "pygments_lexer": "ipython3",
   "version": "3.7.3"
  }
 },
 "nbformat": 4,
 "nbformat_minor": 2
}

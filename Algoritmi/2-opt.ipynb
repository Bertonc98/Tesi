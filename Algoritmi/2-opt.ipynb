{
 "cells": [
  {
   "cell_type": "code",
   "execution_count": 2,
   "metadata": {},
   "outputs": [],
   "source": [
    "import pandas as pd\n",
    "import numpy as np\n",
    "import math\n",
    "import datetime\n",
    "import itertools\n",
    "import warnings\n",
    "import pandas as pd\n",
    "import numpy as np\n",
    "import math\n",
    "import datetime\n",
    "from ipynb.fs.defs.functions import new_route\n",
    "from ipynb.fs.defs.functions import get_row\n",
    "from ipynb.fs.defs.functions import get_column\n",
    "from ipynb.fs.defs.functions import getName\n",
    "from ipynb.fs.defs.functions import timeDistance\n",
    "from ipynb.fs.defs.functions import best_index\n",
    "from ipynb.fs.defs.functions import find_best_position\n",
    "from ipynb.fs.defs.functions import cities_list\n",
    "warnings.filterwarnings('ignore')\n",
    "\n",
    "table=pd.read_csv(\"../Dati/orari/route.csv\", delimiter=\";\")\n",
    "time_table=pd.read_csv(\"../Dati/orari/route_time.csv\", delimiter=\";\")\n",
    "dft = pd.read_csv(\"../Dati/distanze/times_computed.csv\", delimiter=\";\", encoding = \"ISO-8859-1\", index_col=0)\n",
    "dfd = pd.read_csv(\"../Dati/distanze/distances_computed.csv\", delimiter=\";\", encoding = \"ISO-8859-1\", index_col=0)"
   ]
  },
  {
   "cell_type": "code",
   "execution_count": 3,
   "metadata": {},
   "outputs": [],
   "source": [
    "#(inizio e fine compresi)\n",
    "#Ritorna una lista contenente le chiavi di due città e il tempo di percorrenza tra le due\n",
    "#nel formato (times, \"key1 - key2\")\n",
    "#\"key1 - key2\" è la chiave\n",
    "#La lista partirà dalla posizione \"inizio\" della schedulazione e finità con \"fine\"\n",
    "def route(schedule, inizio, fine, dft):\n",
    "    times = []\n",
    "    keys = []\n",
    "    row = dft[get_row(dft, schedule[inizio]).values]\n",
    "    key1 = ''\n",
    "    key2 = ''\n",
    "    impossibile = []\n",
    "    \n",
    "    for i in range(inizio+1,fine+1):\n",
    "        key1 = row.index[0]\n",
    "        try:\n",
    "            paese=schedule[i]\n",
    "            if 'Martignana' in paese:\n",
    "                paese = 'Martignana di Po'\n",
    "        except:\n",
    "            continue\n",
    "        #Distanze in tempo dal paese corrente di ognuno dei furgoni alla destinazione\n",
    "        value=row.loc[:,get_column(dft, paese).values].values[0][0]\n",
    "        times.append(round(value))\n",
    "        row = dft[get_row(dft, paese).values]\n",
    "        key2 = row.index[0]\n",
    "        keys.append(key1 + ' $ ' + key2)\n",
    "    \n",
    "    steps_times1 = pd.Series(times , keys)\n",
    "    return steps_times1"
   ]
  },
  {
   "cell_type": "code",
   "execution_count": 4,
   "metadata": {},
   "outputs": [],
   "source": [
    "#Datogli una schedulazione calcola il tempo di percorrenza\n",
    "def schedule_time(schedule, dft):\n",
    "    times = []\n",
    "    row = dft[get_row(dft, 'Cremona, sesto 39').values]\n",
    "\n",
    "    for i in range(1, len(schedule)):\n",
    "        paese=schedule[i]\n",
    "        if 'Martignana' in paese:\n",
    "            paese = 'Martignana di Po'\n",
    "\n",
    "        value=row.loc[:,get_column(dft, paese).values].values[0][0]\n",
    "        times.append(round(value))\n",
    "        \n",
    "        row = dft[get_row(dft, paese).values]\n",
    "    return sum(times)"
   ]
  },
  {
   "cell_type": "code",
   "execution_count": 5,
   "metadata": {},
   "outputs": [],
   "source": [
    "#mantiene il nodo inizial e il successivo a y invariati, mentre fa il reverse della lista tra i due\n",
    "#A-b-c-d-E -> A-d-c-b-E\n",
    "def cross(schedule, x, y):\n",
    "    i = [schedule[x]]\n",
    "    j1 = [schedule[y+1]]\n",
    "    j1_i1 = list(schedule[x+1: y+1].sort_index(ascending = False).values) \n",
    "    return i + j1_i1 + j1"
   ]
  },
  {
   "cell_type": "code",
   "execution_count": 6,
   "metadata": {},
   "outputs": [],
   "source": [
    "#Data una schedulazione e due nodi di cui fare l'incrocio dei nodi\n",
    "#effettua la tabulazione del nuovo percorso, dopodichè restituisce il migliore\n",
    "#tra il nuovo e il vecchio\n",
    "def two_opt(schedule , i, j, dft):\n",
    "    #computo la prima parte che rimane uguale\n",
    "    first_part = route(schedule, 0, i, dft)\n",
    "\n",
    "    #stesso per l'ultima\n",
    "    final_part = route(schedule, j+1, len(schedule), dft)\n",
    "    #print(final_part)\n",
    "    crossed = cross(schedule, i, j)\n",
    "    central_part = route(crossed, 0,len(crossed), dft)\n",
    "    \n",
    "    new_schedule = first_part.append(central_part).append(final_part)\n",
    "    if(schedule_time(schedule, dft)> sum(new_schedule.values)):\n",
    "        return new_schedule\n",
    "    else:\n",
    "        return route(schedule, 0, len(schedule), dft)"
   ]
  },
  {
   "cell_type": "code",
   "execution_count": 7,
   "metadata": {
    "scrolled": true
   },
   "outputs": [
    {
     "name": "stdout",
     "output_type": "stream",
     "text": [
      "lunedi\n",
      "martedi\n",
      "mercoledi\n",
      "giovedi\n",
      "venerdi\n"
     ]
    }
   ],
   "source": [
    "#TIME 2-OPT\n",
    "week= ['lunedi', 'martedi', 'mercoledi', 'giovedi', 'venerdi']\n",
    "fur1 = pd.read_csv(\"../Dati/turni_f/fine_optimized_start/foss_ls1.csv\", delimiter=\";\", encoding = \"ISO-8859-1\")\n",
    "df = pd.DataFrame({})\n",
    "for day in week:\n",
    "    print(day)\n",
    "    #Otteniamo la schedulazione unendo Cremona-tabella del giorno-Ostiano\n",
    "    #schedule = pd.Series('Cremona, sesto 39')\n",
    "    schedule = fur1[day].dropna()\n",
    "    #schedule = schedule.append(pd.Series('Ostiano, Mazzini, 1' , [len(schedule)]))\n",
    "    #print(schedule)\n",
    "    #Otteniamo la schedulazione filtrando i nan e salviamo anche il suo tempo di percorrenza\n",
    "    best_schedule = pd.Series(schedule.dropna())\n",
    "    best_time = schedule_time(schedule, dft)\n",
    "    local_best_time = best_time\n",
    "    #Per ogni i e j effettua il 2-opt e salva se il risultato migliora con lo scambio\n",
    "    #Alla fine, avendo provato a scambiare tutte le coppie e avendole confrontate otteremo la miglior schedulazione\n",
    "    #per ogni giro di 2-opt parte dalla schedulazione greedy\n",
    "    while(True):\n",
    "        for i in range(1, len(schedule)-2):\n",
    "            for j in range(i+1, len(schedule)-1):\n",
    "                s = two_opt(pd.Series(schedule), i, j, dft)\n",
    "                t = sum(s.values)\n",
    "                if schedule_time(best_schedule, dft)> t:\n",
    "                    best_time = t.copy()\n",
    "                    best_schedule = cities_list(s) \n",
    "        if(local_best_time>best_time):\n",
    "            schedule = best_schedule[:]\n",
    "            local_best_time = best_time\n",
    "        else:\n",
    "            break\n",
    "    df = pd.concat([df, pd.DataFrame(pd.Series(best_schedule).rename(day))], axis=1)       \n",
    "df.to_csv('../Dati/turni_f/fine_optimized_start/foss_2opt1.csv', index=False, sep=\";\", encoding = \"ISO-8859-1\")"
   ]
  },
  {
   "cell_type": "code",
   "execution_count": null,
   "metadata": {},
   "outputs": [],
   "source": [
    "week= ['martedi', 'mercoledi', 'giovedi']\n",
    "fur2 = pd.read_csv(\"../Dati/turni_f/fine_optimized_start/foss_ls2.csv\", delimiter=\";\", encoding = \"ISO-8859-1\")\n",
    "df = pd.DataFrame({})\n",
    "for day in week:\n",
    "    print(day)\n",
    "    #schedule = pd.Series('Cremona, sesto 39')\n",
    "    schedule = fur2[day].dropna()\n",
    "    #schedule = schedule.append(pd.Series('San Giovanni in Croce, Feudatari, 25 A' , [len(schedule)]))\n",
    "    #print(schedule)\n",
    "    best_schedule = pd.Series(schedule.dropna())\n",
    "    best_time = schedule_time(schedule, dft)\n",
    "    local_best_time = best_time\n",
    "    while(True):\n",
    "        for i in range(1, len(schedule)-2):\n",
    "            for j in range(i+1, len(schedule)-1):\n",
    "                s = two_opt(pd.Series(schedule), i, j, dft)\n",
    "                t = sum(s.values)\n",
    "                if schedule_time(best_schedule, dft)> t:\n",
    "                    best_time = t.copy()\n",
    "                    best_schedule = cities_list(s) \n",
    "        if(local_best_time>best_time):\n",
    "            schedule = best_schedule[:]\n",
    "            local_best_time = best_time\n",
    "        else:\n",
    "            break \n",
    "    df = pd.concat([df, pd.DataFrame(pd.Series(best_schedule).rename(day))], axis=1)        \n",
    "df.to_csv('../Dati/turni_f/fine_optimized_start/foss_2opt2.csv', index=False, sep=\";\", encoding = \"ISO-8859-1\")"
   ]
  },
  {
   "cell_type": "code",
   "execution_count": 11,
   "metadata": {},
   "outputs": [
    {
     "name": "stdout",
     "output_type": "stream",
     "text": [
      "lunedi\n",
      "martedi\n",
      "mercoledi\n",
      "giovedi\n",
      "venerdi\n"
     ]
    }
   ],
   "source": [
    "#KM 2-OPT\n",
    "week= ['lunedi', 'martedi', 'mercoledi', 'giovedi', 'venerdi']\n",
    "df = pd.DataFrame({})\n",
    "for day in week:\n",
    "    print(day)\n",
    "    #Otteniamo la schedulazione unendo Cremona-tabella del giorno-Ostiano\n",
    "    #schedule = pd.Series('Cremona, sesto 39')\n",
    "    schedule = fur1d[day].dropna()\n",
    "    #schedule = schedule.append(pd.Series('Ostiano' , [len(schedule)]))\n",
    "    #print(schedule)\n",
    "    #Otteniamo la schedulazione filtrando i nan e salviamo anche il suo tempo di percorrenza\n",
    "    best_schedule = pd.Series(schedule.dropna())\n",
    "    best_time = schedule_time(schedule, dfd)\n",
    "    local_best_time = best_time\n",
    "    #Per ogni i e j effettua il 2-opt e salva se il risultato migliora con lo scambio\n",
    "    #Alla fine, avendo provato a scambiare tutte el coppie e avendole confrontate otteremo la miglior schedulazione\n",
    "    #per ogni giro di 2-opt parte dalla schedulazione greedy\n",
    "    while(True):\n",
    "        for i in range(1, len(schedule)-2):\n",
    "            for j in range(i+1, len(schedule)-1):\n",
    "                s = two_opt(pd.Series(schedule), i, j, dfd)\n",
    "                t = sum(s.values)\n",
    "                if schedule_time(best_schedule, dfd)> t:\n",
    "                    best_time = t.copy()\n",
    "                    best_schedule = cities_list(s) \n",
    "        if(local_best_time>best_time):\n",
    "            schedule = best_schedule[:]\n",
    "            local_best_time = best_time\n",
    "        else:\n",
    "            break\n",
    "    df = pd.concat([df, pd.DataFrame(pd.Series(best_schedule).rename(day))], axis=1)       \n",
    "df.to_csv('../Dati/turni_f/optimized_start/oss_2opt_km_f1.csv', index=False, sep=\";\", encoding = \"ISO-8859-1\")"
   ]
  },
  {
   "cell_type": "code",
   "execution_count": 12,
   "metadata": {},
   "outputs": [
    {
     "name": "stdout",
     "output_type": "stream",
     "text": [
      "martedi\n",
      "mercoledi\n",
      "giovedi\n"
     ]
    }
   ],
   "source": [
    "week= ['martedi', 'mercoledi', 'giovedi']\n",
    "df = pd.DataFrame({})\n",
    "for day in week:\n",
    "    print(day)\n",
    "    #schedule = pd.Series('Cremona, sesto 39')\n",
    "    schedule = fur2d[day].dropna()\n",
    "    #schedule = schedule.append(pd.Series('San Giovanni in Croce, Feudatari, 25 A' , [len(schedule)]))\n",
    "    #print(schedule)\n",
    "    best_schedule = pd.Series(schedule.dropna())\n",
    "    best_time = schedule_time(schedule, dfd)\n",
    "    local_best_time = best_time\n",
    "    while(True):\n",
    "        for i in range(1, len(schedule)-2):\n",
    "            for j in range(i+1, len(schedule)-1):\n",
    "                s = two_opt(pd.Series(schedule), i, j, dfd)\n",
    "                t = sum(s.values)\n",
    "                if schedule_time(best_schedule, dfd)> t:\n",
    "                    best_time = t.copy()\n",
    "                    best_schedule = cities_list(s) \n",
    "        if(local_best_time>best_time):\n",
    "            schedule = best_schedule[:]\n",
    "            local_best_time = best_time\n",
    "        else:\n",
    "            break \n",
    "    df = pd.concat([df, pd.DataFrame(pd.Series(best_schedule).rename(day))], axis=1)        \n",
    "df.to_csv('../Dati/turni_f/optimized_start/oss_2opt_km_f2.csv', index=False, sep=\";\", encoding = \"ISO-8859-1\")"
   ]
  },
  {
   "cell_type": "code",
   "execution_count": null,
   "metadata": {},
   "outputs": [],
   "source": []
  }
 ],
 "metadata": {
  "kernelspec": {
   "display_name": "Python 3",
   "language": "python",
   "name": "python3"
  },
  "language_info": {
   "codemirror_mode": {
    "name": "ipython",
    "version": 3
   },
   "file_extension": ".py",
   "mimetype": "text/x-python",
   "name": "python",
   "nbconvert_exporter": "python",
   "pygments_lexer": "ipython3",
   "version": "3.7.6"
  }
 },
 "nbformat": 4,
 "nbformat_minor": 2
}

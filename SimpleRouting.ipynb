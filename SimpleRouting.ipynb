{
 "cells": [
  {
   "cell_type": "code",
   "execution_count": 1,
   "metadata": {},
   "outputs": [],
   "source": [
    "import pandas as pd\n",
    "import numpy as np\n",
    "\n",
    "dft = pd.read_csv(\"complete_times.csv\", delimiter=\";\", encoding = \"ISO-8859-1\", index_col=0)\n",
    "dfd = pd.read_csv(\"complete_distances.csv\", delimiter=\";\", encoding = \"ISO-8859-1\", index_col=0)"
   ]
  },
  {
   "cell_type": "code",
   "execution_count": 2,
   "metadata": {},
   "outputs": [],
   "source": [
    "def get_row(df, string):\n",
    "    return pd.Series(df.index).str.contains(string, case=False)\n",
    "def get_column(df, string):\n",
    "    return pd.Series(df.columns).str.contains(string, case=False)"
   ]
  },
  {
   "cell_type": "code",
   "execution_count": 104,
   "metadata": {},
   "outputs": [],
   "source": [
    "table=pd.read_csv(\"route.csv\", delimiter=\";\")\n",
    "time_table=pd.read_csv(\"route_time.csv\", delimiter=\";\")"
   ]
  },
  {
   "cell_type": "code",
   "execution_count": 4,
   "metadata": {},
   "outputs": [],
   "source": [
    "import datetime\n",
    "def difference(day, index):\n",
    "    time = datetime.datetime.strptime(time_table[day][index], '%H:%M')\n",
    "    time2 = datetime.datetime.strptime(time_table[day][index+1], '%H:%M')\n",
    "    return ((time2-time).seconds)/60"
   ]
  },
  {
   "cell_type": "code",
   "execution_count": 151,
   "metadata": {},
   "outputs": [
    {
     "name": "stdout",
     "output_type": "stream",
     "text": [
      "martedi: primo : Cremona, Felice Cavallotti, 2 : 56.6\n",
      "True\n",
      "martedi: primo : Casalpusterlengo : 37.5\n",
      "True\n",
      "martedi: secondo : Cremona, Ugolani Dati, 4: 85.45\n",
      "True\n",
      "martedi: primo : Crema, Civerchi : 27.016666666666666\n",
      "True\n",
      "martedi: secondo : Bonemerse: 60.06666666666667\n",
      "False\n",
      "martedi: impossible : Sospiro : -71.06666666666666 : -43.01666666666666\n",
      "False\n",
      "martedi: impossible : Vailate : -62.366666666666674 : -34.31666666666668\n",
      "False\n",
      "martedi: impossible : Pianengo : -243.28333333333336 : -215.23333333333335\n",
      "False\n",
      "martedi: impossible : Vescovato : -193.65000000000003 : -165.60000000000002\n",
      "False\n",
      "martedi: primo : Offanengo : 42.16666666666665\n",
      "True\n",
      "martedi: impossible : Piadena : -18.08333333333335 : 59.81666666666666\n",
      "False\n",
      "martedi: primo : Gussola : 48.98333333333332\n",
      "True\n",
      "martedi: primo : Solarolo : 204.89999999999998\n",
      "True\n",
      "martedi: primo : Ostiano : 181.26666666666665\n",
      "True\n",
      "martedi: primo : Scandolara Ravara, Italia : 182.95\n",
      "True\n",
      "martedi: primo : Persico Dosimo : 153.91666666666666\n",
      "True\n",
      "martedi: primo : Casalmaggiore : 123.79999999999998\n",
      "True\n",
      "martedi: primo : Gadesco : 107.34999999999998\n",
      "True\n",
      "martedi: primo : Viadana : 58.516666666666644\n",
      "True\n",
      "martedi: secondo : Pescarolo: 339.9000000000001\n",
      "True\n"
     ]
    }
   ],
   "source": [
    "gained_time1=0\n",
    "gained_time2=0 \n",
    "days = ['martedi', 'mercoledi','giovedì']\n",
    "#for day in days:\n",
    "day='martedi'\n",
    "for i in range(len(time_table[day].dropna())-2):\n",
    "    try:\n",
    "        diff=difference(day, i)\n",
    "        row=dft[get_row(dft, table[day][i]).values]\n",
    "        paese=table[day][i+1]\n",
    "        value=row.loc[:,get_column(dft, paese).values]\n",
    "        gained_time1=gained_time1+(diff-float(value.values[0][0]))\n",
    "        gained_time2=gained_time2+(diff-float(value.values[0][0]))\n",
    "        if diff>(float(value.values[0][0])-gained_time1):\n",
    "            print(f\"{day}: primo : {paese} : {gained_time1}\")\n",
    "            gained_time2=(gained_time2-(diff-float(value.values[0][0])))+diff\n",
    "        elif diff>float(value.values[0][0])-gained_time2:\n",
    "            print(f\"{day}: secondo : {paese}: {gained_time2}\")\n",
    "            gained_time1=(gained_time1-(diff-float(value.values[0][0])))+diff\n",
    "        else:\n",
    "            print(f\"{day}: impossible : {paese} : {gained_time1} : {gained_time2}\")\n",
    "            gained_time1=(gained_time1-(diff-float(value.values[0][0])))+diff\n",
    "            gained_time2=(gained_time2-(diff-float(value.values[0][0])))+diff\n",
    "        #print(f\"{diff} ^ {float(value.values[0][0])} ^ {gained_time1} ^ {gained_time2} ^ {diff>(float(value.values[0][0])-gained_time1)}\")\n",
    "        print(f\"{diff>(float(value.values[0][0])-gained_time1)}\")\n",
    "        \n",
    "    except:\n",
    "        print(value)\n",
    "    #if diff<dft[row[paese].values]:\n",
    "    #    print(\"Not acceptable!\")"
   ]
  },
  {
   "cell_type": "code",
   "execution_count": 107,
   "metadata": {},
   "outputs": [],
   "source": [
    "diff=difference(\"martedi\", 15)\n",
    "row=dft[get_row(dft, table[\"martedi\"][0]).values]\n",
    "paese=table[\"martedi\"][15]\n",
    "value=row.loc[:,get_column(dft, paese).values]\n",
    "#gained_time=gained_time+(diff-float(value.values[0][0]))"
   ]
  },
  {
   "cell_type": "code",
   "execution_count": 124,
   "metadata": {},
   "outputs": [
    {
     "data": {
      "text/plain": [
       "10.0"
      ]
     },
     "execution_count": 124,
     "metadata": {},
     "output_type": "execute_result"
    }
   ],
   "source": [
    "diff=difference(\"lunedi\", 0)\n",
    "\n",
    "row=dft[get_row(dft, table[\"lunedi\"][0]).values]\n",
    "value=row.loc[:,get_column(dft, \"bagnolo\").values]\n",
    "float(value.values[0][0])\n",
    "diff"
   ]
  }
 ],
 "metadata": {
  "kernelspec": {
   "display_name": "Python 3",
   "language": "python",
   "name": "python3"
  },
  "language_info": {
   "codemirror_mode": {
    "name": "ipython",
    "version": 3
   },
   "file_extension": ".py",
   "mimetype": "text/x-python",
   "name": "python",
   "nbconvert_exporter": "python",
   "pygments_lexer": "ipython3",
   "version": "3.7.6"
  }
 },
 "nbformat": 4,
 "nbformat_minor": 4
}

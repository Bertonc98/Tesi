{
 "cells": [
  {
   "cell_type": "code",
   "execution_count": 17,
   "metadata": {},
   "outputs": [],
   "source": [
    "import pandas as pd\n",
    "import numpy as np\n",
    "\n",
    "dft = pd.read_csv(\"complete_times.csv\", delimiter=\";\", encoding = \"ISO-8859-1\", index_col=0)\n",
    "dfd = pd.read_csv(\"complete_distances.csv\", delimiter=\";\", encoding = \"ISO-8859-1\", index_col=0)"
   ]
  },
  {
   "cell_type": "code",
   "execution_count": 18,
   "metadata": {},
   "outputs": [],
   "source": [
    "def get_row(df, string):\n",
    "    return pd.Series(df.index).str.contains(string, case=False)\n",
    "def get_column(df, string):\n",
    "    return pd.Series(df.columns).str.contains(string, case=False)"
   ]
  },
  {
   "cell_type": "code",
   "execution_count": 19,
   "metadata": {},
   "outputs": [],
   "source": [
    "table=pd.read_csv(\"route.csv\", delimiter=\";\")\n",
    "time_table=pd.read_csv(\"route_time.csv\", delimiter=\";\")"
   ]
  },
  {
   "cell_type": "code",
   "execution_count": 20,
   "metadata": {},
   "outputs": [],
   "source": [
    "import datetime\n",
    "def difference(day, index, index2):\n",
    "    time = datetime.datetime.strptime(time_table[day][index], '%H:%M')\n",
    "    time2 = datetime.datetime.strptime(time_table[day][index2], '%H:%M')\n",
    "    return ((time2-time).seconds)/60"
   ]
  },
  {
   "cell_type": "code",
   "execution_count": 42,
   "metadata": {},
   "outputs": [
    {
     "name": "stdout",
     "output_type": "stream",
     "text": [
      "martedi: primo : Cremona, Felice Cavallotti, 2 : 56.6\n",
      "martedi: primo : Casalpusterlengo : 37.5\n",
      "martedi: primo : Cremona, Ugolani Dati, 4 : 17.950000000000003\n",
      "martedi: primo : Crema, Civerchi : -7.533333333333331\n",
      "martedi: failed : 45.38333333333333 : 5.0 : -2.5333333333333314\n",
      "martedi: failed : 113.08333333333333 : 10.0 : 7.466666666666669\n",
      "martedi: failed : 114.38333333333334 : 10.0 : 17.46666666666667\n",
      "martedi: failed : 315.3 : 20.0 : 37.46666666666667\n",
      "martedi: failed : 275.6666666666667 : 10.0 : 47.46666666666667\n",
      "martedi: primo : Offanengo : 7.616666666666667\n",
      "martedi: failed : 65.25 : 5.0 : 12.616666666666667\n",
      "martedi: primo : Gussola : 14.433333333333334\n",
      "martedi: primo : Solarolo : 170.35\n",
      "martedi: primo : Ostiano : 146.71666666666667\n",
      "martedi: primo : Scandolara Ravara, Italia : 148.4\n",
      "martedi: primo : Persico Dosimo : 119.36666666666667\n",
      "martedi: primo : Casalmaggiore : 89.25\n",
      "martedi: primo : Gadesco : 72.8\n",
      "martedi: primo : Viadana : 23.96666666666666\n",
      "martedi: primo : Pescarolo : -6.199999999999996\n"
     ]
    }
   ],
   "source": [
    "gained_time1=0\n",
    "to_2=[]\n",
    "days = ['martedi', 'mercoledi','giovedì']\n",
    "#for day in days:\n",
    "day='martedi'\n",
    "for i in range(len(time_table[day].dropna())-2):\n",
    "    try:\n",
    "        diff=difference(day, i, i+1)\n",
    "        row=dft[get_row(dft, table[day][i]).values]\n",
    "        paese=table[day][i+1]\n",
    "        value=row.loc[:,get_column(dft, paese).values]\n",
    "        ctime=float(value.values[0][0])\n",
    "        #gained_time1=gained_time1+(diff-float(value.values[0][0]))\n",
    "        #gained_time2=gained_time2+(diff-float(value.values[0][0]))\n",
    "        if (diff+(diff/20))>ctime-gained_time1 :\n",
    "            gained_time1+=(diff-ctime)\n",
    "            print(f\"{day}: primo : {paese} : {gained_time1}\")\n",
    "        else:\n",
    "            gained_time1+=diff\n",
    "            print(f\"{day}: failed : {ctime} : {diff} : {gained_time1}\")\n",
    "            to_2.append(i)\n",
    "    except:\n",
    "        print(value)\n",
    "    #if diff<dft[row[paese].values]:\n",
    "    #    print(\"Not acceptable!\")"
   ]
  },
  {
   "cell_type": "code",
   "execution_count": 43,
   "metadata": {},
   "outputs": [
    {
     "name": "stdout",
     "output_type": "stream",
     "text": [
      "martedi: impossible : Bonemerse : 5.0  27.616666666666667\n",
      "martedi: impossible : Sospiro : 10.0  112.08333333333333\n",
      "martedi: impossible : Vailate : 10.0  41.583333333333336\n",
      "martedi: impossible : Pianengo : 20.0  279.01666666666665\n",
      "martedi: secondo : Offanengo : 9.083333333333334\n"
     ]
    }
   ],
   "source": [
    "impossible=[]\n",
    "gained_time2=0\n",
    "for i in range(len(to_2)-1):\n",
    "    try:\n",
    "        curr=to_2[i]\n",
    "        diff=difference(day, curr, to_2[i+1])\n",
    "        row=dft[get_row(dft, table[day][i]).values]\n",
    "        paese=table[day][to_2[i+1]]\n",
    "        value=row.loc[:,get_column(dft, paese).values]\n",
    "        ctime=float(value.values[0][0])\n",
    "        #gained_time1=gained_time1+(diff-float(value.values[0][0]))\n",
    "        #gained_time2=gained_time2+(diff-float(value.values[0][0]))\n",
    "        if (diff+(diff/20))>ctime-gained_time2 :\n",
    "            gained_time2+=(diff-ctime)\n",
    "            print(f\"{day}: secondo : {paese} : {gained_time2}\")\n",
    "        else:\n",
    "            print(f\"{day}: impossible : {paese} : {diff}  {ctime}\")\n",
    "            impossible.append(i)\n",
    "    except:\n",
    "        print(f\"-----{value}\")"
   ]
  },
  {
   "cell_type": "code",
   "execution_count": 21,
   "metadata": {},
   "outputs": [
    {
     "ename": "ValueError",
     "evalue": "could not convert string to float: '3.396.666.666.666.660'",
     "output_type": "error",
     "traceback": [
      "\u001b[1;31m---------------------------------------------------------------------------\u001b[0m",
      "\u001b[1;31mValueError\u001b[0m                                Traceback (most recent call last)",
      "\u001b[1;32m<ipython-input-21-ca08ff515c49>\u001b[0m in \u001b[0;36m<module>\u001b[1;34m\u001b[0m\n\u001b[0;32m     28\u001b[0m             \u001b[0mdiff2\u001b[0m \u001b[1;33m=\u001b[0m \u001b[0mvalue2\u001b[0m\u001b[1;33m.\u001b[0m\u001b[0mvalues\u001b[0m\u001b[1;33m[\u001b[0m\u001b[1;36m0\u001b[0m\u001b[1;33m]\u001b[0m\u001b[1;33m[\u001b[0m\u001b[1;36m0\u001b[0m\u001b[1;33m]\u001b[0m\u001b[1;33m\u001b[0m\u001b[1;33m\u001b[0m\u001b[0m\n\u001b[0;32m     29\u001b[0m     \u001b[1;31m#Se uno dei due furgoni può rispettare l'orario (con tolleranza 5%) si sceglie il migliore\u001b[0m\u001b[1;33m\u001b[0m\u001b[1;33m\u001b[0m\u001b[1;33m\u001b[0m\u001b[0m\n\u001b[1;32m---> 30\u001b[1;33m     \u001b[1;32mif\u001b[0m\u001b[1;33m(\u001b[0m\u001b[0mfloat\u001b[0m\u001b[1;33m(\u001b[0m\u001b[0mvalue1\u001b[0m\u001b[1;33m.\u001b[0m\u001b[0mvalues\u001b[0m\u001b[1;33m[\u001b[0m\u001b[1;36m0\u001b[0m\u001b[1;33m]\u001b[0m\u001b[1;33m[\u001b[0m\u001b[1;36m0\u001b[0m\u001b[1;33m]\u001b[0m\u001b[1;33m)\u001b[0m\u001b[1;33m<=\u001b[0m \u001b[0mfloat\u001b[0m\u001b[1;33m(\u001b[0m\u001b[0mdiff1\u001b[0m\u001b[1;33m)\u001b[0m \u001b[1;33m+\u001b[0m \u001b[1;33m(\u001b[0m\u001b[0mfloat\u001b[0m\u001b[1;33m(\u001b[0m\u001b[0mdiff1\u001b[0m\u001b[1;33m)\u001b[0m\u001b[1;33m/\u001b[0m\u001b[1;36m20\u001b[0m\u001b[1;33m)\u001b[0m \u001b[1;32mor\u001b[0m \u001b[0mfloat\u001b[0m\u001b[1;33m(\u001b[0m\u001b[0mvalue2\u001b[0m\u001b[1;33m.\u001b[0m\u001b[0mvalues\u001b[0m\u001b[1;33m[\u001b[0m\u001b[1;36m0\u001b[0m\u001b[1;33m]\u001b[0m\u001b[1;33m[\u001b[0m\u001b[1;36m0\u001b[0m\u001b[1;33m]\u001b[0m\u001b[1;33m)\u001b[0m\u001b[1;33m<=\u001b[0m \u001b[0mfloat\u001b[0m\u001b[1;33m(\u001b[0m\u001b[0mdiff2\u001b[0m\u001b[1;33m)\u001b[0m \u001b[1;33m+\u001b[0m \u001b[0mfloat\u001b[0m\u001b[1;33m(\u001b[0m\u001b[0mdiff2\u001b[0m\u001b[1;33m)\u001b[0m\u001b[1;33m/\u001b[0m\u001b[1;36m20\u001b[0m\u001b[1;33m)\u001b[0m\u001b[1;33m:\u001b[0m\u001b[1;33m\u001b[0m\u001b[1;33m\u001b[0m\u001b[0m\n\u001b[0m\u001b[0;32m     31\u001b[0m         \u001b[1;32mif\u001b[0m\u001b[1;33m(\u001b[0m\u001b[0mvalue1\u001b[0m\u001b[1;33m.\u001b[0m\u001b[0mvalues\u001b[0m\u001b[1;33m[\u001b[0m\u001b[1;36m0\u001b[0m\u001b[1;33m]\u001b[0m\u001b[1;33m[\u001b[0m\u001b[1;36m0\u001b[0m\u001b[1;33m]\u001b[0m \u001b[1;33m<=\u001b[0m \u001b[0mvalue2\u001b[0m\u001b[1;33m.\u001b[0m\u001b[0mvalues\u001b[0m\u001b[1;33m[\u001b[0m\u001b[1;36m0\u001b[0m\u001b[1;33m]\u001b[0m\u001b[1;33m[\u001b[0m\u001b[1;36m0\u001b[0m\u001b[1;33m]\u001b[0m\u001b[1;33m)\u001b[0m\u001b[1;33m:\u001b[0m\u001b[1;33m\u001b[0m\u001b[1;33m\u001b[0m\u001b[0m\n\u001b[0;32m     32\u001b[0m             \u001b[0mf1\u001b[0m\u001b[1;33m.\u001b[0m\u001b[0mappend\u001b[0m\u001b[1;33m(\u001b[0m\u001b[0mi\u001b[0m\u001b[1;33m)\u001b[0m\u001b[1;33m\u001b[0m\u001b[1;33m\u001b[0m\u001b[0m\n",
      "\u001b[1;31mValueError\u001b[0m: could not convert string to float: '3.396.666.666.666.660'"
     ]
    }
   ],
   "source": [
    "start = dft[get_row(dft, 'Cremona, sesto 39').values]\n",
    "day='martedi'\n",
    "#Liste dei due furgoni\n",
    "f1 = []\n",
    "f2 = []\n",
    "#indici\n",
    "i1 = -1\n",
    "i2 = -1\n",
    "#Le righe delle distanze del corrente paese in cui si trovano i furgoni, inizialmente lo stesso\n",
    "row1 = start\n",
    "row2 = start\n",
    "#Lista dei paesi non raggiungibili\n",
    "impossibile = []\n",
    "for i in range(len(time_table[day].dropna())):\n",
    "    paese=table[day][i]\n",
    "    #Distanze in tempo dal paese corrente di ognuno dei furgoni alla destinazione\n",
    "    value1=row1.loc[:,get_column(dft, paese).values]\n",
    "    value2=row2.loc[:,get_column(dft, paese).values]\n",
    "    #Salvataggio del tempo utile per raggiungere la destinazione in base alla tabella degli orari\n",
    "    if(i1 != -1 and i2 != -1):\n",
    "        diff1=difference(day, i1, i)\n",
    "        diff2=difference(day, i2, i)\n",
    "    else:\n",
    "        #Per la prima tratta l'indice non ha valore utile, si ottiene la differenza staticamente\n",
    "        if(i1 == -1):\n",
    "            diff1 = value1.values[0][0]\n",
    "        if(i2 == -1):\n",
    "            diff2 = value2.values[0][0]\n",
    "    #Se uno dei due furgoni può rispettare l'orario (con tolleranza 5%) si sceglie il migliore\n",
    "    if(float(value1.values[0][0])<= float(diff1) + (float(diff1)/20) or float(value2.values[0][0])<= float(diff2) + float(diff2)/20):\n",
    "        if(value1.values[0][0] <= value2.values[0][0]):\n",
    "            f1.append(i)\n",
    "            i1 = i\n",
    "            row1 = dft[get_row(dft, table[day][i]).values]\n",
    "        else:\n",
    "            f2.append(i)\n",
    "            i2 = i\n",
    "            row2 = dft[get_row(dft, table[day][i]).values]\n",
    "    #Impossibilità di raggiungere la locazione in tempo\n",
    "    else:\n",
    "        print(f\"current time1 {diff1} time {float(value1.values[0][0])} , current time2 {diff2} time {float(value2.values[0][0])}\")\n",
    "        impossibile.append(i)\n",
    "print(f1)\n",
    "print(f2)\n",
    "print(impossibile)"
   ]
  },
  {
   "cell_type": "code",
   "execution_count": 16,
   "metadata": {},
   "outputs": [
    {
     "data": {
      "text/html": [
       "<div>\n",
       "<style scoped>\n",
       "    .dataframe tbody tr th:only-of-type {\n",
       "        vertical-align: middle;\n",
       "    }\n",
       "\n",
       "    .dataframe tbody tr th {\n",
       "        vertical-align: top;\n",
       "    }\n",
       "\n",
       "    .dataframe thead th {\n",
       "        text-align: right;\n",
       "    }\n",
       "</style>\n",
       "<table border=\"1\" class=\"dataframe\">\n",
       "  <thead>\n",
       "    <tr style=\"text-align: right;\">\n",
       "      <th></th>\n",
       "      <th>Sospiro, Europa, 2</th>\n",
       "    </tr>\n",
       "  </thead>\n",
       "  <tbody>\n",
       "    <tr>\n",
       "      <th>Bonemerse, Roma, 25</th>\n",
       "      <td>113.08333333333333</td>\n",
       "    </tr>\n",
       "  </tbody>\n",
       "</table>\n",
       "</div>"
      ],
      "text/plain": [
       "                     Sospiro, Europa, 2\n",
       "Bonemerse, Roma, 25  113.08333333333333"
      ]
     },
     "execution_count": 16,
     "metadata": {},
     "output_type": "execute_result"
    }
   ],
   "source": [
    "dft[get_row(dft, \"bonemerse\").values].loc[:, get_column(dft, \"sospiro\").values]"
   ]
  }
 ],
 "metadata": {
  "kernelspec": {
   "display_name": "Python 3",
   "language": "python",
   "name": "python3"
  },
  "language_info": {
   "codemirror_mode": {
    "name": "ipython",
    "version": 3
   },
   "file_extension": ".py",
   "mimetype": "text/x-python",
   "name": "python",
   "nbconvert_exporter": "python",
   "pygments_lexer": "ipython3",
   "version": "3.7.6"
  }
 },
 "nbformat": 4,
 "nbformat_minor": 4
}

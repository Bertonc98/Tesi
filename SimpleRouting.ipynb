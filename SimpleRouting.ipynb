{
 "cells": [
  {
   "cell_type": "code",
   "execution_count": 48,
   "metadata": {},
   "outputs": [],
   "source": [
    "import pandas as pd\n",
    "import numpy as np\n",
    "\n",
    "dft = pd.read_csv(\"correct_times.csv\", delimiter=\";\", encoding = \"ISO-8859-1\", index_col=0)\n",
    "dfd = pd.read_csv(\"complete_distances.csv\", delimiter=\";\", encoding = \"ISO-8859-1\", index_col=0)"
   ]
  },
  {
   "cell_type": "code",
   "execution_count": 49,
   "metadata": {},
   "outputs": [],
   "source": [
    "def get_row(df, string):\n",
    "    return pd.Series(df.index).str.contains(string, case=False)\n",
    "def get_column(df, string):\n",
    "    return pd.Series(df.columns).str.contains(string, case=False)"
   ]
  },
  {
   "cell_type": "code",
   "execution_count": 50,
   "metadata": {},
   "outputs": [],
   "source": [
    "table=pd.read_csv(\"route.csv\", delimiter=\";\")\n",
    "time_table=pd.read_csv(\"route_time.csv\", delimiter=\";\")"
   ]
  },
  {
   "cell_type": "code",
   "execution_count": 51,
   "metadata": {},
   "outputs": [],
   "source": [
    "import datetime\n",
    "def difference(day, index, index2):\n",
    "    time = datetime.datetime.strptime(time_table[day][index], '%H:%M')\n",
    "    time2 = datetime.datetime.strptime(time_table[day][index2], '%H:%M')\n",
    "    return ((time2-time).seconds)/60"
   ]
  },
  {
   "cell_type": "code",
   "execution_count": 52,
   "metadata": {},
   "outputs": [
    {
     "name": "stdout",
     "output_type": "stream",
     "text": [
      "martedi: primo : Cremona, Felice Cavallotti, 2 : 54.0\n",
      "martedi: primo : Casalpusterlengo : 69.0\n",
      "martedi: primo : Cremona, Ugolani Dati, 4 : 53.0\n",
      "martedi: primo : Crema, Civerchi : 29.0\n",
      "martedi: failed : 47.0 : 5.0 : 34.0\n",
      "martedi: failed : 200.0 : 10.0 : 44.0\n",
      "martedi: failed : 205.0 : 10.0 : 54.0\n",
      "martedi: failed : 561.0 : 20.0 : 74.0\n",
      "martedi: failed : 527.0 : 10.0 : 84.0\n",
      "martedi: primo : Offanengo : 40.0\n",
      "martedi: failed : 72.0 : 5.0 : 45.0\n",
      "martedi: primo : Gussola : 48.0\n",
      "martedi: primo : Solarolo : 204.0\n",
      "martedi: primo : Ostiano : 204.0\n",
      "martedi: primo : Scandolara Ravara, Italia : 205.0\n",
      "martedi: primo : Persico Dosimo : 174.0\n",
      "martedi: primo : Casalmaggiore : 140.0\n",
      "martedi: primo : Gadesco : 119.0\n",
      "martedi: primo : Viadana : 66.0\n",
      "martedi: primo : Pescarolo : 32.0\n"
     ]
    }
   ],
   "source": [
    "gained_time1=0\n",
    "to_2=[]\n",
    "days = ['martedi', 'mercoledi','giovedì']\n",
    "#for day in days:\n",
    "day='martedi'\n",
    "for i in range(len(time_table[day].dropna())-2):\n",
    "    try:\n",
    "        diff=difference(day, i, i+1)\n",
    "        row=dft[get_row(dft, table[day][i]).values]\n",
    "        paese=table[day][i+1]\n",
    "        value=row.loc[:,get_column(dft, paese).values]\n",
    "        ctime=float(value.values[0][0])\n",
    "        #gained_time1=gained_time1+(diff-float(value.values[0][0]))\n",
    "        #gained_time2=gained_time2+(diff-float(value.values[0][0]))\n",
    "        if (diff+(diff/20))>ctime-gained_time1 :\n",
    "            gained_time1+=(diff-ctime)\n",
    "            print(f\"{day}: primo : {paese} : {gained_time1}\")\n",
    "        else:\n",
    "            gained_time1+=diff\n",
    "            print(f\"{day}: failed : {ctime} : {diff} : {gained_time1}\")\n",
    "            to_2.append(i)\n",
    "    except:\n",
    "        print(value)\n",
    "    #if diff<dft[row[paese].values]:\n",
    "    #    print(\"Not acceptable!\")"
   ]
  },
  {
   "cell_type": "code",
   "execution_count": 53,
   "metadata": {},
   "outputs": [
    {
     "name": "stdout",
     "output_type": "stream",
     "text": [
      "martedi: impossible : Bonemerse : 5.0  37.0\n",
      "martedi: impossible : Sospiro : 10.0  193.0\n",
      "martedi: impossible : Vailate : 10.0  42.0\n",
      "martedi: impossible : Pianengo : 20.0  521.0\n",
      "martedi: secondo : Offanengo : 20.0\n"
     ]
    }
   ],
   "source": [
    "impossible=[]\n",
    "gained_time2=0\n",
    "for i in range(len(to_2)-1):\n",
    "    try:\n",
    "        curr=to_2[i]\n",
    "        diff=difference(day, curr, to_2[i+1])\n",
    "        row=dft[get_row(dft, table[day][i]).values]\n",
    "        paese=table[day][to_2[i+1]]\n",
    "        value=row.loc[:,get_column(dft, paese).values]\n",
    "        ctime=float(value.values[0][0])\n",
    "        #gained_time1=gained_time1+(diff-float(value.values[0][0]))\n",
    "        #gained_time2=gained_time2+(diff-float(value.values[0][0]))\n",
    "        if (diff+(diff/20))>ctime-gained_time2 :\n",
    "            gained_time2+=(diff-ctime)\n",
    "            print(f\"{day}: secondo : {paese} : {gained_time2}\")\n",
    "        else:\n",
    "            print(f\"{day}: impossible : {paese} : {diff}  {ctime}\")\n",
    "            impossible.append(i)\n",
    "    except:\n",
    "        print(f\"-----{value}\")"
   ]
  },
  {
   "cell_type": "code",
   "execution_count": 54,
   "metadata": {},
   "outputs": [
    {
     "name": "stdout",
     "output_type": "stream",
     "text": [
      "current time1 10.0 time 200.0 , current time2 15.0 time 208.0\n",
      "current time1 40.0 time 522.0 , current time2 20.0 time 561.0\n",
      "current time1 15.0 time 20.0 , current time2 5.0 time 72.0\n",
      "[0, 5, 9, 12, 13, 14, 15, 16, 17, 18, 19, 20]\n",
      "[1, 2, 3, 4, 7, 10, 21]\n",
      "[6, 8, 11]\n"
     ]
    }
   ],
   "source": [
    "start = dft[get_row(dft, 'Cremona, sesto 39').values]\n",
    "day='martedi'\n",
    "#Liste dei due furgoni\n",
    "f1 = []\n",
    "f2 = []\n",
    "#indici\n",
    "i1 = -1\n",
    "i2 = -1\n",
    "#Le righe delle distanze del corrente paese in cui si trovano i furgoni, inizialmente lo stesso\n",
    "row1 = start\n",
    "row2 = start\n",
    "#Lista dei paesi non raggiungibili\n",
    "impossibile = []\n",
    "for i in range(len(time_table[day].dropna())):\n",
    "    paese=table[day][i]\n",
    "    #Distanze in tempo dal paese corrente di ognuno dei furgoni alla destinazione\n",
    "    value1=row1.loc[:,get_column(dft, paese).values]\n",
    "    value2=row2.loc[:,get_column(dft, paese).values]\n",
    "    #Salvataggio del tempo utile per raggiungere la destinazione in base alla tabella degli orari\n",
    "    if(i1 != -1 and i2 != -1):\n",
    "        diff1=difference(day, i1, i)\n",
    "        diff2=difference(day, i2, i)\n",
    "    else:\n",
    "        #Per la prima tratta l'indice non ha valore utile, si ottiene la differenza staticamente\n",
    "        if(i1 == -1):\n",
    "            diff1 = value1.values[0][0]\n",
    "        if(i2 == -1):\n",
    "            diff2 = value2.values[0][0]\n",
    "    #Se uno dei due furgoni può rispettare l'orario (con tolleranza 5%) si sceglie il migliore\n",
    "    if(float(value1.values[0][0])<= float(diff1) + (float(diff1)/20) or float(value2.values[0][0])<= float(diff2) + float(diff2)/20):\n",
    "        if(value1.values[0][0] <= value2.values[0][0]):\n",
    "            f1.append(i)\n",
    "            i1 = i\n",
    "            row1 = dft[get_row(dft, table[day][i]).values]\n",
    "        else:\n",
    "            f2.append(i)\n",
    "            i2 = i\n",
    "            row2 = dft[get_row(dft, table[day][i]).values]\n",
    "    #Impossibilità di raggiungere la locazione in tempo\n",
    "    else:\n",
    "        print(f\"current time1 {diff1} time {float(value1.values[0][0])} , current time2 {diff2} time {float(value2.values[0][0])}\")\n",
    "        impossibile.append(i)\n",
    "print(f1)\n",
    "print(f2)\n",
    "print(impossibile)"
   ]
  },
  {
   "cell_type": "code",
   "execution_count": 45,
   "metadata": {},
   "outputs": [],
   "source": [
    "for i in range(len(dftp)):\n",
    "    for j in range(len(dftp.columns)):\n",
    "        curr=dftp.iloc[i].iloc[j]\n",
    "        dftp.iat[i,j]=round(float(curr)/1000)      "
   ]
  },
  {
   "cell_type": "code",
   "execution_count": 47,
   "metadata": {},
   "outputs": [],
   "source": [
    "dftp.to_csv('correct_times.csv',sep=';')"
   ]
  }
 ],
 "metadata": {
  "kernelspec": {
   "display_name": "Python 3",
   "language": "python",
   "name": "python3"
  },
  "language_info": {
   "codemirror_mode": {
    "name": "ipython",
    "version": 3
   },
   "file_extension": ".py",
   "mimetype": "text/x-python",
   "name": "python",
   "nbconvert_exporter": "python",
   "pygments_lexer": "ipython3",
   "version": "3.7.6"
  }
 },
 "nbformat": 4,
 "nbformat_minor": 4
}

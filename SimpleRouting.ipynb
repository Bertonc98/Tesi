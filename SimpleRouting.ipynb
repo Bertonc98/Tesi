{
 "cells": [
  {
   "cell_type": "code",
   "execution_count": 1,
   "metadata": {},
   "outputs": [],
   "source": [
    "import pandas as pd\n",
    "import numpy as np\n",
    "\n",
    "dft = pd.read_csv(\"complete_times.csv\", delimiter=\";\", encoding = \"ISO-8859-1\", index_col=0)\n",
    "dfd = pd.read_csv(\"complete_distances.csv\", delimiter=\";\", encoding = \"ISO-8859-1\", index_col=0)"
   ]
  },
  {
   "cell_type": "code",
   "execution_count": 69,
   "metadata": {},
   "outputs": [],
   "source": [
    "def get_row(df, string):\n",
    "    return pd.Series(df.index).str.contains(string, case=False)\n",
    "def get_column(df, string):\n",
    "    return pd.Series(df.columns).str.contains(string, case=False)"
   ]
  },
  {
   "cell_type": "code",
   "execution_count": 123,
   "metadata": {},
   "outputs": [],
   "source": [
    "table=pd.read_csv(\"route.csv\", delimiter=\";\")\n",
    "time_table=pd.read_csv(\"route_time.csv\", delimiter=\";\")"
   ]
  },
  {
   "cell_type": "code",
   "execution_count": 20,
   "metadata": {},
   "outputs": [],
   "source": [
    "import datetime\n",
    "def difference(day, index):\n",
    "    time = datetime.datetime.strptime(time_table[day][index], '%H:%M')\n",
    "    time2 = datetime.datetime.strptime(time_table[day][index+1], '%H:%M')\n",
    "    return ((time2-time).seconds)/60"
   ]
  },
  {
   "cell_type": "code",
   "execution_count": 124,
   "metadata": {},
   "outputs": [
    {
     "name": "stdout",
     "output_type": "stream",
     "text": [
      "Success Difference: 10.0   Calculated: 5.666666666666668 Gained time: 4.333333333333332\n",
      "Success Difference: 20.0   Calculated: 13.433333333333334 Gained time: 10.899999999999999\n",
      "Success Difference: 15.0   Calculated: 16.316666666666666 Gained time: 9.583333333333332\n",
      "Success Difference: 15.0   Calculated: 4.966666666666667 Gained time: 19.616666666666667\n",
      "Success Difference: 20.0   Calculated: 18.433333333333334 Gained time: 21.183333333333334\n",
      "Success Difference: 15.0   Calculated: 12.966666666666667 Gained time: 23.21666666666667\n",
      "Success Difference: 10.0   Calculated: 6.283333333333333 Gained time: 26.933333333333337\n",
      "Success Difference: 25.0   Calculated: 22.4 Gained time: 29.53333333333334\n",
      "Success Difference: 80.0   Calculated: 11.883333333333333 Gained time: 97.65\n",
      "Success Difference: 40.0   Calculated: 11.15 Gained time: 126.5\n",
      "Success Difference: 30.0   Calculated: 25.483333333333334 Gained time: 131.01666666666665\n",
      "Success Difference: 25.0   Calculated: 7.033333333333333 Gained time: 148.98333333333332\n"
     ]
    }
   ],
   "source": [
    "gained_time=0\n",
    "for i in range(len(time_table[\"lunedi\"].dropna())-2):\n",
    "    try:\n",
    "        diff=difference(\"lunedi\", i)\n",
    "        \n",
    "        row=dft[get_row(dft, table[\"lunedi\"][i]).values]\n",
    "        paese=table[\"lunedi\"][i+1]\n",
    "        value=row.loc[:,get_column(dft, paese).values]\n",
    "        gained_time=gained_time+(diff-float(value.values[0][0]))\n",
    "        if diff>float(value.values[0][0])-gained_time:\n",
    "            print(f\"Success Difference: {diff}   Calculated: {float(value.values[0][0])} Gained time: {gained_time}\")\n",
    "        else:\n",
    "            print(f\"Riccardo Difference: {diff}   Calculated: {float(value.values[0][0])} Gained time: {gained_time}\")\n",
    "    except:\n",
    "        print(value)\n",
    "    #if diff<dft[row[paese].values]:\n",
    "    #    print(\"Not acceptable!\")"
   ]
  },
  {
   "cell_type": "code",
   "execution_count": 97,
   "metadata": {},
   "outputs": [
    {
     "data": {
      "text/plain": [
       "36.766666666666666"
      ]
     },
     "execution_count": 97,
     "metadata": {},
     "output_type": "execute_result"
    }
   ],
   "source": [
    "diff=difference(\"lunedi\", 0)\n",
    "\n",
    "row=dft[get_row(dft, table[\"lunedi\"][0]).values]\n",
    "value=row.loc[:,get_column(dft, \"bagnolo\").values]\n",
    "float(value.values[0][0])"
   ]
  }
 ],
 "metadata": {
  "kernelspec": {
   "display_name": "Python 3",
   "language": "python",
   "name": "python3"
  },
  "language_info": {
   "codemirror_mode": {
    "name": "ipython",
    "version": 3
   },
   "file_extension": ".py",
   "mimetype": "text/x-python",
   "name": "python",
   "nbconvert_exporter": "python",
   "pygments_lexer": "ipython3",
   "version": "3.7.6"
  }
 },
 "nbformat": 4,
 "nbformat_minor": 4
}

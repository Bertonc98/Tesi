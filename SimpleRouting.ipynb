{
 "cells": [
  {
   "cell_type": "code",
   "execution_count": 1,
   "metadata": {},
   "outputs": [],
   "source": [
    "import pandas as pd\n",
    "import numpy as np\n",
    "\n",
    "dft = pd.read_csv(\"times_computed.csv\", delimiter=\";\", encoding = \"ISO-8859-1\", index_col=0)\n",
    "dfd = pd.read_csv(\"complete_distances.csv\", delimiter=\";\", encoding = \"ISO-8859-1\", index_col=0)"
   ]
  },
  {
   "cell_type": "code",
   "execution_count": 2,
   "metadata": {},
   "outputs": [],
   "source": [
    "def get_row(df, string):\n",
    "    return pd.Series(df.index).str.contains(string, case=False)\n",
    "def get_column(df, string):\n",
    "    return pd.Series(df.columns).str.contains(string, case=False)"
   ]
  },
  {
   "cell_type": "code",
   "execution_count": 3,
   "metadata": {},
   "outputs": [],
   "source": [
    "table=pd.read_csv(\"route.csv\", delimiter=\";\")\n",
    "time_table=pd.read_csv(\"route_time.csv\", delimiter=\";\")"
   ]
  },
  {
   "cell_type": "code",
   "execution_count": 4,
   "metadata": {},
   "outputs": [],
   "source": [
    "import datetime\n",
    "def difference(day, index, index2):\n",
    "    time = datetime.datetime.strptime(time_table[day][index], '%H:%M')\n",
    "    time2 = datetime.datetime.strptime(time_table[day][index2], '%H:%M')\n",
    "    return ((time2-time).seconds)/60"
   ]
  },
  {
   "cell_type": "code",
   "execution_count": 17,
   "metadata": {},
   "outputs": [
    {
     "data": {
      "text/plain": [
       "'gained_time1=0\\nto_2=[]\\ndays = [\\'martedi\\', \\'mercoledi\\',\\'giovedì\\']\\n#for day in days:\\nday=\\'martedi\\'\\nfor i in range(len(time_table[day].dropna())-2):\\n    try:\\n        diff=difference(day, i, i+1)\\n        row=dft[get_row(dft, table[day][i]).values]\\n        paese=table[day][i+1]\\n        value=row.loc[:,get_column(dft, paese).values]\\n        ctime=float(value.values[0][0])\\n        #gained_time1=gained_time1+(diff-float(value.values[0][0]))\\n        #gained_time2=gained_time2+(diff-float(value.values[0][0]))\\n        if (diff+(diff/20))>ctime-gained_time1 :\\n            gained_time1+=(diff-ctime)\\n            print(f\"{day}: primo : {paese} : {gained_time1}\")\\n        else:\\n            gained_time1+=diff\\n            print(f\"{day}: failed : {ctime} : {diff} : {gained_time1}\")\\n            to_2.append(i)\\n    except:\\n        print(value)\\n    #if diff<dft[row[paese].values]:\\n    #    print(\"Not acceptable!\")'"
      ]
     },
     "execution_count": 17,
     "metadata": {},
     "output_type": "execute_result"
    }
   ],
   "source": [
    "\"\"\"gained_time1=0\n",
    "to_2=[]\n",
    "days = ['martedi', 'mercoledi','giovedì']\n",
    "#for day in days:\n",
    "day='martedi'\n",
    "for i in range(len(time_table[day].dropna())-2):\n",
    "    try:\n",
    "        diff=difference(day, i, i+1)\n",
    "        row=dft[get_row(dft, table[day][i]).values]\n",
    "        paese=table[day][i+1]\n",
    "        value=row.loc[:,get_column(dft, paese).values]\n",
    "        ctime=float(value.values[0][0])\n",
    "        #gained_time1=gained_time1+(diff-float(value.values[0][0]))\n",
    "        #gained_time2=gained_time2+(diff-float(value.values[0][0]))\n",
    "        if (diff+(diff/20))>ctime-gained_time1 :\n",
    "            gained_time1+=(diff-ctime)\n",
    "            print(f\"{day}: primo : {paese} : {gained_time1}\")\n",
    "        else:\n",
    "            gained_time1+=diff\n",
    "            print(f\"{day}: failed : {ctime} : {diff} : {gained_time1}\")\n",
    "            to_2.append(i)\n",
    "    except:\n",
    "        print(value)\n",
    "    #if diff<dft[row[paese].values]:\n",
    "    #    print(\"Not acceptable!\")\"\"\""
   ]
  },
  {
   "cell_type": "code",
   "execution_count": 18,
   "metadata": {},
   "outputs": [
    {
     "data": {
      "text/plain": [
       "'impossible=[]\\ngained_time2=0\\nfor i in range(len(to_2)-1):\\n    try:\\n        curr=to_2[i]\\n        diff=difference(day, curr, to_2[i+1])\\n        row=dft[get_row(dft, table[day][i]).values]\\n        paese=table[day][to_2[i+1]]\\n        value=row.loc[:,get_column(dft, paese).values]\\n        ctime=float(value.values[0][0])\\n        #gained_time1=gained_time1+(diff-float(value.values[0][0]))\\n        #gained_time2=gained_time2+(diff-float(value.values[0][0]))\\n        if (diff+(diff/20))>ctime-gained_time2 :\\n            gained_time2+=(diff-ctime)\\n            print(f\"{day}: secondo : {paese} : {gained_time2}\")\\n        else:\\n            print(f\"{day}: impossible : {paese} : {diff}  {ctime}\")\\n            impossible.append(i)\\n    except:\\n        print(f\"-----{value}\")'"
      ]
     },
     "execution_count": 18,
     "metadata": {},
     "output_type": "execute_result"
    }
   ],
   "source": [
    "\"\"\"impossible=[]\n",
    "gained_time2=0\n",
    "for i in range(len(to_2)-1):\n",
    "    try:\n",
    "        curr=to_2[i]\n",
    "        diff=difference(day, curr, to_2[i+1])\n",
    "        row=dft[get_row(dft, table[day][i]).values]\n",
    "        paese=table[day][to_2[i+1]]\n",
    "        value=row.loc[:,get_column(dft, paese).values]\n",
    "        ctime=float(value.values[0][0])\n",
    "        #gained_time1=gained_time1+(diff-float(value.values[0][0]))\n",
    "        #gained_time2=gained_time2+(diff-float(value.values[0][0]))\n",
    "        if (diff+(diff/20))>ctime-gained_time2 :\n",
    "            gained_time2+=(diff-ctime)\n",
    "            print(f\"{day}: secondo : {paese} : {gained_time2}\")\n",
    "        else:\n",
    "            print(f\"{day}: impossible : {paese} : {diff}  {ctime}\")\n",
    "            impossible.append(i)\n",
    "    except:\n",
    "        print(f\"-----{value}\")\"\"\""
   ]
  },
  {
   "cell_type": "code",
   "execution_count": 40,
   "metadata": {},
   "outputs": [
    {
     "name": "stdout",
     "output_type": "stream",
     "text": [
      "Series([], Name: giovedi, dtype: object)\n",
      "0               manerbio\n",
      "1         Cremona, sesto\n",
      "2          pizzighettone\n",
      "3       casalpusterlengo\n",
      "6          pizzighettone\n",
      "9                  izano\n",
      "11             offanengo\n",
      "13    Crema, Civerchi, 9\n",
      "18         casalmaggiore\n",
      "Name: giovedi, dtype: object\n",
      "4     Cremona, Ugolani Dati, 4\n",
      "5     Cremona, Ugolani Dati, 4\n",
      "7                    grontardo\n",
      "8                    pescarolo\n",
      "10                   vescovato\n",
      "12                      cingia\n",
      "14                    solarolo\n",
      "15                     ostiano\n",
      "16                  martignana\n",
      "17              persico dosimo\n",
      "19                     gadesco\n",
      "20                     piadena\n",
      "21              isola dovarese\n",
      "Name: giovedi, dtype: object\n"
     ]
    }
   ],
   "source": [
    "#FINAL ALGORITHM\n",
    "start = dft[get_row(dft, 'Cremona, sesto 39').values]\n",
    "day='giovedi'\n",
    "#Liste dei due furgoni\n",
    "f1 = []\n",
    "f2 = []\n",
    "#indici\n",
    "i1 = -1\n",
    "i2 = -1\n",
    "#Le righe delle distanze del corrente paese in cui si trovano i furgoni, inizialmente lo stesso\n",
    "row1 = start\n",
    "row2 = start\n",
    "#Lista dei paesi non raggiungibili\n",
    "impossibile = []\n",
    "#\n",
    "for i in range(len(time_table[day].dropna())):\n",
    "    paese=table[day][i]\n",
    "    #Distanze in tempo dal paese corrente di ognuno dei furgoni alla destinazione\n",
    "    value1=row1.loc[:,get_column(dft, paese).values]\n",
    "    value2=row2.loc[:,get_column(dft, paese).values]\n",
    "    #Salvataggio del tempo utile per raggiungere la destinazione in base alla tabella degli orari\n",
    "    if(i1 != -1 and i2 != -1):\n",
    "        diff1=difference(day, i1, i)\n",
    "        diff2=difference(day, i2, i)\n",
    "        #print(f\"{diff1}, {diff2}\")\n",
    "    else:\n",
    "        #Per la prima tratta l'indice non ha valore utile, si ottiene la differenza staticamente\n",
    "        if(i1 == -1):\n",
    "            diff1 = value1.values[0][0]\n",
    "        if(i2 == -1):\n",
    "            diff2 = value2.values[0][0]\n",
    "            \n",
    "    if(diff1 == 0):\n",
    "        f2.append(i)\n",
    "        i2 = i\n",
    "        row2 = dft[get_row(dft, table[day][i]).values]\n",
    "        continue\n",
    "    if(diff2 == 0):\n",
    "        f1.append(i)\n",
    "        i1 = i\n",
    "        row1 = dft[get_row(dft, table[day][i]).values]\n",
    "        continue\n",
    "        \n",
    "    #Se uno dei due furgoni può rispettare l'orario (con tolleranza 5 minuti) si sceglie il migliore\n",
    "  \n",
    "    if(float(value1.values[0][0])<= float(diff1) + 15 or float(value2.values[0][0])<= float(diff2) + 15):\n",
    "        if(value1.values[0][0] <= value2.values[0][0]):\n",
    "            f1.append(i)\n",
    "            i1 = i\n",
    "            \"\"\"print(i)\n",
    "            if(i >= 13):\n",
    "                print(f\"{diff1}, {diff2}\")\"\"\"\n",
    "            row1 = dft[get_row(dft, table[day][i]).values]\n",
    "        else:\n",
    "            f2.append(i)\n",
    "            i2 = i\n",
    "            row2 = dft[get_row(dft, table[day][i]).values]\n",
    "    #Impossibilità di raggiungere la locazione in tempo\n",
    "    else:\n",
    "        print(f\"current time1 {diff1} time {float(value1.values[0][0])} , current time2 {diff2} time {float(value2.values[0][0])}\")\n",
    "        impossibile.append(i)\n",
    "    \n",
    "\"\"\"print(f1)\n",
    "print(f2)\"\"\"\n",
    "print(table[day][impossibile])\n",
    "print(table[day][f1])\n",
    "print(table[day][f2])"
   ]
  },
  {
   "cell_type": "code",
   "execution_count": 27,
   "metadata": {},
   "outputs": [
    {
     "name": "stdout",
     "output_type": "stream",
     "text": [
      "Capergnanica\n",
      "monte cremasco\n",
      "spino d'adda\n",
      "pandino\n",
      "bagnolo\n",
      "crema, civerchi\n",
      "vaiano\n",
      "trescore\n",
      "rivolta d'adda\n",
      "dovera\n",
      "agnadello\n",
      "[0, 1, 2, 3, 4, 5, 6, 7, 8, 9, 10]\n",
      "[]\n"
     ]
    },
    {
     "data": {
      "text/plain": [
       "Series([], Name: venerdi, dtype: object)"
      ]
     },
     "execution_count": 27,
     "metadata": {},
     "output_type": "execute_result"
    }
   ],
   "source": [
    "#FINAL ALGORITHM\n",
    "start = dft[get_row(dft, 'Cremona, sesto 39').values]\n",
    "day='venerdi'\n",
    "#Liste dei due furgoni\n",
    "f1 = []\n",
    "\n",
    "#indici\n",
    "i1 = -1\n",
    "\n",
    "#Le righe delle distanze del corrente paese in cui si trovano i furgoni, inizialmente lo stesso\n",
    "row1 = start\n",
    "\n",
    "#Lista dei paesi non raggiungibili\n",
    "impossibile = []\n",
    "for i in range(len(time_table[day].dropna())-1):\n",
    "    paese=table[day][i]\n",
    "    print(paese)\n",
    "    #Distanze in tempo dal paese corrente di ognuno dei furgoni alla destinazione\n",
    "    value1=row1.loc[:,get_column(dft, paese).values]\n",
    "\n",
    "    #Salvataggio del tempo utile per raggiungere la destinazione in base alla tabella degli orari\n",
    "    if(i1 != -1):\n",
    "        diff1=difference(day, i1, i)\n",
    "        #print(f\"{diff1}, {diff2}\")\n",
    "    else:\n",
    "        #Per la prima tratta l'indice non ha valore utile, si ottiene la differenza staticamente\n",
    "        if(i1 == -1):\n",
    "            diff1 = value1.values[0][0]\n",
    "        \n",
    "    #Se uno dei due furgoni può rispettare l'orario (con tolleranza 5 minuti) si sceglie il migliore\n",
    "  \n",
    "    if(float(value1.values[0][0])<= float(diff1)):\n",
    "        \n",
    "        f1.append(i)\n",
    "        i1 = i\n",
    "        row1 = dft[get_row(dft, table[day][i]).values]\n",
    "       \n",
    "    #Impossibilità di raggiungere la locazione in tempo\n",
    "    else:\n",
    "        print(f\"current time1 {diff1} time {float(value1.values[0][0])}\")\n",
    "        impossibile.append(i)\n",
    "    \n",
    "print(f1)\n",
    "print(impossibile)\n",
    "table[day][impossibile]"
   ]
  },
  {
   "cell_type": "code",
   "execution_count": 57,
   "metadata": {},
   "outputs": [
    {
     "data": {
      "text/html": [
       "<div>\n",
       "<style scoped>\n",
       "    .dataframe tbody tr th:only-of-type {\n",
       "        vertical-align: middle;\n",
       "    }\n",
       "\n",
       "    .dataframe tbody tr th {\n",
       "        vertical-align: top;\n",
       "    }\n",
       "\n",
       "    .dataframe thead th {\n",
       "        text-align: right;\n",
       "    }\n",
       "</style>\n",
       "<table border=\"1\" class=\"dataframe\">\n",
       "  <thead>\n",
       "    <tr style=\"text-align: right;\">\n",
       "      <th></th>\n",
       "      <th>Sospiro</th>\n",
       "    </tr>\n",
       "  </thead>\n",
       "  <tbody>\n",
       "    <tr>\n",
       "      <th>0</th>\n",
       "      <td>61.316667</td>\n",
       "    </tr>\n",
       "    <tr>\n",
       "      <th>1</th>\n",
       "      <td>29.150000</td>\n",
       "    </tr>\n",
       "    <tr>\n",
       "      <th>2</th>\n",
       "      <td>52.450000</td>\n",
       "    </tr>\n",
       "    <tr>\n",
       "      <th>3</th>\n",
       "      <td>6.933333</td>\n",
       "    </tr>\n",
       "    <tr>\n",
       "      <th>4</th>\n",
       "      <td>55.116667</td>\n",
       "    </tr>\n",
       "    <tr>\n",
       "      <th>...</th>\n",
       "      <td>...</td>\n",
       "    </tr>\n",
       "    <tr>\n",
       "      <th>60</th>\n",
       "      <td>63.083333</td>\n",
       "    </tr>\n",
       "    <tr>\n",
       "      <th>61</th>\n",
       "      <td>12.916667</td>\n",
       "    </tr>\n",
       "    <tr>\n",
       "      <th>62</th>\n",
       "      <td>15.900000</td>\n",
       "    </tr>\n",
       "    <tr>\n",
       "      <th>63</th>\n",
       "      <td>8.166667</td>\n",
       "    </tr>\n",
       "    <tr>\n",
       "      <th>64</th>\n",
       "      <td>20.300000</td>\n",
       "    </tr>\n",
       "  </tbody>\n",
       "</table>\n",
       "<p>65 rows × 1 columns</p>\n",
       "</div>"
      ],
      "text/plain": [
       "      Sospiro\n",
       "0   61.316667\n",
       "1   29.150000\n",
       "2   52.450000\n",
       "3    6.933333\n",
       "4   55.116667\n",
       "..        ...\n",
       "60  63.083333\n",
       "61  12.916667\n",
       "62  15.900000\n",
       "63   8.166667\n",
       "64  20.300000\n",
       "\n",
       "[65 rows x 1 columns]"
      ]
     },
     "execution_count": 57,
     "metadata": {},
     "output_type": "execute_result"
    }
   ],
   "source": [
    "dtime=pd.read_csv(\"sospirot.csv\", delimiter=\";\", encoding = \"ISO-8859-1\")\n",
    "for i in range(len(dtime)):\n",
    "    for j in range(len(dtime.columns)):\n",
    "        curr=dtime.iloc[i].iloc[j]\n",
    "        dtime.iat[i,j]=round(float(curr)/1000)\n",
    "dtime"
   ]
  },
  {
   "cell_type": "code",
   "execution_count": 13,
   "metadata": {},
   "outputs": [
    {
     "data": {
      "text/plain": [
       "10    Offanengo\n",
       "11      Piadena\n",
       "12      Gussola\n",
       "Name: martedi, dtype: object"
      ]
     },
     "execution_count": 13,
     "metadata": {},
     "output_type": "execute_result"
    }
   ],
   "source": [
    "#time_\n",
    "table[day][10:13]"
   ]
  }
 ],
 "metadata": {
  "kernelspec": {
   "display_name": "Python 3",
   "language": "python",
   "name": "python3"
  },
  "language_info": {
   "codemirror_mode": {
    "name": "ipython",
    "version": 3
   },
   "file_extension": ".py",
   "mimetype": "text/x-python",
   "name": "python",
   "nbconvert_exporter": "python",
   "pygments_lexer": "ipython3",
   "version": "3.7.3"
  }
 },
 "nbformat": 4,
 "nbformat_minor": 4
}
